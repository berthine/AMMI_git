{
 "cells": [
  {
   "cell_type": "markdown",
   "metadata": {},
   "source": [
    "## Coding an SVM\n",
    "\n",
    "We have coded a working SVM with a simplified version of the specialised SMO algorithm (see below). It is based on a tutorial from Stanford course CS229 (http://cs229.stanford.edu/materials/smo.pdf). Since it is a messy algorithm, we will walk through it and ask you to code small parts only. For future reference, recall the form of an SVM in the dual form:\n",
    "\n",
    "\\begin{equation}\n",
    "\\begin{array}{rl}\n",
    "\\max_{\\boldsymbol\\alpha} & W(\\boldsymbol\\alpha) = \\sum_{i = 1}^{N}\\alpha_i + \\frac{1}{2}\\sum_{i}^N\\sum_{j}^N \\alpha_i\\alpha_jy_iy_j\\mathbf{x}_i^T\\mathbf{x}_j \\\\\n",
    "\\text{subject to} & \\sum_{i=1}^N \\alpha_iy_i = 0 \\\\\n",
    "& 0 \\leq \\alpha_i \\leq C, \\forall i\n",
    "\\end{array}\n",
    "\\end{equation}"
   ]
  },
  {
   "cell_type": "markdown",
   "metadata": {},
   "source": [
    "###  SVM Decision function\n",
    "\n",
    "In the dual form, the decision function of an SVM is given as,\n",
    "\n",
    "$$\n",
    "f(\\mathbf{\\mathbf{x}}) = \\sum_{i=1}^N \\alpha_iy_i\\kappa(\\mathbf{x}_i, \\mathbf{x}) + b,\n",
    "$$\n",
    "\n",
    "and a prediction is then made as $\\text{sgn}\\big(f(\\mathbf{x})\\big)$ where $\\text{sgn} : x \\to \\{1, -1\\}$ is the sign function. One can see how an observation $\\mathbf{x}$ is classified according to its similarity with the training vectors. Each training vector, $\\mathbf{x}_i$, casts its vote, $y_i$, be it $-1$ or $1$, with the influence regulated by a similarity measure provided by the kernel function, and the weight provided by the dual variable. Only the support vectors have a (non-zero) weighted vote. It is easy to see why this is such a powerful framework--we can choose between many similarity measures (kernels), though the mathematics restricts us to choosing Mercer kernels.\n",
    "\n",
    "**Question:** Write the `decision_function()` (not the prediction) for an SVM. Assume `Ki` is a precomputed vector giving all kernel values $\\kappa(\\mathbf{x}_i, \\mathbf{x})$:"
   ]
  },
  {
   "cell_type": "code",
   "execution_count": 32,
   "metadata": {},
   "outputs": [],
   "source": [
    "import numpy as np\n",
    "import matplotlib.pyplot as plt\n",
    "import pandas as pd\n",
    "%matplotlib inline"
   ]
  },
  {
   "cell_type": "code",
   "execution_count": 33,
   "metadata": {},
   "outputs": [],
   "source": [
    "def decision_function(Ki, y, a, b):\n",
    "    return Ki.dot(np.diag(y)).dot(a)+b # TODO"
   ]
  },
  {
   "cell_type": "markdown",
   "metadata": {},
   "source": [
    "### Sequential Minimal Optimisation\n",
    "\n",
    "Our model may be solved with any QP solver, formerly the standard approach. However, in 1998, American computer scientist, John Platt (1963-), invented sequential minimal optimisation (SMO), an algorithm for analytically optimising the dual variables two at a time. The superiority and simplicity of this algorithm helped bring support vector machines into the forefront of machine learning research. The algorithm works by iteratively optimising pairs of variables that violate the optimality conditions. These are,\n",
    "\n",
    "\\begin{align}\n",
    "\\begin{array}{rcl}\n",
    "\\alpha_i = 0 & \\implies & y_if(\\mathbf{x}_i) \\geq 1 \\notag\\\\\n",
    "0 < \\alpha_i < C  & \\implies & y_if(\\mathbf{x}_i) = 1 \\notag \\\\\n",
    "\\alpha_i = C & \\implies & y_if(\\mathbf{x}_i) \\leq 1 \\notag\n",
    "\\end{array}\n",
    "\\end{align}\n",
    "\n",
    "#### Updating the weights\n",
    "\n",
    "Optimisation is done *in pairs* (this is what *minimal* refers to in SMO) in order to maintain the equality constraint of the problem, $\\sum_{i=1}^N \\alpha_iy_i = 0$ (see above). Thus, for pair $\\alpha_i$ and $\\alpha_j$, we make updates such that $y_i\\Delta\\alpha_i + y_j\\Delta\\alpha_j = 0$. Rearranging gives $\\Delta\\alpha_j = -\\Delta\\alpha_iy^{(i)}/y^{(j)} = -\\Delta\\alpha_iy^{(i)}y^{(j)}$, as since $y_i \\in \\{-1, 1\\}$, division is the same as multiplication, and the cost function becomes,\n",
    "\n",
    "\\begin{align}\n",
    "W(\\boldsymbol\\alpha) &= \\sum_{k=1}^N\\alpha_k + \\Delta\\alpha_i -\\Delta\\alpha_iy_iy_j - \\frac{1}{2}\\sum_{k=1}^Ny_k\\alpha_k\\big(f(\\mathbf{x}_k) - b\\big) \\notag \\\\ \n",
    "&- \\Delta\\alpha_i\\big(f(\\mathbf{x}_i) - f(\\mathbf{x}_j)\\big) - \\Delta\\alpha_iy_i\\big(f(\\mathbf{x}_i) - f(\\mathbf{x}_j)\\big) - \\frac{1}{2}\\Delta\\alpha_i^2\\big(\\kappa(\\mathbf{x}_i, \\mathbf{x}_i) - 2\\kappa(\\mathbf{x}_i, \\mathbf{x}_j) + \\kappa(\\mathbf{x}_j, \\mathbf{x}_j)\\big). \\notag \n",
    "\\end{align}\n",
    "\n",
    "Differentiating and solving gives,\n",
    "\n",
    "$$\\Delta\\alpha_j^* = \\frac{y_j(E_i - E_j)}{2\\kappa(\\mathbf{x}_i, \\mathbf{x}_j) - \\kappa(\\mathbf{x}_i, \\mathbf{x}_i) - \\kappa(\\mathbf{x}_j, \\mathbf{x}_j)},$$\n",
    "\n",
    "where $E_i = f(\\mathbf{x}_i) - y_i$ and $E_j = f(\\mathbf{x}_j) - y_j$ are the errors.\n",
    "\n",
    "**Question:** Write the function to calculate `delta_a()`. Use `i` and `j` to index the kernel matrix. Note that for simplicity, we assume the errors have been calculated already:"
   ]
  },
  {
   "cell_type": "code",
   "execution_count": 34,
   "metadata": {},
   "outputs": [],
   "source": [
    "def delta_a(K, y, i, j, Ei, Ej):\n",
    "    delta_a = float(y[j] * (Ei - Ej)) / (2 * K[i, j] - K[i, i] - K[j, j])\n",
    "    return delta_a"
   ]
  },
  {
   "cell_type": "markdown",
   "metadata": {},
   "source": [
    "This gives us our update step. The value of $\\Delta\\alpha_j^*$ can then be determined from the initial equality. Note that both variables remain constrained, hence their values must be clipped if they are less than $0$ or greater than $C$."
   ]
  },
  {
   "cell_type": "markdown",
   "metadata": {},
   "source": [
    "#### Updating the bias\n",
    "\n",
    "The bias term is then updated to account for the changes. For example, to ensure the classifier now emits $y_i$ for $f(\\mathbf{x}_i)$, we rearrange,\n",
    "\n",
    "$$y_i = \\sum_{k=1}^N \\alpha_iy_i\\kappa(\\mathbf{x}_k, \\mathbf{x}_i) + b + \\Delta b + \\Delta\\alpha y_i\\kappa(\\mathbf{x}_i, \\mathbf{x}_i) + \\Delta\\alpha y_j\\kappa(\\mathbf{x}_i, \\mathbf{x}_j),$$\n",
    "\n",
    "for $\\Delta b^*$. The same is done for $f(\\mathbf{x}_j)$, and the expressions are combined according to the convergence conditions. Thus, the optimisation steps are done analytically, rather than with linear algebra. The rest of the algorithm is mostly concerned with heuristics for choosing the best $\\alpha_i$, $\\alpha_j$ pair."
   ]
  },
  {
   "cell_type": "markdown",
   "metadata": {},
   "source": [
    "### Putting it all together\n",
    "\n",
    "Your functions will be called by the class `SupportVectorMachine` defined below. *(you do not need to change anything, just compile it and move on...)*"
   ]
  },
  {
   "cell_type": "code",
   "execution_count": 35,
   "metadata": {},
   "outputs": [],
   "source": [
    "from sklearn.metrics.pairwise import rbf_kernel\n",
    "\n",
    "class SupportVectorMachine:\n",
    "\n",
    "    def __init__(self, kernel='linear', gamma=0.01, d=2, r=0):\n",
    "\n",
    "        \"\"\" Initialisation function for support vector machine\n",
    "\n",
    "        Parameters:\n",
    "        -----------\n",
    "        kernel: {linear, rbf, polynomial} string\n",
    "                Indicates the kernel function to use\n",
    "        gamma:  float\n",
    "                Variance of rbf kernel\n",
    "        d:      float\n",
    "                Degree for polynomial kernel\n",
    "        r:      float\n",
    "                Consant for polynomial kernel\n",
    "        \"\"\"\n",
    "        if kernel == 'linear':\n",
    "            self.kernel = lambda x, y : x.dot(y.T)\n",
    "        elif kernel == 'rbf':\n",
    "            self.kernel = lambda x, y : rbf_kernel(x, y, gamma=0.01)\n",
    "        elif kernel == 'polynomial':\n",
    "            self.kernel = lambda x, y : (x.dot(y.T) + r) ** d\n",
    "\n",
    "    def predict(self, x):\n",
    "\n",
    "        \"\"\" Prediction function for support vector machine\n",
    "\n",
    "        Parameters:\n",
    "        -----------\n",
    "        x:      (1, n_features) np.array\n",
    "                Test sample\n",
    "\n",
    "        Return:\n",
    "        -------\n",
    "        prediction: {-1, 1}\n",
    "            Sign of output of linear score function\n",
    "        \"\"\"\n",
    "        # calculate kernel values for input x\n",
    "        kx = self.kernel(self.Xtr, x.reshape(1, -1))\n",
    "        return np.sign(self.a.dot(np.diag(ytr)).dot(kx) + self.b)\n",
    "\n",
    "    def decision_function(self, Ki):\n",
    "\n",
    "        \"\"\" Decision function for support vector machine\n",
    "\n",
    "        Parameters:\n",
    "        -----------\n",
    "        x:      (1, n_features) np.array\n",
    "                Test sample\n",
    "\n",
    "        Return:\n",
    "        -------\n",
    "        prediction: float\n",
    "            Output of linear score function\n",
    "        \"\"\"\n",
    "        return decision_function(Ki, self.ytr, self.a, self.b)\n",
    "\n",
    "    def fit(self, Xtr, ytr, C=0.01, tol=1e-5, max_iters=100):\n",
    "\n",
    "        \"\"\" Training algorithm for support vector machine.\n",
    "        \n",
    "        SMO sequential minimal optimisation algorithm for training. \n",
    "        This is the simplified version (without heuristics) detailed in\n",
    "        cs229.stanford.edu/materials/smo.pdf\n",
    "\n",
    "        Parameters:\n",
    "        -----------\n",
    "        Xtr:       (n_samples, n_features) np.array\n",
    "                   First data matrix.\n",
    "        ytr:       (n_samples, 1) np.array\n",
    "                   Second data matrix.\n",
    "        C:         float\n",
    "                   margin size\n",
    "        tol:       float\n",
    "                   precision on optimality (stopping condition)\n",
    "        max_iters: int\n",
    "                   maximum number of optimisation passes\"\"\"\n",
    "\n",
    "        self.Xtr = Xtr\n",
    "        self.ytr = ytr\n",
    "\n",
    "        N = self.Xtr.shape[0]\n",
    "        K = self.kernel(self.Xtr, self.Xtr)  # kernel matrix\n",
    "\n",
    "        self.a = np.zeros(N)  # support vector weights\n",
    "        self.b = 0  # bias term\n",
    "\n",
    "        iters = 0\n",
    "\n",
    "        while iters < max_iters:\n",
    "            num_changed = 0\n",
    "            # iterate over samples\n",
    "            for i in range(N):\n",
    "                # Calculate error\n",
    "                Ei = self.decision_function(K[i]) - self.ytr[i]\n",
    "                # Check optimality constraints\n",
    "                \n",
    "                if (self.ytr[i] * Ei < -tol and self.a[i] < C) or \\\n",
    "                   (self.ytr[i] * Ei > +tol and self.a[i] > 0):\n",
    "\n",
    "                    # Pick random aj\n",
    "                    j = np.random.choice(list(filter(lambda x : x != i, range(N))))\n",
    "                    Ej = self.decision_function(K[j]) - self.ytr[j]\n",
    "\n",
    "                    # Record ai, aj\n",
    "                    ai_old = self.a[i]\n",
    "                    aj_old = self.a[j]\n",
    "\n",
    "                    # Set bounds\n",
    "                    L = 0 ; H = 0\n",
    "                    if self.ytr[i] != self.ytr[j]:\n",
    "                        L = max(0, self.a[j] - self.a[i])\n",
    "                        H = min(C, C + self.a[j] - self.a[i])\n",
    "                    else:\n",
    "                        L = max(0, self.a[i] + self.a[j] - C)\n",
    "                        H = min(C, self.a[i] + self.a[j])\n",
    "\n",
    "                    if L == H:\n",
    "                        continue\n",
    "    \n",
    "                    # Update aj\n",
    "                    self.a[j] -= delta_a(K, self.ytr, i, j, Ei, Ej)\n",
    "\n",
    "                    # Clip value\n",
    "                    self.a[j] = max(min(self.a[j], H), L)\n",
    "\n",
    "                    # Check for change\n",
    "                    if abs(self.a[j] - aj_old) < tol:\n",
    "                        continue\n",
    "\n",
    "                    # Update ai\n",
    "                    self.a[i] += self.ytr[i] * self.ytr[j] * (aj_old - self.a[j])\n",
    "\n",
    "                    # Set bias term\n",
    "                    b1 = self.b - Ei - \\\n",
    "                         self.ytr[i] * (self.a[i] - ai_old) * K[i, i] - \\\n",
    "                         self.ytr[j] * (self.a[j] - aj_old) * K[i, j]\n",
    "\n",
    "                    b2 = self.b - Ej - \\\n",
    "                         self.ytr[i] * (self.a[i] - ai_old) * K[i, j] - \\\n",
    "                         self.ytr[j] * (self.a[j] - aj_old) * K[j, j]\n",
    "\n",
    "                    if 0 < self.a[i] and self.a[i] < C:\n",
    "                        self.b = b1\n",
    "                    elif 0 < self.a[j] and self.a[j] < C:\n",
    "                        self.b = b2\n",
    "                    else:\n",
    "                        self.b = float(b1 + b2) / 2\n",
    "\n",
    "                    num_changed += 1\n",
    "\n",
    "            iters = iters + 1 if num_changed == 0 else 0"
   ]
  },
  {
   "cell_type": "markdown",
   "metadata": {},
   "source": [
    "### Linearly separable data\n",
    "\n",
    "We will now test our implementation on some toy data. We being by creating a random dataset sampled from two distinct Gaussians:"
   ]
  },
  {
   "cell_type": "code",
   "execution_count": 36,
   "metadata": {},
   "outputs": [
    {
     "data": {
      "text/plain": [
       "<matplotlib.collections.PathCollection at 0x7fa314d4d400>"
      ]
     },
     "execution_count": 36,
     "metadata": {},
     "output_type": "execute_result"
    },
    {
     "data": {
      "image/png": "[encoded data removed]",
      "text/plain": [
       "<Figure size 360x360 with 1 Axes>"
      ]
     },
     "metadata": {
      "needs_background": "light"
     },
     "output_type": "display_data"
    }
   ],
   "source": [
    "from numpy.random import multivariate_normal\n",
    "\n",
    "num_samples = 100\n",
    "\n",
    "X = np.concatenate((multivariate_normal(mean=np.array([1, 1]),\n",
    "                                        cov=np.array([[1, 0], [0, 1]]),\n",
    "                                        size=num_samples),\n",
    "                    multivariate_normal(mean=np.array([-1, -1]),\n",
    "                                        cov=np.array([[1, 0], [0, 1]]),\n",
    "                                        size=num_samples)))\n",
    "\n",
    "y = np.array(num_samples * [1] + num_samples * [-1])\n",
    "\n",
    "# visualise mesh as contour plot\n",
    "fig, ax = plt.subplots(figsize=(5, 5))\n",
    "ax.set_xlabel('x1') ; ax.set_ylabel('x2')\n",
    "\n",
    "# plot training data\n",
    "plt.scatter(X[:num_samples, 0], X[:num_samples, 1], color='orange')\n",
    "plt.scatter(X[num_samples:, 0], X[num_samples:, 1], color='blue')\n",
    "\n",
    "\n"
   ]
  },
  {
   "cell_type": "markdown",
   "metadata": {},
   "source": [
    "Now let's train our custom SVM with a linear kernel:"
   ]
  },
  {
   "cell_type": "code",
   "execution_count": 37,
   "metadata": {},
   "outputs": [
    {
     "name": "stdout",
     "output_type": "stream",
     "text": [
      "Accuracy (linear): 94%\n"
     ]
    }
   ],
   "source": [
    "# create train-test split\n",
    "from sklearn.model_selection import train_test_split\n",
    "Xtr, Xte, ytr, yte = train_test_split(X, y)\n",
    "\n",
    "# train linear SVM\n",
    "clf = SupportVectorMachine(kernel='linear')\n",
    "clf.fit(Xtr, ytr, C=0.5, max_iters=100)\n",
    "\n",
    "# calculate accuracy on test set\n",
    "linear_pred = np.array([clf.predict(xte) for xte in Xte]).reshape(yte.shape[0])\n",
    "acc = float(sum(linear_pred==yte)) / yte.shape[0]\n",
    "print('Accuracy (linear): %.00f%%' % (100 * acc))\n",
    "\n",
    "\n"
   ]
  },
  {
   "cell_type": "markdown",
   "metadata": {},
   "source": [
    "Visualise decision boundary:"
   ]
  },
  {
   "cell_type": "code",
   "execution_count": 38,
   "metadata": {},
   "outputs": [
    {
     "data": {
      "text/plain": [
       "<matplotlib.collections.PathCollection at 0x7fa314cc0d30>"
      ]
     },
     "execution_count": 38,
     "metadata": {},
     "output_type": "execute_result"
    },
    {
     "data": {
      "image/png": "[encoded data removed]",
      "text/plain": [
       "<Figure size 360x360 with 1 Axes>"
      ]
     },
     "metadata": {
      "needs_background": "light"
     },
     "output_type": "display_data"
    }
   ],
   "source": [
    "# create mesh coordinates\n",
    "lim = 5\n",
    "xx, yy = np.meshgrid(np.arange(-lim, +lim, 0.1),\n",
    "                     np.arange(-lim, +lim, 0.1))\n",
    "zz = np.zeros(xx.shape)\n",
    "\n",
    "# create mesh of predictions\n",
    "for i in range(xx.shape[0]):\n",
    "    for j in range(xx.shape[1]):\n",
    "        zz[i, j] = clf.predict(np.array([xx[i, j], yy[i, j]]))\n",
    "\n",
    "# visualise mesh as contour plot\n",
    "fig, ax = plt.subplots(figsize=(5, 5))\n",
    "ax.set_xlabel('x1') ; ax.set_ylabel('x2')\n",
    "ax.set_xlim([-lim, +lim-0.1]) ; ax.set_ylim([-lim, +lim-0.1])\n",
    "ax.contourf(xx, yy, zz, alpha=0.5, colors=('blue', 'orange'))\n",
    "\n",
    "# plot training data\n",
    "plt.scatter(X[:num_samples, 0], X[:num_samples, 1], color='orange')\n",
    "plt.scatter(X[num_samples:, 0], X[num_samples:, 1], color='blue')"
   ]
  },
  {
   "cell_type": "markdown",
   "metadata": {
    "editable": true
   },
   "source": [
    "No problem! Now for something a little more challenging..."
   ]
  },
  {
   "cell_type": "markdown",
   "metadata": {
    "editable": true
   },
   "source": [
    "### Non-linear decision boundaries\n",
    "\n",
    "Now we will try data that is not linearly separable: a circle inside a square! We will see that our linear kernel is insufficient:"
   ]
  },
  {
   "cell_type": "code",
   "execution_count": 40,
   "metadata": {
    "collapsed": true,
    "editable": true,
    "jupyter": {
     "outputs_hidden": true
    }
   },
   "outputs": [
    {
     "data": {
      "text/plain": [
       "<matplotlib.collections.PathCollection at 0x7fa314c584a8>"
      ]
     },
     "execution_count": 40,
     "metadata": {},
     "output_type": "execute_result"
    },
    {
     "data": {
      "image/png": "[encoded data removed]",
      "text/plain": [
       "<Figure size 360x360 with 1 Axes>"
      ]
     },
     "metadata": {
      "needs_background": "light"
     },
     "output_type": "display_data"
    }
   ],
   "source": [
    "from numpy.random import multivariate_normal\n",
    "\n",
    "num_samples = 200\n",
    "\n",
    "X = np.random.uniform(low=-1, high=1, size=(num_samples, 2))\n",
    "y = np.array([1 if np.sqrt(np.dot(x, x.T)) < 1 / np.sqrt(2) else -1 for x in X])\n",
    "\n",
    "fig, ax = plt.subplots(figsize=(5, 5))\n",
    "ax.set_xlabel('x1') ; ax.set_ylabel('x2')\n",
    "\n",
    "class_pos =list(filter(lambda i : y[i] == +1,  np.arange(X.shape[0])))\n",
    "class_neg = list(filter(lambda i : y[i] == -1,  np.arange(X.shape[0])))\n",
    "\n",
    "# plot training data\n",
    "plt.scatter(X[class_pos, 0], X[class_pos, 1], color='orange')\n",
    "plt.scatter(X[class_neg, 0], X[class_neg, 1], color='blue')"
   ]
  },
  {
   "cell_type": "markdown",
   "metadata": {
    "editable": true
   },
   "source": [
    "Uh oh! Polynomial kernels to the rescue!"
   ]
  },
  {
   "cell_type": "code",
   "execution_count": 42,
   "metadata": {
    "collapsed": true,
    "editable": true,
    "jupyter": {
     "outputs_hidden": true
    }
   },
   "outputs": [
    {
     "name": "stdout",
     "output_type": "stream",
     "text": [
      "Accuracy (linear): 60%\n",
      "Accuracy (quadratic): 94%\n"
     ]
    }
   ],
   "source": [
    "# create train-test split\n",
    "Xtr, Xte, ytr, yte = train_test_split(X, y)\n",
    "\n",
    "# train linear SVM\n",
    "clf_linear = SupportVectorMachine(kernel='linear')\n",
    "clf_linear.fit(Xtr, ytr, C=0.1, max_iters=100)\n",
    "\n",
    "# calculate accuracy on test set\n",
    "linear_pred = np.array([clf_linear.predict(xte) for xte in Xte]).reshape(yte.shape[0])\n",
    "acc = float(sum(linear_pred==yte)) / yte.shape[0]\n",
    "print('Accuracy (linear): %.00f%%' % (100 * acc))\n",
    "\n",
    "# train quadratic kernel SVM\n",
    "clf_poly = SupportVectorMachine(kernel='polynomial')\n",
    "clf_poly.fit(Xtr, ytr, C=0.5, max_iters=100)\n",
    "\n",
    "# calculate accuracy on test set\n",
    "quad_pred = np.array([clf_poly.predict(xte) for xte in Xte]).reshape(yte.shape[0])\n",
    "acc = float(sum(quad_pred==yte)) / yte.shape[0]\n",
    "print('Accuracy (quadratic): %.00f%%' % (100 * acc))"
   ]
  },
  {
   "cell_type": "markdown",
   "metadata": {
    "editable": true
   },
   "source": [
    "We plot the decision boundaries for the quadratic kernel:"
   ]
  },
  {
   "cell_type": "code",
   "execution_count": 43,
   "metadata": {
    "collapsed": true,
    "editable": true,
    "jupyter": {
     "outputs_hidden": true
    }
   },
   "outputs": [
    {
     "data": {
      "text/plain": [
       "<matplotlib.collections.PathCollection at 0x7fa314bd49e8>"
      ]
     },
     "execution_count": 43,
     "metadata": {},
     "output_type": "execute_result"
    },
    {
     "data": {
      "image/png": "[encoded data removed]",
      "text/plain": [
       "<Figure size 720x360 with 1 Axes>"
      ]
     },
     "metadata": {
      "needs_background": "light"
     },
     "output_type": "display_data"
    }
   ],
   "source": [
    "# create mesh coordinates\n",
    "lim = 1\n",
    "xx, yy = np.meshgrid(np.arange(-lim, +lim, 0.1), np.arange(-lim, +lim, 0.1))\n",
    "zz_poly = np.zeros(xx.shape)\n",
    "\n",
    "# create mesh of predictions\n",
    "for i in range(xx.shape[0]):\n",
    "    for j in range(xx.shape[1]):\n",
    "        zz_poly[i, j] = clf_poly.predict(np.array([xx[i, j], yy[i, j]]))\n",
    "\n",
    "# visualise mesh as contour plot\n",
    "fig = plt.figure(figsize=(10, 5))\n",
    "\n",
    "ax = fig.add_subplot(1, 2, 2)\n",
    "ax.set_xlabel('x1') ; ax.set_ylabel('x2')\n",
    "ax.set_xlim([-lim, +lim-0.1]) ; ax.set_ylim([-lim, +lim-0.1])\n",
    "ax.contourf(xx, yy, zz_poly, alpha=0.5, colors=('blue', 'orange'))\n",
    "\n",
    "# plot training data\n",
    "ax.scatter(X[class_pos, 0], X[class_pos, 1], color='orange')\n",
    "ax.scatter(X[class_neg, 0], X[class_neg, 1], color='blue')"
   ]
  },
  {
   "cell_type": "markdown",
   "metadata": {
    "editable": true
   },
   "source": [
    "The data is linearly separable in quadratic space!"
   ]
  },
  {
   "cell_type": "markdown",
   "metadata": {
    "editable": true
   },
   "source": [
    "### Non-linear decision boundaries: learning XOR\n",
    "\n",
    "A classic challenge to the power of a classifier is data arranged in an XOR pattern. Let us begin by defining data approximating and XOR function."
   ]
  },
  {
   "cell_type": "code",
   "execution_count": 45,
   "metadata": {
    "collapsed": true,
    "editable": true,
    "jupyter": {
     "outputs_hidden": true
    }
   },
   "outputs": [
    {
     "data": {
      "text/plain": [
       "<matplotlib.collections.PathCollection at 0x7fa314b1d390>"
      ]
     },
     "execution_count": 45,
     "metadata": {},
     "output_type": "execute_result"
    },
    {
     "data": {
      "image/png": "[encoded data removed]",
      "text/plain": [
       "<Figure size 360x360 with 1 Axes>"
      ]
     },
     "metadata": {
      "needs_background": "light"
     },
     "output_type": "display_data"
    }
   ],
   "source": [
    "from numpy.random import multivariate_normal\n",
    "\n",
    "num_samples = 50\n",
    "\n",
    "X = np.concatenate((multivariate_normal(mean=np.array([2, 2]),\n",
    "                                        cov=np.array([[1, 0], [0, 1]]),\n",
    "                                        size=num_samples),\n",
    "                    multivariate_normal(mean=np.array([-2, -2]),\n",
    "                                        cov=np.array([[1, 0], [0, 1]]),\n",
    "                                        size=num_samples),\n",
    "                    multivariate_normal(mean=np.array([2, -2]),\n",
    "                                        cov=np.array([[1, 0], [0, 1]]),\n",
    "                                        size=num_samples),\n",
    "                    multivariate_normal(mean=np.array([-2, 2]),\n",
    "                                        cov=np.array([[1, 0], [0, 1]]),\n",
    "                                        size=num_samples)))\n",
    "\n",
    "y = np.array(2 * num_samples * [1] + 2 * num_samples * [-1])\n",
    "\n",
    "fig, ax = plt.subplots(figsize=(5, 5))\n",
    "ax.set_xlabel('x1') ; ax.set_ylabel('x2')\n",
    "\n",
    "class_pos = list(filter(lambda i : y[i] == +1,  np.arange(X.shape[0])))\n",
    "class_neg = list(filter(lambda i : y[i] == -1,  np.arange(X.shape[0])))\n",
    "\n",
    "# plot training data\n",
    "plt.scatter(X[class_pos, 0], X[class_pos, 1], color='orange')\n",
    "plt.scatter(X[class_neg, 0], X[class_neg, 1], color='blue')"
   ]
  },
  {
   "cell_type": "markdown",
   "metadata": {
    "editable": true
   },
   "source": [
    "Now let's see how a linear kernel performs against an rbf kernel."
   ]
  },
  {
   "cell_type": "code",
   "execution_count": 50,
   "metadata": {
    "collapsed": true,
    "editable": true,
    "jupyter": {
     "outputs_hidden": true
    }
   },
   "outputs": [
    {
     "name": "stdout",
     "output_type": "stream",
     "text": [
      "Accuracy (linear): 48%\n",
      "Accuracy (rbf): 90%\n"
     ]
    }
   ],
   "source": [
    "# create train-test split\n",
    "Xtr, Xte, ytr, yte = train_test_split(X, y)\n",
    "\n",
    "# train linear SVM\n",
    "clf_linear = SupportVectorMachine(kernel='linear')\n",
    "clf_linear.fit(Xtr, ytr, C=0.1, max_iters=100)\n",
    "\n",
    "# calculate accuracy on test set\n",
    "linear_pred = np.array([clf_linear.predict(xte) for xte in Xte]).reshape(yte.shape[0])\n",
    "acc = float(sum(linear_pred==yte)) / yte.shape[0]\n",
    "print('Accuracy (linear): %.00f%%' % (100 * acc))\n",
    "\n",
    "# train rbf svm\n",
    "clf_rbf = SupportVectorMachine(kernel='rbf', gamma=2)\n",
    "clf_rbf.fit(Xtr, ytr, C=1, max_iters=100)# TODO\n",
    "\n",
    "# calculate accuracy on test set\n",
    "quad_pred = np.array([clf_rbf.predict(xte) for xte in Xte]).reshape(yte.shape[0])\n",
    "acc = float(sum(quad_pred==yte)) / yte.shape[0]\n",
    "print('Accuracy (rbf): %.00f%%' % (100 * acc))\n"
   ]
  },
  {
   "cell_type": "markdown",
   "metadata": {
    "editable": true
   },
   "source": [
    "Finally, we visualise the rbf-SVM decision boundaries:"
   ]
  },
  {
   "cell_type": "code",
   "execution_count": 52,
   "metadata": {
    "collapsed": true,
    "editable": true,
    "jupyter": {
     "outputs_hidden": true
    }
   },
   "outputs": [
    {
     "data": {
      "text/plain": [
       "<matplotlib.collections.PathCollection at 0x7fa3149dde48>"
      ]
     },
     "execution_count": 52,
     "metadata": {},
     "output_type": "execute_result"
    },
    {
     "data": {
      "image/png": "[encoded data removed]",
      "text/plain": [
       "<Figure size 720x360 with 1 Axes>"
      ]
     },
     "metadata": {
      "needs_background": "light"
     },
     "output_type": "display_data"
    }
   ],
   "source": [
    "# create mesh coordinates\n",
    "lim = 4\n",
    "xx, yy = np.meshgrid(np.arange(-lim, +lim, 0.1), np.arange(-lim, +lim, 0.1))\n",
    "zz_rbf = np.zeros(xx.shape)\n",
    "\n",
    "# create mesh of predictions\n",
    "for i in range(xx.shape[0]):\n",
    "    for j in range(xx.shape[1]):\n",
    "        zz_rbf[i, j] = clf_rbf.predict(np.array([xx[i, j], yy[i, j]]))\n",
    "\n",
    "# visualise mesh as contour plot\n",
    "fig = plt.figure(figsize=(10, 5))\n",
    "\n",
    "ax = fig.add_subplot(1, 2, 2)\n",
    "ax.set_xlabel('x1') ; ax.set_ylabel('x2')\n",
    "ax.set_xlim([-lim, +lim-0.1]) ; ax.set_ylim([-lim, +lim-0.1])\n",
    "ax.contourf(xx, yy, zz_rbf, alpha=0.5, colors=('blue', 'orange'))\n",
    "\n",
    "# plot training data\n",
    "ax.scatter(X[class_pos, 0], X[class_pos, 1], color='orange')\n",
    "ax.scatter(X[class_neg, 0], X[class_neg, 1], color='blue')"
   ]
  },
  {
   "cell_type": "code",
   "execution_count": null,
   "metadata": {},
   "outputs": [],
   "source": []
  }
 ],
 "metadata": {
  "kernelspec": {
   "display_name": "Python 3",
   "language": "python",
   "name": "python3"
  },
  "language_info": {
   "codemirror_mode": {
    "name": "ipython",
    "version": 3
   },
   "file_extension": ".py",
   "mimetype": "text/x-python",
   "name": "python",
   "nbconvert_exporter": "python",
   "pygments_lexer": "ipython3",
   "version": "3.7.3"
  }
 },
 "nbformat": 4,
 "nbformat_minor": 4
}

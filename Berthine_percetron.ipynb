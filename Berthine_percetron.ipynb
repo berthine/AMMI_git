{
 "cells": [
  {
   "cell_type": "markdown",
   "metadata": {},
   "source": [
    "## Perceptron Algorithm"
   ]
  },
  {
   "cell_type": "code",
   "execution_count": null,
   "metadata": {},
   "outputs": [],
   "source": []
  },
  {
   "cell_type": "code",
   "execution_count": 13,
   "metadata": {},
   "outputs": [],
   "source": [
    "import random as rd\n",
    "import numpy as np\n",
    "import seaborn as sn\n",
    "import pandas as pd\n",
    "import matplotlib.pyplot as plt\n",
    "from math import *\n",
    "%matplotlib inline"
   ]
  },
  {
   "cell_type": "code",
   "execution_count": 14,
   "metadata": {},
   "outputs": [],
   "source": [
    "mu1 = -1\n",
    "mu2 = 3\n",
    "sig1 = 0.5\n",
    "sig2 = 1\n",
    "N = 100"
   ]
  },
  {
   "cell_type": "code",
   "execution_count": 15,
   "metadata": {},
   "outputs": [],
   "source": [
    "np.random.seed(10)\n",
    "x11=np.random.randn(N,1)*sig1 + mu1\n",
    "x12=np.random.randn(N,1)*sig1 + mu1+3\n",
    "x21=np.random.randn(N,1)*sig2 + mu2\n",
    "x22=np.random.randn(N,1)*sig2 + mu2+3\n",
    "c = np.vstack((-np.ones((N,1)), np.ones((N,1))))\n",
    "x1 = np.hstack((x11,x12))\n",
    "x2 = np.hstack((x21,x22))"
   ]
  },
  {
   "cell_type": "code",
   "execution_count": 16,
   "metadata": {},
   "outputs": [],
   "source": [
    "X = np.hstack( (np.vstack( (x1,x2) ),c) )\n",
    "np.random.shuffle(X)\n",
    "dataset = pd.DataFrame(data=X, columns=['x','y','c'])"
   ]
  },
  {
   "cell_type": "markdown",
   "metadata": {},
   "source": [
    "## Our dataset"
   ]
  },
  {
   "cell_type": "code",
   "execution_count": 17,
   "metadata": {},
   "outputs": [
    {
     "data": {
      "text/html": [
       "<div>\n",
       "<style scoped>\n",
       "    .dataframe tbody tr th:only-of-type {\n",
       "        vertical-align: middle;\n",
       "    }\n",
       "\n",
       "    .dataframe tbody tr th {\n",
       "        vertical-align: top;\n",
       "    }\n",
       "\n",
       "    .dataframe thead th {\n",
       "        text-align: right;\n",
       "    }\n",
       "</style>\n",
       "<table border=\"1\" class=\"dataframe\">\n",
       "  <thead>\n",
       "    <tr style=\"text-align: right;\">\n",
       "      <th></th>\n",
       "      <th>x</th>\n",
       "      <th>y</th>\n",
       "      <th>c</th>\n",
       "    </tr>\n",
       "  </thead>\n",
       "  <tbody>\n",
       "    <tr>\n",
       "      <th>0</th>\n",
       "      <td>-0.334207</td>\n",
       "      <td>2.058738</td>\n",
       "      <td>-1.0</td>\n",
       "    </tr>\n",
       "    <tr>\n",
       "      <th>1</th>\n",
       "      <td>3.264395</td>\n",
       "      <td>5.636814</td>\n",
       "      <td>1.0</td>\n",
       "    </tr>\n",
       "    <tr>\n",
       "      <th>2</th>\n",
       "      <td>-0.669884</td>\n",
       "      <td>1.856185</td>\n",
       "      <td>-1.0</td>\n",
       "    </tr>\n",
       "    <tr>\n",
       "      <th>3</th>\n",
       "      <td>1.995284</td>\n",
       "      <td>4.484924</td>\n",
       "      <td>1.0</td>\n",
       "    </tr>\n",
       "    <tr>\n",
       "      <th>4</th>\n",
       "      <td>3.588041</td>\n",
       "      <td>4.739172</td>\n",
       "      <td>1.0</td>\n",
       "    </tr>\n",
       "  </tbody>\n",
       "</table>\n",
       "</div>"
      ],
      "text/plain": [
       "          x         y    c\n",
       "0 -0.334207  2.058738 -1.0\n",
       "1  3.264395  5.636814  1.0\n",
       "2 -0.669884  1.856185 -1.0\n",
       "3  1.995284  4.484924  1.0\n",
       "4  3.588041  4.739172  1.0"
      ]
     },
     "execution_count": 17,
     "metadata": {},
     "output_type": "execute_result"
    }
   ],
   "source": [
    "dataset.head()\n"
   ]
  },
  {
   "cell_type": "markdown",
   "metadata": {},
   "source": [
    "## Let's plot our features"
   ]
  },
  {
   "cell_type": "code",
   "execution_count": 18,
   "metadata": {},
   "outputs": [
    {
     "data": {
      "image/png": "[encoded data removed]",
      "text/plain": [
       "<Figure size 432x288 with 1 Axes>"
      ]
     },
     "metadata": {
      "needs_background": "light"
     },
     "output_type": "display_data"
    }
   ],
   "source": [
    "X_1=dataset.drop(['c'],axis=1).values\n",
    "Y=dataset['c']\n",
    "# Plotting Toy data\n",
    "plt.figure()\n",
    "for index, x in enumerate(X_1):\n",
    "    if Y[index] == -1:\n",
    "        plt.scatter(x[0], x[1], c = 'm', marker = 'o')\n",
    "    else:\n",
    "        plt.scatter(x[0], x[1], c = 'r', marker = 'x')\n",
    "\n",
    "plt.xlabel(\"X\")\n",
    "plt.ylabel(\"Y\")\n",
    "plt.show()"
   ]
  },
  {
   "cell_type": "code",
   "execution_count": 35,
   "metadata": {},
   "outputs": [],
   "source": [
    "'''Missclass return the list misslassified points'''\n",
    "\n",
    "def Missclass(X,W,Y):\n",
    "    Y_predict=[]\n",
    "    for i in range(X.shape[0]):\n",
    "        y= (np.sign(np.dot(X[i,:], W)))\n",
    "        Y_predict.append(y)\n",
    "    missclass=[]\n",
    "    for index in range(len(Y)):\n",
    "        if Y_predict[index]!=Y[index]:\n",
    "            missclass.append(index)\n",
    "    return missclass"
   ]
  },
  {
   "cell_type": "code",
   "execution_count": 36,
   "metadata": {},
   "outputs": [],
   "source": [
    "'''Gradient compute de gradient '''\n",
    "def gradient(M,X,Y):\n",
    "    gradient = -sum([Y[i]*X[i,:] for i in M])\n",
    "    return gradient    "
   ]
  },
  {
   "cell_type": "code",
   "execution_count": 37,
   "metadata": {},
   "outputs": [],
   "source": [
    "'''Update the weight for each iteration'''\n",
    "\n",
    "def update_W(X,W,Y):\n",
    "    M=Missclass(X,W,Y)\n",
    "    if M!=[]:\n",
    "        W_o=W\n",
    "        grad=gradient(M,X,Y)\n",
    "        W=W-lr*grad\n",
    "        while(np.linalg.norm(W_o-W)>epsilon):\n",
    "            M=Missclass(X,W,Y)\n",
    "            if M!=[]:\n",
    "                W_o=W\n",
    "                grad=gradient(M,X,Y)\n",
    "                W=W-lr*grad\n",
    "            else:\n",
    "                break\n",
    "    return W"
   ]
  },
  {
   "cell_type": "code",
   "execution_count": 49,
   "metadata": {},
   "outputs": [],
   "source": [
    "X = np.insert(X_1, 0, np.ones( X_1.shape[0]), axis=1)\n"
   ]
  },
  {
   "cell_type": "code",
   "execution_count": 50,
   "metadata": {},
   "outputs": [],
   "source": [
    "# insert column 1 to X_1\n",
    "X = np.insert(X_1, 0, np.ones( X_1.shape[0]), axis=1)\n",
    "Y=dataset['c']\n",
    "W = np.array([-3,2.0,0.5])\n",
    "lr=0.8\n",
    "epsilon=1e-5"
   ]
  },
  {
   "cell_type": "code",
   "execution_count": 52,
   "metadata": {},
   "outputs": [
    {
     "data": {
      "text/plain": [
       "array([-3. ,  2. ,  0.5])"
      ]
     },
     "execution_count": 52,
     "metadata": {},
     "output_type": "execute_result"
    }
   ],
   "source": [
    "#update w\n",
    "w=update_W(X,W,Y)\n",
    "w"
   ]
  },
  {
   "cell_type": "code",
   "execution_count": 53,
   "metadata": {},
   "outputs": [],
   "source": [
    "'''define the line'''\n",
    "def line(w,x):\n",
    "    return -(w[0]/w[2])-(w[1]/w[2])*x"
   ]
  },
  {
   "cell_type": "code",
   "execution_count": 54,
   "metadata": {},
   "outputs": [
    {
     "data": {
      "image/png": "[encoded data removed]",
      "text/plain": [
       "<Figure size 432x288 with 1 Axes>"
      ]
     },
     "metadata": {
      "needs_background": "light"
     },
     "output_type": "display_data"
    }
   ],
   "source": [
    "#Plot\n",
    "x=np.arange(-2,8,0.01)\n",
    "X_1=dataset.drop(['c'],axis=1).values\n",
    "Y=dataset['c']\n",
    "# Plotting Toy data\n",
    "plt.figure()\n",
    "for index, x in enumerate(X_1):\n",
    "    if Y[index] == -1:\n",
    "        plt.scatter(x[0], x[1], c = 'm', marker = 'o')\n",
    "    else:\n",
    "        plt.scatter(x[0], x[1], c = 'r', marker = 'x')\n",
    "\n",
    "plt.plot(x,line(w,x),color='b',label='Decision boundary')\n",
    "plt.legend(loc = \"best\")\n",
    "plt.xlabel(\"X\")\n",
    "plt.ylabel(\"Y\")\n",
    "plt.xlim(-3,7)\n",
    "plt.ylim(0,9)\n",
    "plt.show()"
   ]
  },
  {
   "cell_type": "code",
   "execution_count": null,
   "metadata": {},
   "outputs": [],
   "source": []
  },
  {
   "cell_type": "markdown",
   "metadata": {},
   "source": [
    "## Thanks!"
   ]
  },
  {
   "cell_type": "code",
   "execution_count": null,
   "metadata": {},
   "outputs": [],
   "source": []
  }
 ],
 "metadata": {
  "kernelspec": {
   "display_name": "Python 3",
   "language": "python",
   "name": "python3"
  },
  "language_info": {
   "codemirror_mode": {
    "name": "ipython",
    "version": 3
   },
   "file_extension": ".py",
   "mimetype": "text/x-python",
   "name": "python",
   "nbconvert_exporter": "python",
   "pygments_lexer": "ipython3",
   "version": "3.7.3"
  }
 },
 "nbformat": 4,
 "nbformat_minor": 2
}

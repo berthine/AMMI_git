{
  "nbformat": 4,
  "nbformat_minor": 0,
  "metadata": {
    "colab": {
      "provenance": [],
      "include_colab_link": true
    },
    "kernelspec": {
      "display_name": "Python 3",
      "language": "python",
      "name": "python3"
    },
    "language_info": {
      "codemirror_mode": {
        "name": "ipython",
        "version": 3
      },
      "file_extension": ".py",
      "mimetype": "text/x-python",
      "name": "python",
      "nbconvert_exporter": "python",
      "pygments_lexer": "ipython3",
      "version": "3.7.4"
    },
    "accelerator": "GPU"
  },
  "cells": [
    {
      "cell_type": "markdown",
      "metadata": {
        "id": "view-in-github",
        "colab_type": "text"
      },
      "source": [
        "<a href=\"https://colab.research.google.com/github/berthine/AMMI_git/blob/master/Financial_Resilience_Python_StarterNotebook.ipynb\" target=\"_parent\"><img src=\"https://colab.research.google.com/assets/colab-badge.svg\" alt=\"Open In Colab\"/></a>"
      ]
    },
    {
      "cell_type": "markdown",
      "metadata": {
        "id": "47_7sBsU8JYt"
      },
      "source": [
        "## UmojaHack Africa 2021 #3: Financial Resilience Challenge (BEGINNER) by UmojaHack Africa\n",
        "\n",
        "Can you predict if an individual will be able to make a payment in an emergency situation?\n",
        "\n",
        "The objective of this challenge is to build a machine learning model to predict which individuals across Africa and around the world are most likely to be financially resilient.\n",
        "\n",
        "\n",
        "![Umoja Hack](https://zindpublic.blob.core.windows.net/public/uploads/competition/image/151/thumb_cdf71374-9857-44bb-8216-5f8c67afb51f.png)\n",
        "\n",
        "This is a simple Python starter notebook to get you started with the Financial Resilience Challenge.\n",
        "\n",
        "This notebook covers:\n",
        "- Loading the data\n",
        "- Simple EDA and an example of feature enginnering\n",
        "- Data preprocessing and data wrangling\n",
        "- Creating a simple model\n",
        "- Making a submission\n",
        "- Some tips for improving your score"
      ]
    },
    {
      "cell_type": "code",
      "metadata": {
        "colab": {
          "base_uri": "https://localhost:8080/"
        },
        "id": "vzch8lyCySSf",
        "outputId": "d4e2795e-39a5-494d-f5b3-ea1c81f6b72b"
      },
      "source": [
        "from google.colab import drive\n",
        "drive.mount('/content/drive')"
      ],
      "execution_count": null,
      "outputs": [
        {
          "output_type": "stream",
          "text": [
            "Mounted at /content/drive\n"
          ],
          "name": "stdout"
        }
      ]
    },
    {
      "cell_type": "code",
      "metadata": {
        "id": "GsxsCJyNFxBZ"
      },
      "source": [
        "# Import libraries\n",
        "import pandas as pd\n",
        "import numpy as np\n",
        "import matplotlib.pyplot as plt\n",
        "import seaborn as sns\n",
        "from sklearn.metrics import auc, classification_report, roc_auc_score\n",
        "from sklearn.model_selection import train_test_split\n",
        "from lightgbm import LGBMClassifier\n",
        "from sklearn.ensemble import RandomForestClassifier\n",
        "pd.set_option('max_colwidth', 500)\n",
        "%matplotlib inline\n",
        "import warnings\n",
        "warnings.filterwarnings('ignore')"
      ],
      "execution_count": null,
      "outputs": []
    },
    {
      "cell_type": "code",
      "metadata": {
        "id": "53kr-jmbySSh",
        "outputId": "d96721f6-05a9-4482-f036-e47e85759c8a"
      },
      "source": [
        "#!pip3 install lightgbm"
      ],
      "execution_count": null,
      "outputs": [
        {
          "output_type": "stream",
          "text": [
            "Collecting lightgbm\n",
            "\u001b[?25l  Downloading https://files.pythonhosted.org/packages/6e/1f/b2263713cd0a894ce5e856699bbc3e7e7efc97a300d51b7c787878cc8831/lightgbm-3.2.0-py3-none-manylinux1_x86_64.whl (2.0MB)\n",
            "\u001b[K    100% |████████████████████████████████| 2.0MB 425kB/s ta 0:00:01\n",
            "\u001b[?25hRequirement already satisfied: scikit-learn!=0.22.0 in /home/aims/.local/lib/python3.7/site-packages (from lightgbm) (0.24.1)\n",
            "Requirement already satisfied: numpy in /usr/lib/python3/dist-packages (from lightgbm) (1.16.2)\n",
            "Requirement already satisfied: wheel in /usr/lib/python3/dist-packages (from lightgbm) (0.32.3)\n",
            "Requirement already satisfied: scipy in /home/aims/.local/lib/python3.7/site-packages (from lightgbm) (1.4.1)\n",
            "Requirement already satisfied: joblib>=0.11 in /home/aims/.local/lib/python3.7/site-packages (from scikit-learn!=0.22.0->lightgbm) (0.14.1)\n",
            "Requirement already satisfied: threadpoolctl>=2.0.0 in /home/aims/.local/lib/python3.7/site-packages (from scikit-learn!=0.22.0->lightgbm) (2.1.0)\n",
            "Installing collected packages: lightgbm\n",
            "Successfully installed lightgbm-3.2.0\n"
          ],
          "name": "stdout"
        }
      ]
    },
    {
      "cell_type": "code",
      "metadata": {
        "id": "0_7BVS92U0Ti"
      },
      "source": [
        "# Load files\n",
        "train = pd.read_csv('/content/drive/MyDrive/Umoja_hackaton_africa/Umoja_africa/Train(3).csv')\n",
        "test = pd.read_csv('/content/drive/MyDrive/Umoja_hackaton_africa/Umoja_africa/Test.csv')\n",
        "samplesubmission = pd.read_csv('/content/drive/MyDrive/Umoja_hackaton_africa/Umoja_africa/SampleSubmission(1).csv')\n",
        "variable_definations = pd.read_csv('/content/drive/MyDrive/Umoja_hackaton_africa/Umoja_africa/VariableDefinitions(2).csv')"
      ],
      "execution_count": null,
      "outputs": []
    },
    {
      "cell_type": "code",
      "metadata": {
        "colab": {
          "base_uri": "https://localhost:8080/",
          "height": 635
        },
        "id": "f_LhTb6nU0Se",
        "outputId": "55047b4d-c3a7-4fb3-9f2a-f1d0750f3644"
      },
      "source": [
        "# Preview the first five rows of the train set\n",
        "train.head()"
      ],
      "execution_count": null,
      "outputs": [
        {
          "output_type": "execute_result",
          "data": {
            "text/html": [
              "<div>\n",
              "<style scoped>\n",
              "    .dataframe tbody tr th:only-of-type {\n",
              "        vertical-align: middle;\n",
              "    }\n",
              "\n",
              "    .dataframe tbody tr th {\n",
              "        vertical-align: top;\n",
              "    }\n",
              "\n",
              "    .dataframe thead th {\n",
              "        text-align: right;\n",
              "    }\n",
              "</style>\n",
              "<table border=\"1\" class=\"dataframe\">\n",
              "  <thead>\n",
              "    <tr style=\"text-align: right;\">\n",
              "      <th></th>\n",
              "      <th>ID</th>\n",
              "      <th>country</th>\n",
              "      <th>region</th>\n",
              "      <th>population</th>\n",
              "      <th>age</th>\n",
              "      <th>Q1</th>\n",
              "      <th>Q2</th>\n",
              "      <th>Q3</th>\n",
              "      <th>Q4</th>\n",
              "      <th>Q5</th>\n",
              "      <th>Q6</th>\n",
              "      <th>Q7</th>\n",
              "      <th>Q8</th>\n",
              "      <th>Q9</th>\n",
              "      <th>Q10a</th>\n",
              "      <th>Q10b</th>\n",
              "      <th>Q11</th>\n",
              "      <th>Q12</th>\n",
              "      <th>Q13a</th>\n",
              "      <th>Q14</th>\n",
              "      <th>Q15</th>\n",
              "      <th>Q16</th>\n",
              "      <th>Q17a</th>\n",
              "      <th>Q17b</th>\n",
              "      <th>Q19</th>\n",
              "      <th>Q20</th>\n",
              "      <th>Q21</th>\n",
              "      <th>Q22</th>\n",
              "      <th>Q23</th>\n",
              "      <th>Q24</th>\n",
              "      <th>Q25</th>\n",
              "      <th>Q26</th>\n",
              "      <th>Q27</th>\n",
              "      <th>owns_mobile</th>\n",
              "      <th>Q28</th>\n",
              "      <th>target</th>\n",
              "    </tr>\n",
              "  </thead>\n",
              "  <tbody>\n",
              "    <tr>\n",
              "      <th>0</th>\n",
              "      <td>ID_0000020532</td>\n",
              "      <td>Morocco</td>\n",
              "      <td>Middle East &amp; North Africa (excluding high income)</td>\n",
              "      <td>25550170.0</td>\n",
              "      <td>66.0</td>\n",
              "      <td>2</td>\n",
              "      <td>NaN</td>\n",
              "      <td>NaN</td>\n",
              "      <td>NaN</td>\n",
              "      <td>NaN</td>\n",
              "      <td>2</td>\n",
              "      <td>NaN</td>\n",
              "      <td>NaN</td>\n",
              "      <td>NaN</td>\n",
              "      <td>2</td>\n",
              "      <td>2</td>\n",
              "      <td>2</td>\n",
              "      <td>2</td>\n",
              "      <td>2</td>\n",
              "      <td>2</td>\n",
              "      <td>1</td>\n",
              "      <td>2</td>\n",
              "      <td>2</td>\n",
              "      <td>1</td>\n",
              "      <td>2.0</td>\n",
              "      <td>1.0</td>\n",
              "      <td>1</td>\n",
              "      <td>2</td>\n",
              "      <td>NaN</td>\n",
              "      <td>1</td>\n",
              "      <td>2</td>\n",
              "      <td>2.0</td>\n",
              "      <td>2.0</td>\n",
              "      <td>1.0</td>\n",
              "      <td>1.0</td>\n",
              "      <td>0</td>\n",
              "    </tr>\n",
              "    <tr>\n",
              "      <th>1</th>\n",
              "      <td>ID_0000075765</td>\n",
              "      <td>Lebanon</td>\n",
              "      <td>Middle East &amp; North Africa (excluding high income)</td>\n",
              "      <td>4591023.0</td>\n",
              "      <td>44.0</td>\n",
              "      <td>2</td>\n",
              "      <td>NaN</td>\n",
              "      <td>NaN</td>\n",
              "      <td>2.0</td>\n",
              "      <td>2.0</td>\n",
              "      <td>2</td>\n",
              "      <td>NaN</td>\n",
              "      <td>1.0</td>\n",
              "      <td>1.0</td>\n",
              "      <td>2</td>\n",
              "      <td>2</td>\n",
              "      <td>2</td>\n",
              "      <td>2</td>\n",
              "      <td>1</td>\n",
              "      <td>2</td>\n",
              "      <td>2</td>\n",
              "      <td>2</td>\n",
              "      <td>1</td>\n",
              "      <td>2</td>\n",
              "      <td>2.0</td>\n",
              "      <td>2.0</td>\n",
              "      <td>1</td>\n",
              "      <td>2</td>\n",
              "      <td>NaN</td>\n",
              "      <td>2</td>\n",
              "      <td>2</td>\n",
              "      <td>2.0</td>\n",
              "      <td>1.0</td>\n",
              "      <td>1.0</td>\n",
              "      <td>1.0</td>\n",
              "      <td>1</td>\n",
              "    </tr>\n",
              "    <tr>\n",
              "      <th>2</th>\n",
              "      <td>ID_0000085491</td>\n",
              "      <td>Morocco</td>\n",
              "      <td>Middle East &amp; North Africa (excluding high income)</td>\n",
              "      <td>25550170.0</td>\n",
              "      <td>29.0</td>\n",
              "      <td>1</td>\n",
              "      <td>1.0</td>\n",
              "      <td>1.0</td>\n",
              "      <td>2.0</td>\n",
              "      <td>2.0</td>\n",
              "      <td>2</td>\n",
              "      <td>NaN</td>\n",
              "      <td>1.0</td>\n",
              "      <td>1.0</td>\n",
              "      <td>2</td>\n",
              "      <td>2</td>\n",
              "      <td>2</td>\n",
              "      <td>2</td>\n",
              "      <td>2</td>\n",
              "      <td>2</td>\n",
              "      <td>2</td>\n",
              "      <td>2</td>\n",
              "      <td>2</td>\n",
              "      <td>2</td>\n",
              "      <td>2.0</td>\n",
              "      <td>2.0</td>\n",
              "      <td>1</td>\n",
              "      <td>1</td>\n",
              "      <td>2.0</td>\n",
              "      <td>2</td>\n",
              "      <td>2</td>\n",
              "      <td>2.0</td>\n",
              "      <td>NaN</td>\n",
              "      <td>1.0</td>\n",
              "      <td>1.0</td>\n",
              "      <td>0</td>\n",
              "    </tr>\n",
              "    <tr>\n",
              "      <th>3</th>\n",
              "      <td>ID_0000144505</td>\n",
              "      <td>Canada</td>\n",
              "      <td>High income: OECD</td>\n",
              "      <td>30491168.0</td>\n",
              "      <td>44.0</td>\n",
              "      <td>1</td>\n",
              "      <td>1.0</td>\n",
              "      <td>1.0</td>\n",
              "      <td>1.0</td>\n",
              "      <td>1.0</td>\n",
              "      <td>2</td>\n",
              "      <td>NaN</td>\n",
              "      <td>1.0</td>\n",
              "      <td>1.0</td>\n",
              "      <td>1</td>\n",
              "      <td>1</td>\n",
              "      <td>2</td>\n",
              "      <td>1</td>\n",
              "      <td>1</td>\n",
              "      <td>2</td>\n",
              "      <td>2</td>\n",
              "      <td>2</td>\n",
              "      <td>1</td>\n",
              "      <td>2</td>\n",
              "      <td>NaN</td>\n",
              "      <td>NaN</td>\n",
              "      <td>1</td>\n",
              "      <td>1</td>\n",
              "      <td>2.0</td>\n",
              "      <td>1</td>\n",
              "      <td>2</td>\n",
              "      <td>NaN</td>\n",
              "      <td>NaN</td>\n",
              "      <td>1.0</td>\n",
              "      <td>NaN</td>\n",
              "      <td>1</td>\n",
              "    </tr>\n",
              "    <tr>\n",
              "      <th>4</th>\n",
              "      <td>ID_0000214184</td>\n",
              "      <td>Mexico</td>\n",
              "      <td>Latin America &amp; Caribbean (excluding high income)</td>\n",
              "      <td>93002320.0</td>\n",
              "      <td>36.0</td>\n",
              "      <td>2</td>\n",
              "      <td>NaN</td>\n",
              "      <td>NaN</td>\n",
              "      <td>NaN</td>\n",
              "      <td>NaN</td>\n",
              "      <td>2</td>\n",
              "      <td>NaN</td>\n",
              "      <td>NaN</td>\n",
              "      <td>NaN</td>\n",
              "      <td>1</td>\n",
              "      <td>2</td>\n",
              "      <td>2</td>\n",
              "      <td>2</td>\n",
              "      <td>2</td>\n",
              "      <td>2</td>\n",
              "      <td>2</td>\n",
              "      <td>2</td>\n",
              "      <td>2</td>\n",
              "      <td>2</td>\n",
              "      <td>2.0</td>\n",
              "      <td>2.0</td>\n",
              "      <td>1</td>\n",
              "      <td>2</td>\n",
              "      <td>NaN</td>\n",
              "      <td>1</td>\n",
              "      <td>2</td>\n",
              "      <td>2.0</td>\n",
              "      <td>2.0</td>\n",
              "      <td>1.0</td>\n",
              "      <td>1.0</td>\n",
              "      <td>1</td>\n",
              "    </tr>\n",
              "  </tbody>\n",
              "</table>\n",
              "</div>"
            ],
            "text/plain": [
              "              ID  country  ...  Q28  target\n",
              "0  ID_0000020532  Morocco  ...  1.0       0\n",
              "1  ID_0000075765  Lebanon  ...  1.0       1\n",
              "2  ID_0000085491  Morocco  ...  1.0       0\n",
              "3  ID_0000144505   Canada  ...  NaN       1\n",
              "4  ID_0000214184   Mexico  ...  1.0       1\n",
              "\n",
              "[5 rows x 36 columns]"
            ]
          },
          "metadata": {
            "tags": []
          },
          "execution_count": 4
        }
      ]
    },
    {
      "cell_type": "code",
      "metadata": {
        "colab": {
          "base_uri": "https://localhost:8080/",
          "height": 602
        },
        "id": "c0KotvwrU0PP",
        "outputId": "25bbc1bf-c4da-483e-894c-189cf13caf16"
      },
      "source": [
        "# Preview the first five rows of the test set\n",
        "test.head()"
      ],
      "execution_count": null,
      "outputs": [
        {
          "output_type": "execute_result",
          "data": {
            "text/html": [
              "<div>\n",
              "<style scoped>\n",
              "    .dataframe tbody tr th:only-of-type {\n",
              "        vertical-align: middle;\n",
              "    }\n",
              "\n",
              "    .dataframe tbody tr th {\n",
              "        vertical-align: top;\n",
              "    }\n",
              "\n",
              "    .dataframe thead th {\n",
              "        text-align: right;\n",
              "    }\n",
              "</style>\n",
              "<table border=\"1\" class=\"dataframe\">\n",
              "  <thead>\n",
              "    <tr style=\"text-align: right;\">\n",
              "      <th></th>\n",
              "      <th>ID</th>\n",
              "      <th>country</th>\n",
              "      <th>region</th>\n",
              "      <th>population</th>\n",
              "      <th>age</th>\n",
              "      <th>Q1</th>\n",
              "      <th>Q2</th>\n",
              "      <th>Q3</th>\n",
              "      <th>Q4</th>\n",
              "      <th>Q5</th>\n",
              "      <th>Q6</th>\n",
              "      <th>Q7</th>\n",
              "      <th>Q8</th>\n",
              "      <th>Q9</th>\n",
              "      <th>Q10a</th>\n",
              "      <th>Q10b</th>\n",
              "      <th>Q11</th>\n",
              "      <th>Q12</th>\n",
              "      <th>Q13a</th>\n",
              "      <th>Q14</th>\n",
              "      <th>Q15</th>\n",
              "      <th>Q16</th>\n",
              "      <th>Q17a</th>\n",
              "      <th>Q17b</th>\n",
              "      <th>Q19</th>\n",
              "      <th>Q20</th>\n",
              "      <th>Q21</th>\n",
              "      <th>Q22</th>\n",
              "      <th>Q23</th>\n",
              "      <th>Q24</th>\n",
              "      <th>Q25</th>\n",
              "      <th>Q26</th>\n",
              "      <th>Q27</th>\n",
              "      <th>owns_mobile</th>\n",
              "      <th>Q28</th>\n",
              "    </tr>\n",
              "  </thead>\n",
              "  <tbody>\n",
              "    <tr>\n",
              "      <th>0</th>\n",
              "      <td>ID_0000005111</td>\n",
              "      <td>Croatia</td>\n",
              "      <td>Europe &amp; Central Asia (excluding high income)</td>\n",
              "      <td>3557444.5</td>\n",
              "      <td>62.0</td>\n",
              "      <td>2</td>\n",
              "      <td>NaN</td>\n",
              "      <td>NaN</td>\n",
              "      <td>2.0</td>\n",
              "      <td>2.0</td>\n",
              "      <td>1</td>\n",
              "      <td>1.0</td>\n",
              "      <td>1.0</td>\n",
              "      <td>1.0</td>\n",
              "      <td>2</td>\n",
              "      <td>3</td>\n",
              "      <td>2</td>\n",
              "      <td>1</td>\n",
              "      <td>1</td>\n",
              "      <td>2</td>\n",
              "      <td>2</td>\n",
              "      <td>2</td>\n",
              "      <td>2</td>\n",
              "      <td>2</td>\n",
              "      <td>2.0</td>\n",
              "      <td>2.0</td>\n",
              "      <td>2</td>\n",
              "      <td>1</td>\n",
              "      <td>1.0</td>\n",
              "      <td>2</td>\n",
              "      <td>2</td>\n",
              "      <td>2.0</td>\n",
              "      <td>NaN</td>\n",
              "      <td>1.0</td>\n",
              "      <td>1.0</td>\n",
              "    </tr>\n",
              "    <tr>\n",
              "      <th>1</th>\n",
              "      <td>ID_0000389416</td>\n",
              "      <td>Kazakhstan</td>\n",
              "      <td>Europe &amp; Central Asia (excluding high income)</td>\n",
              "      <td>12920168.0</td>\n",
              "      <td>32.0</td>\n",
              "      <td>2</td>\n",
              "      <td>NaN</td>\n",
              "      <td>NaN</td>\n",
              "      <td>NaN</td>\n",
              "      <td>NaN</td>\n",
              "      <td>2</td>\n",
              "      <td>NaN</td>\n",
              "      <td>NaN</td>\n",
              "      <td>NaN</td>\n",
              "      <td>2</td>\n",
              "      <td>2</td>\n",
              "      <td>2</td>\n",
              "      <td>2</td>\n",
              "      <td>2</td>\n",
              "      <td>3</td>\n",
              "      <td>2</td>\n",
              "      <td>2</td>\n",
              "      <td>2</td>\n",
              "      <td>2</td>\n",
              "      <td>2.0</td>\n",
              "      <td>2.0</td>\n",
              "      <td>2</td>\n",
              "      <td>2</td>\n",
              "      <td>NaN</td>\n",
              "      <td>2</td>\n",
              "      <td>2</td>\n",
              "      <td>2.0</td>\n",
              "      <td>2.0</td>\n",
              "      <td>1.0</td>\n",
              "      <td>2.0</td>\n",
              "    </tr>\n",
              "    <tr>\n",
              "      <th>2</th>\n",
              "      <td>ID_0000634789</td>\n",
              "      <td>Costa Rica</td>\n",
              "      <td>Latin America &amp; Caribbean (excluding high income)</td>\n",
              "      <td>3791520.0</td>\n",
              "      <td>73.0</td>\n",
              "      <td>1</td>\n",
              "      <td>1.0</td>\n",
              "      <td>1.0</td>\n",
              "      <td>2.0</td>\n",
              "      <td>2.0</td>\n",
              "      <td>2</td>\n",
              "      <td>NaN</td>\n",
              "      <td>2.0</td>\n",
              "      <td>2.0</td>\n",
              "      <td>2</td>\n",
              "      <td>2</td>\n",
              "      <td>2</td>\n",
              "      <td>2</td>\n",
              "      <td>2</td>\n",
              "      <td>2</td>\n",
              "      <td>2</td>\n",
              "      <td>2</td>\n",
              "      <td>2</td>\n",
              "      <td>2</td>\n",
              "      <td>2.0</td>\n",
              "      <td>2.0</td>\n",
              "      <td>2</td>\n",
              "      <td>2</td>\n",
              "      <td>NaN</td>\n",
              "      <td>2</td>\n",
              "      <td>1</td>\n",
              "      <td>2.0</td>\n",
              "      <td>1.0</td>\n",
              "      <td>1.0</td>\n",
              "      <td>1.0</td>\n",
              "    </tr>\n",
              "    <tr>\n",
              "      <th>3</th>\n",
              "      <td>ID_0000778100</td>\n",
              "      <td>Japan</td>\n",
              "      <td>High income: OECD</td>\n",
              "      <td>110566824.0</td>\n",
              "      <td>67.0</td>\n",
              "      <td>1</td>\n",
              "      <td>1.0</td>\n",
              "      <td>1.0</td>\n",
              "      <td>1.0</td>\n",
              "      <td>2.0</td>\n",
              "      <td>1</td>\n",
              "      <td>1.0</td>\n",
              "      <td>1.0</td>\n",
              "      <td>1.0</td>\n",
              "      <td>1</td>\n",
              "      <td>1</td>\n",
              "      <td>2</td>\n",
              "      <td>1</td>\n",
              "      <td>1</td>\n",
              "      <td>2</td>\n",
              "      <td>2</td>\n",
              "      <td>2</td>\n",
              "      <td>2</td>\n",
              "      <td>2</td>\n",
              "      <td>NaN</td>\n",
              "      <td>NaN</td>\n",
              "      <td>1</td>\n",
              "      <td>1</td>\n",
              "      <td>2.0</td>\n",
              "      <td>1</td>\n",
              "      <td>1</td>\n",
              "      <td>NaN</td>\n",
              "      <td>NaN</td>\n",
              "      <td>1.0</td>\n",
              "      <td>NaN</td>\n",
              "    </tr>\n",
              "    <tr>\n",
              "      <th>4</th>\n",
              "      <td>ID_0001123210</td>\n",
              "      <td>Morocco</td>\n",
              "      <td>Middle East &amp; North Africa (excluding high income)</td>\n",
              "      <td>25550170.0</td>\n",
              "      <td>32.0</td>\n",
              "      <td>1</td>\n",
              "      <td>1.0</td>\n",
              "      <td>1.0</td>\n",
              "      <td>2.0</td>\n",
              "      <td>2.0</td>\n",
              "      <td>2</td>\n",
              "      <td>NaN</td>\n",
              "      <td>2.0</td>\n",
              "      <td>1.0</td>\n",
              "      <td>2</td>\n",
              "      <td>2</td>\n",
              "      <td>2</td>\n",
              "      <td>2</td>\n",
              "      <td>2</td>\n",
              "      <td>2</td>\n",
              "      <td>2</td>\n",
              "      <td>2</td>\n",
              "      <td>2</td>\n",
              "      <td>1</td>\n",
              "      <td>2.0</td>\n",
              "      <td>1.0</td>\n",
              "      <td>2</td>\n",
              "      <td>2</td>\n",
              "      <td>NaN</td>\n",
              "      <td>2</td>\n",
              "      <td>2</td>\n",
              "      <td>2.0</td>\n",
              "      <td>2.0</td>\n",
              "      <td>1.0</td>\n",
              "      <td>1.0</td>\n",
              "    </tr>\n",
              "  </tbody>\n",
              "</table>\n",
              "</div>"
            ],
            "text/plain": [
              "              ID     country  ... owns_mobile  Q28\n",
              "0  ID_0000005111     Croatia  ...         1.0  1.0\n",
              "1  ID_0000389416  Kazakhstan  ...         1.0  2.0\n",
              "2  ID_0000634789  Costa Rica  ...         1.0  1.0\n",
              "3  ID_0000778100       Japan  ...         1.0  NaN\n",
              "4  ID_0001123210     Morocco  ...         1.0  1.0\n",
              "\n",
              "[5 rows x 35 columns]"
            ]
          },
          "metadata": {
            "tags": []
          },
          "execution_count": 5
        }
      ]
    },
    {
      "cell_type": "code",
      "metadata": {
        "colab": {
          "base_uri": "https://localhost:8080/",
          "height": 195
        },
        "id": "wU1bcDZSU0Nj",
        "outputId": "e873fba5-4cc8-45eb-ab67-b16067bd9fa0"
      },
      "source": [
        "# Preview the first five rows of the sample submission file\n",
        "samplesubmission.head()"
      ],
      "execution_count": null,
      "outputs": [
        {
          "output_type": "execute_result",
          "data": {
            "text/html": [
              "<div>\n",
              "<style scoped>\n",
              "    .dataframe tbody tr th:only-of-type {\n",
              "        vertical-align: middle;\n",
              "    }\n",
              "\n",
              "    .dataframe tbody tr th {\n",
              "        vertical-align: top;\n",
              "    }\n",
              "\n",
              "    .dataframe thead th {\n",
              "        text-align: right;\n",
              "    }\n",
              "</style>\n",
              "<table border=\"1\" class=\"dataframe\">\n",
              "  <thead>\n",
              "    <tr style=\"text-align: right;\">\n",
              "      <th></th>\n",
              "      <th>ID</th>\n",
              "      <th>target</th>\n",
              "    </tr>\n",
              "  </thead>\n",
              "  <tbody>\n",
              "    <tr>\n",
              "      <th>0</th>\n",
              "      <td>ID_0000005111</td>\n",
              "      <td>NaN</td>\n",
              "    </tr>\n",
              "    <tr>\n",
              "      <th>1</th>\n",
              "      <td>ID_0000389416</td>\n",
              "      <td>NaN</td>\n",
              "    </tr>\n",
              "    <tr>\n",
              "      <th>2</th>\n",
              "      <td>ID_0000634789</td>\n",
              "      <td>NaN</td>\n",
              "    </tr>\n",
              "    <tr>\n",
              "      <th>3</th>\n",
              "      <td>ID_0000778100</td>\n",
              "      <td>NaN</td>\n",
              "    </tr>\n",
              "    <tr>\n",
              "      <th>4</th>\n",
              "      <td>ID_0001123210</td>\n",
              "      <td>NaN</td>\n",
              "    </tr>\n",
              "  </tbody>\n",
              "</table>\n",
              "</div>"
            ],
            "text/plain": [
              "              ID  target\n",
              "0  ID_0000005111     NaN\n",
              "1  ID_0000389416     NaN\n",
              "2  ID_0000634789     NaN\n",
              "3  ID_0000778100     NaN\n",
              "4  ID_0001123210     NaN"
            ]
          },
          "metadata": {
            "tags": []
          },
          "execution_count": 6
        }
      ]
    },
    {
      "cell_type": "code",
      "metadata": {
        "colab": {
          "base_uri": "https://localhost:8080/"
        },
        "id": "GxzwVdFDySSk",
        "outputId": "63a32697-71c9-4a2a-a439-0b06ca497a42"
      },
      "source": [
        "train['owns_mobile'].unique()"
      ],
      "execution_count": null,
      "outputs": [
        {
          "output_type": "execute_result",
          "data": {
            "text/plain": [
              "array([ 1.,  2.,  4.,  3., nan])"
            ]
          },
          "metadata": {
            "tags": []
          },
          "execution_count": 7
        }
      ]
    },
    {
      "cell_type": "code",
      "metadata": {
        "colab": {
          "base_uri": "https://localhost:8080/"
        },
        "id": "1lQI6uie2mp3",
        "outputId": "ae0d0df4-1ef0-4c0f-f2b6-43022bf5cf7d"
      },
      "source": [
        "train['Q11'].unique()"
      ],
      "execution_count": null,
      "outputs": [
        {
          "output_type": "execute_result",
          "data": {
            "text/plain": [
              "array([2, 1, 4, 3])"
            ]
          },
          "metadata": {
            "tags": []
          },
          "execution_count": 8
        }
      ]
    },
    {
      "cell_type": "code",
      "metadata": {
        "colab": {
          "base_uri": "https://localhost:8080/",
          "height": 1000
        },
        "id": "UFh6oAKDFyws",
        "outputId": "6aa3f7ee-9bcc-4828-dc9e-574f4339f77f"
      },
      "source": [
        "# Preview variable definations\n",
        "variable_definations"
      ],
      "execution_count": null,
      "outputs": [
        {
          "output_type": "execute_result",
          "data": {
            "text/html": [
              "<div>\n",
              "<style scoped>\n",
              "    .dataframe tbody tr th:only-of-type {\n",
              "        vertical-align: middle;\n",
              "    }\n",
              "\n",
              "    .dataframe tbody tr th {\n",
              "        vertical-align: top;\n",
              "    }\n",
              "\n",
              "    .dataframe thead th {\n",
              "        text-align: right;\n",
              "    }\n",
              "</style>\n",
              "<table border=\"1\" class=\"dataframe\">\n",
              "  <thead>\n",
              "    <tr style=\"text-align: right;\">\n",
              "      <th></th>\n",
              "      <th>ID</th>\n",
              "      <th>Person unique/random identification</th>\n",
              "      <th>For columns(Q1 - Q28), Value 1 - Yes, 2 - No, 3-Don’t Know 4 - refused to answer</th>\n",
              "    </tr>\n",
              "  </thead>\n",
              "  <tbody>\n",
              "    <tr>\n",
              "      <th>0</th>\n",
              "      <td>country</td>\n",
              "      <td>The country</td>\n",
              "      <td>NaN</td>\n",
              "    </tr>\n",
              "    <tr>\n",
              "      <th>1</th>\n",
              "      <td>region</td>\n",
              "      <td>Region of a given country,.i.e., South Asia, Europe, etc</td>\n",
              "      <td>NaN</td>\n",
              "    </tr>\n",
              "    <tr>\n",
              "      <th>2</th>\n",
              "      <td>population</td>\n",
              "      <td>The population of the given country</td>\n",
              "      <td>NaN</td>\n",
              "    </tr>\n",
              "    <tr>\n",
              "      <th>3</th>\n",
              "      <td>age</td>\n",
              "      <td>Individual age</td>\n",
              "      <td>NaN</td>\n",
              "    </tr>\n",
              "    <tr>\n",
              "      <th>4</th>\n",
              "      <td>Q1</td>\n",
              "      <td>Has ATM/debit card</td>\n",
              "      <td>NaN</td>\n",
              "    </tr>\n",
              "    <tr>\n",
              "      <th>5</th>\n",
              "      <td>Q2</td>\n",
              "      <td>Is the ATM connect to an account with your name?</td>\n",
              "      <td>NaN</td>\n",
              "    </tr>\n",
              "    <tr>\n",
              "      <th>6</th>\n",
              "      <td>Q3</td>\n",
              "      <td>Purchased with the ATM</td>\n",
              "      <td>NaN</td>\n",
              "    </tr>\n",
              "    <tr>\n",
              "      <th>7</th>\n",
              "      <td>Q4</td>\n",
              "      <td>Use of mobile or internet to make payments or send money</td>\n",
              "      <td>NaN</td>\n",
              "    </tr>\n",
              "    <tr>\n",
              "      <th>8</th>\n",
              "      <td>Q5</td>\n",
              "      <td>Mobile/internet to check account balance</td>\n",
              "      <td>NaN</td>\n",
              "    </tr>\n",
              "    <tr>\n",
              "      <th>9</th>\n",
              "      <td>Q6</td>\n",
              "      <td>Has a credit card</td>\n",
              "      <td>NaN</td>\n",
              "    </tr>\n",
              "    <tr>\n",
              "      <th>10</th>\n",
              "      <td>Q7</td>\n",
              "      <td>Used the credit card in 12 months</td>\n",
              "      <td>NaN</td>\n",
              "    </tr>\n",
              "    <tr>\n",
              "      <th>11</th>\n",
              "      <td>Q8</td>\n",
              "      <td>Money deposits to a bank account in the last 12 months</td>\n",
              "      <td>NaN</td>\n",
              "    </tr>\n",
              "    <tr>\n",
              "      <th>12</th>\n",
              "      <td>Q9</td>\n",
              "      <td>Money withdrawals from a bank account in the last 12 months</td>\n",
              "      <td>NaN</td>\n",
              "    </tr>\n",
              "    <tr>\n",
              "      <th>13</th>\n",
              "      <td>Q10a</td>\n",
              "      <td>Used the Internet in the last 12 months;- to make payments for the bills -</td>\n",
              "      <td>NaN</td>\n",
              "    </tr>\n",
              "    <tr>\n",
              "      <th>14</th>\n",
              "      <td>Q10b</td>\n",
              "      <td>Used the Internet in the last 12 months;- to buy something online</td>\n",
              "      <td>NaN</td>\n",
              "    </tr>\n",
              "    <tr>\n",
              "      <th>15</th>\n",
              "      <td>Q11</td>\n",
              "      <td>Savings in the last 12 months to start a business/farm</td>\n",
              "      <td>NaN</td>\n",
              "    </tr>\n",
              "    <tr>\n",
              "      <th>16</th>\n",
              "      <td>Q12</td>\n",
              "      <td>Savings in the last 12 months for old age</td>\n",
              "      <td>NaN</td>\n",
              "    </tr>\n",
              "    <tr>\n",
              "      <th>17</th>\n",
              "      <td>Q13a</td>\n",
              "      <td>Saved the money at a bank/financial institutions</td>\n",
              "      <td>NaN</td>\n",
              "    </tr>\n",
              "    <tr>\n",
              "      <th>18</th>\n",
              "      <td>Q13b</td>\n",
              "      <td>Save the money at groups/clubs of any informal type</td>\n",
              "      <td>NaN</td>\n",
              "    </tr>\n",
              "    <tr>\n",
              "      <th>19</th>\n",
              "      <td>Q14</td>\n",
              "      <td>Has a loan from formal financial institutions to purchase land, home, or apartment</td>\n",
              "      <td>NaN</td>\n",
              "    </tr>\n",
              "    <tr>\n",
              "      <th>20</th>\n",
              "      <td>Q15</td>\n",
              "      <td>Borrowed money for health/medical purposes in the last 12 months</td>\n",
              "      <td>NaN</td>\n",
              "    </tr>\n",
              "    <tr>\n",
              "      <th>21</th>\n",
              "      <td>Q16</td>\n",
              "      <td>Borrowed money to start/grow business or farm</td>\n",
              "      <td>NaN</td>\n",
              "    </tr>\n",
              "    <tr>\n",
              "      <th>22</th>\n",
              "      <td>Q17a</td>\n",
              "      <td>Borrowed money from formal financial institutions - 12 months</td>\n",
              "      <td>NaN</td>\n",
              "    </tr>\n",
              "    <tr>\n",
              "      <th>23</th>\n",
              "      <td>Q17b</td>\n",
              "      <td>Borrowed money from friends, relatives, or family - 12 months</td>\n",
              "      <td>NaN</td>\n",
              "    </tr>\n",
              "    <tr>\n",
              "      <th>24</th>\n",
              "      <td>Q19</td>\n",
              "      <td>Sent/given money to friend/relative</td>\n",
              "      <td>NaN</td>\n",
              "    </tr>\n",
              "    <tr>\n",
              "      <th>25</th>\n",
              "      <td>Q20</td>\n",
              "      <td>Received money from friend or relative</td>\n",
              "      <td>NaN</td>\n",
              "    </tr>\n",
              "    <tr>\n",
              "      <th>26</th>\n",
              "      <td>Q21</td>\n",
              "      <td>Payments for electricity, water, or trash in the last 12 months</td>\n",
              "      <td>NaN</td>\n",
              "    </tr>\n",
              "    <tr>\n",
              "      <th>27</th>\n",
              "      <td>Q22</td>\n",
              "      <td>salary/wages in the last 12 months</td>\n",
              "      <td>NaN</td>\n",
              "    </tr>\n",
              "    <tr>\n",
              "      <th>28</th>\n",
              "      <td>Q23</td>\n",
              "      <td>Employed by government or public sector -12 months</td>\n",
              "      <td>NaN</td>\n",
              "    </tr>\n",
              "    <tr>\n",
              "      <th>29</th>\n",
              "      <td>Q24</td>\n",
              "      <td>Received any form of financial support from the government</td>\n",
              "      <td>NaN</td>\n",
              "    </tr>\n",
              "    <tr>\n",
              "      <th>30</th>\n",
              "      <td>Q25</td>\n",
              "      <td>Pension in the last 12 months</td>\n",
              "      <td>NaN</td>\n",
              "    </tr>\n",
              "    <tr>\n",
              "      <th>31</th>\n",
              "      <td>Q26</td>\n",
              "      <td>Received money for the sale of livestock, agricultural products, crops, produce? (12 months)</td>\n",
              "      <td>NaN</td>\n",
              "    </tr>\n",
              "    <tr>\n",
              "      <th>32</th>\n",
              "      <td>Q27</td>\n",
              "      <td>Received money from your business in last 12 months</td>\n",
              "      <td>NaN</td>\n",
              "    </tr>\n",
              "    <tr>\n",
              "      <th>33</th>\n",
              "      <td>owns_mobile</td>\n",
              "      <td>Owns a mobile phone</td>\n",
              "      <td>NaN</td>\n",
              "    </tr>\n",
              "    <tr>\n",
              "      <th>34</th>\n",
              "      <td>Q28</td>\n",
              "      <td>Has national ID card</td>\n",
              "      <td>NaN</td>\n",
              "    </tr>\n",
              "    <tr>\n",
              "      <th>35</th>\n",
              "      <td>target</td>\n",
              "      <td>target class</td>\n",
              "      <td>NaN</td>\n",
              "    </tr>\n",
              "  </tbody>\n",
              "</table>\n",
              "</div>"
            ],
            "text/plain": [
              "             ID  ... For columns(Q1 - Q28), Value 1 - Yes, 2 - No, 3-Don’t Know 4 - refused to answer\n",
              "0       country  ...                                                                              NaN\n",
              "1        region  ...                                                                              NaN\n",
              "2    population  ...                                                                              NaN\n",
              "3           age  ...                                                                              NaN\n",
              "4            Q1  ...                                                                              NaN\n",
              "5            Q2  ...                                                                              NaN\n",
              "6            Q3  ...                                                                              NaN\n",
              "7            Q4  ...                                                                              NaN\n",
              "8            Q5  ...                                                                              NaN\n",
              "9            Q6  ...                                                                              NaN\n",
              "10           Q7  ...                                                                              NaN\n",
              "11           Q8  ...                                                                              NaN\n",
              "12           Q9  ...                                                                              NaN\n",
              "13         Q10a  ...                                                                              NaN\n",
              "14         Q10b  ...                                                                              NaN\n",
              "15          Q11  ...                                                                              NaN\n",
              "16          Q12  ...                                                                              NaN\n",
              "17         Q13a  ...                                                                              NaN\n",
              "18         Q13b  ...                                                                              NaN\n",
              "19          Q14  ...                                                                              NaN\n",
              "20          Q15  ...                                                                              NaN\n",
              "21          Q16  ...                                                                              NaN\n",
              "22         Q17a  ...                                                                              NaN\n",
              "23         Q17b  ...                                                                              NaN\n",
              "24          Q19  ...                                                                              NaN\n",
              "25          Q20  ...                                                                              NaN\n",
              "26          Q21  ...                                                                              NaN\n",
              "27          Q22  ...                                                                              NaN\n",
              "28          Q23  ...                                                                              NaN\n",
              "29          Q24  ...                                                                              NaN\n",
              "30          Q25  ...                                                                              NaN\n",
              "31          Q26  ...                                                                              NaN\n",
              "32          Q27  ...                                                                              NaN\n",
              "33  owns_mobile  ...                                                                              NaN\n",
              "34          Q28  ...                                                                              NaN\n",
              "35       target  ...                                                                              NaN\n",
              "\n",
              "[36 rows x 3 columns]"
            ]
          },
          "metadata": {
            "tags": []
          },
          "execution_count": 57
        }
      ]
    },
    {
      "cell_type": "code",
      "metadata": {
        "colab": {
          "base_uri": "https://localhost:8080/"
        },
        "id": "PdVvmpG_GRxA",
        "outputId": "d8c47b1f-b5c3-47d0-b5f9-e7b79c19cae6"
      },
      "source": [
        "# Check the shape of the train and test sets\n",
        "print(f'The shape of the train set is: {train.shape}\\nThe shape of the test set is: {test.shape}')"
      ],
      "execution_count": null,
      "outputs": [
        {
          "output_type": "stream",
          "text": [
            "The shape of the train set is: (104867, 36)\n",
            "The shape of the test set is: (44943, 35)\n"
          ],
          "name": "stdout"
        }
      ]
    },
    {
      "cell_type": "markdown",
      "metadata": {
        "id": "9CO1R3hi8FJQ"
      },
      "source": [
        "### Check for missing values"
      ]
    },
    {
      "cell_type": "code",
      "metadata": {
        "colab": {
          "base_uri": "https://localhost:8080/",
          "height": 609
        },
        "id": "iWgHvxqYGRux",
        "outputId": "be523a46-97b7-4da5-fbbc-e28f6d587487"
      },
      "source": [
        "# Check if there any missing values in train set\n",
        "ax = train.isna().sum().sort_values().plot(kind = 'barh', figsize = (9, 10))\n",
        "plt.title('Percentage of Missing Values Per Column in Train Set', fontdict={'size':15})\n",
        "for p in ax.patches:\n",
        "    percentage ='{:,.0f}%'.format((p.get_width()/train.shape[0])*100)\n",
        "    width, height =p.get_width(),p.get_height()\n",
        "    x=p.get_x()+width+0.02\n",
        "    y=p.get_y()+height/2\n",
        "    ax.annotate(percentage,(x,y))"
      ],
      "execution_count": null,
      "outputs": [
        {
          "output_type": "display_data",
          "data": {
            "image/png": "[encoded data removed]",
            "text/plain": [
              "<Figure size 648x720 with 1 Axes>"
            ]
          },
          "metadata": {
            "tags": [],
            "needs_background": "light"
          }
        }
      ]
    },
    {
      "cell_type": "code",
      "metadata": {
        "colab": {
          "base_uri": "https://localhost:8080/",
          "height": 609
        },
        "id": "6A9jdEtoGRsi",
        "outputId": "76dc213a-6028-42e7-b22b-9dcb800db32f"
      },
      "source": [
        "# Check if there missing values in test set\n",
        "ax = test.isna().sum().sort_values().plot(kind = 'barh', figsize = (9, 10))\n",
        "plt.title('Percentage of Missing Values Per Column in Test Set', fontdict={'size':15})\n",
        "\n",
        "for p in ax.patches:\n",
        "    percentage ='{:,.1f}%'.format((p.get_width()/test.shape[0])*100)\n",
        "    width, height =p.get_width(),p.get_height()\n",
        "    x=p.get_x()+width+0.02\n",
        "    y=p.get_y()+height/2\n",
        "    ax.annotate(percentage,(x,y))"
      ],
      "execution_count": null,
      "outputs": [
        {
          "output_type": "display_data",
          "data": {
            "image/png": "[encoded data removed]",
            "text/plain": [
              "<Figure size 648x720 with 1 Axes>"
            ]
          },
          "metadata": {
            "tags": [],
            "needs_background": "light"
          }
        }
      ]
    },
    {
      "cell_type": "code",
      "metadata": {
        "id": "lWIpKpHGERto"
      },
      "source": [
        "#Drop some features\n",
        "train = train.drop(['Q7', 'Q23', 'Q2', 'Q3'],axis=1)\n",
        "test = test.drop(['Q7', 'Q23', 'Q2', 'Q3'],axis=1)"
      ],
      "execution_count": null,
      "outputs": []
    },
    {
      "cell_type": "code",
      "metadata": {
        "colab": {
          "base_uri": "https://localhost:8080/"
        },
        "id": "PnGVLoE2GRqL",
        "outputId": "1874ce83-e7d8-42a2-998f-8e6bf6b0163a"
      },
      "source": [
        "# Check for duplicates\n",
        "train.duplicated().any(), test.duplicated().any()"
      ],
      "execution_count": null,
      "outputs": [
        {
          "output_type": "execute_result",
          "data": {
            "text/plain": [
              "(False, False)"
            ]
          },
          "metadata": {
            "tags": []
          },
          "execution_count": 13
        }
      ]
    },
    {
      "cell_type": "code",
      "metadata": {
        "colab": {
          "base_uri": "https://localhost:8080/"
        },
        "id": "RSrFsG8DEskt",
        "outputId": "54846687-3d83-40f4-d657-b65e38d40cf5"
      },
      "source": [
        "train.shape"
      ],
      "execution_count": null,
      "outputs": [
        {
          "output_type": "execute_result",
          "data": {
            "text/plain": [
              "(104867, 32)"
            ]
          },
          "metadata": {
            "tags": []
          },
          "execution_count": 14
        }
      ]
    },
    {
      "cell_type": "markdown",
      "metadata": {
        "id": "SiZR9Zu6I5xo"
      },
      "source": [
        "## Distribution of the target variable"
      ]
    },
    {
      "cell_type": "code",
      "metadata": {
        "colab": {
          "base_uri": "https://localhost:8080/",
          "height": 404
        },
        "id": "J5xyqTXqHCYo",
        "outputId": "f4277aad-ef75-439e-9826-822dfd4bb699"
      },
      "source": [
        "plt.figure(figsize=(7, 6))\n",
        "sns.countplot(train.target)\n",
        "plt.title('Target Variable Distribution');"
      ],
      "execution_count": null,
      "outputs": [
        {
          "output_type": "display_data",
          "data": {
            "image/png": "[encoded data removed]",
            "text/plain": [
              "<Figure size 504x432 with 1 Axes>"
            ]
          },
          "metadata": {
            "tags": [],
            "needs_background": "light"
          }
        }
      ]
    },
    {
      "cell_type": "markdown",
      "metadata": {
        "id": "2r3BS3IcKP7f"
      },
      "source": [
        "This shows us that the target (Can you make a payment if you were in an emergency) is fairly balanced. The majority class in this dataset are people who can make a payment incase of an emergency"
      ]
    },
    {
      "cell_type": "code",
      "metadata": {
        "colab": {
          "base_uri": "https://localhost:8080/",
          "height": 523
        },
        "id": "izjup23WHCVr",
        "outputId": "2db5685a-d3ce-41b6-c36e-f9a051c43d6c"
      },
      "source": [
        "# Q1 - Has ATM/debit card\n",
        "plt.figure(figsize=(8, 7))\n",
        "ax =sns.countplot(train.Q1)\n",
        "ax.set_xticklabels(['Yes', 'No', 'Don\"t Know', 'Refused to answer'], rotation=45 )\n",
        "plt.title('Distribution of Q1 - Has ATM/debit card', fontdict = {'size': 15});"
      ],
      "execution_count": null,
      "outputs": [
        {
          "output_type": "display_data",
          "data": {
            "image/png": "[encoded data removed]",
            "text/plain": [
              "<Figure size 576x504 with 1 Axes>"
            ]
          },
          "metadata": {
            "tags": [],
            "needs_background": "light"
          }
        }
      ]
    },
    {
      "cell_type": "markdown",
      "metadata": {
        "id": "4WpL_l95Nlxq"
      },
      "source": [
        "This shows that most people do not own a debit or ATM card"
      ]
    },
    {
      "cell_type": "markdown",
      "metadata": {
        "id": "g9oZ14qYN1FY"
      },
      "source": [
        "## Combine train and test set for easy preprocessing "
      ]
    },
    {
      "cell_type": "code",
      "metadata": {
        "colab": {
          "base_uri": "https://localhost:8080/"
        },
        "id": "8PH2LhntHCTj",
        "outputId": "a6918953-2d94-46ad-cd25-8bf0fa87b329"
      },
      "source": [
        "# Combine train and test set\n",
        "ntrain = train.shape[0] # to be used to split train and test set from the combined dataframe\n",
        "\n",
        "all_data = pd.concat((train, test)).reset_index(drop=True)\n",
        "print(f'The shape of the combined dataframe is: {all_data.shape}')"
      ],
      "execution_count": null,
      "outputs": [
        {
          "output_type": "stream",
          "text": [
            "The shape of the combined dataframe is: (149810, 32)\n"
          ],
          "name": "stdout"
        }
      ]
    },
    {
      "cell_type": "code",
      "metadata": {
        "colab": {
          "base_uri": "https://localhost:8080/"
        },
        "id": "4chstsvnHCRS",
        "outputId": "7afa6b16-580b-44dd-be8e-05e9d996cad0"
      },
      "source": [
        "# Check the column names and datatypes\n",
        "all_data.info()"
      ],
      "execution_count": null,
      "outputs": [
        {
          "output_type": "stream",
          "text": [
            "<class 'pandas.core.frame.DataFrame'>\n",
            "RangeIndex: 149810 entries, 0 to 149809\n",
            "Data columns (total 32 columns):\n",
            " #   Column       Non-Null Count   Dtype  \n",
            "---  ------       --------------   -----  \n",
            " 0   ID           149810 non-null  object \n",
            " 1   country      149810 non-null  object \n",
            " 2   region       148830 non-null  object \n",
            " 3   population   149810 non-null  float64\n",
            " 4   age          149399 non-null  float64\n",
            " 5   Q1           149810 non-null  int64  \n",
            " 6   Q4           82004 non-null   float64\n",
            " 7   Q5           82004 non-null   float64\n",
            " 8   Q6           149810 non-null  int64  \n",
            " 9   Q8           84272 non-null   float64\n",
            " 10  Q9           84272 non-null   float64\n",
            " 11  Q10a         149810 non-null  int64  \n",
            " 12  Q10b         149810 non-null  int64  \n",
            " 13  Q11          149810 non-null  int64  \n",
            " 14  Q12          149810 non-null  int64  \n",
            " 15  Q13a         149810 non-null  int64  \n",
            " 16  Q14          149810 non-null  int64  \n",
            " 17  Q15          149810 non-null  int64  \n",
            " 18  Q16          149810 non-null  int64  \n",
            " 19  Q17a         149810 non-null  int64  \n",
            " 20  Q17b         149810 non-null  int64  \n",
            " 21  Q19          115206 non-null  float64\n",
            " 22  Q20          115206 non-null  float64\n",
            " 23  Q21          149810 non-null  int64  \n",
            " 24  Q22          149810 non-null  int64  \n",
            " 25  Q24          149810 non-null  int64  \n",
            " 26  Q25          149810 non-null  int64  \n",
            " 27  Q26          115206 non-null  float64\n",
            " 28  Q27          83535 non-null   float64\n",
            " 29  owns_mobile  149808 non-null  float64\n",
            " 30  Q28          105372 non-null  float64\n",
            " 31  target       104867 non-null  float64\n",
            "dtypes: float64(13), int64(16), object(3)\n",
            "memory usage: 36.6+ MB\n"
          ],
          "name": "stdout"
        }
      ]
    },
    {
      "cell_type": "code",
      "metadata": {
        "colab": {
          "base_uri": "https://localhost:8080/"
        },
        "id": "3AADdmJ6HCOr",
        "outputId": "b0c84368-23f1-470f-8386-1b0fb2ac6612"
      },
      "source": [
        "# Category columns\n",
        "cat_cols = ['country',\t'region', 'owns_mobile'] + [x for x in all_data.columns if x.startswith('Q')]\n",
        "num_cols = ['age', 'population']\n",
        "\n",
        "# Change columns to their respective datatypes\n",
        "all_data[cat_cols] = all_data[cat_cols].astype('category')\n",
        "\n",
        "# Confirm whether the changes have been successful\n",
        "all_data.info()"
      ],
      "execution_count": null,
      "outputs": [
        {
          "output_type": "stream",
          "text": [
            "<class 'pandas.core.frame.DataFrame'>\n",
            "RangeIndex: 149810 entries, 0 to 149809\n",
            "Data columns (total 32 columns):\n",
            " #   Column       Non-Null Count   Dtype   \n",
            "---  ------       --------------   -----   \n",
            " 0   ID           149810 non-null  object  \n",
            " 1   country      149810 non-null  category\n",
            " 2   region       148830 non-null  category\n",
            " 3   population   149810 non-null  float64 \n",
            " 4   age          149399 non-null  float64 \n",
            " 5   Q1           149810 non-null  category\n",
            " 6   Q4           82004 non-null   category\n",
            " 7   Q5           82004 non-null   category\n",
            " 8   Q6           149810 non-null  category\n",
            " 9   Q8           84272 non-null   category\n",
            " 10  Q9           84272 non-null   category\n",
            " 11  Q10a         149810 non-null  category\n",
            " 12  Q10b         149810 non-null  category\n",
            " 13  Q11          149810 non-null  category\n",
            " 14  Q12          149810 non-null  category\n",
            " 15  Q13a         149810 non-null  category\n",
            " 16  Q14          149810 non-null  category\n",
            " 17  Q15          149810 non-null  category\n",
            " 18  Q16          149810 non-null  category\n",
            " 19  Q17a         149810 non-null  category\n",
            " 20  Q17b         149810 non-null  category\n",
            " 21  Q19          115206 non-null  category\n",
            " 22  Q20          115206 non-null  category\n",
            " 23  Q21          149810 non-null  category\n",
            " 24  Q22          149810 non-null  category\n",
            " 25  Q24          149810 non-null  category\n",
            " 26  Q25          149810 non-null  category\n",
            " 27  Q26          115206 non-null  category\n",
            " 28  Q27          83535 non-null   category\n",
            " 29  owns_mobile  149808 non-null  category\n",
            " 30  Q28          105372 non-null  category\n",
            " 31  target       104867 non-null  float64 \n",
            "dtypes: category(28), float64(3), object(1)\n",
            "memory usage: 8.7+ MB\n"
          ],
          "name": "stdout"
        }
      ]
    },
    {
      "cell_type": "markdown",
      "metadata": {
        "id": "_QFo9TxSkY6w"
      },
      "source": [
        "### Number of unique values per categorical column"
      ]
    },
    {
      "cell_type": "code",
      "metadata": {
        "colab": {
          "base_uri": "https://localhost:8080/"
        },
        "id": "2gc8aFu_kcU6",
        "outputId": "271abe06-5fb3-4d7d-a6af-d48478e8b7cc"
      },
      "source": [
        "# Check unique values for each categorical column\n",
        "for col in cat_cols:\n",
        "  print(col, all_data[col].nunique())"
      ],
      "execution_count": null,
      "outputs": [
        {
          "output_type": "stream",
          "text": [
            "country 144\n",
            "region 8\n",
            "owns_mobile 4\n",
            "Q1 4\n",
            "Q4 4\n",
            "Q5 4\n",
            "Q6 4\n",
            "Q8 4\n",
            "Q9 4\n",
            "Q10a 4\n",
            "Q10b 4\n",
            "Q11 4\n",
            "Q12 4\n",
            "Q13a 4\n",
            "Q14 4\n",
            "Q15 4\n",
            "Q16 4\n",
            "Q17a 4\n",
            "Q17b 4\n",
            "Q19 4\n",
            "Q20 4\n",
            "Q21 4\n",
            "Q22 4\n",
            "Q24 4\n",
            "Q25 4\n",
            "Q26 4\n",
            "Q27 4\n",
            "Q28 4\n"
          ],
          "name": "stdout"
        }
      ]
    },
    {
      "cell_type": "markdown",
      "metadata": {
        "id": "wUA3IqW42Oeq"
      },
      "source": [
        "## Fill in missing values\n",
        "Missing values can be filled using different strategies\n",
        " - Mean\n",
        " - Max\n",
        " - Min\n",
        " - for categorical variables - mode\n",
        " - [sklearn SimpleImputer](https://scikit-learn.org/stable/modules/generated/sklearn.impute.SimpleImputer.html)\n",
        " - Others... do more reasearch"
      ]
    },
    {
      "cell_type": "code",
      "metadata": {
        "id": "fJlp0a1oySSq"
      },
      "source": [
        "\n",
        "# def to_bool(x):\n",
        "#   \"\"\"\n",
        "#   this function converts 0's and 1's to False and True respectively\n",
        "#   \"\"\"\n",
        "#   if x == 0: return False\n",
        "#   elif x == 1: return True\n",
        "#   else: return\n",
        "\n",
        "# def fillna(df):\n",
        "#     np.random.seed(1) \n",
        "#     for c in df.columns:\n",
        "#         if df[c].isna().sum():\n",
        "#             val = np.random.choice(df[c][(1-pd.isna(df[c])).apply(lambda x: to_bool(x))])\n",
        "#             df[c] = df[c].fillna(value=val)\n",
        "#     return df"
      ],
      "execution_count": null,
      "outputs": []
    },
    {
      "cell_type": "code",
      "metadata": {
        "id": "clVLOm0pySSq"
      },
      "source": [
        "# fillna(all_data)"
      ],
      "execution_count": null,
      "outputs": []
    },
    {
      "cell_type": "code",
      "metadata": {
        "colab": {
          "base_uri": "https://localhost:8080/"
        },
        "id": "tHagL0NSySSr",
        "outputId": "2a703f03-c8f4-4121-8eca-a180ed1855ea"
      },
      "source": [
        "# Confirm that there aren't any missing values\n",
        "all_data[all_data.columns.difference(['target'])].isna().sum().any()"
      ],
      "execution_count": null,
      "outputs": [
        {
          "output_type": "execute_result",
          "data": {
            "text/plain": [
              "True"
            ]
          },
          "metadata": {
            "tags": []
          },
          "execution_count": 21
        }
      ]
    },
    {
      "cell_type": "code",
      "metadata": {
        "colab": {
          "base_uri": "https://localhost:8080/"
        },
        "id": "VQ4t3UbC2Nsy",
        "outputId": "fefc4ecf-c7fc-4b0b-ee06-3947067d1ea4"
      },
      "source": [
        "def to_bool(x):\n",
        "  \"\"\"\n",
        "  this function converts 0's and 1's to False and True respectively\n",
        "  \"\"\"\n",
        "  if x == 0: return False\n",
        "  elif x == 1: return True\n",
        "  else: return\n",
        "\n",
        "# Fill in missing values\n",
        "# For cat cols and date cols fill in with mode and for num cols fill in with 9999\n",
        "for col in all_data.columns:\n",
        "  if col in cat_cols:\n",
        "    all_data[col] = all_data[col].fillna(all_data[col].mode()[0])\n",
        "  elif col in num_cols:\n",
        "    val = np.random.choice(all_data[col][(1-pd.isna(all_data[col])).apply(lambda x: to_bool(x))])\n",
        "    all_data[col] = all_data[col].fillna(all_data[col].fillna(value=val))\n",
        "\n",
        "# Confirm that there aren't any missing values\n",
        "all_data[all_data.columns.difference(['target'])].isna().sum().any()"
      ],
      "execution_count": null,
      "outputs": [
        {
          "output_type": "execute_result",
          "data": {
            "text/plain": [
              "False"
            ]
          },
          "metadata": {
            "tags": []
          },
          "execution_count": 22
        }
      ]
    },
    {
      "cell_type": "code",
      "metadata": {
        "colab": {
          "base_uri": "https://localhost:8080/",
          "height": 458
        },
        "id": "WtLphHSEySSr",
        "outputId": "87e0b5e0-2983-4347-bbb4-194851e4ddb2"
      },
      "source": [
        "all_data.head(3)"
      ],
      "execution_count": null,
      "outputs": [
        {
          "output_type": "execute_result",
          "data": {
            "text/html": [
              "<div>\n",
              "<style scoped>\n",
              "    .dataframe tbody tr th:only-of-type {\n",
              "        vertical-align: middle;\n",
              "    }\n",
              "\n",
              "    .dataframe tbody tr th {\n",
              "        vertical-align: top;\n",
              "    }\n",
              "\n",
              "    .dataframe thead th {\n",
              "        text-align: right;\n",
              "    }\n",
              "</style>\n",
              "<table border=\"1\" class=\"dataframe\">\n",
              "  <thead>\n",
              "    <tr style=\"text-align: right;\">\n",
              "      <th></th>\n",
              "      <th>ID</th>\n",
              "      <th>country</th>\n",
              "      <th>region</th>\n",
              "      <th>population</th>\n",
              "      <th>age</th>\n",
              "      <th>Q1</th>\n",
              "      <th>Q4</th>\n",
              "      <th>Q5</th>\n",
              "      <th>Q6</th>\n",
              "      <th>Q8</th>\n",
              "      <th>Q9</th>\n",
              "      <th>Q10a</th>\n",
              "      <th>Q10b</th>\n",
              "      <th>Q11</th>\n",
              "      <th>Q12</th>\n",
              "      <th>Q13a</th>\n",
              "      <th>Q14</th>\n",
              "      <th>Q15</th>\n",
              "      <th>Q16</th>\n",
              "      <th>Q17a</th>\n",
              "      <th>Q17b</th>\n",
              "      <th>Q19</th>\n",
              "      <th>Q20</th>\n",
              "      <th>Q21</th>\n",
              "      <th>Q22</th>\n",
              "      <th>Q24</th>\n",
              "      <th>Q25</th>\n",
              "      <th>Q26</th>\n",
              "      <th>Q27</th>\n",
              "      <th>owns_mobile</th>\n",
              "      <th>Q28</th>\n",
              "      <th>target</th>\n",
              "    </tr>\n",
              "  </thead>\n",
              "  <tbody>\n",
              "    <tr>\n",
              "      <th>0</th>\n",
              "      <td>ID_0000020532</td>\n",
              "      <td>Morocco</td>\n",
              "      <td>Middle East &amp; North Africa (excluding high income)</td>\n",
              "      <td>25550170.0</td>\n",
              "      <td>66.0</td>\n",
              "      <td>2</td>\n",
              "      <td>2.0</td>\n",
              "      <td>2.0</td>\n",
              "      <td>2</td>\n",
              "      <td>1.0</td>\n",
              "      <td>1.0</td>\n",
              "      <td>2</td>\n",
              "      <td>2</td>\n",
              "      <td>2</td>\n",
              "      <td>2</td>\n",
              "      <td>2</td>\n",
              "      <td>2</td>\n",
              "      <td>1</td>\n",
              "      <td>2</td>\n",
              "      <td>2</td>\n",
              "      <td>1</td>\n",
              "      <td>2.0</td>\n",
              "      <td>1.0</td>\n",
              "      <td>1</td>\n",
              "      <td>2</td>\n",
              "      <td>1</td>\n",
              "      <td>2</td>\n",
              "      <td>2.0</td>\n",
              "      <td>2.0</td>\n",
              "      <td>1.0</td>\n",
              "      <td>1.0</td>\n",
              "      <td>0.0</td>\n",
              "    </tr>\n",
              "    <tr>\n",
              "      <th>1</th>\n",
              "      <td>ID_0000075765</td>\n",
              "      <td>Lebanon</td>\n",
              "      <td>Middle East &amp; North Africa (excluding high income)</td>\n",
              "      <td>4591023.0</td>\n",
              "      <td>44.0</td>\n",
              "      <td>2</td>\n",
              "      <td>2.0</td>\n",
              "      <td>2.0</td>\n",
              "      <td>2</td>\n",
              "      <td>1.0</td>\n",
              "      <td>1.0</td>\n",
              "      <td>2</td>\n",
              "      <td>2</td>\n",
              "      <td>2</td>\n",
              "      <td>2</td>\n",
              "      <td>1</td>\n",
              "      <td>2</td>\n",
              "      <td>2</td>\n",
              "      <td>2</td>\n",
              "      <td>1</td>\n",
              "      <td>2</td>\n",
              "      <td>2.0</td>\n",
              "      <td>2.0</td>\n",
              "      <td>1</td>\n",
              "      <td>2</td>\n",
              "      <td>2</td>\n",
              "      <td>2</td>\n",
              "      <td>2.0</td>\n",
              "      <td>1.0</td>\n",
              "      <td>1.0</td>\n",
              "      <td>1.0</td>\n",
              "      <td>1.0</td>\n",
              "    </tr>\n",
              "    <tr>\n",
              "      <th>2</th>\n",
              "      <td>ID_0000085491</td>\n",
              "      <td>Morocco</td>\n",
              "      <td>Middle East &amp; North Africa (excluding high income)</td>\n",
              "      <td>25550170.0</td>\n",
              "      <td>29.0</td>\n",
              "      <td>1</td>\n",
              "      <td>2.0</td>\n",
              "      <td>2.0</td>\n",
              "      <td>2</td>\n",
              "      <td>1.0</td>\n",
              "      <td>1.0</td>\n",
              "      <td>2</td>\n",
              "      <td>2</td>\n",
              "      <td>2</td>\n",
              "      <td>2</td>\n",
              "      <td>2</td>\n",
              "      <td>2</td>\n",
              "      <td>2</td>\n",
              "      <td>2</td>\n",
              "      <td>2</td>\n",
              "      <td>2</td>\n",
              "      <td>2.0</td>\n",
              "      <td>2.0</td>\n",
              "      <td>1</td>\n",
              "      <td>1</td>\n",
              "      <td>2</td>\n",
              "      <td>2</td>\n",
              "      <td>2.0</td>\n",
              "      <td>2.0</td>\n",
              "      <td>1.0</td>\n",
              "      <td>1.0</td>\n",
              "      <td>0.0</td>\n",
              "    </tr>\n",
              "  </tbody>\n",
              "</table>\n",
              "</div>"
            ],
            "text/plain": [
              "              ID  country  ...  Q28  target\n",
              "0  ID_0000020532  Morocco  ...  1.0     0.0\n",
              "1  ID_0000075765  Lebanon  ...  1.0     1.0\n",
              "2  ID_0000085491  Morocco  ...  1.0     0.0\n",
              "\n",
              "[3 rows x 32 columns]"
            ]
          },
          "metadata": {
            "tags": []
          },
          "execution_count": 23
        }
      ]
    },
    {
      "cell_type": "markdown",
      "metadata": {
        "id": "3Hd9viOb2_c3"
      },
      "source": [
        "### Feature Engineering\n",
        "#### Try different strategies of dealing with categorical variables\n",
        " - One hot encoding\n",
        " - Label encoding\n",
        " - Target encoding\n",
        " - Reduce the number of unique values..."
      ]
    },
    {
      "cell_type": "code",
      "metadata": {
        "colab": {
          "base_uri": "https://localhost:8080/"
        },
        "id": "X2DUKqTb3UY-",
        "outputId": "7cb00c03-6da4-499b-909b-86dd8a404f0e"
      },
      "source": [
        "# Shape of data before encoding\n",
        "all_data.shape"
      ],
      "execution_count": null,
      "outputs": [
        {
          "output_type": "execute_result",
          "data": {
            "text/plain": [
              "(149810, 32)"
            ]
          },
          "metadata": {
            "tags": []
          },
          "execution_count": 24
        }
      ]
    },
    {
      "cell_type": "code",
      "metadata": {
        "colab": {
          "base_uri": "https://localhost:8080/"
        },
        "id": "z81ITQEq4ulA",
        "outputId": "16a724b9-b563-4637-9d6a-2c45779daf2f"
      },
      "source": [
        "all_data.info()"
      ],
      "execution_count": null,
      "outputs": [
        {
          "output_type": "stream",
          "text": [
            "<class 'pandas.core.frame.DataFrame'>\n",
            "RangeIndex: 149810 entries, 0 to 149809\n",
            "Data columns (total 32 columns):\n",
            " #   Column       Non-Null Count   Dtype   \n",
            "---  ------       --------------   -----   \n",
            " 0   ID           149810 non-null  object  \n",
            " 1   country      149810 non-null  category\n",
            " 2   region       149810 non-null  category\n",
            " 3   population   149810 non-null  float64 \n",
            " 4   age          149810 non-null  float64 \n",
            " 5   Q1           149810 non-null  category\n",
            " 6   Q4           149810 non-null  category\n",
            " 7   Q5           149810 non-null  category\n",
            " 8   Q6           149810 non-null  category\n",
            " 9   Q8           149810 non-null  category\n",
            " 10  Q9           149810 non-null  category\n",
            " 11  Q10a         149810 non-null  category\n",
            " 12  Q10b         149810 non-null  category\n",
            " 13  Q11          149810 non-null  category\n",
            " 14  Q12          149810 non-null  category\n",
            " 15  Q13a         149810 non-null  category\n",
            " 16  Q14          149810 non-null  category\n",
            " 17  Q15          149810 non-null  category\n",
            " 18  Q16          149810 non-null  category\n",
            " 19  Q17a         149810 non-null  category\n",
            " 20  Q17b         149810 non-null  category\n",
            " 21  Q19          149810 non-null  category\n",
            " 22  Q20          149810 non-null  category\n",
            " 23  Q21          149810 non-null  category\n",
            " 24  Q22          149810 non-null  category\n",
            " 25  Q24          149810 non-null  category\n",
            " 26  Q25          149810 non-null  category\n",
            " 27  Q26          149810 non-null  category\n",
            " 28  Q27          149810 non-null  category\n",
            " 29  owns_mobile  149810 non-null  category\n",
            " 30  Q28          149810 non-null  category\n",
            " 31  target       104867 non-null  float64 \n",
            "dtypes: category(28), float64(3), object(1)\n",
            "memory usage: 8.7+ MB\n"
          ],
          "name": "stdout"
        }
      ]
    },
    {
      "cell_type": "code",
      "metadata": {
        "id": "YADVNNEA485I"
      },
      "source": [
        "cat_cols;"
      ],
      "execution_count": null,
      "outputs": []
    },
    {
      "cell_type": "code",
      "metadata": {
        "id": "n8kZTjlfRaDH"
      },
      "source": [
        "## Standardize the age and population\n",
        "\n",
        "from sklearn.preprocessing import StandardScaler\n",
        "\n",
        "all_data['normalizedpop'] = StandardScaler().fit_transform(all_data['population'].values.reshape(-1,1))\n",
        "all_data['normalizedage'] = StandardScaler().fit_transform(all_data['age'].values.reshape(-1,1))\n",
        "all_data = all_data.drop(['population'],axis=1)\n",
        "all_data = all_data.drop(['age'],axis=1)"
      ],
      "execution_count": null,
      "outputs": []
    },
    {
      "cell_type": "code",
      "metadata": {
        "colab": {
          "base_uri": "https://localhost:8080/",
          "height": 635
        },
        "id": "_MapFgpHSUSk",
        "outputId": "70470f5e-14b6-4d66-805a-e8264874db3a"
      },
      "source": [
        "\n",
        "all_data.head()"
      ],
      "execution_count": null,
      "outputs": [
        {
          "output_type": "execute_result",
          "data": {
            "text/html": [
              "<div>\n",
              "<style scoped>\n",
              "    .dataframe tbody tr th:only-of-type {\n",
              "        vertical-align: middle;\n",
              "    }\n",
              "\n",
              "    .dataframe tbody tr th {\n",
              "        vertical-align: top;\n",
              "    }\n",
              "\n",
              "    .dataframe thead th {\n",
              "        text-align: right;\n",
              "    }\n",
              "</style>\n",
              "<table border=\"1\" class=\"dataframe\">\n",
              "  <thead>\n",
              "    <tr style=\"text-align: right;\">\n",
              "      <th></th>\n",
              "      <th>ID</th>\n",
              "      <th>country</th>\n",
              "      <th>region</th>\n",
              "      <th>Q1</th>\n",
              "      <th>Q4</th>\n",
              "      <th>Q5</th>\n",
              "      <th>Q6</th>\n",
              "      <th>Q8</th>\n",
              "      <th>Q9</th>\n",
              "      <th>Q10a</th>\n",
              "      <th>Q10b</th>\n",
              "      <th>Q11</th>\n",
              "      <th>Q12</th>\n",
              "      <th>Q13a</th>\n",
              "      <th>Q14</th>\n",
              "      <th>Q15</th>\n",
              "      <th>Q16</th>\n",
              "      <th>Q17a</th>\n",
              "      <th>Q17b</th>\n",
              "      <th>Q19</th>\n",
              "      <th>Q20</th>\n",
              "      <th>Q21</th>\n",
              "      <th>Q22</th>\n",
              "      <th>Q24</th>\n",
              "      <th>Q25</th>\n",
              "      <th>Q26</th>\n",
              "      <th>Q27</th>\n",
              "      <th>owns_mobile</th>\n",
              "      <th>Q28</th>\n",
              "      <th>target</th>\n",
              "      <th>normalizedpop</th>\n",
              "      <th>normalizedage</th>\n",
              "    </tr>\n",
              "  </thead>\n",
              "  <tbody>\n",
              "    <tr>\n",
              "      <th>0</th>\n",
              "      <td>ID_0000020532</td>\n",
              "      <td>Morocco</td>\n",
              "      <td>Middle East &amp; North Africa (excluding high income)</td>\n",
              "      <td>2</td>\n",
              "      <td>2.0</td>\n",
              "      <td>2.0</td>\n",
              "      <td>2</td>\n",
              "      <td>1.0</td>\n",
              "      <td>1.0</td>\n",
              "      <td>2</td>\n",
              "      <td>2</td>\n",
              "      <td>2</td>\n",
              "      <td>2</td>\n",
              "      <td>2</td>\n",
              "      <td>2</td>\n",
              "      <td>1</td>\n",
              "      <td>2</td>\n",
              "      <td>2</td>\n",
              "      <td>1</td>\n",
              "      <td>2.0</td>\n",
              "      <td>1.0</td>\n",
              "      <td>1</td>\n",
              "      <td>2</td>\n",
              "      <td>1</td>\n",
              "      <td>2</td>\n",
              "      <td>2.0</td>\n",
              "      <td>2.0</td>\n",
              "      <td>1.0</td>\n",
              "      <td>1.0</td>\n",
              "      <td>0.0</td>\n",
              "      <td>-0.200858</td>\n",
              "      <td>1.358146</td>\n",
              "    </tr>\n",
              "    <tr>\n",
              "      <th>1</th>\n",
              "      <td>ID_0000075765</td>\n",
              "      <td>Lebanon</td>\n",
              "      <td>Middle East &amp; North Africa (excluding high income)</td>\n",
              "      <td>2</td>\n",
              "      <td>2.0</td>\n",
              "      <td>2.0</td>\n",
              "      <td>2</td>\n",
              "      <td>1.0</td>\n",
              "      <td>1.0</td>\n",
              "      <td>2</td>\n",
              "      <td>2</td>\n",
              "      <td>2</td>\n",
              "      <td>2</td>\n",
              "      <td>1</td>\n",
              "      <td>2</td>\n",
              "      <td>2</td>\n",
              "      <td>2</td>\n",
              "      <td>1</td>\n",
              "      <td>2</td>\n",
              "      <td>2.0</td>\n",
              "      <td>2.0</td>\n",
              "      <td>1</td>\n",
              "      <td>2</td>\n",
              "      <td>2</td>\n",
              "      <td>2</td>\n",
              "      <td>2.0</td>\n",
              "      <td>1.0</td>\n",
              "      <td>1.0</td>\n",
              "      <td>1.0</td>\n",
              "      <td>1.0</td>\n",
              "      <td>-0.300261</td>\n",
              "      <td>0.126458</td>\n",
              "    </tr>\n",
              "    <tr>\n",
              "      <th>2</th>\n",
              "      <td>ID_0000085491</td>\n",
              "      <td>Morocco</td>\n",
              "      <td>Middle East &amp; North Africa (excluding high income)</td>\n",
              "      <td>1</td>\n",
              "      <td>2.0</td>\n",
              "      <td>2.0</td>\n",
              "      <td>2</td>\n",
              "      <td>1.0</td>\n",
              "      <td>1.0</td>\n",
              "      <td>2</td>\n",
              "      <td>2</td>\n",
              "      <td>2</td>\n",
              "      <td>2</td>\n",
              "      <td>2</td>\n",
              "      <td>2</td>\n",
              "      <td>2</td>\n",
              "      <td>2</td>\n",
              "      <td>2</td>\n",
              "      <td>2</td>\n",
              "      <td>2.0</td>\n",
              "      <td>2.0</td>\n",
              "      <td>1</td>\n",
              "      <td>1</td>\n",
              "      <td>2</td>\n",
              "      <td>2</td>\n",
              "      <td>2.0</td>\n",
              "      <td>2.0</td>\n",
              "      <td>1.0</td>\n",
              "      <td>1.0</td>\n",
              "      <td>0.0</td>\n",
              "      <td>-0.200858</td>\n",
              "      <td>-0.713329</td>\n",
              "    </tr>\n",
              "    <tr>\n",
              "      <th>3</th>\n",
              "      <td>ID_0000144505</td>\n",
              "      <td>Canada</td>\n",
              "      <td>High income: OECD</td>\n",
              "      <td>1</td>\n",
              "      <td>1.0</td>\n",
              "      <td>1.0</td>\n",
              "      <td>2</td>\n",
              "      <td>1.0</td>\n",
              "      <td>1.0</td>\n",
              "      <td>1</td>\n",
              "      <td>1</td>\n",
              "      <td>2</td>\n",
              "      <td>1</td>\n",
              "      <td>1</td>\n",
              "      <td>2</td>\n",
              "      <td>2</td>\n",
              "      <td>2</td>\n",
              "      <td>1</td>\n",
              "      <td>2</td>\n",
              "      <td>2.0</td>\n",
              "      <td>2.0</td>\n",
              "      <td>1</td>\n",
              "      <td>1</td>\n",
              "      <td>1</td>\n",
              "      <td>2</td>\n",
              "      <td>2.0</td>\n",
              "      <td>2.0</td>\n",
              "      <td>1.0</td>\n",
              "      <td>1.0</td>\n",
              "      <td>1.0</td>\n",
              "      <td>-0.177424</td>\n",
              "      <td>0.126458</td>\n",
              "    </tr>\n",
              "    <tr>\n",
              "      <th>4</th>\n",
              "      <td>ID_0000214184</td>\n",
              "      <td>Mexico</td>\n",
              "      <td>Latin America &amp; Caribbean (excluding high income)</td>\n",
              "      <td>2</td>\n",
              "      <td>2.0</td>\n",
              "      <td>2.0</td>\n",
              "      <td>2</td>\n",
              "      <td>1.0</td>\n",
              "      <td>1.0</td>\n",
              "      <td>1</td>\n",
              "      <td>2</td>\n",
              "      <td>2</td>\n",
              "      <td>2</td>\n",
              "      <td>2</td>\n",
              "      <td>2</td>\n",
              "      <td>2</td>\n",
              "      <td>2</td>\n",
              "      <td>2</td>\n",
              "      <td>2</td>\n",
              "      <td>2.0</td>\n",
              "      <td>2.0</td>\n",
              "      <td>1</td>\n",
              "      <td>2</td>\n",
              "      <td>1</td>\n",
              "      <td>2</td>\n",
              "      <td>2.0</td>\n",
              "      <td>2.0</td>\n",
              "      <td>1.0</td>\n",
              "      <td>1.0</td>\n",
              "      <td>1.0</td>\n",
              "      <td>0.119050</td>\n",
              "      <td>-0.321429</td>\n",
              "    </tr>\n",
              "  </tbody>\n",
              "</table>\n",
              "</div>"
            ],
            "text/plain": [
              "              ID  country  ... normalizedpop normalizedage\n",
              "0  ID_0000020532  Morocco  ...     -0.200858      1.358146\n",
              "1  ID_0000075765  Lebanon  ...     -0.300261      0.126458\n",
              "2  ID_0000085491  Morocco  ...     -0.200858     -0.713329\n",
              "3  ID_0000144505   Canada  ...     -0.177424      0.126458\n",
              "4  ID_0000214184   Mexico  ...      0.119050     -0.321429\n",
              "\n",
              "[5 rows x 32 columns]"
            ]
          },
          "metadata": {
            "tags": []
          },
          "execution_count": 28
        }
      ]
    },
    {
      "cell_type": "code",
      "metadata": {
        "colab": {
          "base_uri": "https://localhost:8080/",
          "height": 278
        },
        "id": "vQtjAQw92Np4",
        "outputId": "7d1b6740-7096-4812-a69c-666c2aa9382e"
      },
      "source": [
        "# Use one hot encoding to turn categorical features to numerical features\n",
        "# Encode categorical features\n",
        "all_data = pd.get_dummies(data = all_data, columns = cat_cols)\n",
        "all_data.head()"
      ],
      "execution_count": null,
      "outputs": [
        {
          "output_type": "execute_result",
          "data": {
            "text/html": [
              "<div>\n",
              "<style scoped>\n",
              "    .dataframe tbody tr th:only-of-type {\n",
              "        vertical-align: middle;\n",
              "    }\n",
              "\n",
              "    .dataframe tbody tr th {\n",
              "        vertical-align: top;\n",
              "    }\n",
              "\n",
              "    .dataframe thead th {\n",
              "        text-align: right;\n",
              "    }\n",
              "</style>\n",
              "<table border=\"1\" class=\"dataframe\">\n",
              "  <thead>\n",
              "    <tr style=\"text-align: right;\">\n",
              "      <th></th>\n",
              "      <th>ID</th>\n",
              "      <th>target</th>\n",
              "      <th>normalizedpop</th>\n",
              "      <th>normalizedage</th>\n",
              "      <th>country_Afghanistan</th>\n",
              "      <th>country_Albania</th>\n",
              "      <th>country_Algeria</th>\n",
              "      <th>country_Argentina</th>\n",
              "      <th>country_Armenia</th>\n",
              "      <th>country_Australia</th>\n",
              "      <th>country_Austria</th>\n",
              "      <th>country_Azerbaijan</th>\n",
              "      <th>country_Bahrain</th>\n",
              "      <th>country_Bangladesh</th>\n",
              "      <th>country_Belarus</th>\n",
              "      <th>country_Belgium</th>\n",
              "      <th>country_Benin</th>\n",
              "      <th>country_Bolivia</th>\n",
              "      <th>country_Bosnia and Herzegovina</th>\n",
              "      <th>country_Botswana</th>\n",
              "      <th>country_Brazil</th>\n",
              "      <th>country_Bulgaria</th>\n",
              "      <th>country_Burkina Faso</th>\n",
              "      <th>country_Cambodia</th>\n",
              "      <th>country_Cameroon</th>\n",
              "      <th>country_Canada</th>\n",
              "      <th>country_Central African Republic</th>\n",
              "      <th>country_Chad</th>\n",
              "      <th>country_Chile</th>\n",
              "      <th>country_China</th>\n",
              "      <th>country_Colombia</th>\n",
              "      <th>country_Congo, Dem. Rep.</th>\n",
              "      <th>country_Congo, Rep.</th>\n",
              "      <th>country_Costa Rica</th>\n",
              "      <th>country_Cote d'Ivoire</th>\n",
              "      <th>country_Croatia</th>\n",
              "      <th>country_Cyprus</th>\n",
              "      <th>country_Czech Republic</th>\n",
              "      <th>country_Denmark</th>\n",
              "      <th>country_Dominican Republic</th>\n",
              "      <th>...</th>\n",
              "      <th>Q17b_1</th>\n",
              "      <th>Q17b_2</th>\n",
              "      <th>Q17b_3</th>\n",
              "      <th>Q17b_4</th>\n",
              "      <th>Q19_1.0</th>\n",
              "      <th>Q19_2.0</th>\n",
              "      <th>Q19_3.0</th>\n",
              "      <th>Q19_4.0</th>\n",
              "      <th>Q20_1.0</th>\n",
              "      <th>Q20_2.0</th>\n",
              "      <th>Q20_3.0</th>\n",
              "      <th>Q20_4.0</th>\n",
              "      <th>Q21_1</th>\n",
              "      <th>Q21_2</th>\n",
              "      <th>Q21_3</th>\n",
              "      <th>Q21_4</th>\n",
              "      <th>Q22_1</th>\n",
              "      <th>Q22_2</th>\n",
              "      <th>Q22_3</th>\n",
              "      <th>Q22_4</th>\n",
              "      <th>Q24_1</th>\n",
              "      <th>Q24_2</th>\n",
              "      <th>Q24_3</th>\n",
              "      <th>Q24_4</th>\n",
              "      <th>Q25_1</th>\n",
              "      <th>Q25_2</th>\n",
              "      <th>Q25_3</th>\n",
              "      <th>Q25_4</th>\n",
              "      <th>Q26_1.0</th>\n",
              "      <th>Q26_2.0</th>\n",
              "      <th>Q26_3.0</th>\n",
              "      <th>Q26_4.0</th>\n",
              "      <th>Q27_1.0</th>\n",
              "      <th>Q27_2.0</th>\n",
              "      <th>Q27_3.0</th>\n",
              "      <th>Q27_4.0</th>\n",
              "      <th>Q28_1.0</th>\n",
              "      <th>Q28_2.0</th>\n",
              "      <th>Q28_3.0</th>\n",
              "      <th>Q28_4.0</th>\n",
              "    </tr>\n",
              "  </thead>\n",
              "  <tbody>\n",
              "    <tr>\n",
              "      <th>0</th>\n",
              "      <td>ID_0000020532</td>\n",
              "      <td>0.0</td>\n",
              "      <td>-0.200858</td>\n",
              "      <td>1.358146</td>\n",
              "      <td>0</td>\n",
              "      <td>0</td>\n",
              "      <td>0</td>\n",
              "      <td>0</td>\n",
              "      <td>0</td>\n",
              "      <td>0</td>\n",
              "      <td>0</td>\n",
              "      <td>0</td>\n",
              "      <td>0</td>\n",
              "      <td>0</td>\n",
              "      <td>0</td>\n",
              "      <td>0</td>\n",
              "      <td>0</td>\n",
              "      <td>0</td>\n",
              "      <td>0</td>\n",
              "      <td>0</td>\n",
              "      <td>0</td>\n",
              "      <td>0</td>\n",
              "      <td>0</td>\n",
              "      <td>0</td>\n",
              "      <td>0</td>\n",
              "      <td>0</td>\n",
              "      <td>0</td>\n",
              "      <td>0</td>\n",
              "      <td>0</td>\n",
              "      <td>0</td>\n",
              "      <td>0</td>\n",
              "      <td>0</td>\n",
              "      <td>0</td>\n",
              "      <td>0</td>\n",
              "      <td>0</td>\n",
              "      <td>0</td>\n",
              "      <td>0</td>\n",
              "      <td>0</td>\n",
              "      <td>0</td>\n",
              "      <td>0</td>\n",
              "      <td>...</td>\n",
              "      <td>1</td>\n",
              "      <td>0</td>\n",
              "      <td>0</td>\n",
              "      <td>0</td>\n",
              "      <td>0</td>\n",
              "      <td>1</td>\n",
              "      <td>0</td>\n",
              "      <td>0</td>\n",
              "      <td>1</td>\n",
              "      <td>0</td>\n",
              "      <td>0</td>\n",
              "      <td>0</td>\n",
              "      <td>1</td>\n",
              "      <td>0</td>\n",
              "      <td>0</td>\n",
              "      <td>0</td>\n",
              "      <td>0</td>\n",
              "      <td>1</td>\n",
              "      <td>0</td>\n",
              "      <td>0</td>\n",
              "      <td>1</td>\n",
              "      <td>0</td>\n",
              "      <td>0</td>\n",
              "      <td>0</td>\n",
              "      <td>0</td>\n",
              "      <td>1</td>\n",
              "      <td>0</td>\n",
              "      <td>0</td>\n",
              "      <td>0</td>\n",
              "      <td>1</td>\n",
              "      <td>0</td>\n",
              "      <td>0</td>\n",
              "      <td>0</td>\n",
              "      <td>1</td>\n",
              "      <td>0</td>\n",
              "      <td>0</td>\n",
              "      <td>1</td>\n",
              "      <td>0</td>\n",
              "      <td>0</td>\n",
              "      <td>0</td>\n",
              "    </tr>\n",
              "    <tr>\n",
              "      <th>1</th>\n",
              "      <td>ID_0000075765</td>\n",
              "      <td>1.0</td>\n",
              "      <td>-0.300261</td>\n",
              "      <td>0.126458</td>\n",
              "      <td>0</td>\n",
              "      <td>0</td>\n",
              "      <td>0</td>\n",
              "      <td>0</td>\n",
              "      <td>0</td>\n",
              "      <td>0</td>\n",
              "      <td>0</td>\n",
              "      <td>0</td>\n",
              "      <td>0</td>\n",
              "      <td>0</td>\n",
              "      <td>0</td>\n",
              "      <td>0</td>\n",
              "      <td>0</td>\n",
              "      <td>0</td>\n",
              "      <td>0</td>\n",
              "      <td>0</td>\n",
              "      <td>0</td>\n",
              "      <td>0</td>\n",
              "      <td>0</td>\n",
              "      <td>0</td>\n",
              "      <td>0</td>\n",
              "      <td>0</td>\n",
              "      <td>0</td>\n",
              "      <td>0</td>\n",
              "      <td>0</td>\n",
              "      <td>0</td>\n",
              "      <td>0</td>\n",
              "      <td>0</td>\n",
              "      <td>0</td>\n",
              "      <td>0</td>\n",
              "      <td>0</td>\n",
              "      <td>0</td>\n",
              "      <td>0</td>\n",
              "      <td>0</td>\n",
              "      <td>0</td>\n",
              "      <td>0</td>\n",
              "      <td>...</td>\n",
              "      <td>0</td>\n",
              "      <td>1</td>\n",
              "      <td>0</td>\n",
              "      <td>0</td>\n",
              "      <td>0</td>\n",
              "      <td>1</td>\n",
              "      <td>0</td>\n",
              "      <td>0</td>\n",
              "      <td>0</td>\n",
              "      <td>1</td>\n",
              "      <td>0</td>\n",
              "      <td>0</td>\n",
              "      <td>1</td>\n",
              "      <td>0</td>\n",
              "      <td>0</td>\n",
              "      <td>0</td>\n",
              "      <td>0</td>\n",
              "      <td>1</td>\n",
              "      <td>0</td>\n",
              "      <td>0</td>\n",
              "      <td>0</td>\n",
              "      <td>1</td>\n",
              "      <td>0</td>\n",
              "      <td>0</td>\n",
              "      <td>0</td>\n",
              "      <td>1</td>\n",
              "      <td>0</td>\n",
              "      <td>0</td>\n",
              "      <td>0</td>\n",
              "      <td>1</td>\n",
              "      <td>0</td>\n",
              "      <td>0</td>\n",
              "      <td>1</td>\n",
              "      <td>0</td>\n",
              "      <td>0</td>\n",
              "      <td>0</td>\n",
              "      <td>1</td>\n",
              "      <td>0</td>\n",
              "      <td>0</td>\n",
              "      <td>0</td>\n",
              "    </tr>\n",
              "    <tr>\n",
              "      <th>2</th>\n",
              "      <td>ID_0000085491</td>\n",
              "      <td>0.0</td>\n",
              "      <td>-0.200858</td>\n",
              "      <td>-0.713329</td>\n",
              "      <td>0</td>\n",
              "      <td>0</td>\n",
              "      <td>0</td>\n",
              "      <td>0</td>\n",
              "      <td>0</td>\n",
              "      <td>0</td>\n",
              "      <td>0</td>\n",
              "      <td>0</td>\n",
              "      <td>0</td>\n",
              "      <td>0</td>\n",
              "      <td>0</td>\n",
              "      <td>0</td>\n",
              "      <td>0</td>\n",
              "      <td>0</td>\n",
              "      <td>0</td>\n",
              "      <td>0</td>\n",
              "      <td>0</td>\n",
              "      <td>0</td>\n",
              "      <td>0</td>\n",
              "      <td>0</td>\n",
              "      <td>0</td>\n",
              "      <td>0</td>\n",
              "      <td>0</td>\n",
              "      <td>0</td>\n",
              "      <td>0</td>\n",
              "      <td>0</td>\n",
              "      <td>0</td>\n",
              "      <td>0</td>\n",
              "      <td>0</td>\n",
              "      <td>0</td>\n",
              "      <td>0</td>\n",
              "      <td>0</td>\n",
              "      <td>0</td>\n",
              "      <td>0</td>\n",
              "      <td>0</td>\n",
              "      <td>0</td>\n",
              "      <td>...</td>\n",
              "      <td>0</td>\n",
              "      <td>1</td>\n",
              "      <td>0</td>\n",
              "      <td>0</td>\n",
              "      <td>0</td>\n",
              "      <td>1</td>\n",
              "      <td>0</td>\n",
              "      <td>0</td>\n",
              "      <td>0</td>\n",
              "      <td>1</td>\n",
              "      <td>0</td>\n",
              "      <td>0</td>\n",
              "      <td>1</td>\n",
              "      <td>0</td>\n",
              "      <td>0</td>\n",
              "      <td>0</td>\n",
              "      <td>1</td>\n",
              "      <td>0</td>\n",
              "      <td>0</td>\n",
              "      <td>0</td>\n",
              "      <td>0</td>\n",
              "      <td>1</td>\n",
              "      <td>0</td>\n",
              "      <td>0</td>\n",
              "      <td>0</td>\n",
              "      <td>1</td>\n",
              "      <td>0</td>\n",
              "      <td>0</td>\n",
              "      <td>0</td>\n",
              "      <td>1</td>\n",
              "      <td>0</td>\n",
              "      <td>0</td>\n",
              "      <td>0</td>\n",
              "      <td>1</td>\n",
              "      <td>0</td>\n",
              "      <td>0</td>\n",
              "      <td>1</td>\n",
              "      <td>0</td>\n",
              "      <td>0</td>\n",
              "      <td>0</td>\n",
              "    </tr>\n",
              "    <tr>\n",
              "      <th>3</th>\n",
              "      <td>ID_0000144505</td>\n",
              "      <td>1.0</td>\n",
              "      <td>-0.177424</td>\n",
              "      <td>0.126458</td>\n",
              "      <td>0</td>\n",
              "      <td>0</td>\n",
              "      <td>0</td>\n",
              "      <td>0</td>\n",
              "      <td>0</td>\n",
              "      <td>0</td>\n",
              "      <td>0</td>\n",
              "      <td>0</td>\n",
              "      <td>0</td>\n",
              "      <td>0</td>\n",
              "      <td>0</td>\n",
              "      <td>0</td>\n",
              "      <td>0</td>\n",
              "      <td>0</td>\n",
              "      <td>0</td>\n",
              "      <td>0</td>\n",
              "      <td>0</td>\n",
              "      <td>0</td>\n",
              "      <td>0</td>\n",
              "      <td>0</td>\n",
              "      <td>0</td>\n",
              "      <td>1</td>\n",
              "      <td>0</td>\n",
              "      <td>0</td>\n",
              "      <td>0</td>\n",
              "      <td>0</td>\n",
              "      <td>0</td>\n",
              "      <td>0</td>\n",
              "      <td>0</td>\n",
              "      <td>0</td>\n",
              "      <td>0</td>\n",
              "      <td>0</td>\n",
              "      <td>0</td>\n",
              "      <td>0</td>\n",
              "      <td>0</td>\n",
              "      <td>0</td>\n",
              "      <td>...</td>\n",
              "      <td>0</td>\n",
              "      <td>1</td>\n",
              "      <td>0</td>\n",
              "      <td>0</td>\n",
              "      <td>0</td>\n",
              "      <td>1</td>\n",
              "      <td>0</td>\n",
              "      <td>0</td>\n",
              "      <td>0</td>\n",
              "      <td>1</td>\n",
              "      <td>0</td>\n",
              "      <td>0</td>\n",
              "      <td>1</td>\n",
              "      <td>0</td>\n",
              "      <td>0</td>\n",
              "      <td>0</td>\n",
              "      <td>1</td>\n",
              "      <td>0</td>\n",
              "      <td>0</td>\n",
              "      <td>0</td>\n",
              "      <td>1</td>\n",
              "      <td>0</td>\n",
              "      <td>0</td>\n",
              "      <td>0</td>\n",
              "      <td>0</td>\n",
              "      <td>1</td>\n",
              "      <td>0</td>\n",
              "      <td>0</td>\n",
              "      <td>0</td>\n",
              "      <td>1</td>\n",
              "      <td>0</td>\n",
              "      <td>0</td>\n",
              "      <td>0</td>\n",
              "      <td>1</td>\n",
              "      <td>0</td>\n",
              "      <td>0</td>\n",
              "      <td>1</td>\n",
              "      <td>0</td>\n",
              "      <td>0</td>\n",
              "      <td>0</td>\n",
              "    </tr>\n",
              "    <tr>\n",
              "      <th>4</th>\n",
              "      <td>ID_0000214184</td>\n",
              "      <td>1.0</td>\n",
              "      <td>0.119050</td>\n",
              "      <td>-0.321429</td>\n",
              "      <td>0</td>\n",
              "      <td>0</td>\n",
              "      <td>0</td>\n",
              "      <td>0</td>\n",
              "      <td>0</td>\n",
              "      <td>0</td>\n",
              "      <td>0</td>\n",
              "      <td>0</td>\n",
              "      <td>0</td>\n",
              "      <td>0</td>\n",
              "      <td>0</td>\n",
              "      <td>0</td>\n",
              "      <td>0</td>\n",
              "      <td>0</td>\n",
              "      <td>0</td>\n",
              "      <td>0</td>\n",
              "      <td>0</td>\n",
              "      <td>0</td>\n",
              "      <td>0</td>\n",
              "      <td>0</td>\n",
              "      <td>0</td>\n",
              "      <td>0</td>\n",
              "      <td>0</td>\n",
              "      <td>0</td>\n",
              "      <td>0</td>\n",
              "      <td>0</td>\n",
              "      <td>0</td>\n",
              "      <td>0</td>\n",
              "      <td>0</td>\n",
              "      <td>0</td>\n",
              "      <td>0</td>\n",
              "      <td>0</td>\n",
              "      <td>0</td>\n",
              "      <td>0</td>\n",
              "      <td>0</td>\n",
              "      <td>0</td>\n",
              "      <td>...</td>\n",
              "      <td>0</td>\n",
              "      <td>1</td>\n",
              "      <td>0</td>\n",
              "      <td>0</td>\n",
              "      <td>0</td>\n",
              "      <td>1</td>\n",
              "      <td>0</td>\n",
              "      <td>0</td>\n",
              "      <td>0</td>\n",
              "      <td>1</td>\n",
              "      <td>0</td>\n",
              "      <td>0</td>\n",
              "      <td>1</td>\n",
              "      <td>0</td>\n",
              "      <td>0</td>\n",
              "      <td>0</td>\n",
              "      <td>0</td>\n",
              "      <td>1</td>\n",
              "      <td>0</td>\n",
              "      <td>0</td>\n",
              "      <td>1</td>\n",
              "      <td>0</td>\n",
              "      <td>0</td>\n",
              "      <td>0</td>\n",
              "      <td>0</td>\n",
              "      <td>1</td>\n",
              "      <td>0</td>\n",
              "      <td>0</td>\n",
              "      <td>0</td>\n",
              "      <td>1</td>\n",
              "      <td>0</td>\n",
              "      <td>0</td>\n",
              "      <td>0</td>\n",
              "      <td>1</td>\n",
              "      <td>0</td>\n",
              "      <td>0</td>\n",
              "      <td>1</td>\n",
              "      <td>0</td>\n",
              "      <td>0</td>\n",
              "      <td>0</td>\n",
              "    </tr>\n",
              "  </tbody>\n",
              "</table>\n",
              "<p>5 rows × 260 columns</p>\n",
              "</div>"
            ],
            "text/plain": [
              "              ID  target  normalizedpop  ...  Q28_2.0  Q28_3.0  Q28_4.0\n",
              "0  ID_0000020532     0.0      -0.200858  ...        0        0        0\n",
              "1  ID_0000075765     1.0      -0.300261  ...        0        0        0\n",
              "2  ID_0000085491     0.0      -0.200858  ...        0        0        0\n",
              "3  ID_0000144505     1.0      -0.177424  ...        0        0        0\n",
              "4  ID_0000214184     1.0       0.119050  ...        0        0        0\n",
              "\n",
              "[5 rows x 260 columns]"
            ]
          },
          "metadata": {
            "tags": []
          },
          "execution_count": 29
        }
      ]
    },
    {
      "cell_type": "code",
      "metadata": {
        "colab": {
          "base_uri": "https://localhost:8080/"
        },
        "id": "xijxGVyB3Z3K",
        "outputId": "23cb6d1f-7515-4aaf-beb6-5c793165e422"
      },
      "source": [
        "# Shape of data after encoding\n",
        "all_data.shape"
      ],
      "execution_count": null,
      "outputs": [
        {
          "output_type": "execute_result",
          "data": {
            "text/plain": [
              "(149810, 260)"
            ]
          },
          "metadata": {
            "tags": []
          },
          "execution_count": 30
        }
      ]
    },
    {
      "cell_type": "code",
      "metadata": {
        "colab": {
          "base_uri": "https://localhost:8080/"
        },
        "id": "43_1-VjzBVLo",
        "outputId": "e7e90223-eb9e-4386-c9c6-f9a0c04986c1"
      },
      "source": [
        "print(all_data['target'].value_counts())"
      ],
      "execution_count": null,
      "outputs": [
        {
          "output_type": "stream",
          "text": [
            "1.0    61011\n",
            "0.0    43856\n",
            "Name: target, dtype: int64\n"
          ],
          "name": "stdout"
        }
      ]
    },
    {
      "cell_type": "code",
      "metadata": {
        "id": "9M295atiBgDg"
      },
      "source": [
        "import copy\n",
        "from sklearn.utils import resample\n",
        "\n",
        "def upsampling(data, target_col_name):\n",
        "    np.random.seed(10)\n",
        "    data_copy = copy.deepcopy(data)\n",
        "    \n",
        "    classes_up = np.unique(data_copy[target_col_name].values)\n",
        "\n",
        "    \n",
        "    majority = np.argmax([np.sum(data_copy[target_col_name]==classes_up[0]), np.sum(data_copy[target_col_name]==classes_up[-1])])\n",
        "    minority = np.argmin([np.sum(data_copy[target_col_name]==classes_up[0]), np.sum(data_copy[target_col_name]==classes_up[-1])])\n",
        "    \n",
        "    #print(minority)\n",
        "\n",
        "\n",
        "    data_majority = data_copy[data_copy[target_col_name]==majority]\n",
        "    data_minority = data_copy[data_copy[target_col_name]==minority]\n",
        "    \n",
        "    # Upsample minority class\n",
        "    data_minority_upsampled = resample(data_minority, \n",
        "                                 replace=True,     # sample with replacement\n",
        "                                 n_samples=np.sum( data_copy[target_col_name]==majority),    # to match majority class\n",
        "                                 random_state=123) # reproducible results\n",
        "#     print(len(data_minority_upsampled))\n",
        "    \n",
        "    # Combine majority class with upsampled minority class\n",
        "\n",
        "    new_data_upsampled = pd.concat([data_majority, data_minority_upsampled])\n",
        "    rand = list(range(new_data_upsampled.shape[0]))    # indexing both ones and zeros(concatenated dataset)\n",
        "    np.random.shuffle(rand)  #shuffle the indexes\n",
        "    new_data_upsampled = new_data_upsampled.iloc[rand] #Re-index the data\n",
        "    \n",
        "    return new_data_upsampled"
      ],
      "execution_count": null,
      "outputs": []
    },
    {
      "cell_type": "code",
      "metadata": {
        "id": "LiFVi-9XBoOK"
      },
      "source": [],
      "execution_count": null,
      "outputs": []
    },
    {
      "cell_type": "code",
      "metadata": {
        "colab": {
          "base_uri": "https://localhost:8080/"
        },
        "id": "xXRt7bHS3fhH",
        "outputId": "16c552bf-bde7-475d-ec67-7596b7e6a0d6"
      },
      "source": [
        "# Separate train and test data from the combined dataframe\n",
        "train_df = all_data[:ntrain]\n",
        "test_df = all_data[ntrain:]\n",
        "\n",
        "# Check the shapes of the split dataset\n",
        "train_df.shape, test_df.shape"
      ],
      "execution_count": null,
      "outputs": [
        {
          "output_type": "execute_result",
          "data": {
            "text/plain": [
              "((104867, 260), (44943, 260))"
            ]
          },
          "metadata": {
            "tags": []
          },
          "execution_count": 33
        }
      ]
    },
    {
      "cell_type": "code",
      "metadata": {
        "colab": {
          "base_uri": "https://localhost:8080/"
        },
        "id": "kB5KCMopIw-0",
        "outputId": "0680037d-6d6a-4ce3-fb62-9d38d3e7ec16"
      },
      "source": [
        "print(train_df['target'].value_counts())"
      ],
      "execution_count": null,
      "outputs": [
        {
          "output_type": "stream",
          "text": [
            "1.0    61011\n",
            "0.0    43856\n",
            "Name: target, dtype: int64\n"
          ],
          "name": "stdout"
        }
      ]
    },
    {
      "cell_type": "code",
      "metadata": {
        "colab": {
          "base_uri": "https://localhost:8080/"
        },
        "id": "ki4qrCIMI9E2",
        "outputId": "727818f4-ebdb-4af3-a8c8-809bd295f900"
      },
      "source": [
        "print(test_df['target'].value_counts())\n",
        "#test_df['target']"
      ],
      "execution_count": null,
      "outputs": [
        {
          "output_type": "stream",
          "text": [
            "Series([], Name: target, dtype: int64)\n"
          ],
          "name": "stdout"
        }
      ]
    },
    {
      "cell_type": "code",
      "metadata": {
        "colab": {
          "base_uri": "https://localhost:8080/"
        },
        "id": "8DQk5LTWIjsI",
        "outputId": "80965887-2fd8-4ef0-988b-474ca514ac20"
      },
      "source": [
        "train_up = upsampling(train_df, 'target')\n",
        "print(train_up.shape)\n",
        "print(train_up['target'].value_counts())"
      ],
      "execution_count": null,
      "outputs": [
        {
          "output_type": "stream",
          "text": [
            "(122022, 260)\n",
            "0.0    61011\n",
            "1.0    61011\n",
            "Name: target, dtype: int64\n"
          ],
          "name": "stdout"
        }
      ]
    },
    {
      "cell_type": "markdown",
      "metadata": {
        "id": "eDBSVM-S4E-h"
      },
      "source": [
        "### Training and making predictions\n",
        "\n",
        "- Is lgbm the best model for this challenge?\n",
        "- Parameter tuning\n",
        "  - Grid search, random search, perhaps bayesian search works better..."
      ]
    },
    {
      "cell_type": "code",
      "metadata": {
        "id": "QMGcTu6s5nkO"
      },
      "source": [
        "import xgboost as xgb\n",
        "from xgboost.sklearn import XGBClassifier"
      ],
      "execution_count": null,
      "outputs": []
    },
    {
      "cell_type": "code",
      "metadata": {
        "id": "MbrPQ0I95xmR"
      },
      "source": [
        "# Select main columns to be used in training\n",
        "main_cols = all_data.columns.difference(['ID', 'target'])\n",
        "X = train_up[main_cols]\n",
        "y = train_up.target.astype(int)\n",
        "\n",
        "# Split data into train and test sets\n",
        "X_train, X_test, y_train, y_test = train_test_split(X,y,test_size=0.2, random_state=42)\n"
      ],
      "execution_count": null,
      "outputs": []
    },
    {
      "cell_type": "code",
      "metadata": {
        "id": "48kp3gt0AYGl"
      },
      "source": [],
      "execution_count": null,
      "outputs": []
    },
    {
      "cell_type": "code",
      "metadata": {
        "colab": {
          "base_uri": "https://localhost:8080/"
        },
        "id": "MhMY_QmnySSu",
        "outputId": "bef24223-4139-48a4-8a0c-f21c00e30ea7"
      },
      "source": [
        "##grid search\n",
        "from sklearn.model_selection import GridSearchCV\n",
        "\n",
        "estimator = XGBClassifier(\n",
        "    objective= 'binary:logistic',\n",
        "    nthread=4,\n",
        "    seed=42)\n",
        "\n",
        "\n",
        "parameters = {\n",
        "    'max_depth': range (8, 10, 2),\n",
        "    'n_estimators': range(900, 1000, 100),\n",
        "    'learning_rate': [0.1, 0.05]}\n",
        "\n",
        "grid_search = GridSearchCV(\n",
        "    estimator=estimator,\n",
        "    param_grid=parameters,\n",
        "    scoring = 'roc_auc',\n",
        "    n_jobs = -1,\n",
        "    cv = 3,\n",
        "    verbose=True)\n",
        "grid_search.fit(X_train, y_train)\n",
        "print(grid_search.best_estimator_)"
      ],
      "execution_count": null,
      "outputs": [
        {
          "output_type": "stream",
          "text": [
            "Fitting 3 folds for each of 2 candidates, totalling 6 fits\n"
          ],
          "name": "stdout"
        },
        {
          "output_type": "stream",
          "text": [
            "[Parallel(n_jobs=-1)]: Using backend LokyBackend with 2 concurrent workers.\n",
            "[Parallel(n_jobs=-1)]: Done   6 out of   6 | elapsed: 50.8min finished\n"
          ],
          "name": "stderr"
        }
      ]
    },
    {
      "cell_type": "code",
      "metadata": {
        "id": "FAxJUNVA5wX6"
      },
      "source": [],
      "execution_count": null,
      "outputs": []
    },
    {
      "cell_type": "code",
      "metadata": {
        "colab": {
          "base_uri": "https://localhost:8080/"
        },
        "id": "MzMVccR34ARy",
        "outputId": "cb9d24c8-64fc-4188-80f8-33990a3fdd3d"
      },
      "source": [
        "# # Select main columns to be used in training\n",
        "# main_cols = all_data.columns.difference(['ID', 'target'])\n",
        "# X = train_df[main_cols]\n",
        "# y = train_df.target.astype(int)\n",
        "\n",
        "# # Split data into train and test sets\n",
        "# X_train, X_test, y_train, y_test = train_test_split(X,y,test_size=0.3, random_state=42)\n",
        "\n",
        "# Train model\n",
        "# model = RandomForestClassifier()\n",
        "# model.fit(X_train, y_train)\n",
        "\n",
        "\n",
        "model = XGBClassifier(\n",
        " learning_rate =0.1,\n",
        " n_estimators=1000,\n",
        " max_depth=4,\n",
        " min_child_weight=1,\n",
        " gamma=0,\n",
        " subsample=0.8,\n",
        " colsample_bytree=0.8,\n",
        " objective= 'binary:logistic',\n",
        " nthread=4,\n",
        " scale_pos_weight=1,\n",
        " seed=42)\n",
        "model.fit(X_train, y_train)\n",
        "\n",
        "# Make predictions\n",
        "y_pred = model.predict_proba(X_test)[:, 1]\n",
        "\n",
        "# Check the auc score of the model\n",
        "print(f'XGBClassifier AUC score on the X_test is: {roc_auc_score(y_test, y_pred)}\\n')\n",
        "\n",
        "# print classification report\n",
        "print(classification_report(y_test, [1 if x >= 0.5 else 0 for x in y_pred]))"
      ],
      "execution_count": null,
      "outputs": [
        {
          "output_type": "stream",
          "text": [
            "XGBClassifier AUC score on the X_test is: 0.8144773519496065\n",
            "\n",
            "              precision    recall  f1-score   support\n",
            "\n",
            "           0       0.73      0.77      0.75     12293\n",
            "           1       0.75      0.71      0.73     12112\n",
            "\n",
            "    accuracy                           0.74     24405\n",
            "   macro avg       0.74      0.74      0.74     24405\n",
            "weighted avg       0.74      0.74      0.74     24405\n",
            "\n"
          ],
          "name": "stdout"
        }
      ]
    },
    {
      "cell_type": "markdown",
      "metadata": {
        "id": "tFULqvbM659e"
      },
      "source": [
        "### Train different model and compare results"
      ]
    },
    {
      "cell_type": "code",
      "metadata": {
        "colab": {
          "base_uri": "https://localhost:8080/"
        },
        "id": "LC1epBQp5lcx",
        "outputId": "667c057c-f0f3-45c9-dcbe-28abf8d5f071"
      },
      "source": [
        "# Train model\n",
        "\n",
        "# params = {\n",
        "# 'boosting_type': 'gbdt',\n",
        "# 'objective': 'binary',\n",
        "# #'metric': 'multi_logloss',\n",
        "# 'num_class':2,\n",
        "# 'max_depth':8,\n",
        "# 'num_leaves':20,\n",
        "# 'learning_rate': 0.05,\n",
        "# 'n_estimators':500\n",
        "# }\n",
        "# model_lg = LGBMClassifier(**params)\n",
        "model_lg = LGBMClassifier(objective='binary', n_leaves = 20, colsample_bytree= 0.9234, min_child_samples= 399, \n",
        "                        min_child_weight= 0.1, num_leaves= 13, reg_alpha= 2, reg_lambda=5, subsample= 0.855, n_estimators=500, learning_rate=0.05)\n",
        "model_lg.fit(X_train, y_train)\n",
        "\n",
        "# Make predictions\n",
        "y_pred = model_lg.predict_proba(X_test)[:, 1]\n",
        "\n",
        "# Check the auc score of the model\n",
        "print(f'LGBM AUC score on the X_test is: {roc_auc_score(y_test, y_pred)}\\n')\n",
        "\n",
        "# print classification report\n",
        "print(classification_report(y_test, [1 if x >= 0.5 else 0 for x in y_pred]))"
      ],
      "execution_count": null,
      "outputs": [
        {
          "output_type": "stream",
          "text": [
            "LGBM AUC score on the X_test is: 0.8031441590842099\n",
            "\n",
            "              precision    recall  f1-score   support\n",
            "\n",
            "           0       0.72      0.75      0.73     12293\n",
            "           1       0.73      0.70      0.72     12112\n",
            "\n",
            "    accuracy                           0.73     24405\n",
            "   macro avg       0.73      0.73      0.73     24405\n",
            "weighted avg       0.73      0.73      0.73     24405\n",
            "\n"
          ],
          "name": "stdout"
        }
      ]
    },
    {
      "cell_type": "markdown",
      "metadata": {
        "id": "bXKU5avW6uaT"
      },
      "source": [
        "- There is a light improvement when using LGBMClassifier\n",
        "\n",
        "[More on AUC score](https://developers.google.com/machine-learning/crash-course/classification/roc-and-auc#:~:text=AUC%20represents%20the%20probability%20that,has%20an%20AUC%20of%201.0.)"
      ]
    },
    {
      "cell_type": "markdown",
      "metadata": {
        "id": "2L7-CX1c7l-u"
      },
      "source": [
        "### Making predictions of the test set and creating a submission file"
      ]
    },
    {
      "cell_type": "code",
      "metadata": {
        "colab": {
          "base_uri": "https://localhost:8080/"
        },
        "id": "ZtdOasthFYjo",
        "outputId": "6d301e1e-5363-46b3-8daa-9e36bbaedc72"
      },
      "source": [
        "test_df.shape"
      ],
      "execution_count": null,
      "outputs": [
        {
          "output_type": "execute_result",
          "data": {
            "text/plain": [
              "(44943, 276)"
            ]
          },
          "metadata": {
            "tags": []
          },
          "execution_count": 39
        }
      ]
    },
    {
      "cell_type": "code",
      "metadata": {
        "colab": {
          "base_uri": "https://localhost:8080/",
          "height": 281
        },
        "id": "2CY70-KV5lYO",
        "outputId": "a84750b9-d4ee-4cff-c34a-9bff89cb95ff"
      },
      "source": [
        "# Make prediction on the test set\n",
        "test_df = test_df[main_cols]\n",
        "predictions = model.predict_proba(test_df)[:, 1]\n",
        "\n",
        "# # Create a submission file\n",
        "sub_file = samplesubmission.copy()\n",
        "sub_file.target = predictions\n",
        "\n",
        "# # Check the distribution of your predictions\n",
        "sns.countplot([1 if x >= 0.5 else 0 for x in sub_file.target])\n",
        "plt.title('Predicted Variable Distribution');"
      ],
      "execution_count": null,
      "outputs": [
        {
          "output_type": "display_data",
          "data": {
            "image/png": "[encoded data removed]",
            "text/plain": [
              "<Figure size 432x288 with 1 Axes>"
            ]
          },
          "metadata": {
            "tags": [],
            "needs_background": "light"
          }
        }
      ]
    },
    {
      "cell_type": "code",
      "metadata": {
        "colab": {
          "base_uri": "https://localhost:8080/",
          "height": 281
        },
        "id": "GNh_kcd2XJxe",
        "outputId": "e214cabd-d7b1-4673-b225-b0f02d0a4414"
      },
      "source": [
        "\n",
        "# Make prediction on the test set\n",
        "test_df = test_df[main_cols]\n",
        "predictions = model_lg.predict_proba(test_df)[:, 1]\n",
        "\n",
        "# # Create a submission file\n",
        "sub_file = samplesubmission.copy()\n",
        "sub_file.target = predictions\n",
        "\n",
        "# # Check the distribution of your predictions\n",
        "sns.countplot([1 if x >= 0.5 else 0 for x in sub_file.target])\n",
        "plt.title('Predicted Variable Distribution');"
      ],
      "execution_count": null,
      "outputs": [
        {
          "output_type": "display_data",
          "data": {
            "image/png": "[encoded data removed]",
            "text/plain": [
              "<Figure size 432x288 with 1 Axes>"
            ]
          },
          "metadata": {
            "tags": [],
            "needs_background": "light"
          }
        }
      ]
    },
    {
      "cell_type": "code",
      "metadata": {
        "colab": {
          "base_uri": "https://localhost:8080/",
          "height": 195
        },
        "id": "oroCrCK27v-4",
        "outputId": "a9b5eb7a-d291-4a00-9edf-6e19c078bb13"
      },
      "source": [
        "# Create a csv file and upload to zindi \n",
        "sub_file.to_csv('xgboostfeat_up.csv', index = False)\n",
        "sub_file.head()"
      ],
      "execution_count": null,
      "outputs": [
        {
          "output_type": "execute_result",
          "data": {
            "text/html": [
              "<div>\n",
              "<style scoped>\n",
              "    .dataframe tbody tr th:only-of-type {\n",
              "        vertical-align: middle;\n",
              "    }\n",
              "\n",
              "    .dataframe tbody tr th {\n",
              "        vertical-align: top;\n",
              "    }\n",
              "\n",
              "    .dataframe thead th {\n",
              "        text-align: right;\n",
              "    }\n",
              "</style>\n",
              "<table border=\"1\" class=\"dataframe\">\n",
              "  <thead>\n",
              "    <tr style=\"text-align: right;\">\n",
              "      <th></th>\n",
              "      <th>ID</th>\n",
              "      <th>target</th>\n",
              "    </tr>\n",
              "  </thead>\n",
              "  <tbody>\n",
              "    <tr>\n",
              "      <th>0</th>\n",
              "      <td>ID_0000005111</td>\n",
              "      <td>0.657141</td>\n",
              "    </tr>\n",
              "    <tr>\n",
              "      <th>1</th>\n",
              "      <td>ID_0000389416</td>\n",
              "      <td>0.146937</td>\n",
              "    </tr>\n",
              "    <tr>\n",
              "      <th>2</th>\n",
              "      <td>ID_0000634789</td>\n",
              "      <td>0.491214</td>\n",
              "    </tr>\n",
              "    <tr>\n",
              "      <th>3</th>\n",
              "      <td>ID_0000778100</td>\n",
              "      <td>0.971629</td>\n",
              "    </tr>\n",
              "    <tr>\n",
              "      <th>4</th>\n",
              "      <td>ID_0001123210</td>\n",
              "      <td>0.467678</td>\n",
              "    </tr>\n",
              "  </tbody>\n",
              "</table>\n",
              "</div>"
            ],
            "text/plain": [
              "              ID    target\n",
              "0  ID_0000005111  0.657141\n",
              "1  ID_0000389416  0.146937\n",
              "2  ID_0000634789  0.491214\n",
              "3  ID_0000778100  0.971629\n",
              "4  ID_0001123210  0.467678"
            ]
          },
          "metadata": {
            "tags": []
          },
          "execution_count": 41
        }
      ]
    },
    {
      "cell_type": "markdown",
      "metadata": {
        "id": "co8AT8lL7y5s"
      },
      "source": [
        "###More Tips\n",
        "- Thorough EDA and domain knowledge sourcing\n",
        "- Re-group Categorical features \n",
        "- More Feature Engineering \n",
        "- Dataset balancing - oversampling, undersampling, SMOTE...\n",
        "- Ensembling of models \n",
        "- Cross-validation: Group folds, Stratified..."
      ]
    },
    {
      "cell_type": "markdown",
      "metadata": {
        "id": "ih0ejC9w7617"
      },
      "source": [
        "# ******************* GOOD LUCK!!! ***************************"
      ]
    },
    {
      "cell_type": "code",
      "metadata": {
        "id": "BdCoe3BLJc2T"
      },
      "source": [
        "device = torch.device('cuda' if torch.cuda.is_available() else 'cpu')\n",
        "device"
      ],
      "execution_count": null,
      "outputs": []
    },
    {
      "cell_type": "code",
      "metadata": {
        "id": "wq04jZktJiJG"
      },
      "source": [
        "class MLP(nn.Module):\n",
        "    \"\"\"\n",
        "    Very deep multi-layer perceptron with the number of layers and number of units chosen by the user. The activation functions used in between the layers \n",
        "    are rectified linear units (ReLU) except for the last layer where a sigmoid function is used. Also, half of the layers include each a dropout layer to prevent overfitting.\n",
        "    \"\"\"\n",
        "    def __init__(self, inp_dim, dropout=0.1, n_layers=10, num_units=50, out_dim=2, seed=1):\n",
        "        super(MLP, self).__init__()\n",
        "        linears = []\n",
        "        self.name = 'MLP'\n",
        "        self.key_args = {\"inp_dim\": inp_dim, \"n_layers\": n_layers, \"n_units\": num_units, \"seed\": seed}\n",
        "        self.n_layers = n_layers\n",
        "        # number of units for each layer\n",
        "        np.random.seed(seed)\n",
        "        layer_dims = [inp_dim] + [num_units//np.random.choice(range(1,10)) for _ in range(n_layers-1)]+[out_dim]\n",
        "        self.layer_dims = layer_dims\n",
        "        for i in range(n_layers):\n",
        "          if i == 0:\n",
        "            linears.extend([nn.Linear(layer_dims[i], layer_dims[i+1]), nn.ReLU()])\n",
        "          elif i < n_layers-1 and i%2==0:\n",
        "            linears.extend([nn.Linear(layer_dims[i], layer_dims[i+1]), nn.ReLU()])\n",
        "          elif i < n_layers-1 and i%2==1:\n",
        "            linears.extend([nn.Linear(layer_dims[i], layer_dims[i+1]), nn.Dropout(dropout), nn.ReLU()])\n",
        "          else:\n",
        "            linears.extend([nn.Linear(layer_dims[i], layer_dims[i+1])])\n",
        "        self.linears = nn.ModuleList(linears)\n",
        "      \n",
        "    def forward(self, x):\n",
        "      for l in self.linears:\n",
        "        x = x.view(x.shape[0], -1)\n",
        "        #print(x.shape)\n",
        "        x = l(x)\n",
        "      return x\n",
        "\n",
        "    def predict_probs(self, x):\n",
        "        x = self.forward(x)\n",
        "        return x"
      ],
      "execution_count": null,
      "outputs": []
    },
    {
      "cell_type": "code",
      "metadata": {
        "id": "m4reRi4vJiG1"
      },
      "source": [
        "    data = copy.deepcopy(train_data)\n",
        "    if shuffle:\n",
        "        range_id = list(range(data.shape[0]))\n",
        "        np.random.shuffle(range_id)\n",
        "        data = data.iloc[range_id]\n",
        "    for size in range(0, data.shape[0], batch_size):\n",
        "        b = data.iloc[size: size+batch_size].values.astype(float)\n",
        "        x = b[:, :-1]\n",
        "        x = torch.FloatTensor(x)\n",
        "        y = torch.from_numpy(b[:, -1]).to(torch.long)\n",
        "        yield (x,y)"
      ],
      "execution_count": null,
      "outputs": []
    },
    {
      "cell_type": "code",
      "metadata": {
        "id": "lMrn2RnxJn9F"
      },
      "source": [
        "def load_test_data(test_data, batch_size=64): #was 2000\n",
        "    for size in range(0, test_data.shape[0], batch_size):\n",
        "        x = test_data.iloc[size: size+batch_size].values.astype(float)\n",
        "        x = torch.FloatTensor(x)\n",
        "        yield x"
      ],
      "execution_count": null,
      "outputs": []
    },
    {
      "cell_type": "code",
      "metadata": {
        "id": "ercj0SpqJiEe"
      },
      "source": [
        "\n",
        "def predict(test, model, batch_size=64): #was 50000\n",
        "    Preds = []\n",
        "    Yhat = []\n",
        "    for x in load_test_data(test, batch_size=batch_size):\n",
        "        x = x.to(device)\n",
        "        yhat = model(x)\n",
        "        preds = yhat.argmax(-1)\n",
        "        Preds.extend(preds.tolist())\n",
        "        Yhat.extend(yhat.tolist())\n",
        "        #print(\"yhat\", Yhat.shape)\n",
        "    \n",
        "    return Preds, Yhat"
      ],
      "execution_count": null,
      "outputs": []
    },
    {
      "cell_type": "code",
      "metadata": {
        "id": "oHFjW-UPJh9O"
      },
      "source": [
        "def fit(model, criterion, train_data, optimizer, scheduler, n_epochs=10, batch_size=2048, print_every=2):\n",
        "    best_weights = copy.deepcopy(model.state_dict())\n",
        "    best_score = 0.3\n",
        "    train_losses, valid_losses, train_acc, valid_acc = [], [], [], []\n",
        "    with torch.autograd.set_detect_anomaly(True):\n",
        "        for e in range(n_epochs):\n",
        "            for phase in [\"train\", \"val\"]:\n",
        "                if phase == \"train\":\n",
        "                    running_loss = 0.0\n",
        "                    score = 0.0\n",
        "                    acc = 0.0\n",
        "                    i = 0\n",
        "                    model.train()\n",
        "                    for x, y in load_train_data(train_data, batch_size=batch_size):\n",
        "                        i += 1\n",
        "                        x, y = x.to(device), y.to(device)\n",
        "                        #print((x == np.nan).sum())\n",
        "              \n",
        "                        yhat = model(x)\n",
        "                        #print(yhat)\n",
        "                        optimizer.zero_grad()\n",
        "                        #ipdb.set_trace()\n",
        "                        loss = criterion(yhat, y)\n",
        "                        running_loss += loss.item()\n",
        "                        acc += float((yhat.argmax(-1)==y).sum())/float(y.shape[0])\n",
        "                        score += f1_score(y.cpu(), yhat.cpu().argmax(-1), average='macro')\n",
        "                        loss.backward()\n",
        "                        optimizer.step()\n",
        "                    scheduler.step()\n",
        "                    train_losses.append(running_loss/i)\n",
        "                    train_acc.append(acc/i)   \n",
        "                    if e and e%print_every == 0:\n",
        "                        print(\"Epoch: {}/{}\".format(e+print_every, n_epochs))\n",
        "                        print(\"Training: train_loss:{}, train_f1_score:{}, train_acc:{}\".format(running_loss/i, score/i, acc/i))\n",
        "                else:\n",
        "                    running_loss = 0.0\n",
        "                    score = 0.0\n",
        "                    acc = 0.0\n",
        "                    i = 0\n",
        "                    model.eval()\n",
        "                    for x, y in load_train_data(X_val, shuffle=False, batch_size=batch_size):\n",
        "                        i += 1\n",
        "                        x, y = x.to(device), y.to(device)\n",
        "                        yhat = model(x)\n",
        "                        loss = criterion(yhat, y)\n",
        "                        running_loss += loss.item()\n",
        "                        score += f1_score(y.cpu(), yhat.cpu().argmax(-1), average='macro')\n",
        "                        acc += float((yhat.argmax(-1)==y).sum())/float(y.shape[0])\n",
        "                    valid_losses.append(running_loss/i)\n",
        "                    valid_acc.append(acc/i)\n",
        "                    if score/i > best_score:\n",
        "                            best_score=score/i\n",
        "                            best_weights = copy.deepcopy(model.state_dict())\n",
        "                    if e and e%print_every == 0:\n",
        "                            #model.load_state_dict(best_weights)\n",
        "                        print(\"Val: val_loss:{}, val_f1_score:{}, val_acc:{}\".format(running_loss/i, score/i, acc/i))\n",
        "    model.load_state_dict(best_weights)\n",
        "    model.eval()\n",
        "    #Ploting \n",
        "    _, ax = plt.subplots()\n",
        "    ax.plot(train_losses[4:], 'k--', label='training loss', color='red')\n",
        "    ax.plot(valid_losses[4:], 'k:', label='validation loss', color='green')\n",
        "    plt.xlabel('Epochs')\n",
        "    plt.ylabel('Loss')\n",
        "    _, Ax = plt.subplots()\n",
        "    Ax.plot(train_acc, 'k--', label='training accuracy', color='blue')\n",
        "    Ax.plot(valid_acc, 'k:', label='validation accuracy', color='orange')\n",
        "    plt.xlabel('Epochs')\n",
        "    plt.ylabel('Accuracy')\n",
        "\n",
        "\n",
        "    legend = ax.legend(loc='best', shadow=True, fontsize='x-large')\n",
        "    Label = Ax.legend(loc='best', shadow=True, fontsize='x-large')\n",
        "\n",
        "    # Put a nicer background color on the legend.\n",
        "    legend.get_frame().set_facecolor('C0')\n",
        "    Label.get_frame().set_facecolor('C0')\n",
        "\n",
        "    #specify path\n",
        "\n",
        "    path = \"/content/drive/MyDrive/Berthine_AMMI_project/Model_saved/\"\n",
        "\n",
        "\n",
        "    plt.show()\n",
        "    ans = input(\"Save model ? Answer y or n\")\n",
        "    if ans == 'y':\n",
        "        torch.save(model.state_dict(), str(model.name)+\"_\"+str(model.key_args)+\"_model.pt\")\n",
        "        print(\"Model saved\")\n",
        "    return model, train_losses, valid_losses"
      ],
      "execution_count": null,
      "outputs": []
    },
    {
      "cell_type": "code",
      "metadata": {
        "id": "zdZlHtt0Jh1b"
      },
      "source": [
        "import torch.optim.lr_scheduler as lr_scheduler\n",
        "weight=torch.FloatTensor().to(device)\n",
        "model = MLP(inp_dim=29, dropout=0.0, n_layers=4, num_units=15, seed=2).to(device)\n",
        "print(\"number of units distribution across the layers\", model.layer_dims)\n",
        "criterion = nn.CrossEntropyLoss().to(device)\n",
        "optimizer = torch.optim.Adam(model.parameters(), lr=0.001)\n",
        "#optimizer = torch.optim.RMSprop(model.parameters(), lr=0.001)\n",
        "scheduler = lr_scheduler.ExponentialLR(optimizer, gamma=1.0)"
      ],
      "execution_count": null,
      "outputs": []
    },
    {
      "cell_type": "code",
      "metadata": {
        "id": "vwAYGGHbKBLf"
      },
      "source": [
        "model, tr, val = fit(model, criterion, Xtr, optimizer, scheduler=scheduler, n_epochs=40, batch_size=64, print_every=5)"
      ],
      "execution_count": null,
      "outputs": []
    },
    {
      "cell_type": "code",
      "metadata": {
        "id": "gJND6NaVKBIb"
      },
      "source": [],
      "execution_count": null,
      "outputs": []
    },
    {
      "cell_type": "code",
      "metadata": {
        "id": "v0-pb9R5KBGd"
      },
      "source": [],
      "execution_count": null,
      "outputs": []
    },
    {
      "cell_type": "code",
      "metadata": {
        "id": "zplmjXF2KBBq"
      },
      "source": [],
      "execution_count": null,
      "outputs": []
    },
    {
      "cell_type": "code",
      "metadata": {
        "id": "pspKKNYpKA_F"
      },
      "source": [],
      "execution_count": null,
      "outputs": []
    }
  ]
}
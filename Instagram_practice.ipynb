{
  "nbformat": 4,
  "nbformat_minor": 0,
  "metadata": {
    "kernelspec": {
      "display_name": "Python 3",
      "language": "python",
      "name": "python3"
    },
    "language_info": {
      "codemirror_mode": {
        "name": "ipython",
        "version": 3
      },
      "file_extension": ".py",
      "mimetype": "text/x-python",
      "name": "python",
      "nbconvert_exporter": "python",
      "pygments_lexer": "ipython3",
      "version": "3.7.4"
    },
    "colab": {
      "name": "Instagram_practice.ipynb",
      "provenance": [],
      "toc_visible": true,
      "include_colab_link": true
    }
  },
  "cells": [
    {
      "cell_type": "markdown",
      "metadata": {
        "id": "view-in-github",
        "colab_type": "text"
      },
      "source": [
        "<a href=\"https://colab.research.google.com/github/berthine/AMMI_git/blob/master/Instagram_practice.ipynb\" target=\"_parent\"><img src=\"https://colab.research.google.com/assets/colab-badge.svg\" alt=\"Open In Colab\"/></a>"
      ]
    },
    {
      "cell_type": "markdown",
      "metadata": {
        "id": "MdD3FsxPFA6T",
        "colab_type": "text"
      },
      "source": [
        "## My Daily exercises\n",
        "\n",
        "## Author: Berthine Nyunga\n"
      ]
    },
    {
      "cell_type": "markdown",
      "metadata": {
        "id": "d6p5ubVCM0bm",
        "colab_type": "text"
      },
      "source": [
        "## 1. List index \n",
        "\n",
        "The method *index()* returns the lowest index in the list where the element searched for appears. If any element which is not present is searched, it returns a ValueError."
      ]
    },
    {
      "cell_type": "code",
      "metadata": {
        "id": "GnqwLmPNEynm",
        "colab_type": "code",
        "colab": {}
      },
      "source": [
        "a=[3,4,5,6,7,5]"
      ],
      "execution_count": null,
      "outputs": []
    },
    {
      "cell_type": "code",
      "metadata": {
        "id": "bGj-PhOTEynr",
        "colab_type": "code",
        "colab": {
          "base_uri": "https://localhost:8080/",
          "height": 34
        },
        "outputId": "ea91b737-6c44-4ed3-de8c-d877638f6f00"
      },
      "source": [
        "print(a.index(3))"
      ],
      "execution_count": null,
      "outputs": [
        {
          "output_type": "stream",
          "text": [
            "0\n"
          ],
          "name": "stdout"
        }
      ]
    },
    {
      "cell_type": "code",
      "metadata": {
        "id": "vx_OMStSEynw",
        "colab_type": "code",
        "colab": {
          "base_uri": "https://localhost:8080/",
          "height": 34
        },
        "outputId": "9afa2937-4f79-48ab-b481-71663c5be6c2"
      },
      "source": [
        "print(a.index(4))"
      ],
      "execution_count": null,
      "outputs": [
        {
          "output_type": "stream",
          "text": [
            "1\n"
          ],
          "name": "stdout"
        }
      ]
    },
    {
      "cell_type": "markdown",
      "metadata": {
        "id": "FiBZC3RmNpZo",
        "colab_type": "text"
      },
      "source": [
        "Let try when the element is not in the list:"
      ]
    },
    {
      "cell_type": "code",
      "metadata": {
        "id": "dtOeg_DHNqL6",
        "colab_type": "code",
        "colab": {
          "base_uri": "https://localhost:8080/",
          "height": 200
        },
        "outputId": "5a6f73c6-c673-4af2-acf3-cc685c71f4ef"
      },
      "source": [
        "list_numbers = [1, 'two', 3, 4, 5, 6, 7, 8, 9, 10]\n",
        "element = 'three'\n",
        "list_numbers.index(element)"
      ],
      "execution_count": null,
      "outputs": [
        {
          "output_type": "error",
          "ename": "ValueError",
          "evalue": "ignored",
          "traceback": [
            "\u001b[0;31m---------------------------------------------------------------------------\u001b[0m",
            "\u001b[0;31mValueError\u001b[0m                                Traceback (most recent call last)",
            "\u001b[0;32m<ipython-input-7-47ecee0ed381>\u001b[0m in \u001b[0;36m<module>\u001b[0;34m()\u001b[0m\n\u001b[1;32m      1\u001b[0m \u001b[0mlist_numbers\u001b[0m \u001b[0;34m=\u001b[0m \u001b[0;34m[\u001b[0m\u001b[0;36m1\u001b[0m\u001b[0;34m,\u001b[0m \u001b[0;34m'two'\u001b[0m\u001b[0;34m,\u001b[0m \u001b[0;36m3\u001b[0m\u001b[0;34m,\u001b[0m \u001b[0;36m4\u001b[0m\u001b[0;34m,\u001b[0m \u001b[0;36m5\u001b[0m\u001b[0;34m,\u001b[0m \u001b[0;36m6\u001b[0m\u001b[0;34m,\u001b[0m \u001b[0;36m7\u001b[0m\u001b[0;34m,\u001b[0m \u001b[0;36m8\u001b[0m\u001b[0;34m,\u001b[0m \u001b[0;36m9\u001b[0m\u001b[0;34m,\u001b[0m \u001b[0;36m10\u001b[0m\u001b[0;34m]\u001b[0m\u001b[0;34m\u001b[0m\u001b[0;34m\u001b[0m\u001b[0m\n\u001b[1;32m      2\u001b[0m \u001b[0melement\u001b[0m \u001b[0;34m=\u001b[0m \u001b[0;34m'three'\u001b[0m\u001b[0;34m\u001b[0m\u001b[0;34m\u001b[0m\u001b[0m\n\u001b[0;32m----> 3\u001b[0;31m \u001b[0mlist_numbers\u001b[0m\u001b[0;34m.\u001b[0m\u001b[0mindex\u001b[0m\u001b[0;34m(\u001b[0m\u001b[0melement\u001b[0m\u001b[0;34m)\u001b[0m\u001b[0;34m\u001b[0m\u001b[0;34m\u001b[0m\u001b[0m\n\u001b[0m",
            "\u001b[0;31mValueError\u001b[0m: 'three' is not in list"
          ]
        }
      ]
    },
    {
      "cell_type": "markdown",
      "metadata": {
        "id": "O7Eme9AiN9bU",
        "colab_type": "text"
      },
      "source": [
        "What does it mean to return the lowest index?\n",
        "\n",
        "Imagine you have more than one instance of an element, then index() will give you the first position where the element appears."
      ]
    },
    {
      "cell_type": "code",
      "metadata": {
        "id": "w8u1bd25OB-A",
        "colab_type": "code",
        "colab": {
          "base_uri": "https://localhost:8080/",
          "height": 34
        },
        "outputId": "e64754e8-00ee-433b-c1c2-f6ca25fd8a85"
      },
      "source": [
        "list_numbers = [3, 1, 2, 3, 3, 4, 5, 6, 3, 7, 8, 9, 10]\n",
        "element = 3\n",
        "list_numbers.index(element)"
      ],
      "execution_count": null,
      "outputs": [
        {
          "output_type": "execute_result",
          "data": {
            "text/plain": [
              "0"
            ]
          },
          "metadata": {
            "tags": []
          },
          "execution_count": 8
        }
      ]
    },
    {
      "cell_type": "markdown",
      "metadata": {
        "id": "-tGDPb6gOGTQ",
        "colab_type": "text"
      },
      "source": [
        "## 2. To define a triangle"
      ]
    },
    {
      "cell_type": "code",
      "metadata": {
        "id": "5T4VDjdLEyn0",
        "colab_type": "code",
        "colab": {
          "base_uri": "https://localhost:8080/",
          "height": 69
        },
        "outputId": "b4540e3d-611c-48f0-dc8e-a74bc8ffecff"
      },
      "source": [
        "def triangle(n):\n",
        "    k=2*n-2\n",
        "    for i in range(0,n):\n",
        "        for j in range(0,k):\n",
        "            print(end = '')\n",
        "        k=k-1\n",
        "        for j in range(0, i+1):\n",
        "            print(\"*\", end = '')\n",
        "        print(\"\\r\")\n",
        "num=int(input('Enter the value of n: '))\n",
        "triangle (num)        \n",
        "    \n",
        "    "
      ],
      "execution_count": null,
      "outputs": [
        {
          "output_type": "stream",
          "text": [
            "Enter the value of n: 2\n",
            "*\n",
            "**\n"
          ],
          "name": "stdout"
        }
      ]
    },
    {
      "cell_type": "code",
      "metadata": {
        "id": "NWwUMPqiPGxN",
        "colab_type": "code",
        "colab": {
          "base_uri": "https://localhost:8080/",
          "height": 103
        },
        "outputId": "dbc103d1-5e07-49c4-c20a-e43c09a54410"
      },
      "source": [
        "for i in range(5):\n",
        "    for j in range(i):\n",
        "        print('*', end = '')\n",
        "    print('')"
      ],
      "execution_count": null,
      "outputs": [
        {
          "output_type": "stream",
          "text": [
            "\n",
            "*\n",
            "**\n",
            "***\n",
            "****\n"
          ],
          "name": "stdout"
        }
      ]
    },
    {
      "cell_type": "markdown",
      "metadata": {
        "id": "R1Ntp8_kOOxE",
        "colab_type": "text"
      },
      "source": [
        "## 3. While loop"
      ]
    },
    {
      "cell_type": "code",
      "metadata": {
        "id": "C_zHUijREyn4",
        "colab_type": "code",
        "colab": {
          "base_uri": "https://localhost:8080/",
          "height": 34
        },
        "outputId": "4e8c16cd-35c6-4eaf-887d-ac1c73e665a1"
      },
      "source": [
        "x='abcde'\n",
        "i='a'\n",
        "while i in x:\n",
        "    x=x[1:]\n",
        "    print(i, end=' ')"
      ],
      "execution_count": null,
      "outputs": [
        {
          "output_type": "stream",
          "text": [
            "a "
          ],
          "name": "stdout"
        }
      ]
    },
    {
      "cell_type": "code",
      "metadata": {
        "id": "xP0O_AJWEyn9",
        "colab_type": "code",
        "colab": {
          "base_uri": "https://localhost:8080/",
          "height": 34
        },
        "outputId": "4ea93a5b-59ec-4bb6-e8a4-3f8b71cf2e1f"
      },
      "source": [
        "x='abcde'\n",
        "print(x[1:])\n",
        "i='a'\n",
        "while i in x[1:]:\n",
        "    print(i, end=' ')"
      ],
      "execution_count": null,
      "outputs": [
        {
          "output_type": "stream",
          "text": [
            "bcde\n"
          ],
          "name": "stdout"
        }
      ]
    },
    {
      "cell_type": "markdown",
      "metadata": {
        "id": "IM2CFo6OEyoB",
        "colab_type": "text"
      },
      "source": [
        "## 3. Stack is a data structure that follows the LIFO (Last in Fist Out) principLe.\n",
        "\n",
        "To impliment a stack, we need 2 simples operations:\n",
        "* push(or append in python) - i adds an element to the top of the stack\n",
        "* pop: it removes an element from the top of the stack"
      ]
    },
    {
      "cell_type": "code",
      "metadata": {
        "id": "TMuPznHZEyoC",
        "colab_type": "code",
        "colab": {
          "base_uri": "https://localhost:8080/",
          "height": 103
        },
        "outputId": "53627c23-35f7-4c95-f365-f994a4614cae"
      },
      "source": [
        "## stack using list\n",
        "\n",
        "x=['python','C', 'Android']\n",
        "x.append('Java')\n",
        "x.append('C++')\n",
        "print(x)\n",
        "print(x.pop())\n",
        "print(x)\n",
        "print(x.pop())\n",
        "print(x)"
      ],
      "execution_count": null,
      "outputs": [
        {
          "output_type": "stream",
          "text": [
            "['python', 'C', 'Android', 'Java', 'C++']\n",
            "C++\n",
            "['python', 'C', 'Android', 'Java']\n",
            "Java\n",
            "['python', 'C', 'Android']\n"
          ],
          "name": "stdout"
        }
      ]
    },
    {
      "cell_type": "markdown",
      "metadata": {
        "id": "t3XCCcNNEyoG",
        "colab_type": "text"
      },
      "source": [
        "## 4. Queue follows the First-in-First-Out(FIFO) principle. \n",
        "\n",
        "It is opened from both the ends hence we can easily add elements to the back and can remove elements from the front. To implement we need two simples operations:\n",
        "* enqueue - it adds an element to the end of the queue\n",
        "* dequeue - it removes the element from the beginning of the queue."
      ]
    },
    {
      "cell_type": "code",
      "metadata": {
        "id": "y6H475kDEyoH",
        "colab_type": "code",
        "colab": {
          "base_uri": "https://localhost:8080/",
          "height": 86
        },
        "outputId": "e4b7ab2d-7ff6-46e1-95cc-137faaf63829"
      },
      "source": [
        "## queue\n",
        "import queue\n",
        "#queue is created as an object 'L'\n",
        "L=queue.Queue(maxsize =10)\n",
        "#Data is inserted in 'L' at the end using put()\n",
        "L.put(9)\n",
        "L.put(6)\n",
        "L.put(7)\n",
        "L.put(5)\n",
        "\n",
        "#get() take data from the head of the QUeue\n",
        "print(L.get())\n",
        "print(L.get())\n",
        "print(L.get())\n",
        "print(L.get())"
      ],
      "execution_count": null,
      "outputs": [
        {
          "output_type": "stream",
          "text": [
            "9\n",
            "6\n",
            "7\n",
            "5\n"
          ],
          "name": "stdout"
        }
      ]
    },
    {
      "cell_type": "markdown",
      "metadata": {
        "id": "u6rSz8XqEyoK",
        "colab_type": "text"
      },
      "source": [
        "## 5. Define data and time\n",
        "\n",
        " string = 'Thursday, June 18, 2020' to 2020-06-18 00:00:00"
      ]
    },
    {
      "cell_type": "code",
      "metadata": {
        "id": "WVilxrCAEyoL",
        "colab_type": "code",
        "colab": {
          "base_uri": "https://localhost:8080/",
          "height": 69
        },
        "outputId": "43dc4b9a-512e-4a34-a158-9625d32fba21"
      },
      "source": [
        "from datetime import datetime\n",
        "\n",
        "# define dates as the strings\n",
        "dmy_str1 ='Thursday, June 18, 2020'\n",
        "dmy_str2 = '18/6/20'\n",
        "dmy_str3 = '18-06-2020'\n",
        "\n",
        "#define dates as the datetime objects\n",
        "dmy_dt1 = datetime.strptime(dmy_str1, '%A, %B %d, %Y')\n",
        "dmy_dt2 = datetime.strptime(dmy_str2, '%d/%m/%y')\n",
        "dmy_dt3 = datetime.strptime(dmy_str3, '%d-%m-%Y')\n",
        "\n",
        "# print the converted dates\n",
        "print(dmy_dt1)\n",
        "print(dmy_dt2)\n",
        "print(dmy_dt3)"
      ],
      "execution_count": null,
      "outputs": [
        {
          "output_type": "stream",
          "text": [
            "2020-06-18 00:00:00\n",
            "2020-06-18 00:00:00\n",
            "2020-06-18 00:00:00\n"
          ],
          "name": "stdout"
        }
      ]
    },
    {
      "cell_type": "markdown",
      "metadata": {
        "id": "i19W0HOlOzSS",
        "colab_type": "text"
      },
      "source": [
        "## 6. A Set"
      ]
    },
    {
      "cell_type": "code",
      "metadata": {
        "id": "auA5z0Q1EyoP",
        "colab_type": "code",
        "colab": {
          "base_uri": "https://localhost:8080/",
          "height": 34
        },
        "outputId": "7af83963-4be8-493a-8221-56e47a0b26b2"
      },
      "source": [
        "myset1=(1,2,3,'on')\n",
        "myset2=('pythonhub', 'instagram')\n",
        "myset = myset1 + myset2\n",
        "myset =  set(myset)\n",
        "print(myset)"
      ],
      "execution_count": null,
      "outputs": [
        {
          "output_type": "stream",
          "text": [
            "{1, 2, 3, 'pythonhub', 'on', 'instagram'}\n"
          ],
          "name": "stdout"
        }
      ]
    },
    {
      "cell_type": "markdown",
      "metadata": {
        "id": "eI93cFakPNXg",
        "colab_type": "text"
      },
      "source": [
        "**Note about Deep Learning:**"
      ]
    },
    {
      "cell_type": "markdown",
      "metadata": {
        "id": "ucWOIkbgEyoX",
        "colab_type": "text"
      },
      "source": [
        "The term 'Deep' of deep neural network refers to the number of hidden layers in the neural network. A neurall network with a huge number of hidden layers is called a deep neural network."
      ]
    },
    {
      "cell_type": "markdown",
      "metadata": {
        "id": "4kL6cd7wEyoY",
        "colab_type": "text"
      },
      "source": [
        "## 7. Table of multiplication"
      ]
    },
    {
      "cell_type": "code",
      "metadata": {
        "id": "8HSVAYI9EyoZ",
        "colab_type": "code",
        "colab": {
          "base_uri": "https://localhost:8080/",
          "height": 379
        },
        "outputId": "f144998b-4343-4e88-d0c0-8bdd0dbfb39c"
      },
      "source": [
        "i=1\n",
        "number = 0\n",
        "b=9\n",
        "number = int(input('enter the number:'))\n",
        "while i<=10:\n",
        "    print('%d x %d = %d \\n'%(number, i, number*i))\n",
        "    i = i+1"
      ],
      "execution_count": null,
      "outputs": [
        {
          "output_type": "stream",
          "text": [
            "enter the number:5\n",
            "5 x 1 = 5 \n",
            "\n",
            "5 x 2 = 10 \n",
            "\n",
            "5 x 3 = 15 \n",
            "\n",
            "5 x 4 = 20 \n",
            "\n",
            "5 x 5 = 25 \n",
            "\n",
            "5 x 6 = 30 \n",
            "\n",
            "5 x 7 = 35 \n",
            "\n",
            "5 x 8 = 40 \n",
            "\n",
            "5 x 9 = 45 \n",
            "\n",
            "5 x 10 = 50 \n",
            "\n"
          ],
          "name": "stdout"
        }
      ]
    },
    {
      "cell_type": "code",
      "metadata": {
        "id": "UViGR9bHEyod",
        "colab_type": "code",
        "colab": {
          "base_uri": "https://localhost:8080/",
          "height": 34
        },
        "outputId": "3100c576-e5aa-42e0-ef5a-eeff3bf3a137"
      },
      "source": [
        "ex ='snow world'\n",
        "print('%s'%ex[4:7])"
      ],
      "execution_count": null,
      "outputs": [
        {
          "output_type": "stream",
          "text": [
            " wo\n"
          ],
          "name": "stdout"
        }
      ]
    },
    {
      "cell_type": "markdown",
      "metadata": {
        "id": "OxqmKjBpPeV5",
        "colab_type": "text"
      },
      "source": [
        "## 8. Define a function"
      ]
    },
    {
      "cell_type": "code",
      "metadata": {
        "id": "adorAH5sEyog",
        "colab_type": "code",
        "colab": {}
      },
      "source": [
        "def f(n):\n",
        "    if n==0:\n",
        "        return 0\n",
        "    else:\n",
        "        return f(n-1)+10\n",
        "    "
      ],
      "execution_count": null,
      "outputs": []
    },
    {
      "cell_type": "code",
      "metadata": {
        "id": "VuAmd_ALEyok",
        "colab_type": "code",
        "colab": {
          "base_uri": "https://localhost:8080/",
          "height": 34
        },
        "outputId": "3ba21ad6-4065-444d-b521-04dcf07fb61e"
      },
      "source": [
        "f(5)"
      ],
      "execution_count": null,
      "outputs": [
        {
          "output_type": "execute_result",
          "data": {
            "text/plain": [
              "50"
            ]
          },
          "metadata": {
            "tags": []
          },
          "execution_count": 16
        }
      ]
    },
    {
      "cell_type": "markdown",
      "metadata": {
        "id": "ht3_dcWVEyoo",
        "colab_type": "text"
      },
      "source": [
        "##9. Linear regression "
      ]
    },
    {
      "cell_type": "code",
      "metadata": {
        "id": "G396T0ClEyop",
        "colab_type": "code",
        "colab": {
          "base_uri": "https://localhost:8080/",
          "height": 72
        },
        "outputId": "227866b4-a412-4b52-a71e-b7bfd7918682"
      },
      "source": [
        "\n",
        "\n",
        "import matplotlib.pyplot as plt\n",
        "import pandas as pd\n",
        "from sklearn.model_selection import train_test_split\n",
        "from sklearn.linear_model import LinearRegression \n",
        "import statsmodels.api as sm"
      ],
      "execution_count": null,
      "outputs": [
        {
          "output_type": "stream",
          "text": [
            "/usr/local/lib/python3.6/dist-packages/statsmodels/tools/_testing.py:19: FutureWarning: pandas.util.testing is deprecated. Use the functions in the public API at pandas.testing instead.\n",
            "  import pandas.util.testing as tm\n"
          ],
          "name": "stderr"
        }
      ]
    },
    {
      "cell_type": "code",
      "metadata": {
        "id": "mhJHSMyDEyos",
        "colab_type": "code",
        "colab": {}
      },
      "source": [
        "## dowload salary_data\n",
        "\n",
        "data = pd.read_csv('Salary_Data.csv')"
      ],
      "execution_count": null,
      "outputs": []
    },
    {
      "cell_type": "code",
      "metadata": {
        "id": "qMOeeIYqEyow",
        "colab_type": "code",
        "colab": {},
        "outputId": "5fc58755-ca08-4a88-cc90-a79277f61e86"
      },
      "source": [
        "data.head()"
      ],
      "execution_count": null,
      "outputs": [
        {
          "output_type": "execute_result",
          "data": {
            "text/html": [
              "<div>\n",
              "<style scoped>\n",
              "    .dataframe tbody tr th:only-of-type {\n",
              "        vertical-align: middle;\n",
              "    }\n",
              "\n",
              "    .dataframe tbody tr th {\n",
              "        vertical-align: top;\n",
              "    }\n",
              "\n",
              "    .dataframe thead th {\n",
              "        text-align: right;\n",
              "    }\n",
              "</style>\n",
              "<table border=\"1\" class=\"dataframe\">\n",
              "  <thead>\n",
              "    <tr style=\"text-align: right;\">\n",
              "      <th></th>\n",
              "      <th>YearsExperience</th>\n",
              "      <th>Salary</th>\n",
              "    </tr>\n",
              "  </thead>\n",
              "  <tbody>\n",
              "    <tr>\n",
              "      <th>0</th>\n",
              "      <td>1.1</td>\n",
              "      <td>39343.0</td>\n",
              "    </tr>\n",
              "    <tr>\n",
              "      <th>1</th>\n",
              "      <td>1.3</td>\n",
              "      <td>46205.0</td>\n",
              "    </tr>\n",
              "    <tr>\n",
              "      <th>2</th>\n",
              "      <td>1.5</td>\n",
              "      <td>37731.0</td>\n",
              "    </tr>\n",
              "    <tr>\n",
              "      <th>3</th>\n",
              "      <td>2.0</td>\n",
              "      <td>43525.0</td>\n",
              "    </tr>\n",
              "    <tr>\n",
              "      <th>4</th>\n",
              "      <td>2.2</td>\n",
              "      <td>39891.0</td>\n",
              "    </tr>\n",
              "  </tbody>\n",
              "</table>\n",
              "</div>"
            ],
            "text/plain": [
              "   YearsExperience   Salary\n",
              "0              1.1  39343.0\n",
              "1              1.3  46205.0\n",
              "2              1.5  37731.0\n",
              "3              2.0  43525.0\n",
              "4              2.2  39891.0"
            ]
          },
          "metadata": {
            "tags": []
          },
          "execution_count": 9
        }
      ]
    },
    {
      "cell_type": "code",
      "metadata": {
        "id": "dcOQSLbwEyoz",
        "colab_type": "code",
        "colab": {},
        "outputId": "1c71e1b3-b530-4f82-e740-b69998c6e443"
      },
      "source": [
        "data.shape"
      ],
      "execution_count": null,
      "outputs": [
        {
          "output_type": "execute_result",
          "data": {
            "text/plain": [
              "(30, 2)"
            ]
          },
          "metadata": {
            "tags": []
          },
          "execution_count": 10
        }
      ]
    },
    {
      "cell_type": "code",
      "metadata": {
        "id": "KJSM-ZCEEyo2",
        "colab_type": "code",
        "colab": {}
      },
      "source": [
        "x = data.iloc[:, :-1].values\n",
        "y = data.iloc[:, 1].values"
      ],
      "execution_count": null,
      "outputs": []
    },
    {
      "cell_type": "code",
      "metadata": {
        "id": "9PKLmkNyEyo7",
        "colab_type": "code",
        "colab": {},
        "outputId": "80526ba8-9564-4685-b0b7-a2ee33ba1021"
      },
      "source": [
        "x"
      ],
      "execution_count": null,
      "outputs": [
        {
          "output_type": "execute_result",
          "data": {
            "text/plain": [
              "array([[ 1.1],\n",
              "       [ 1.3],\n",
              "       [ 1.5],\n",
              "       [ 2. ],\n",
              "       [ 2.2],\n",
              "       [ 2.9],\n",
              "       [ 3. ],\n",
              "       [ 3.2],\n",
              "       [ 3.2],\n",
              "       [ 3.7],\n",
              "       [ 3.9],\n",
              "       [ 4. ],\n",
              "       [ 4. ],\n",
              "       [ 4.1],\n",
              "       [ 4.5],\n",
              "       [ 4.9],\n",
              "       [ 5.1],\n",
              "       [ 5.3],\n",
              "       [ 5.9],\n",
              "       [ 6. ],\n",
              "       [ 6.8],\n",
              "       [ 7.1],\n",
              "       [ 7.9],\n",
              "       [ 8.2],\n",
              "       [ 8.7],\n",
              "       [ 9. ],\n",
              "       [ 9.5],\n",
              "       [ 9.6],\n",
              "       [10.3],\n",
              "       [10.5]])"
            ]
          },
          "metadata": {
            "tags": []
          },
          "execution_count": 14
        }
      ]
    },
    {
      "cell_type": "code",
      "metadata": {
        "id": "KqCZNv1CEyo-",
        "colab_type": "code",
        "colab": {},
        "outputId": "d2c715e7-1525-4169-f217-355c8f4a85e0"
      },
      "source": [
        "y"
      ],
      "execution_count": null,
      "outputs": [
        {
          "output_type": "execute_result",
          "data": {
            "text/plain": [
              "array([ 39343.,  46205.,  37731.,  43525.,  39891.,  56642.,  60150.,\n",
              "        54445.,  64445.,  57189.,  63218.,  55794.,  56957.,  57081.,\n",
              "        61111.,  67938.,  66029.,  83088.,  81363.,  93940.,  91738.,\n",
              "        98273., 101302., 113812., 109431., 105582., 116969., 112635.,\n",
              "       122391., 121872.])"
            ]
          },
          "metadata": {
            "tags": []
          },
          "execution_count": 15
        }
      ]
    },
    {
      "cell_type": "code",
      "metadata": {
        "id": "BEpOzGvdEypB",
        "colab_type": "code",
        "colab": {}
      },
      "source": [
        "X_train, X_test, y_train, y_test =train_test_split (x, y, random_state= 0, test_size = 0.20)"
      ],
      "execution_count": null,
      "outputs": []
    },
    {
      "cell_type": "code",
      "metadata": {
        "id": "Z8iO93PCEypF",
        "colab_type": "code",
        "colab": {},
        "outputId": "ef159723-3196-4cb5-eab3-c61ea259c5b5"
      },
      "source": [
        "len(X_train)"
      ],
      "execution_count": null,
      "outputs": [
        {
          "output_type": "execute_result",
          "data": {
            "text/plain": [
              "24"
            ]
          },
          "metadata": {
            "tags": []
          },
          "execution_count": 21
        }
      ]
    },
    {
      "cell_type": "code",
      "metadata": {
        "id": "vC7DMAiYEypI",
        "colab_type": "code",
        "colab": {}
      },
      "source": [
        "linear_regression = LinearRegression()\n",
        "result = linear_regression.fit(X_train, y_train)"
      ],
      "execution_count": null,
      "outputs": []
    },
    {
      "cell_type": "code",
      "metadata": {
        "id": "kv09Sk8PEypN",
        "colab_type": "code",
        "colab": {},
        "outputId": "6678d608-8599-4271-a34b-5a1c228a9e3c"
      },
      "source": [
        "linear_regression.coef_"
      ],
      "execution_count": null,
      "outputs": [
        {
          "output_type": "execute_result",
          "data": {
            "text/plain": [
              "array([9312.57512673])"
            ]
          },
          "metadata": {
            "tags": []
          },
          "execution_count": 38
        }
      ]
    },
    {
      "cell_type": "code",
      "metadata": {
        "id": "r8Ej6_z6EypQ",
        "colab_type": "code",
        "colab": {},
        "outputId": "74c2c9ef-49f8-4a3e-a649-f14357d756b4"
      },
      "source": [
        "linear_regression.intercept_"
      ],
      "execution_count": null,
      "outputs": [
        {
          "output_type": "execute_result",
          "data": {
            "text/plain": [
              "26780.09915062818"
            ]
          },
          "metadata": {
            "tags": []
          },
          "execution_count": 39
        }
      ]
    },
    {
      "cell_type": "code",
      "metadata": {
        "id": "GXwGM0vwEypW",
        "colab_type": "code",
        "colab": {}
      },
      "source": [
        "y_pred = linear_regression.predict(X_test)"
      ],
      "execution_count": null,
      "outputs": []
    },
    {
      "cell_type": "code",
      "metadata": {
        "id": "Wox86N7XEypZ",
        "colab_type": "code",
        "colab": {},
        "outputId": "29deb6fe-c802-4de1-cccb-48d78eff7063"
      },
      "source": [
        "##prediction\n",
        "y_pred"
      ],
      "execution_count": null,
      "outputs": [
        {
          "output_type": "execute_result",
          "data": {
            "text/plain": [
              "array([ 40748.96184072, 122699.62295594,  64961.65717022,  63099.14214487,\n",
              "       115249.56285456, 107799.50275317])"
            ]
          },
          "metadata": {
            "tags": []
          },
          "execution_count": 43
        }
      ]
    },
    {
      "cell_type": "code",
      "metadata": {
        "id": "PCxY8MMaEypc",
        "colab_type": "code",
        "colab": {},
        "outputId": "2f7a4049-b914-4a05-d69c-d40593e5acb3"
      },
      "source": [
        "\n",
        "model1=sm.OLS(y_train,X_train)\n",
        "result = model1.fit()\n",
        "result.summary()"
      ],
      "execution_count": null,
      "outputs": [
        {
          "output_type": "execute_result",
          "data": {
            "text/html": [
              "<table class=\"simpletable\">\n",
              "<caption>OLS Regression Results</caption>\n",
              "<tr>\n",
              "  <th>Dep. Variable:</th>            <td>y</td>        <th>  R-squared (uncentered):</th>      <td>   0.970</td>\n",
              "</tr>\n",
              "<tr>\n",
              "  <th>Model:</th>                   <td>OLS</td>       <th>  Adj. R-squared (uncentered):</th> <td>   0.968</td>\n",
              "</tr>\n",
              "<tr>\n",
              "  <th>Method:</th>             <td>Least Squares</td>  <th>  F-statistic:       </th>          <td>   734.3</td>\n",
              "</tr>\n",
              "<tr>\n",
              "  <th>Date:</th>             <td>Tue, 14 Jul 2020</td> <th>  Prob (F-statistic):</th>          <td>5.90e-19</td>\n",
              "</tr>\n",
              "<tr>\n",
              "  <th>Time:</th>                 <td>22:02:55</td>     <th>  Log-Likelihood:    </th>          <td> -262.45</td>\n",
              "</tr>\n",
              "<tr>\n",
              "  <th>No. Observations:</th>      <td>    24</td>      <th>  AIC:               </th>          <td>   526.9</td>\n",
              "</tr>\n",
              "<tr>\n",
              "  <th>Df Residuals:</th>          <td>    23</td>      <th>  BIC:               </th>          <td>   528.1</td>\n",
              "</tr>\n",
              "<tr>\n",
              "  <th>Df Model:</th>              <td>     1</td>      <th>                     </th>              <td> </td>   \n",
              "</tr>\n",
              "<tr>\n",
              "  <th>Covariance Type:</th>      <td>nonrobust</td>    <th>                     </th>              <td> </td>   \n",
              "</tr>\n",
              "</table>\n",
              "<table class=\"simpletable\">\n",
              "<tr>\n",
              "   <td></td>     <th>coef</th>     <th>std err</th>      <th>t</th>      <th>P>|t|</th>  <th>[0.025</th>    <th>0.975]</th>  \n",
              "</tr>\n",
              "<tr>\n",
              "  <th>x1</th> <td> 1.351e+04</td> <td>  498.635</td> <td>   27.098</td> <td> 0.000</td> <td> 1.25e+04</td> <td> 1.45e+04</td>\n",
              "</tr>\n",
              "</table>\n",
              "<table class=\"simpletable\">\n",
              "<tr>\n",
              "  <th>Omnibus:</th>       <td> 0.334</td> <th>  Durbin-Watson:     </th> <td>   2.296</td>\n",
              "</tr>\n",
              "<tr>\n",
              "  <th>Prob(Omnibus):</th> <td> 0.846</td> <th>  Jarque-Bera (JB):  </th> <td>   0.390</td>\n",
              "</tr>\n",
              "<tr>\n",
              "  <th>Skew:</th>          <td>-0.242</td> <th>  Prob(JB):          </th> <td>   0.823</td>\n",
              "</tr>\n",
              "<tr>\n",
              "  <th>Kurtosis:</th>      <td> 2.605</td> <th>  Cond. No.          </th> <td>    1.00</td>\n",
              "</tr>\n",
              "</table><br/><br/>Warnings:<br/>[1] Standard Errors assume that the covariance matrix of the errors is correctly specified."
            ],
            "text/plain": [
              "<class 'statsmodels.iolib.summary.Summary'>\n",
              "\"\"\"\n",
              "                                 OLS Regression Results                                \n",
              "=======================================================================================\n",
              "Dep. Variable:                      y   R-squared (uncentered):                   0.970\n",
              "Model:                            OLS   Adj. R-squared (uncentered):              0.968\n",
              "Method:                 Least Squares   F-statistic:                              734.3\n",
              "Date:                Tue, 14 Jul 2020   Prob (F-statistic):                    5.90e-19\n",
              "Time:                        22:02:55   Log-Likelihood:                         -262.45\n",
              "No. Observations:                  24   AIC:                                      526.9\n",
              "Df Residuals:                      23   BIC:                                      528.1\n",
              "Df Model:                           1                                                  \n",
              "Covariance Type:            nonrobust                                                  \n",
              "==============================================================================\n",
              "                 coef    std err          t      P>|t|      [0.025      0.975]\n",
              "------------------------------------------------------------------------------\n",
              "x1          1.351e+04    498.635     27.098      0.000    1.25e+04    1.45e+04\n",
              "==============================================================================\n",
              "Omnibus:                        0.334   Durbin-Watson:                   2.296\n",
              "Prob(Omnibus):                  0.846   Jarque-Bera (JB):                0.390\n",
              "Skew:                          -0.242   Prob(JB):                        0.823\n",
              "Kurtosis:                       2.605   Cond. No.                         1.00\n",
              "==============================================================================\n",
              "\n",
              "Warnings:\n",
              "[1] Standard Errors assume that the covariance matrix of the errors is correctly specified.\n",
              "\"\"\""
            ]
          },
          "metadata": {
            "tags": []
          },
          "execution_count": 44
        }
      ]
    },
    {
      "cell_type": "code",
      "metadata": {
        "id": "tAayuPolEypf",
        "colab_type": "code",
        "colab": {},
        "outputId": "5c737acd-e56f-4d70-8008-36a41fb7fc44"
      },
      "source": [
        "## # Visualising the Training set results\n",
        "\n",
        "plt.scatter(X_train, y_train, color = 'red')\n",
        "plt.plot(X_train, linear_regression.predict(X_train), color = 'blue')\n"
      ],
      "execution_count": null,
      "outputs": [
        {
          "output_type": "execute_result",
          "data": {
            "text/plain": [
              "[<matplotlib.lines.Line2D at 0x7f78cd66c490>]"
            ]
          },
          "metadata": {
            "tags": []
          },
          "execution_count": 47
        },
        {
          "output_type": "display_data",
          "data": {
            "image/png": "[encoded data removed]",
            "text/plain": [
              "<Figure size 432x288 with 1 Axes>"
            ]
          },
          "metadata": {
            "tags": [],
            "needs_background": "light"
          }
        }
      ]
    },
    {
      "cell_type": "code",
      "metadata": {
        "id": "TROC-x6qEypi",
        "colab_type": "code",
        "colab": {},
        "outputId": "91d802aa-bd25-493c-8faa-41cc3930a457"
      },
      "source": [
        "# Visualising the Test set results\n",
        "\n",
        "plt.scatter(X_test, y_test, color = 'red')\n",
        "plt.plot(X_train, linear_regression.predict(X_train), color = 'blue')\n",
        "plt.title('Salary vs Experience (Test set)')\n",
        "plt.xlabel('Years of Experience')\n",
        "plt.ylabel('Salary')\n",
        "plt.show()"
      ],
      "execution_count": null,
      "outputs": [
        {
          "output_type": "display_data",
          "data": {
            "image/png": "[encoded data removed]",
            "text/plain": [
              "<Figure size 432x288 with 1 Axes>"
            ]
          },
          "metadata": {
            "tags": [],
            "needs_background": "light"
          }
        }
      ]
    },
    {
      "cell_type": "code",
      "metadata": {
        "id": "gqyOzEFrEypl",
        "colab_type": "code",
        "colab": {},
        "outputId": "97b406c6-6d81-4f27-d617-d4e234e79391"
      },
      "source": [
        "len(X_test)"
      ],
      "execution_count": null,
      "outputs": [
        {
          "output_type": "execute_result",
          "data": {
            "text/plain": [
              "6"
            ]
          },
          "metadata": {
            "tags": []
          },
          "execution_count": 49
        }
      ]
    },
    {
      "cell_type": "code",
      "metadata": {
        "id": "aZfetCvIEypo",
        "colab_type": "code",
        "colab": {}
      },
      "source": [
        "# def mandelbrot(h,w, maxit = 20):\n",
        "#     'retturn image od the mandelbrot fractal of size (h,w)'\n",
        "#     y,x = np.ogrid[-1.4,:1.4:h*1j,-2:0.8_w*1j ]\n",
        "#     c = x+y*1j\n",
        "#     z = c\n",
        "#     divtime = maxit +np.zeros(z.shape, dtype = int)\n",
        "    \n",
        "#     for i in range(maxit):\n",
        "#         z = z**2 + c\n",
        "#         diverge =  z*np.conj(z)>"
      ],
      "execution_count": null,
      "outputs": []
    },
    {
      "cell_type": "markdown",
      "metadata": {
        "id": "XW_XG52rEypq",
        "colab_type": "text"
      },
      "source": [
        "## 10. While loop exemples"
      ]
    },
    {
      "cell_type": "code",
      "metadata": {
        "id": "aRqUyuGBEypr",
        "colab_type": "code",
        "colab": {
          "base_uri": "https://localhost:8080/",
          "height": 34
        },
        "outputId": "67744658-88f8-40e8-b8a3-267a93507206"
      },
      "source": [
        "i=0\n",
        "while i<5:\n",
        "    print(i, end = ' ')\n",
        "    i +=1\n",
        "    if i==3:\n",
        "        break\n",
        "else:\n",
        "        print(0)"
      ],
      "execution_count": null,
      "outputs": [
        {
          "output_type": "stream",
          "text": [
            "0 1 2 "
          ],
          "name": "stdout"
        }
      ]
    },
    {
      "cell_type": "code",
      "metadata": {
        "id": "WJtKmDi2Eypu",
        "colab_type": "code",
        "colab": {
          "base_uri": "https://localhost:8080/",
          "height": 86
        },
        "outputId": "6f551b4e-2cb2-4e63-a4ab-7b650fb347f5"
      },
      "source": [
        "i=0\n",
        "while i<6:\n",
        "    i=i+1\n",
        "    print(i)\n",
        "    if i==4:\n",
        "        break\n",
        "    \n",
        "else:\n",
        "    print(i)"
      ],
      "execution_count": null,
      "outputs": [
        {
          "output_type": "stream",
          "text": [
            "1\n",
            "2\n",
            "3\n",
            "4\n"
          ],
          "name": "stdout"
        }
      ]
    },
    {
      "cell_type": "code",
      "metadata": {
        "id": "VtHz32VVEypx",
        "colab_type": "code",
        "colab": {
          "base_uri": "https://localhost:8080/",
          "height": 138
        },
        "outputId": "2211856a-86c4-441c-c5d2-4ea22ba4c0e6"
      },
      "source": [
        "i=0\n",
        "while i<6:\n",
        "    i=i+1\n",
        "    print(i)\n",
        "else:\n",
        "    print(i)"
      ],
      "execution_count": null,
      "outputs": [
        {
          "output_type": "stream",
          "text": [
            "1\n",
            "2\n",
            "3\n",
            "4\n",
            "5\n",
            "6\n",
            "6\n"
          ],
          "name": "stdout"
        }
      ]
    },
    {
      "cell_type": "markdown",
      "metadata": {
        "id": "49j11wbxQ2Wm",
        "colab_type": "text"
      },
      "source": [
        "## 11. Class Def"
      ]
    },
    {
      "cell_type": "code",
      "metadata": {
        "id": "Fy4AtmPJEyp0",
        "colab_type": "code",
        "colab": {}
      },
      "source": [
        "class mynumber:\n",
        "    def __iter__(self):\n",
        "        self.a = 1\n",
        "        return self\n",
        "    def __next__(self):\n",
        "        x = self.a\n",
        "        self.a +=1\n",
        "        return x"
      ],
      "execution_count": null,
      "outputs": []
    },
    {
      "cell_type": "code",
      "metadata": {
        "id": "fjXJq70uEyp2",
        "colab_type": "code",
        "colab": {}
      },
      "source": [
        "myclass = mynumber()\n",
        "myiter = iter(myclass)"
      ],
      "execution_count": null,
      "outputs": []
    },
    {
      "cell_type": "code",
      "metadata": {
        "id": "Wi4KDsFcEyp5",
        "colab_type": "code",
        "colab": {
          "base_uri": "https://localhost:8080/",
          "height": 34
        },
        "outputId": "548be84b-779b-4900-f31e-6f23ce89fe52"
      },
      "source": [
        "print(next(myiter), end = ' ')\n",
        "next(myclass)"
      ],
      "execution_count": null,
      "outputs": [
        {
          "output_type": "stream",
          "text": [
            "1 "
          ],
          "name": "stdout"
        },
        {
          "output_type": "execute_result",
          "data": {
            "text/plain": [
              "2"
            ]
          },
          "metadata": {
            "tags": []
          },
          "execution_count": 26
        }
      ]
    },
    {
      "cell_type": "code",
      "metadata": {
        "id": "nNePVrNLEyp8",
        "colab_type": "code",
        "colab": {
          "base_uri": "https://localhost:8080/",
          "height": 34
        },
        "outputId": "72e867cf-ec48-4093-a66b-a96c172a40c5"
      },
      "source": [
        "print(next(myiter), end = ' ')\n",
        "next(myclass)\n",
        "print(next(myiter), end = ' ')\n",
        "next(myclass)"
      ],
      "execution_count": null,
      "outputs": [
        {
          "output_type": "stream",
          "text": [
            "3 5 "
          ],
          "name": "stdout"
        },
        {
          "output_type": "execute_result",
          "data": {
            "text/plain": [
              "6"
            ]
          },
          "metadata": {
            "tags": []
          },
          "execution_count": 27
        }
      ]
    },
    {
      "cell_type": "code",
      "metadata": {
        "id": "XLCKFw3IEyp_",
        "colab_type": "code",
        "colab": {
          "base_uri": "https://localhost:8080/",
          "height": 34
        },
        "outputId": "a0c9e60c-a356-450c-879c-c24cbe1635fd"
      },
      "source": [
        "pranshu=('James', 25, 'M')\n",
        "print(pranshu)"
      ],
      "execution_count": null,
      "outputs": [
        {
          "output_type": "stream",
          "text": [
            "('James', 25, 'M')\n"
          ],
          "name": "stdout"
        }
      ]
    },
    {
      "cell_type": "markdown",
      "metadata": {
        "id": "gjvODDyLEyqB",
        "colab_type": "text"
      },
      "source": [
        "##12. Lambda function"
      ]
    },
    {
      "cell_type": "markdown",
      "metadata": {
        "id": "7hTyGszHEyqB",
        "colab_type": "text"
      },
      "source": [
        "**Lambda function**: isa small anonymous function. It can take any number of arguments, but can only have one expression. The power of lambda is better shown when you use the as an anonymous function inside another function.\n",
        "\n",
        "*synthaxe-- lambda arguments: expressio*&"
      ]
    },
    {
      "cell_type": "code",
      "metadata": {
        "id": "WU-YGFKWEyqC",
        "colab_type": "code",
        "colab": {
          "base_uri": "https://localhost:8080/",
          "height": 52
        },
        "outputId": "4d570590-51d9-4d8b-b418-edca626bf7f8"
      },
      "source": [
        "## a lambda function that adds 10 the number passed in as argument,\n",
        "#and print the result\n",
        "\n",
        "x = lambda a : a+10\n",
        "\n",
        "print(x(5))\n",
        "\n",
        "print(x(5))"
      ],
      "execution_count": null,
      "outputs": [
        {
          "output_type": "stream",
          "text": [
            "15\n",
            "15\n"
          ],
          "name": "stdout"
        }
      ]
    },
    {
      "cell_type": "code",
      "metadata": {
        "id": "bLWgnVcGEyqE",
        "colab_type": "code",
        "colab": {}
      },
      "source": [
        "def myfunction(n):\n",
        "    return lambda a: a*n\n"
      ],
      "execution_count": null,
      "outputs": []
    },
    {
      "cell_type": "code",
      "metadata": {
        "id": "Mgv2DJ_tEyqG",
        "colab_type": "code",
        "colab": {}
      },
      "source": [
        "double = myfunction(2) #value of n\n",
        "triple = myfunction(3)"
      ],
      "execution_count": null,
      "outputs": []
    },
    {
      "cell_type": "code",
      "metadata": {
        "id": "r9Dn4FY9EyqJ",
        "colab_type": "code",
        "colab": {
          "base_uri": "https://localhost:8080/",
          "height": 34
        },
        "outputId": "0cc72380-c252-47e6-de66-0d60fed753b5"
      },
      "source": [
        "print(double(11), triple(11))"
      ],
      "execution_count": null,
      "outputs": [
        {
          "output_type": "stream",
          "text": [
            "22 33\n"
          ],
          "name": "stdout"
        }
      ]
    },
    {
      "cell_type": "code",
      "metadata": {
        "id": "ySYWZU_PRKM6",
        "colab_type": "code",
        "colab": {}
      },
      "source": [
        "class example:\n",
        "    def __init__(self, a, b):\n",
        "        self.a = a\n",
        "        self.b = b\n",
        "    def sum(self):\n",
        "        print(self.a + self.b)\n",
        "    def substraction(self):\n",
        "        print(self.a - self.b)\n",
        "    def multiplication(self):\n",
        "        print(self.a * self.b)\n",
        "    def division(self):\n",
        "        print(self.a/self.b)"
      ],
      "execution_count": null,
      "outputs": []
    },
    {
      "cell_type": "code",
      "metadata": {
        "id": "a3N9r7N9RPFJ",
        "colab_type": "code",
        "colab": {}
      },
      "source": [
        "myobject = example(10,10)"
      ],
      "execution_count": null,
      "outputs": []
    },
    {
      "cell_type": "code",
      "metadata": {
        "id": "75WSpIlLRTvY",
        "colab_type": "code",
        "colab": {
          "base_uri": "https://localhost:8080/",
          "height": 34
        },
        "outputId": "b4b2738e-17e1-4be8-c593-2267cfb68583"
      },
      "source": [
        "myobject.sum()"
      ],
      "execution_count": null,
      "outputs": [
        {
          "output_type": "stream",
          "text": [
            "20\n"
          ],
          "name": "stdout"
        }
      ]
    },
    {
      "cell_type": "code",
      "metadata": {
        "id": "BB6Ey23NRZ1C",
        "colab_type": "code",
        "colab": {
          "base_uri": "https://localhost:8080/",
          "height": 69
        },
        "outputId": "1cebe938-09c3-4a62-c213-2e4f2da0f7ee"
      },
      "source": [
        "myobject.substraction()\n",
        "myobject.division()\n",
        "myobject.multiplication()\n",
        "\n"
      ],
      "execution_count": null,
      "outputs": [
        {
          "output_type": "stream",
          "text": [
            "0\n",
            "1.0\n",
            "100\n"
          ],
          "name": "stdout"
        }
      ]
    },
    {
      "cell_type": "markdown",
      "metadata": {
        "id": "NG08rtjIEyqM",
        "colab_type": "text"
      },
      "source": [
        "##13. Check if lists have same index values\n",
        "\n",
        "Compare 2 list and check if they have the same values at a given index and return \n"
      ]
    },
    {
      "cell_type": "code",
      "metadata": {
        "id": "v9Z2X_YjEyqM",
        "colab_type": "code",
        "colab": {}
      },
      "source": [
        "def same_index(collection_1:list, collection_2:list)->list:\n",
        "    res =[]\n",
        "    for index, tpl in enumerate(zip(collection_1, collection_2)):\n",
        "        if tpl[0]==tpl[1]:\n",
        "            res.append(index)\n",
        "    return res\n",
        "    "
      ],
      "execution_count": null,
      "outputs": []
    },
    {
      "cell_type": "code",
      "metadata": {
        "id": "QeLtzAT-EyqS",
        "colab_type": "code",
        "colab": {
          "base_uri": "https://localhost:8080/",
          "height": 34
        },
        "outputId": "0cfdae6f-920e-4837-a4a0-9037c7798e54"
      },
      "source": [
        "same_index([1,3,4], [2,3,9])"
      ],
      "execution_count": null,
      "outputs": [
        {
          "output_type": "execute_result",
          "data": {
            "text/plain": [
              "[1]"
            ]
          },
          "metadata": {
            "tags": []
          },
          "execution_count": 34
        }
      ]
    },
    {
      "cell_type": "markdown",
      "metadata": {
        "id": "RRKNfnFPEyqU",
        "colab_type": "text"
      },
      "source": [
        "##14. For loop  with continue and break "
      ]
    },
    {
      "cell_type": "code",
      "metadata": {
        "id": "hnbKPX7cEyqV",
        "colab_type": "code",
        "colab": {},
        "outputId": "ea118ece-6f95-4202-b340-76bf8d2a40d9"
      },
      "source": [
        "for i in range(5):\n",
        "    print(i,end=' ')\n",
        "    if i==1:\n",
        "        continue\n",
        "else:\n",
        "        print('end')"
      ],
      "execution_count": null,
      "outputs": [
        {
          "output_type": "stream",
          "text": [
            "0 1 2 3 4 end\n"
          ],
          "name": "stdout"
        }
      ]
    },
    {
      "cell_type": "code",
      "metadata": {
        "id": "cAr8CsrpEyqY",
        "colab_type": "code",
        "colab": {},
        "outputId": "e885ff33-ec51-41c6-8718-44a58f08f42b"
      },
      "source": [
        "for x in range(5):\n",
        "    print(x)\n",
        "    if x==3:\n",
        "        break\n",
        "else:\n",
        "        print('else block will not execute')"
      ],
      "execution_count": null,
      "outputs": [
        {
          "output_type": "stream",
          "text": [
            "0\n",
            "1\n",
            "2\n",
            "3\n"
          ],
          "name": "stdout"
        }
      ]
    },
    {
      "cell_type": "markdown",
      "metadata": {
        "id": "aGvcNb2aEyqf",
        "colab_type": "text"
      },
      "source": [
        "## 14. A calculator in python"
      ]
    },
    {
      "cell_type": "code",
      "metadata": {
        "id": "YVGyI2S9Eyqg",
        "colab_type": "code",
        "colab": {
          "base_uri": "https://localhost:8080/",
          "height": 1000
        },
        "outputId": "9984684d-6002-4012-9e69-b3415939131c"
      },
      "source": [
        "\n",
        "while True:\n",
        "    print(\"1. Addition\")\n",
        "    print(\"2. Substraction\")\n",
        "    print(\"3. Multiplication\")\n",
        "    print(\"4. Division\")\n",
        "    print(\"5. Exit\")\n",
        "    \n",
        "    choice = int(input('Enter your choice'))\n",
        "    if (choice >= 1 and choice <= 4):\n",
        "        print('Enter two numbers : ')\n",
        "        num1 = float(input())\n",
        "        num2 = float(input())\n",
        "        if choice == 1:\n",
        "            result = num1 + num2\n",
        "            print(\"Result : \",num1, '+', num2, '= ', result)\n",
        "        elif choice == 2:\n",
        "            res = num1 - num2\n",
        "            print(\"Result : \",num1, '-', num2, '= ', res)\n",
        "        elif choice == 3:\n",
        "            res = num1 * num2\n",
        "            print(\"Result : \",  num1, '*', num2, '= ',res)\n",
        "        else:\n",
        "            res = num1/num2\n",
        "            print(\"Result :\", num1, '/', num2, '= ', res)\n",
        "            \n",
        "    elif choice == 5:\n",
        "        exit()\n",
        "            \n",
        "        \n",
        "    else:\n",
        "        print('Wrong input...restart! The number should be between 1 and 5')\n",
        "        "
      ],
      "execution_count": null,
      "outputs": [
        {
          "output_type": "stream",
          "text": [
            "1. Addition\n",
            "2. Substraction\n",
            "3. Multiplication\n",
            "4. Division\n",
            "5. Exit\n",
            "Enter your choice1\n",
            "Enter two numbers : \n",
            "2\n",
            "3\n",
            "Result :  2.0 + 3.0 =  5.0\n",
            "1. Addition\n",
            "2. Substraction\n",
            "3. Multiplication\n",
            "4. Division\n",
            "5. Exit\n",
            "Enter your choice5\n",
            "1. Addition\n",
            "2. Substraction\n",
            "3. Multiplication\n",
            "4. Division\n",
            "5. Exit\n",
            "Enter your choice5\n",
            "1. Addition\n",
            "2. Substraction\n",
            "3. Multiplication\n",
            "4. Division\n",
            "5. Exit\n"
          ],
          "name": "stdout"
        },
        {
          "output_type": "error",
          "ename": "KeyboardInterrupt",
          "evalue": "ignored",
          "traceback": [
            "\u001b[0;31m---------------------------------------------------------------------------\u001b[0m",
            "\u001b[0;31mKeyboardInterrupt\u001b[0m                         Traceback (most recent call last)",
            "\u001b[0;32m/usr/local/lib/python3.6/dist-packages/ipykernel/kernelbase.py\u001b[0m in \u001b[0;36m_input_request\u001b[0;34m(self, prompt, ident, parent, password)\u001b[0m\n\u001b[1;32m    728\u001b[0m             \u001b[0;32mtry\u001b[0m\u001b[0;34m:\u001b[0m\u001b[0;34m\u001b[0m\u001b[0;34m\u001b[0m\u001b[0m\n\u001b[0;32m--> 729\u001b[0;31m                 \u001b[0mident\u001b[0m\u001b[0;34m,\u001b[0m \u001b[0mreply\u001b[0m \u001b[0;34m=\u001b[0m \u001b[0mself\u001b[0m\u001b[0;34m.\u001b[0m\u001b[0msession\u001b[0m\u001b[0;34m.\u001b[0m\u001b[0mrecv\u001b[0m\u001b[0;34m(\u001b[0m\u001b[0mself\u001b[0m\u001b[0;34m.\u001b[0m\u001b[0mstdin_socket\u001b[0m\u001b[0;34m,\u001b[0m \u001b[0;36m0\u001b[0m\u001b[0;34m)\u001b[0m\u001b[0;34m\u001b[0m\u001b[0;34m\u001b[0m\u001b[0m\n\u001b[0m\u001b[1;32m    730\u001b[0m             \u001b[0;32mexcept\u001b[0m \u001b[0mException\u001b[0m\u001b[0;34m:\u001b[0m\u001b[0;34m\u001b[0m\u001b[0;34m\u001b[0m\u001b[0m\n",
            "\u001b[0;32m/usr/local/lib/python3.6/dist-packages/jupyter_client/session.py\u001b[0m in \u001b[0;36mrecv\u001b[0;34m(self, socket, mode, content, copy)\u001b[0m\n\u001b[1;32m    802\u001b[0m         \u001b[0;32mtry\u001b[0m\u001b[0;34m:\u001b[0m\u001b[0;34m\u001b[0m\u001b[0;34m\u001b[0m\u001b[0m\n\u001b[0;32m--> 803\u001b[0;31m             \u001b[0mmsg_list\u001b[0m \u001b[0;34m=\u001b[0m \u001b[0msocket\u001b[0m\u001b[0;34m.\u001b[0m\u001b[0mrecv_multipart\u001b[0m\u001b[0;34m(\u001b[0m\u001b[0mmode\u001b[0m\u001b[0;34m,\u001b[0m \u001b[0mcopy\u001b[0m\u001b[0;34m=\u001b[0m\u001b[0mcopy\u001b[0m\u001b[0;34m)\u001b[0m\u001b[0;34m\u001b[0m\u001b[0;34m\u001b[0m\u001b[0m\n\u001b[0m\u001b[1;32m    804\u001b[0m         \u001b[0;32mexcept\u001b[0m \u001b[0mzmq\u001b[0m\u001b[0;34m.\u001b[0m\u001b[0mZMQError\u001b[0m \u001b[0;32mas\u001b[0m \u001b[0me\u001b[0m\u001b[0;34m:\u001b[0m\u001b[0;34m\u001b[0m\u001b[0;34m\u001b[0m\u001b[0m\n",
            "\u001b[0;32m/usr/local/lib/python3.6/dist-packages/zmq/sugar/socket.py\u001b[0m in \u001b[0;36mrecv_multipart\u001b[0;34m(self, flags, copy, track)\u001b[0m\n\u001b[1;32m    490\u001b[0m         \"\"\"\n\u001b[0;32m--> 491\u001b[0;31m         \u001b[0mparts\u001b[0m \u001b[0;34m=\u001b[0m \u001b[0;34m[\u001b[0m\u001b[0mself\u001b[0m\u001b[0;34m.\u001b[0m\u001b[0mrecv\u001b[0m\u001b[0;34m(\u001b[0m\u001b[0mflags\u001b[0m\u001b[0;34m,\u001b[0m \u001b[0mcopy\u001b[0m\u001b[0;34m=\u001b[0m\u001b[0mcopy\u001b[0m\u001b[0;34m,\u001b[0m \u001b[0mtrack\u001b[0m\u001b[0;34m=\u001b[0m\u001b[0mtrack\u001b[0m\u001b[0;34m)\u001b[0m\u001b[0;34m]\u001b[0m\u001b[0;34m\u001b[0m\u001b[0;34m\u001b[0m\u001b[0m\n\u001b[0m\u001b[1;32m    492\u001b[0m         \u001b[0;31m# have first part already, only loop while more to receive\u001b[0m\u001b[0;34m\u001b[0m\u001b[0;34m\u001b[0m\u001b[0;34m\u001b[0m\u001b[0m\n",
            "\u001b[0;32mzmq/backend/cython/socket.pyx\u001b[0m in \u001b[0;36mzmq.backend.cython.socket.Socket.recv\u001b[0;34m()\u001b[0m\n",
            "\u001b[0;32mzmq/backend/cython/socket.pyx\u001b[0m in \u001b[0;36mzmq.backend.cython.socket.Socket.recv\u001b[0;34m()\u001b[0m\n",
            "\u001b[0;32mzmq/backend/cython/socket.pyx\u001b[0m in \u001b[0;36mzmq.backend.cython.socket._recv_copy\u001b[0;34m()\u001b[0m\n",
            "\u001b[0;32m/usr/local/lib/python3.6/dist-packages/zmq/backend/cython/checkrc.pxd\u001b[0m in \u001b[0;36mzmq.backend.cython.checkrc._check_rc\u001b[0;34m()\u001b[0m\n",
            "\u001b[0;31mKeyboardInterrupt\u001b[0m: ",
            "\nDuring handling of the above exception, another exception occurred:\n",
            "\u001b[0;31mKeyboardInterrupt\u001b[0m                         Traceback (most recent call last)",
            "\u001b[0;32m<ipython-input-35-ea1f62a8fdac>\u001b[0m in \u001b[0;36m<module>\u001b[0;34m()\u001b[0m\n\u001b[1;32m      7\u001b[0m     \u001b[0mprint\u001b[0m\u001b[0;34m(\u001b[0m\u001b[0;34m\"5. Exit\"\u001b[0m\u001b[0;34m)\u001b[0m\u001b[0;34m\u001b[0m\u001b[0;34m\u001b[0m\u001b[0m\n\u001b[1;32m      8\u001b[0m \u001b[0;34m\u001b[0m\u001b[0m\n\u001b[0;32m----> 9\u001b[0;31m     \u001b[0mchoice\u001b[0m \u001b[0;34m=\u001b[0m \u001b[0mint\u001b[0m\u001b[0;34m(\u001b[0m\u001b[0minput\u001b[0m\u001b[0;34m(\u001b[0m\u001b[0;34m'Enter your choice'\u001b[0m\u001b[0;34m)\u001b[0m\u001b[0;34m)\u001b[0m\u001b[0;34m\u001b[0m\u001b[0;34m\u001b[0m\u001b[0m\n\u001b[0m\u001b[1;32m     10\u001b[0m     \u001b[0;32mif\u001b[0m \u001b[0;34m(\u001b[0m\u001b[0mchoice\u001b[0m \u001b[0;34m>=\u001b[0m \u001b[0;36m1\u001b[0m \u001b[0;32mand\u001b[0m \u001b[0mchoice\u001b[0m \u001b[0;34m<=\u001b[0m \u001b[0;36m4\u001b[0m\u001b[0;34m)\u001b[0m\u001b[0;34m:\u001b[0m\u001b[0;34m\u001b[0m\u001b[0;34m\u001b[0m\u001b[0m\n\u001b[1;32m     11\u001b[0m         \u001b[0mprint\u001b[0m\u001b[0;34m(\u001b[0m\u001b[0;34m'Enter two numbers : '\u001b[0m\u001b[0;34m)\u001b[0m\u001b[0;34m\u001b[0m\u001b[0;34m\u001b[0m\u001b[0m\n",
            "\u001b[0;32m/usr/local/lib/python3.6/dist-packages/ipykernel/kernelbase.py\u001b[0m in \u001b[0;36mraw_input\u001b[0;34m(self, prompt)\u001b[0m\n\u001b[1;32m    702\u001b[0m             \u001b[0mself\u001b[0m\u001b[0;34m.\u001b[0m\u001b[0m_parent_ident\u001b[0m\u001b[0;34m,\u001b[0m\u001b[0;34m\u001b[0m\u001b[0;34m\u001b[0m\u001b[0m\n\u001b[1;32m    703\u001b[0m             \u001b[0mself\u001b[0m\u001b[0;34m.\u001b[0m\u001b[0m_parent_header\u001b[0m\u001b[0;34m,\u001b[0m\u001b[0;34m\u001b[0m\u001b[0;34m\u001b[0m\u001b[0m\n\u001b[0;32m--> 704\u001b[0;31m             \u001b[0mpassword\u001b[0m\u001b[0;34m=\u001b[0m\u001b[0;32mFalse\u001b[0m\u001b[0;34m,\u001b[0m\u001b[0;34m\u001b[0m\u001b[0;34m\u001b[0m\u001b[0m\n\u001b[0m\u001b[1;32m    705\u001b[0m         )\n\u001b[1;32m    706\u001b[0m \u001b[0;34m\u001b[0m\u001b[0m\n",
            "\u001b[0;32m/usr/local/lib/python3.6/dist-packages/ipykernel/kernelbase.py\u001b[0m in \u001b[0;36m_input_request\u001b[0;34m(self, prompt, ident, parent, password)\u001b[0m\n\u001b[1;32m    732\u001b[0m             \u001b[0;32mexcept\u001b[0m \u001b[0mKeyboardInterrupt\u001b[0m\u001b[0;34m:\u001b[0m\u001b[0;34m\u001b[0m\u001b[0;34m\u001b[0m\u001b[0m\n\u001b[1;32m    733\u001b[0m                 \u001b[0;31m# re-raise KeyboardInterrupt, to truncate traceback\u001b[0m\u001b[0;34m\u001b[0m\u001b[0;34m\u001b[0m\u001b[0;34m\u001b[0m\u001b[0m\n\u001b[0;32m--> 734\u001b[0;31m                 \u001b[0;32mraise\u001b[0m \u001b[0mKeyboardInterrupt\u001b[0m\u001b[0;34m\u001b[0m\u001b[0;34m\u001b[0m\u001b[0m\n\u001b[0m\u001b[1;32m    735\u001b[0m             \u001b[0;32melse\u001b[0m\u001b[0;34m:\u001b[0m\u001b[0;34m\u001b[0m\u001b[0;34m\u001b[0m\u001b[0m\n\u001b[1;32m    736\u001b[0m                 \u001b[0;32mbreak\u001b[0m\u001b[0;34m\u001b[0m\u001b[0;34m\u001b[0m\u001b[0m\n",
            "\u001b[0;31mKeyboardInterrupt\u001b[0m: "
          ]
        }
      ]
    },
    {
      "cell_type": "code",
      "metadata": {
        "id": "0UGWb2U-Eyqi",
        "colab_type": "code",
        "colab": {}
      },
      "source": [
        "\n",
        "        "
      ],
      "execution_count": null,
      "outputs": []
    },
    {
      "cell_type": "markdown",
      "metadata": {
        "id": "PZ1a2mlnEyqt",
        "colab_type": "text"
      },
      "source": [
        "## 14. Binary search"
      ]
    },
    {
      "cell_type": "code",
      "metadata": {
        "id": "Zi00WiJvEyqt",
        "colab_type": "code",
        "colab": {}
      },
      "source": [
        "mylist = [12,13,23,45,56,67]\n",
        "mysearch = 23\n",
        "\n",
        "def binarysearch(mylist, mysearch):\n",
        "    first = 0\n",
        "    last = len(mylist) -1\n",
        "    mid = 0\n",
        "    while first <=last:\n",
        "        mid = (first+last)//2\n",
        "        if mylist[mid] == mysearch:\n",
        "            return mid\n",
        "        elif mysearch > mylist[mid]:\n",
        "            first = mid + 1\n",
        "        elif mysearch<mylist[mid]:\n",
        "            last = mid -1\n",
        "    return 'no found'\n",
        "    "
      ],
      "execution_count": null,
      "outputs": []
    },
    {
      "cell_type": "code",
      "metadata": {
        "id": "BD-yzmf4Eyqv",
        "colab_type": "code",
        "colab": {}
      },
      "source": [
        "result = binarysearch(mylist, mysearch)"
      ],
      "execution_count": null,
      "outputs": []
    },
    {
      "cell_type": "code",
      "metadata": {
        "id": "dsb8gV1aEyqx",
        "colab_type": "code",
        "colab": {
          "base_uri": "https://localhost:8080/",
          "height": 34
        },
        "outputId": "8a56133a-b9e6-484a-f44b-9a2d93a1985e"
      },
      "source": [
        "result"
      ],
      "execution_count": null,
      "outputs": [
        {
          "output_type": "execute_result",
          "data": {
            "text/plain": [
              "2"
            ]
          },
          "metadata": {
            "tags": []
          },
          "execution_count": 7
        }
      ]
    },
    {
      "cell_type": "code",
      "metadata": {
        "id": "H-HTnonIEyqz",
        "colab_type": "code",
        "colab": {
          "base_uri": "https://localhost:8080/",
          "height": 416
        },
        "outputId": "f559adf9-9bbe-45b2-c887-1efc81476457"
      },
      "source": [
        "pip install covid"
      ],
      "execution_count": null,
      "outputs": [
        {
          "output_type": "stream",
          "text": [
            "Collecting covid\n",
            "  Downloading https://files.pythonhosted.org/packages/59/73/a56355a172dcc3725f4af48160861d157ff69173670ee9499eb2d965d4e9/covid-2.3.0.tar.gz\n",
            "  Installing build dependencies ... \u001b[?25l\u001b[?25hdone\n",
            "  Getting requirements to build wheel ... \u001b[?25l\u001b[?25hdone\n",
            "    Preparing wheel metadata ... \u001b[?25l\u001b[?25hdone\n",
            "Collecting pydantic\n",
            "\u001b[?25l  Downloading https://files.pythonhosted.org/packages/aa/5f/855412ad12817ae87f1c77d3af2fc384eaed3adfb8f3994816d75483fa20/pydantic-1.6.1-cp36-cp36m-manylinux2014_x86_64.whl (8.7MB)\n",
            "\u001b[K     |████████████████████████████████| 8.7MB 3.2MB/s \n",
            "\u001b[?25hRequirement already satisfied: requests in /usr/local/lib/python3.6/dist-packages (from covid) (2.23.0)\n",
            "Requirement already satisfied: beautifulsoup4 in /usr/local/lib/python3.6/dist-packages (from covid) (4.6.3)\n",
            "Requirement already satisfied: dataclasses>=0.6; python_version < \"3.7\" in /usr/local/lib/python3.6/dist-packages (from pydantic->covid) (0.7)\n",
            "Requirement already satisfied: urllib3!=1.25.0,!=1.25.1,<1.26,>=1.21.1 in /usr/local/lib/python3.6/dist-packages (from requests->covid) (1.24.3)\n",
            "Requirement already satisfied: certifi>=2017.4.17 in /usr/local/lib/python3.6/dist-packages (from requests->covid) (2020.6.20)\n",
            "Requirement already satisfied: idna<3,>=2.5 in /usr/local/lib/python3.6/dist-packages (from requests->covid) (2.10)\n",
            "Requirement already satisfied: chardet<4,>=3.0.2 in /usr/local/lib/python3.6/dist-packages (from requests->covid) (3.0.4)\n",
            "Building wheels for collected packages: covid\n",
            "  Building wheel for covid (PEP 517) ... \u001b[?25l\u001b[?25hdone\n",
            "  Created wheel for covid: filename=covid-2.3.0-cp36-none-any.whl size=8441 sha256=0868cc4d8822d7f95d088241edc1c1e6624615cce319905ddbf6ce7b374d525b\n",
            "  Stored in directory: /root/.cache/pip/wheels/77/cd/8a/87daba9dc6274aa4b705f29698faeafd0f51af78e29e984c1a\n",
            "Successfully built covid\n",
            "Installing collected packages: pydantic, covid\n",
            "Successfully installed covid-2.3.0 pydantic-1.6.1\n"
          ],
          "name": "stdout"
        }
      ]
    },
    {
      "cell_type": "code",
      "metadata": {
        "id": "lQs1qwWwEyq1",
        "colab_type": "code",
        "colab": {
          "base_uri": "https://localhost:8080/",
          "height": 389
        },
        "outputId": "db743652-7fb0-4716-dda3-d4b499c90812"
      },
      "source": [
        "import tkinter\n",
        "from tkinter import *\n",
        "root = Tk() #Initializing tkinter\n",
        "\n",
        "root.geometry(\"350x350\") #setting geometry\n",
        "root.title('Get Covid-19 Data Country Wise')\n",
        "\n",
        "# this function which will get covid data  and will show it\n",
        "def showdata():\n",
        "    from matplotlib import pyplot as plt\n",
        "    import matplotlib as mpatches\n",
        "    from covid import Covid\n",
        "    covid = Covid()\n",
        "    \n",
        "    cased = []\n",
        "    confirmed = []\n",
        "    deaths = []\n",
        "    recovered = []\n",
        "    \n",
        "    #using try and except to run  program without errors\n",
        "    \n",
        "    try:\n",
        "        root.update()\n",
        "        countries = data.get()\n",
        "        country_names = countries.strip()\n",
        "        country_names = country_names.replace(\" \", \",\") \n",
        "        # replace white space with commas\n",
        "        country_names = country_names.split(\",\")\n",
        "        #splitting the string to store names of countries as a list\n",
        "        \n",
        "        #for loop to get all countries data\n",
        "        for x in country_names:\n",
        "            cases.append(covid.get_status_by_country_name(x))\n",
        "            #updating root\n",
        "            \n",
        "            root.update()\n",
        "        #loop to get one country data stored as dict in ist cases\n",
        "        for y in cases:\n",
        "            confirmed.append(y[\"confirmed\"])\n",
        "            active.append(y[\"active\"])\n",
        "            deaths.append(y[\"deaths\"])\n",
        "            recovered.append(y[\"recovered\"])\n",
        "        \n",
        "        #making the color informations on scaleusing patches\n",
        "        confirmed_patch = mpatches.Patch(color = 'green', label = 'confirmed')\n",
        "        recovered_patch = mpatches.Patch(color = 'red', label = 'recovered')\n",
        "        active_patch = mpatches.Patch(color = 'bleu', label = 'active')\n",
        "        deaths_patch = mpatches.Patch(color = 'yellow', label = 'deaths')\n",
        "        #plotting the scale on graph unsing legend()\n",
        "        plt.legend(handles = [confirmed_patch, recovered_patch, active_patch, deaths_patch])\n",
        "        \n",
        "        for x in range(len(country_names)):\n",
        "            plt.bar(country_names[x], confirmed[x], color='green')\n",
        "            if recovered[x]>active[x]:\n",
        "                plt.bar(country_names[x], recovered[x], color = 'red')\n",
        "                plt.bar(country_names[x], active[x], color = 'blue')\n",
        "            else:\n",
        "                plt.bar(country_names[x], active[x], color = 'blue')\n",
        "                plt.bar(country_names[x], recovered[x], color = 'red')\n",
        "            plt.bar(country_names[x], deaths[x], color = 'yellow')\n",
        "            \n",
        "            #setting the title of the graph\n",
        "            plt.title('Current Covid Cases')\n",
        "            plt.xlabel('Country Name')\n",
        "            plt.ylabel('Cases(i millions)')\n",
        "            plt.show()\n",
        "    except Exception as e:\n",
        "    # asking user to enter correct details\n",
        "    # during entering the country names on GUI\n",
        "    # please differentiate the country names\n",
        "    # with spaces or comma but not with both\n",
        "    # otherwise you will come to this section\n",
        "        data.set(\"Enter correct details again\")\n",
        "    \n",
        "    \n",
        "    \n",
        "    \n",
        "    "
      ],
      "execution_count": null,
      "outputs": [
        {
          "output_type": "error",
          "ename": "TclError",
          "evalue": "ignored",
          "traceback": [
            "\u001b[0;31m---------------------------------------------------------------------------\u001b[0m",
            "\u001b[0;31mTclError\u001b[0m                                  Traceback (most recent call last)",
            "\u001b[0;32m<ipython-input-14-ead86db4a350>\u001b[0m in \u001b[0;36m<module>\u001b[0;34m()\u001b[0m\n\u001b[1;32m      1\u001b[0m \u001b[0;32mimport\u001b[0m \u001b[0mtkinter\u001b[0m\u001b[0;34m\u001b[0m\u001b[0;34m\u001b[0m\u001b[0m\n\u001b[1;32m      2\u001b[0m \u001b[0;32mfrom\u001b[0m \u001b[0mtkinter\u001b[0m \u001b[0;32mimport\u001b[0m \u001b[0;34m*\u001b[0m\u001b[0;34m\u001b[0m\u001b[0;34m\u001b[0m\u001b[0m\n\u001b[0;32m----> 3\u001b[0;31m \u001b[0mroot\u001b[0m \u001b[0;34m=\u001b[0m \u001b[0mTk\u001b[0m\u001b[0;34m(\u001b[0m\u001b[0;34m)\u001b[0m \u001b[0;31m#Initializing tkinter\u001b[0m\u001b[0;34m\u001b[0m\u001b[0;34m\u001b[0m\u001b[0m\n\u001b[0m\u001b[1;32m      4\u001b[0m \u001b[0;34m\u001b[0m\u001b[0m\n\u001b[1;32m      5\u001b[0m \u001b[0mroot\u001b[0m\u001b[0;34m.\u001b[0m\u001b[0mgeometry\u001b[0m\u001b[0;34m(\u001b[0m\u001b[0;34m\"350x350\"\u001b[0m\u001b[0;34m)\u001b[0m \u001b[0;31m#setting geometry\u001b[0m\u001b[0;34m\u001b[0m\u001b[0;34m\u001b[0m\u001b[0m\n",
            "\u001b[0;32m/usr/lib/python3.6/tkinter/__init__.py\u001b[0m in \u001b[0;36m__init__\u001b[0;34m(self, screenName, baseName, className, useTk, sync, use)\u001b[0m\n\u001b[1;32m   2021\u001b[0m                 \u001b[0mbaseName\u001b[0m \u001b[0;34m=\u001b[0m \u001b[0mbaseName\u001b[0m \u001b[0;34m+\u001b[0m \u001b[0mext\u001b[0m\u001b[0;34m\u001b[0m\u001b[0;34m\u001b[0m\u001b[0m\n\u001b[1;32m   2022\u001b[0m         \u001b[0minteractive\u001b[0m \u001b[0;34m=\u001b[0m \u001b[0;36m0\u001b[0m\u001b[0;34m\u001b[0m\u001b[0;34m\u001b[0m\u001b[0m\n\u001b[0;32m-> 2023\u001b[0;31m         \u001b[0mself\u001b[0m\u001b[0;34m.\u001b[0m\u001b[0mtk\u001b[0m \u001b[0;34m=\u001b[0m \u001b[0m_tkinter\u001b[0m\u001b[0;34m.\u001b[0m\u001b[0mcreate\u001b[0m\u001b[0;34m(\u001b[0m\u001b[0mscreenName\u001b[0m\u001b[0;34m,\u001b[0m \u001b[0mbaseName\u001b[0m\u001b[0;34m,\u001b[0m \u001b[0mclassName\u001b[0m\u001b[0;34m,\u001b[0m \u001b[0minteractive\u001b[0m\u001b[0;34m,\u001b[0m \u001b[0mwantobjects\u001b[0m\u001b[0;34m,\u001b[0m \u001b[0museTk\u001b[0m\u001b[0;34m,\u001b[0m \u001b[0msync\u001b[0m\u001b[0;34m,\u001b[0m \u001b[0muse\u001b[0m\u001b[0;34m)\u001b[0m\u001b[0;34m\u001b[0m\u001b[0;34m\u001b[0m\u001b[0m\n\u001b[0m\u001b[1;32m   2024\u001b[0m         \u001b[0;32mif\u001b[0m \u001b[0museTk\u001b[0m\u001b[0;34m:\u001b[0m\u001b[0;34m\u001b[0m\u001b[0;34m\u001b[0m\u001b[0m\n\u001b[1;32m   2025\u001b[0m             \u001b[0mself\u001b[0m\u001b[0;34m.\u001b[0m\u001b[0m_loadtk\u001b[0m\u001b[0;34m(\u001b[0m\u001b[0;34m)\u001b[0m\u001b[0;34m\u001b[0m\u001b[0;34m\u001b[0m\u001b[0m\n",
            "\u001b[0;31mTclError\u001b[0m: no display name and no $DISPLAY environment variable"
          ]
        }
      ]
    },
    {
      "cell_type": "code",
      "metadata": {
        "id": "lNO4kxyiEyq2",
        "colab_type": "code",
        "colab": {}
      },
      "source": [
        "Label(root, text=\"Enter all countries names\\nfor whom you want to get\\ncovid-19 data\", font=\"Consolas 15 bold\").pack()\n",
        "Label(root, text=\"Enter country name:\").pack()\n",
        "data = StringVar()\n",
        "data.set(\"Seperate country names using comma or space(not both)\")\n",
        "entry = Entry(root, textvariable = data, width=50).pack()\n",
        "Button(root, text=\"Get Data\", command=showdata).pack()\n",
        "root.mainloop()              \n",
        "    "
      ],
      "execution_count": null,
      "outputs": []
    },
    {
      "cell_type": "code",
      "metadata": {
        "id": "YqyNn2Z7Eyq4",
        "colab_type": "code",
        "colab": {}
      },
      "source": [
        "showdata()"
      ],
      "execution_count": null,
      "outputs": []
    },
    {
      "cell_type": "code",
      "metadata": {
        "id": "xTCkkOzgEyq6",
        "colab_type": "code",
        "colab": {},
        "outputId": "031acb09-0979-438f-c7fe-bd622133258c"
      },
      "source": [
        "# importing the library\n",
        "from covid import Covid\n",
        "# initializing\n",
        "covid = Covid()\n",
        "# printing data for the world\n",
        "print(\"Total active cases in world:\", covid.get_total_active_cases())\n",
        "print(\"Total recovered cases in world:\", covid.get_total_recovered())\n",
        "print(\"Total deaths in world:\", covid.get_total_deaths())\n",
        "# getting data according to country name\n",
        "# data will be stored as a dictionary\n",
        "cases = covid.get_status_by_country_name(\"us\")\n",
        "# printing country's data using for loop\n",
        "for x in cases:\n",
        "    print(x, \":\", cases[x])"
      ],
      "execution_count": null,
      "outputs": [
        {
          "output_type": "stream",
          "text": [
            "Total active cases in world: 5895450\n",
            "Total recovered cases in world: 10936782\n",
            "Total deaths in world: 694713\n",
            "id : 18\n",
            "country : US\n",
            "confirmed : 4718249\n",
            "active : 2258748\n",
            "deaths : 155478\n",
            "recovered : 1513446\n",
            "latitude : 40.0\n",
            "longitude : -100.0\n",
            "last_update : 1596544489000\n"
          ],
          "name": "stdout"
        }
      ]
    },
    {
      "cell_type": "code",
      "metadata": {
        "id": "2Ry-uwCgEyq-",
        "colab_type": "code",
        "colab": {
          "base_uri": "https://localhost:8080/",
          "height": 34
        },
        "outputId": "e4e4ff3d-e4c7-4e48-c0cd-6fc53ab91a6c"
      },
      "source": [
        "pip install pyttsx3"
      ],
      "execution_count": null,
      "outputs": [
        {
          "output_type": "stream",
          "text": [
            "Requirement already satisfied: pyttsx3 in /usr/local/lib/python3.6/dist-packages (2.90)\n"
          ],
          "name": "stdout"
        }
      ]
    },
    {
      "cell_type": "code",
      "metadata": {
        "id": "3ZMeg3RHEyrA",
        "colab_type": "code",
        "colab": {
          "base_uri": "https://localhost:8080/",
          "height": 72
        },
        "outputId": "83c27132-ce39-4c81-9c08-8f5856c0b6d6"
      },
      "source": [
        "pip install pywin32"
      ],
      "execution_count": null,
      "outputs": [
        {
          "output_type": "stream",
          "text": [
            "\u001b[31mERROR: Could not find a version that satisfies the requirement pywin32 (from versions: none)\u001b[0m\n",
            "\u001b[31mERROR: No matching distribution found for pywin32\u001b[0m\n"
          ],
          "name": "stdout"
        }
      ]
    },
    {
      "cell_type": "code",
      "metadata": {
        "id": "w28kwkxEEyrC",
        "colab_type": "code",
        "colab": {}
      },
      "source": [
        "# import the pyttsx module inside program\n",
        "import pyttsx3"
      ],
      "execution_count": null,
      "outputs": []
    },
    {
      "cell_type": "code",
      "metadata": {
        "id": "yEwBzSfaEyrD",
        "colab_type": "code",
        "colab": {
          "base_uri": "https://localhost:8080/",
          "height": 448
        },
        "outputId": "65acc377-b763-4bbe-f5f8-192bdd188819"
      },
      "source": [
        "# initializing the module\n",
        "engine = pyttsx3.init()"
      ],
      "execution_count": null,
      "outputs": [
        {
          "output_type": "error",
          "ename": "OSError",
          "evalue": "ignored",
          "traceback": [
            "\u001b[0;31m---------------------------------------------------------------------------\u001b[0m",
            "\u001b[0;31mKeyError\u001b[0m                                  Traceback (most recent call last)",
            "\u001b[0;32m/usr/local/lib/python3.6/dist-packages/pyttsx3/__init__.py\u001b[0m in \u001b[0;36minit\u001b[0;34m(driverName, debug)\u001b[0m\n\u001b[1;32m     19\u001b[0m     \u001b[0;32mtry\u001b[0m\u001b[0;34m:\u001b[0m\u001b[0;34m\u001b[0m\u001b[0;34m\u001b[0m\u001b[0m\n\u001b[0;32m---> 20\u001b[0;31m         \u001b[0meng\u001b[0m \u001b[0;34m=\u001b[0m \u001b[0m_activeEngines\u001b[0m\u001b[0;34m[\u001b[0m\u001b[0mdriverName\u001b[0m\u001b[0;34m]\u001b[0m\u001b[0;34m\u001b[0m\u001b[0;34m\u001b[0m\u001b[0m\n\u001b[0m\u001b[1;32m     21\u001b[0m     \u001b[0;32mexcept\u001b[0m \u001b[0mKeyError\u001b[0m\u001b[0;34m:\u001b[0m\u001b[0;34m\u001b[0m\u001b[0;34m\u001b[0m\u001b[0m\n",
            "\u001b[0;32m/usr/lib/python3.6/weakref.py\u001b[0m in \u001b[0;36m__getitem__\u001b[0;34m(self, key)\u001b[0m\n\u001b[1;32m    136\u001b[0m             \u001b[0mself\u001b[0m\u001b[0;34m.\u001b[0m\u001b[0m_commit_removals\u001b[0m\u001b[0;34m(\u001b[0m\u001b[0;34m)\u001b[0m\u001b[0;34m\u001b[0m\u001b[0;34m\u001b[0m\u001b[0m\n\u001b[0;32m--> 137\u001b[0;31m         \u001b[0mo\u001b[0m \u001b[0;34m=\u001b[0m \u001b[0mself\u001b[0m\u001b[0;34m.\u001b[0m\u001b[0mdata\u001b[0m\u001b[0;34m[\u001b[0m\u001b[0mkey\u001b[0m\u001b[0;34m]\u001b[0m\u001b[0;34m(\u001b[0m\u001b[0;34m)\u001b[0m\u001b[0;34m\u001b[0m\u001b[0;34m\u001b[0m\u001b[0m\n\u001b[0m\u001b[1;32m    138\u001b[0m         \u001b[0;32mif\u001b[0m \u001b[0mo\u001b[0m \u001b[0;32mis\u001b[0m \u001b[0;32mNone\u001b[0m\u001b[0;34m:\u001b[0m\u001b[0;34m\u001b[0m\u001b[0;34m\u001b[0m\u001b[0m\n",
            "\u001b[0;31mKeyError\u001b[0m: None",
            "\nDuring handling of the above exception, another exception occurred:\n",
            "\u001b[0;31mOSError\u001b[0m                                   Traceback (most recent call last)",
            "\u001b[0;32m<ipython-input-19-6a55e1bffc05>\u001b[0m in \u001b[0;36m<module>\u001b[0;34m()\u001b[0m\n\u001b[1;32m      1\u001b[0m \u001b[0;31m# initializing the module\u001b[0m\u001b[0;34m\u001b[0m\u001b[0;34m\u001b[0m\u001b[0;34m\u001b[0m\u001b[0m\n\u001b[0;32m----> 2\u001b[0;31m \u001b[0mengine\u001b[0m \u001b[0;34m=\u001b[0m \u001b[0mpyttsx3\u001b[0m\u001b[0;34m.\u001b[0m\u001b[0minit\u001b[0m\u001b[0;34m(\u001b[0m\u001b[0;34m)\u001b[0m\u001b[0;34m\u001b[0m\u001b[0;34m\u001b[0m\u001b[0m\n\u001b[0m",
            "\u001b[0;32m/usr/local/lib/python3.6/dist-packages/pyttsx3/__init__.py\u001b[0m in \u001b[0;36minit\u001b[0;34m(driverName, debug)\u001b[0m\n\u001b[1;32m     20\u001b[0m         \u001b[0meng\u001b[0m \u001b[0;34m=\u001b[0m \u001b[0m_activeEngines\u001b[0m\u001b[0;34m[\u001b[0m\u001b[0mdriverName\u001b[0m\u001b[0;34m]\u001b[0m\u001b[0;34m\u001b[0m\u001b[0;34m\u001b[0m\u001b[0m\n\u001b[1;32m     21\u001b[0m     \u001b[0;32mexcept\u001b[0m \u001b[0mKeyError\u001b[0m\u001b[0;34m:\u001b[0m\u001b[0;34m\u001b[0m\u001b[0;34m\u001b[0m\u001b[0m\n\u001b[0;32m---> 22\u001b[0;31m         \u001b[0meng\u001b[0m \u001b[0;34m=\u001b[0m \u001b[0mEngine\u001b[0m\u001b[0;34m(\u001b[0m\u001b[0mdriverName\u001b[0m\u001b[0;34m,\u001b[0m \u001b[0mdebug\u001b[0m\u001b[0;34m)\u001b[0m\u001b[0;34m\u001b[0m\u001b[0;34m\u001b[0m\u001b[0m\n\u001b[0m\u001b[1;32m     23\u001b[0m         \u001b[0m_activeEngines\u001b[0m\u001b[0;34m[\u001b[0m\u001b[0mdriverName\u001b[0m\u001b[0;34m]\u001b[0m \u001b[0;34m=\u001b[0m \u001b[0meng\u001b[0m\u001b[0;34m\u001b[0m\u001b[0;34m\u001b[0m\u001b[0m\n\u001b[1;32m     24\u001b[0m     \u001b[0;32mreturn\u001b[0m \u001b[0meng\u001b[0m\u001b[0;34m\u001b[0m\u001b[0;34m\u001b[0m\u001b[0m\n",
            "\u001b[0;32m/usr/local/lib/python3.6/dist-packages/pyttsx3/engine.py\u001b[0m in \u001b[0;36m__init__\u001b[0;34m(self, driverName, debug)\u001b[0m\n\u001b[1;32m     28\u001b[0m         \u001b[0;34m@\u001b[0m\u001b[0mtype\u001b[0m \u001b[0mdebug\u001b[0m\u001b[0;34m:\u001b[0m \u001b[0mbool\u001b[0m\u001b[0;34m\u001b[0m\u001b[0;34m\u001b[0m\u001b[0m\n\u001b[1;32m     29\u001b[0m         \"\"\"\n\u001b[0;32m---> 30\u001b[0;31m         \u001b[0mself\u001b[0m\u001b[0;34m.\u001b[0m\u001b[0mproxy\u001b[0m \u001b[0;34m=\u001b[0m \u001b[0mdriver\u001b[0m\u001b[0;34m.\u001b[0m\u001b[0mDriverProxy\u001b[0m\u001b[0;34m(\u001b[0m\u001b[0mweakref\u001b[0m\u001b[0;34m.\u001b[0m\u001b[0mproxy\u001b[0m\u001b[0;34m(\u001b[0m\u001b[0mself\u001b[0m\u001b[0;34m)\u001b[0m\u001b[0;34m,\u001b[0m \u001b[0mdriverName\u001b[0m\u001b[0;34m,\u001b[0m \u001b[0mdebug\u001b[0m\u001b[0;34m)\u001b[0m\u001b[0;34m\u001b[0m\u001b[0;34m\u001b[0m\u001b[0m\n\u001b[0m\u001b[1;32m     31\u001b[0m         \u001b[0;31m# initialize other vars\u001b[0m\u001b[0;34m\u001b[0m\u001b[0;34m\u001b[0m\u001b[0;34m\u001b[0m\u001b[0m\n\u001b[1;32m     32\u001b[0m         \u001b[0mself\u001b[0m\u001b[0;34m.\u001b[0m\u001b[0m_connects\u001b[0m \u001b[0;34m=\u001b[0m \u001b[0;34m{\u001b[0m\u001b[0;34m}\u001b[0m\u001b[0;34m\u001b[0m\u001b[0;34m\u001b[0m\u001b[0m\n",
            "\u001b[0;32m/usr/local/lib/python3.6/dist-packages/pyttsx3/driver.py\u001b[0m in \u001b[0;36m__init__\u001b[0;34m(self, engine, driverName, debug)\u001b[0m\n\u001b[1;32m     48\u001b[0m         \u001b[0;31m# import driver module\u001b[0m\u001b[0;34m\u001b[0m\u001b[0;34m\u001b[0m\u001b[0;34m\u001b[0m\u001b[0m\n\u001b[1;32m     49\u001b[0m         \u001b[0mname\u001b[0m \u001b[0;34m=\u001b[0m \u001b[0;34m'pyttsx3.drivers.%s'\u001b[0m \u001b[0;34m%\u001b[0m \u001b[0mdriverName\u001b[0m\u001b[0;34m\u001b[0m\u001b[0;34m\u001b[0m\u001b[0m\n\u001b[0;32m---> 50\u001b[0;31m         \u001b[0mself\u001b[0m\u001b[0;34m.\u001b[0m\u001b[0m_module\u001b[0m \u001b[0;34m=\u001b[0m \u001b[0mimportlib\u001b[0m\u001b[0;34m.\u001b[0m\u001b[0mimport_module\u001b[0m\u001b[0;34m(\u001b[0m\u001b[0mname\u001b[0m\u001b[0;34m)\u001b[0m\u001b[0;34m\u001b[0m\u001b[0;34m\u001b[0m\u001b[0m\n\u001b[0m\u001b[1;32m     51\u001b[0m         \u001b[0;31m# build driver instance\u001b[0m\u001b[0;34m\u001b[0m\u001b[0;34m\u001b[0m\u001b[0;34m\u001b[0m\u001b[0m\n\u001b[1;32m     52\u001b[0m         \u001b[0mself\u001b[0m\u001b[0;34m.\u001b[0m\u001b[0m_driver\u001b[0m \u001b[0;34m=\u001b[0m \u001b[0mself\u001b[0m\u001b[0;34m.\u001b[0m\u001b[0m_module\u001b[0m\u001b[0;34m.\u001b[0m\u001b[0mbuildDriver\u001b[0m\u001b[0;34m(\u001b[0m\u001b[0mweakref\u001b[0m\u001b[0;34m.\u001b[0m\u001b[0mproxy\u001b[0m\u001b[0;34m(\u001b[0m\u001b[0mself\u001b[0m\u001b[0;34m)\u001b[0m\u001b[0;34m)\u001b[0m\u001b[0;34m\u001b[0m\u001b[0;34m\u001b[0m\u001b[0m\n",
            "\u001b[0;32m/usr/lib/python3.6/importlib/__init__.py\u001b[0m in \u001b[0;36mimport_module\u001b[0;34m(name, package)\u001b[0m\n\u001b[1;32m    124\u001b[0m                 \u001b[0;32mbreak\u001b[0m\u001b[0;34m\u001b[0m\u001b[0;34m\u001b[0m\u001b[0m\n\u001b[1;32m    125\u001b[0m             \u001b[0mlevel\u001b[0m \u001b[0;34m+=\u001b[0m \u001b[0;36m1\u001b[0m\u001b[0;34m\u001b[0m\u001b[0;34m\u001b[0m\u001b[0m\n\u001b[0;32m--> 126\u001b[0;31m     \u001b[0;32mreturn\u001b[0m \u001b[0m_bootstrap\u001b[0m\u001b[0;34m.\u001b[0m\u001b[0m_gcd_import\u001b[0m\u001b[0;34m(\u001b[0m\u001b[0mname\u001b[0m\u001b[0;34m[\u001b[0m\u001b[0mlevel\u001b[0m\u001b[0;34m:\u001b[0m\u001b[0;34m]\u001b[0m\u001b[0;34m,\u001b[0m \u001b[0mpackage\u001b[0m\u001b[0;34m,\u001b[0m \u001b[0mlevel\u001b[0m\u001b[0;34m)\u001b[0m\u001b[0;34m\u001b[0m\u001b[0;34m\u001b[0m\u001b[0m\n\u001b[0m\u001b[1;32m    127\u001b[0m \u001b[0;34m\u001b[0m\u001b[0m\n\u001b[1;32m    128\u001b[0m \u001b[0;34m\u001b[0m\u001b[0m\n",
            "\u001b[0;32m/usr/lib/python3.6/importlib/_bootstrap.py\u001b[0m in \u001b[0;36m_gcd_import\u001b[0;34m(name, package, level)\u001b[0m\n",
            "\u001b[0;32m/usr/lib/python3.6/importlib/_bootstrap.py\u001b[0m in \u001b[0;36m_find_and_load\u001b[0;34m(name, import_)\u001b[0m\n",
            "\u001b[0;32m/usr/lib/python3.6/importlib/_bootstrap.py\u001b[0m in \u001b[0;36m_find_and_load_unlocked\u001b[0;34m(name, import_)\u001b[0m\n",
            "\u001b[0;32m/usr/lib/python3.6/importlib/_bootstrap.py\u001b[0m in \u001b[0;36m_load_unlocked\u001b[0;34m(spec)\u001b[0m\n",
            "\u001b[0;32m/usr/lib/python3.6/importlib/_bootstrap_external.py\u001b[0m in \u001b[0;36mexec_module\u001b[0;34m(self, module)\u001b[0m\n",
            "\u001b[0;32m/usr/lib/python3.6/importlib/_bootstrap.py\u001b[0m in \u001b[0;36m_call_with_frames_removed\u001b[0;34m(f, *args, **kwds)\u001b[0m\n",
            "\u001b[0;32m/usr/local/lib/python3.6/dist-packages/pyttsx3/drivers/espeak.py\u001b[0m in \u001b[0;36m<module>\u001b[0;34m()\u001b[0m\n\u001b[1;32m      7\u001b[0m \u001b[0;32mfrom\u001b[0m \u001b[0mtempfile\u001b[0m \u001b[0;32mimport\u001b[0m \u001b[0mNamedTemporaryFile\u001b[0m\u001b[0;34m\u001b[0m\u001b[0;34m\u001b[0m\u001b[0m\n\u001b[1;32m      8\u001b[0m \u001b[0;32mfrom\u001b[0m \u001b[0;34m.\u001b[0m\u001b[0;34m.\u001b[0m\u001b[0mvoice\u001b[0m \u001b[0;32mimport\u001b[0m \u001b[0mVoice\u001b[0m\u001b[0;34m\u001b[0m\u001b[0;34m\u001b[0m\u001b[0m\n\u001b[0;32m----> 9\u001b[0;31m \u001b[0;32mfrom\u001b[0m \u001b[0;34m.\u001b[0m \u001b[0;32mimport\u001b[0m \u001b[0m_espeak\u001b[0m\u001b[0;34m,\u001b[0m \u001b[0mtoUtf8\u001b[0m\u001b[0;34m,\u001b[0m \u001b[0mfromUtf8\u001b[0m\u001b[0;34m\u001b[0m\u001b[0;34m\u001b[0m\u001b[0m\n\u001b[0m\u001b[1;32m     10\u001b[0m \u001b[0;34m\u001b[0m\u001b[0m\n\u001b[1;32m     11\u001b[0m \u001b[0;34m\u001b[0m\u001b[0m\n",
            "\u001b[0;32m/usr/local/lib/python3.6/dist-packages/pyttsx3/drivers/_espeak.py\u001b[0m in \u001b[0;36m<module>\u001b[0;34m()\u001b[0m\n\u001b[1;32m     16\u001b[0m     \u001b[0;32mreturn\u001b[0m \u001b[0mCFUNCTYPE\u001b[0m\u001b[0;34m(\u001b[0m\u001b[0mresult\u001b[0m\u001b[0;34m,\u001b[0m \u001b[0;34m*\u001b[0m\u001b[0matypes\u001b[0m\u001b[0;34m)\u001b[0m\u001b[0;34m(\u001b[0m\u001b[0;34m(\u001b[0m\u001b[0mname\u001b[0m\u001b[0;34m,\u001b[0m \u001b[0mdll\u001b[0m\u001b[0;34m)\u001b[0m\u001b[0;34m,\u001b[0m \u001b[0mtuple\u001b[0m\u001b[0;34m(\u001b[0m\u001b[0maflags\u001b[0m\u001b[0;34m)\u001b[0m\u001b[0;34m)\u001b[0m\u001b[0;34m\u001b[0m\u001b[0;34m\u001b[0m\u001b[0m\n\u001b[1;32m     17\u001b[0m \u001b[0;34m\u001b[0m\u001b[0m\n\u001b[0;32m---> 18\u001b[0;31m \u001b[0mdll\u001b[0m \u001b[0;34m=\u001b[0m \u001b[0mcdll\u001b[0m\u001b[0;34m.\u001b[0m\u001b[0mLoadLibrary\u001b[0m\u001b[0;34m(\u001b[0m\u001b[0;34m'libespeak.so.1'\u001b[0m\u001b[0;34m)\u001b[0m\u001b[0;34m\u001b[0m\u001b[0;34m\u001b[0m\u001b[0m\n\u001b[0m\u001b[1;32m     19\u001b[0m \u001b[0;34m\u001b[0m\u001b[0m\n\u001b[1;32m     20\u001b[0m \u001b[0;31m# constants and such from speak_lib.h\u001b[0m\u001b[0;34m\u001b[0m\u001b[0;34m\u001b[0m\u001b[0;34m\u001b[0m\u001b[0m\n",
            "\u001b[0;32m/usr/lib/python3.6/ctypes/__init__.py\u001b[0m in \u001b[0;36mLoadLibrary\u001b[0;34m(self, name)\u001b[0m\n\u001b[1;32m    424\u001b[0m \u001b[0;34m\u001b[0m\u001b[0m\n\u001b[1;32m    425\u001b[0m     \u001b[0;32mdef\u001b[0m \u001b[0mLoadLibrary\u001b[0m\u001b[0;34m(\u001b[0m\u001b[0mself\u001b[0m\u001b[0;34m,\u001b[0m \u001b[0mname\u001b[0m\u001b[0;34m)\u001b[0m\u001b[0;34m:\u001b[0m\u001b[0;34m\u001b[0m\u001b[0;34m\u001b[0m\u001b[0m\n\u001b[0;32m--> 426\u001b[0;31m         \u001b[0;32mreturn\u001b[0m \u001b[0mself\u001b[0m\u001b[0;34m.\u001b[0m\u001b[0m_dlltype\u001b[0m\u001b[0;34m(\u001b[0m\u001b[0mname\u001b[0m\u001b[0;34m)\u001b[0m\u001b[0;34m\u001b[0m\u001b[0;34m\u001b[0m\u001b[0m\n\u001b[0m\u001b[1;32m    427\u001b[0m \u001b[0;34m\u001b[0m\u001b[0m\n\u001b[1;32m    428\u001b[0m \u001b[0mcdll\u001b[0m \u001b[0;34m=\u001b[0m \u001b[0mLibraryLoader\u001b[0m\u001b[0;34m(\u001b[0m\u001b[0mCDLL\u001b[0m\u001b[0;34m)\u001b[0m\u001b[0;34m\u001b[0m\u001b[0;34m\u001b[0m\u001b[0m\n",
            "\u001b[0;32m/usr/lib/python3.6/ctypes/__init__.py\u001b[0m in \u001b[0;36m__init__\u001b[0;34m(self, name, mode, handle, use_errno, use_last_error)\u001b[0m\n\u001b[1;32m    346\u001b[0m \u001b[0;34m\u001b[0m\u001b[0m\n\u001b[1;32m    347\u001b[0m         \u001b[0;32mif\u001b[0m \u001b[0mhandle\u001b[0m \u001b[0;32mis\u001b[0m \u001b[0;32mNone\u001b[0m\u001b[0;34m:\u001b[0m\u001b[0;34m\u001b[0m\u001b[0;34m\u001b[0m\u001b[0m\n\u001b[0;32m--> 348\u001b[0;31m             \u001b[0mself\u001b[0m\u001b[0;34m.\u001b[0m\u001b[0m_handle\u001b[0m \u001b[0;34m=\u001b[0m \u001b[0m_dlopen\u001b[0m\u001b[0;34m(\u001b[0m\u001b[0mself\u001b[0m\u001b[0;34m.\u001b[0m\u001b[0m_name\u001b[0m\u001b[0;34m,\u001b[0m \u001b[0mmode\u001b[0m\u001b[0;34m)\u001b[0m\u001b[0;34m\u001b[0m\u001b[0;34m\u001b[0m\u001b[0m\n\u001b[0m\u001b[1;32m    349\u001b[0m         \u001b[0;32melse\u001b[0m\u001b[0;34m:\u001b[0m\u001b[0;34m\u001b[0m\u001b[0;34m\u001b[0m\u001b[0m\n\u001b[1;32m    350\u001b[0m             \u001b[0mself\u001b[0m\u001b[0;34m.\u001b[0m\u001b[0m_handle\u001b[0m \u001b[0;34m=\u001b[0m \u001b[0mhandle\u001b[0m\u001b[0;34m\u001b[0m\u001b[0;34m\u001b[0m\u001b[0m\n",
            "\u001b[0;31mOSError\u001b[0m: libespeak.so.1: cannot open shared object file: No such file or directory"
          ]
        }
      ]
    },
    {
      "cell_type": "code",
      "metadata": {
        "id": "Xu7VvCXcEyrF",
        "colab_type": "code",
        "colab": {
          "base_uri": "https://localhost:8080/",
          "height": 252
        },
        "outputId": "5943429c-e461-4c52-e623-4d281b044b83"
      },
      "source": [
        "# .say() function is used to speak the text you have written \n",
        "# inside the function\n",
        "engine.say(\"Anything you write here will be spoken by your computer during the running of the program\")\n",
        "\n",
        "# this is used to process and run the program commands\n",
        "engine.runAndWait()"
      ],
      "execution_count": null,
      "outputs": [
        {
          "output_type": "error",
          "ename": "NameError",
          "evalue": "ignored",
          "traceback": [
            "\u001b[0;31m---------------------------------------------------------------------------\u001b[0m",
            "\u001b[0;31mNameError\u001b[0m                                 Traceback (most recent call last)",
            "\u001b[0;32m<ipython-input-18-10067359e65b>\u001b[0m in \u001b[0;36m<module>\u001b[0;34m()\u001b[0m\n\u001b[1;32m      1\u001b[0m \u001b[0;31m# .say() function is used to speak the text you have written\u001b[0m\u001b[0;34m\u001b[0m\u001b[0;34m\u001b[0m\u001b[0;34m\u001b[0m\u001b[0m\n\u001b[1;32m      2\u001b[0m \u001b[0;31m# inside the function\u001b[0m\u001b[0;34m\u001b[0m\u001b[0;34m\u001b[0m\u001b[0;34m\u001b[0m\u001b[0m\n\u001b[0;32m----> 3\u001b[0;31m \u001b[0mengine\u001b[0m\u001b[0;34m.\u001b[0m\u001b[0msay\u001b[0m\u001b[0;34m(\u001b[0m\u001b[0;34m\"Anything you write here will be spoken by your computer during the running of the program\"\u001b[0m\u001b[0;34m)\u001b[0m\u001b[0;34m\u001b[0m\u001b[0;34m\u001b[0m\u001b[0m\n\u001b[0m\u001b[1;32m      4\u001b[0m \u001b[0;34m\u001b[0m\u001b[0m\n\u001b[1;32m      5\u001b[0m \u001b[0;31m# this is used to process and run the program commands\u001b[0m\u001b[0;34m\u001b[0m\u001b[0;34m\u001b[0m\u001b[0;34m\u001b[0m\u001b[0m\n",
            "\u001b[0;31mNameError\u001b[0m: name 'engine' is not defined"
          ]
        }
      ]
    },
    {
      "cell_type": "code",
      "metadata": {
        "id": "VTad1UH0EyrH",
        "colab_type": "code",
        "colab": {},
        "outputId": "786e41a6-14eb-4198-ab8f-dbe9db6f0c4d"
      },
      "source": [
        "pip install gtts"
      ],
      "execution_count": null,
      "outputs": [
        {
          "output_type": "stream",
          "text": [
            "Collecting gtts\n",
            "  Downloading https://files.pythonhosted.org/packages/a1/0c/4ca77eca3b739a4a08360930643f58d714e302fee0d2f8c654e67d9af8e7/gTTS-2.1.1-py3-none-any.whl\n",
            "Requirement already satisfied: click in /home/aims/anaconda3/lib/python3.7/site-packages (from gtts) (7.0)\n",
            "Requirement already satisfied: beautifulsoup4 in /home/aims/anaconda3/lib/python3.7/site-packages (from gtts) (4.8.0)\n",
            "Requirement already satisfied: requests in /home/aims/anaconda3/lib/python3.7/site-packages (from gtts) (2.22.0)\n",
            "Collecting gtts-token>=1.1.3 (from gtts)\n",
            "  Downloading https://files.pythonhosted.org/packages/e7/25/ca6e9cd3275bfc3097fe6b06cc31db6d3dfaf32e032e0f73fead9c9a03ce/gTTS-token-1.1.3.tar.gz\n",
            "Requirement already satisfied: six in /home/aims/anaconda3/lib/python3.7/site-packages (from gtts) (1.12.0)\n",
            "Requirement already satisfied: soupsieve>=1.2 in /home/aims/anaconda3/lib/python3.7/site-packages (from beautifulsoup4->gtts) (1.9.3)\n",
            "Requirement already satisfied: urllib3!=1.25.0,!=1.25.1,<1.26,>=1.21.1 in /home/aims/anaconda3/lib/python3.7/site-packages (from requests->gtts) (1.24.2)\n",
            "Requirement already satisfied: certifi>=2017.4.17 in /home/aims/anaconda3/lib/python3.7/site-packages (from requests->gtts) (2019.9.11)\n",
            "Requirement already satisfied: chardet<3.1.0,>=3.0.2 in /home/aims/anaconda3/lib/python3.7/site-packages (from requests->gtts) (3.0.4)\n",
            "Requirement already satisfied: idna<2.9,>=2.5 in /home/aims/anaconda3/lib/python3.7/site-packages (from requests->gtts) (2.8)\n",
            "Building wheels for collected packages: gtts-token\n",
            "  Building wheel for gtts-token (setup.py) ... \u001b[?25ldone\n",
            "\u001b[?25h  Created wheel for gtts-token: filename=gTTS_token-1.1.3-cp37-none-any.whl size=4098 sha256=4ba311cb9b5a9ca80be87e704a0d6e54a222fa511353a55701c97498aaf8aa88\n",
            "  Stored in directory: /home/aims/.cache/pip/wheels/dd/11/61/33f7e51bf545e910552b2255eead2a7cd8ef54064b46dceb34\n",
            "Successfully built gtts-token\n",
            "Installing collected packages: gtts-token, gtts\n",
            "Successfully installed gtts-2.1.1 gtts-token-1.1.3\n",
            "Note: you may need to restart the kernel to use updated packages.\n"
          ],
          "name": "stdout"
        }
      ]
    },
    {
      "cell_type": "code",
      "metadata": {
        "id": "Gtbv1BCtEyrI",
        "colab_type": "code",
        "colab": {},
        "outputId": "a0998385-d844-450c-a073-5e4248925cc3"
      },
      "source": [
        "import os\n",
        "from gtts import gTTS\n",
        "Text = \"muninga na ngayi\"\n",
        "print(\"processing please wait….\")\n",
        "learn = gTTS(text = Text, lang =\"en-us\")\n",
        "learn.save (\"voice_lig.mp3\")\n",
        "os.system(\"start voice.mp3\")"
      ],
      "execution_count": null,
      "outputs": [
        {
          "output_type": "stream",
          "text": [
            "processing please wait….\n"
          ],
          "name": "stdout"
        },
        {
          "output_type": "execute_result",
          "data": {
            "text/plain": [
              "32512"
            ]
          },
          "metadata": {
            "tags": []
          },
          "execution_count": 15
        }
      ]
    },
    {
      "cell_type": "markdown",
      "metadata": {
        "id": "fhps5RCAEyrK",
        "colab_type": "text"
      },
      "source": [
        "## 15. Addition of 3 matrices\n",
        "\n",
        "\n",
        "\n",
        "\n",
        "\n",
        "\n",
        "\n",
        "\n",
        "\n",
        "\n"
      ]
    },
    {
      "cell_type": "code",
      "metadata": {
        "id": "Fpo7O74WEyrK",
        "colab_type": "code",
        "colab": {},
        "outputId": "9437a5c5-160a-44b7-9669-27400e48b6e3"
      },
      "source": [
        "import numpy as np\n",
        "x = [[1,2,3],\n",
        "    [2,4,6],\n",
        "    [9,5,0]]\n",
        "y =  [[1,9,3],\n",
        "    [2,7,6],\n",
        "    [9,5,10]]\n",
        "z = [[11,2,3],\n",
        "    [12,4,6],\n",
        "    [90,5,0]]\n",
        "\n",
        "result = [[0,0,0],\n",
        "    [0,0,0],\n",
        "    [0,0,0]]\n",
        "# iterate through rows\n",
        "for i in range(len(x)):\n",
        "    #iterate through columns\n",
        "    for j in range(len(y)):\n",
        "        result[i][j]=x[i][j] + y[i][j] + z[i][j]\n",
        "for r in result:\n",
        "    print(r)\n",
        "print(result)"
      ],
      "execution_count": null,
      "outputs": [
        {
          "output_type": "stream",
          "text": [
            "[13, 13, 9]\n",
            "[16, 15, 18]\n",
            "[108, 15, 10]\n",
            "[[13, 13, 9], [16, 15, 18], [108, 15, 10]]\n"
          ],
          "name": "stdout"
        }
      ]
    },
    {
      "cell_type": "markdown",
      "metadata": {
        "id": "wpIJyxeGEyrN",
        "colab_type": "text"
      },
      "source": [
        "##16.Function arguments"
      ]
    },
    {
      "cell_type": "markdown",
      "metadata": {
        "id": "wq8ILbhxEyrN",
        "colab_type": "text"
      },
      "source": [
        "There are 4 types of aguments:\n",
        "1. Reguired arguments\n",
        "2. Default arguments\n",
        "3. Variables-length arguments\n",
        "4. Keyword arguments"
      ]
    },
    {
      "cell_type": "markdown",
      "metadata": {
        "id": "dRDPGEjnEyrO",
        "colab_type": "text"
      },
      "source": [
        "**Reguired arguments**:  The arguments are fixed in number and position are the required rguments.\n",
        "These are arguments which should match their exact positionduring the calling of the function.If one of the argument is not provided in the function call or if the position  does not match the python will givw an error.\n"
      ]
    },
    {
      "cell_type": "code",
      "metadata": {
        "id": "Dq2GYx7OEyrO",
        "colab_type": "code",
        "colab": {}
      },
      "source": [
        "def myfunct(name, age, roll, likes):\n",
        "    print('My name is', name)\n",
        "    print('My age is', age)\n",
        "    print('My roll no is', roll)\n",
        "    print('I like', likes[0], 'and', likes[1])"
      ],
      "execution_count": null,
      "outputs": []
    },
    {
      "cell_type": "code",
      "metadata": {
        "id": "zXTOivPVEyrP",
        "colab_type": "code",
        "colab": {},
        "outputId": "5a82e1a9-bf46-4f5b-a990-b2c5c847b204"
      },
      "source": [
        "myfunct('Jose', 20, 12, ['Music', 'dance'])"
      ],
      "execution_count": null,
      "outputs": [
        {
          "output_type": "stream",
          "text": [
            "My name is Jose\n",
            "My age is 20\n",
            "My roll no is 12\n",
            "I like Music and dance\n"
          ],
          "name": "stdout"
        }
      ]
    },
    {
      "cell_type": "markdown",
      "metadata": {
        "id": "hkmGfu3GEyrS",
        "colab_type": "text"
      },
      "source": [
        "**Default arguments**: In python we can initialize the argumnts during the definition of the function.  If we do not pass the value of a default argument, then the value we initialize the default argument during the function definition will be automatically asigned to the default argument and thepython interpreter will give no error. "
      ]
    },
    {
      "cell_type": "code",
      "metadata": {
        "id": "HS3woM6KEyrS",
        "colab_type": "code",
        "colab": {}
      },
      "source": [
        "def myFunct(name,  roll, likes, age= 30):\n",
        "    print('My name is', name)\n",
        "    print('My age is', age)\n",
        "    print('My roll no is', roll)\n",
        "    print('I like', likes[0], 'and', likes[1])"
      ],
      "execution_count": null,
      "outputs": []
    },
    {
      "cell_type": "code",
      "metadata": {
        "id": "ocTm8cLhEyrV",
        "colab_type": "code",
        "colab": {},
        "outputId": "da1fd221-3ae4-42bd-b4ea-e86ee8e607c6"
      },
      "source": [
        "myFunct('Jose', 12, ['Music', 'dance'])"
      ],
      "execution_count": null,
      "outputs": [
        {
          "output_type": "stream",
          "text": [
            "My name is Jose\n",
            "My age is 30\n",
            "My roll no is 12\n",
            "I like Music and dance\n"
          ],
          "name": "stdout"
        }
      ]
    },
    {
      "cell_type": "code",
      "metadata": {
        "id": "V9tXH6SCEyrX",
        "colab_type": "code",
        "colab": {},
        "outputId": "1268e242-c37d-4571-9fc4-80278834e29c"
      },
      "source": [
        "myFunct('Jose', 12, ['Music', 'dance'], 50)"
      ],
      "execution_count": null,
      "outputs": [
        {
          "output_type": "stream",
          "text": [
            "My name is Jose\n",
            "My age is 50\n",
            "My roll no is 12\n",
            "I like Music and dance\n"
          ],
          "name": "stdout"
        }
      ]
    },
    {
      "cell_type": "markdown",
      "metadata": {
        "id": "ApeEifeVEyrZ",
        "colab_type": "text"
      },
      "source": [
        "**Variables-length arguments**: sometimes, we may not know the number of arguments going to be passed in the function, in that case, we can use Variables-length arguments. These latter are defined using star(*) before the argument during te definition of the function.Usualy we use *args. "
      ]
    },
    {
      "cell_type": "code",
      "metadata": {
        "id": "tFq7mFiWEyrZ",
        "colab_type": "code",
        "colab": {},
        "outputId": "1003c490-0a6b-443e-f62b-a71ec4af9025"
      },
      "source": [
        "def addAll(*args):\n",
        "    result = 0\n",
        "    for x in args:\n",
        "        result = result+x\n",
        "    return result\n",
        "\n",
        "print('The sum is', addAll(1,3,7,6))"
      ],
      "execution_count": null,
      "outputs": [
        {
          "output_type": "stream",
          "text": [
            "The sum is 17\n"
          ],
          "name": "stdout"
        }
      ]
    },
    {
      "cell_type": "markdown",
      "metadata": {
        "id": "jQvQkUvYEyrb",
        "colab_type": "text"
      },
      "source": [
        "**Keyword arguments**. Python allows to send arguments in key=value format.\n",
        "During this type of arguments, the order of arguments does not maatter.\n",
        "keyword's name should match the argument's name in the function definition. If the matches found then the keyword values get copied to the arguments, else python will give the error."
      ]
    },
    {
      "cell_type": "code",
      "metadata": {
        "id": "vccVTMV-Eyrd",
        "colab_type": "code",
        "colab": {},
        "outputId": "a8e1aa01-756a-4f18-a27f-f667bc0ed691"
      },
      "source": [
        "def AddAll(val1, val2, val3):\n",
        "    return val1+val2+val3\n",
        "\n",
        "print(AddAll(val1=4, val2=7, val3=6))"
      ],
      "execution_count": null,
      "outputs": [
        {
          "output_type": "stream",
          "text": [
            "17\n"
          ],
          "name": "stdout"
        }
      ]
    },
    {
      "cell_type": "code",
      "metadata": {
        "id": "avNexXKoEyre",
        "colab_type": "code",
        "colab": {},
        "outputId": "50b0d52b-66c1-4b10-bbdc-657748ad16da"
      },
      "source": [
        "print(AddAll(val1=4, val3=6, val2=7))"
      ],
      "execution_count": null,
      "outputs": [
        {
          "output_type": "stream",
          "text": [
            "17\n"
          ],
          "name": "stdout"
        }
      ]
    },
    {
      "cell_type": "markdown",
      "metadata": {
        "id": "hhZ-QMTSEyrg",
        "colab_type": "text"
      },
      "source": [
        "##17.  Difference between two lists"
      ]
    },
    {
      "cell_type": "code",
      "metadata": {
        "id": "pWuyGDGeEyrg",
        "colab_type": "code",
        "colab": {},
        "outputId": "f6663f03-12cd-4696-e0aa-ffc28a98da2f"
      },
      "source": [
        "list1 = ['Scott', 'Eric', 'Yves', 'Emma', 'Smith']\n",
        "list2 = ['Scott', 'Eric', 'Yves']\n",
        "set1 = set(list1)\n",
        "set2 = set(list2)\n",
        "\n",
        "list3 = list(set1.symmetric_difference(set2))\n",
        "print(list3)"
      ],
      "execution_count": null,
      "outputs": [
        {
          "output_type": "stream",
          "text": [
            "['Emma', 'Smith']\n"
          ],
          "name": "stdout"
        }
      ]
    },
    {
      "cell_type": "code",
      "metadata": {
        "id": "AubX4T0IEyrh",
        "colab_type": "code",
        "colab": {},
        "outputId": "c6803116-98d5-4000-ed07-cf97784f22fa"
      },
      "source": [
        "list4 =  list(set2.symmetric_difference(set1))\n",
        "print(list4)"
      ],
      "execution_count": null,
      "outputs": [
        {
          "output_type": "stream",
          "text": [
            "['Emma', 'Smith']\n"
          ],
          "name": "stdout"
        }
      ]
    },
    {
      "cell_type": "markdown",
      "metadata": {
        "id": "wHipuibqEyrj",
        "colab_type": "text"
      },
      "source": [
        "## 18. Memory used by an python object"
      ]
    },
    {
      "cell_type": "code",
      "metadata": {
        "id": "dxHYtLnuEyrk",
        "colab_type": "code",
        "colab": {},
        "outputId": "a537305e-c574-486a-f8f1-d98917b22f2b"
      },
      "source": [
        "import sys\n",
        "\n",
        "print('size of list = ', sys.getsizeof(list1))\n",
        "\n",
        "myname = 'Berthine Nyunga Mpinda'\n",
        "\n",
        "print('size of my name = ', sys.getsizeof(myname))"
      ],
      "execution_count": null,
      "outputs": [
        {
          "output_type": "stream",
          "text": [
            "size of list =  112\n",
            "size of my name =  71\n"
          ],
          "name": "stdout"
        }
      ]
    },
    {
      "cell_type": "markdown",
      "metadata": {
        "id": "GoS95hzSEyrl",
        "colab_type": "text"
      },
      "source": [
        "##19. Removin duplicates items from List"
      ]
    },
    {
      "cell_type": "code",
      "metadata": {
        "id": "ieqUyKR8Eyrm",
        "colab_type": "code",
        "colab": {},
        "outputId": "ef7e7513-1983-4ab7-97fd-c018c4e687d7"
      },
      "source": [
        "list_numbers = [10,20, 21, 34,20,34,10,38]\n",
        "print('The original list', list_numbers)\n",
        "\n",
        "listnumbers = list(set(list_numbers))\n",
        "print('After removing duplicates', listnumbers)"
      ],
      "execution_count": null,
      "outputs": [
        {
          "output_type": "stream",
          "text": [
            "The original list [10, 20, 21, 34, 20, 34, 10, 38]\n",
            "After removing duplicates [34, 38, 10, 20, 21]\n"
          ],
          "name": "stdout"
        }
      ]
    },
    {
      "cell_type": "markdown",
      "metadata": {
        "id": "RixZeATVEyro",
        "colab_type": "text"
      },
      "source": [
        "##20. Convert Two Lists into a dictionary"
      ]
    },
    {
      "cell_type": "code",
      "metadata": {
        "id": "WojILbykEyro",
        "colab_type": "code",
        "colab": {},
        "outputId": "f89349b7-34f7-4ba3-f7d8-5cc9861cfc56"
      },
      "source": [
        "ItemId = [20,30,40]\n",
        "Names = ['Mouse', 'Laptop','RAM']\n",
        "\n",
        "itemDictionary = dict(zip(ItemId, Names))\n",
        "print(itemDictionary)"
      ],
      "execution_count": null,
      "outputs": [
        {
          "output_type": "stream",
          "text": [
            "{20: 'Mouse', 30: 'Laptop', 40: 'RAM'}\n"
          ],
          "name": "stdout"
        }
      ]
    },
    {
      "cell_type": "markdown",
      "metadata": {
        "id": "XU6NYopqEyrp",
        "colab_type": "text"
      },
      "source": [
        "## 21. Swap object\n",
        "\n",
        "\n"
      ]
    },
    {
      "cell_type": "code",
      "metadata": {
        "id": "qkFgRHBlEyrq",
        "colab_type": "code",
        "colab": {}
      },
      "source": [
        "def swap_obj(a,b):\n",
        "    a,b = b,a\n",
        "    return a,b"
      ],
      "execution_count": null,
      "outputs": []
    },
    {
      "cell_type": "code",
      "metadata": {
        "id": "oSk4O0PjEyrr",
        "colab_type": "code",
        "colab": {},
        "outputId": "dad883c2-da74-4471-875d-5f00940e0ab7"
      },
      "source": [
        "swap_obj(9,0)"
      ],
      "execution_count": null,
      "outputs": [
        {
          "output_type": "execute_result",
          "data": {
            "text/plain": [
              "(0, 9)"
            ]
          },
          "metadata": {
            "tags": []
          },
          "execution_count": 2
        }
      ]
    },
    {
      "cell_type": "markdown",
      "metadata": {
        "id": "zKLuhkKkEyrt",
        "colab_type": "text"
      },
      "source": [
        "##21. String palindrom"
      ]
    },
    {
      "cell_type": "code",
      "metadata": {
        "id": "AAV-h7I-Eyrt",
        "colab_type": "code",
        "colab": {}
      },
      "source": [
        "def palindrom(chain):\n",
        "    if chain == chain[::-1]:\n",
        "        print(True, ', It is a palindrom')\n",
        "    else:\n",
        "        print(False, ', It\\'s not')\n",
        "    return chain"
      ],
      "execution_count": null,
      "outputs": []
    },
    {
      "cell_type": "code",
      "metadata": {
        "id": "2d2pO-9nEyrx",
        "colab_type": "code",
        "colab": {},
        "outputId": "09a785a1-4803-408d-dc8d-536908bd2021"
      },
      "source": [
        "palindrom('mum')"
      ],
      "execution_count": null,
      "outputs": [
        {
          "output_type": "stream",
          "text": [
            "True , It is a palindrom\n"
          ],
          "name": "stdout"
        },
        {
          "output_type": "execute_result",
          "data": {
            "text/plain": [
              "'mum'"
            ]
          },
          "metadata": {
            "tags": []
          },
          "execution_count": 14
        }
      ]
    },
    {
      "cell_type": "code",
      "metadata": {
        "id": "eEAOnlxdEyry",
        "colab_type": "code",
        "colab": {},
        "outputId": "fc18189f-10da-4ec8-ee91-036b7f08c1c5"
      },
      "source": [
        "palindrom('python')"
      ],
      "execution_count": null,
      "outputs": [
        {
          "output_type": "stream",
          "text": [
            "False It's not\n"
          ],
          "name": "stdout"
        },
        {
          "output_type": "execute_result",
          "data": {
            "text/plain": [
              "'pyton'"
            ]
          },
          "metadata": {
            "tags": []
          },
          "execution_count": 15
        }
      ]
    },
    {
      "cell_type": "markdown",
      "metadata": {
        "id": "am9cN_I4Eyr0",
        "colab_type": "text"
      },
      "source": [
        "##22. Fibonacci series"
      ]
    },
    {
      "cell_type": "code",
      "metadata": {
        "id": "Q_Gud3J6Eyr0",
        "colab_type": "code",
        "colab": {}
      },
      "source": [
        "def fibo(n):\n",
        "    if n<=2:\n",
        "        return 1\n",
        "    else:\n",
        "        return fibo(n-1)+fibo(n-2)"
      ],
      "execution_count": null,
      "outputs": []
    },
    {
      "cell_type": "code",
      "metadata": {
        "id": "nEz4tiycEyr1",
        "colab_type": "code",
        "colab": {},
        "outputId": "f2800917-3920-4120-c4b2-de0fbf31fb7f"
      },
      "source": [
        "fibo(7)"
      ],
      "execution_count": null,
      "outputs": [
        {
          "output_type": "execute_result",
          "data": {
            "text/plain": [
              "13"
            ]
          },
          "metadata": {
            "tags": []
          },
          "execution_count": 42
        }
      ]
    },
    {
      "cell_type": "code",
      "metadata": {
        "id": "tN47JDM-Eyr3",
        "colab_type": "code",
        "colab": {},
        "outputId": "97ffa690-51b6-4044-d854-089b4cb19152"
      },
      "source": [
        "for i in range(15):\n",
        "    print(fibo(i), end=' ')"
      ],
      "execution_count": null,
      "outputs": [
        {
          "output_type": "stream",
          "text": [
            "1 1 1 2 3 5 8 13 21 34 55 89 144 233 377 "
          ],
          "name": "stdout"
        }
      ]
    },
    {
      "cell_type": "markdown",
      "metadata": {
        "id": "0Nog1c6JEyr4",
        "colab_type": "text"
      },
      "source": [
        "##23. factorial number"
      ]
    },
    {
      "cell_type": "code",
      "metadata": {
        "id": "sAMGeYSsEyr5",
        "colab_type": "code",
        "colab": {}
      },
      "source": [
        "def factorial(n):\n",
        "    if n==0 or n==1:\n",
        "        return 1\n",
        "    else:\n",
        "        return factorial(n-1)*n"
      ],
      "execution_count": null,
      "outputs": []
    },
    {
      "cell_type": "code",
      "metadata": {
        "id": "IvUpfPpAEyr6",
        "colab_type": "code",
        "colab": {},
        "outputId": "72133746-cee8-44f3-8f70-18d248f094be"
      },
      "source": [
        "factorial(5)"
      ],
      "execution_count": null,
      "outputs": [
        {
          "output_type": "execute_result",
          "data": {
            "text/plain": [
              "120"
            ]
          },
          "metadata": {
            "tags": []
          },
          "execution_count": 26
        }
      ]
    },
    {
      "cell_type": "code",
      "metadata": {
        "id": "bJt8a12WEyr8",
        "colab_type": "code",
        "colab": {},
        "outputId": "30f80c50-f413-4c4f-d662-7dae6094ed84"
      },
      "source": [
        "for i in range(17):\n",
        "    print(factorial(i), end=' ')"
      ],
      "execution_count": null,
      "outputs": [
        {
          "output_type": "stream",
          "text": [
            "1 1 2 6 24 120 720 5040 40320 362880 3628800 39916800 479001600 6227020800 87178291200 1307674368000 20922789888000 "
          ],
          "name": "stdout"
        }
      ]
    },
    {
      "cell_type": "markdown",
      "metadata": {
        "id": "3QplYoSaEyr9",
        "colab_type": "text"
      },
      "source": [
        "##24. Larget of three"
      ]
    },
    {
      "cell_type": "code",
      "metadata": {
        "id": "h3rCXpYdEyr-",
        "colab_type": "code",
        "colab": {},
        "outputId": "fa8fe8b1-fdb7-49cf-d354-cb6d429f006b"
      },
      "source": [
        "num1=10\n",
        "num2=14\n",
        "num3=12\n",
        "\n",
        "##take 3 numbers from user\n",
        "num1 = float(input('Enter first number: '))\n",
        "num2 = float(input('Enter second number: '))\n",
        "num3 = float(input('Enter third number: '))\n",
        "\n",
        "if (num1 >=num2) and (num1>=num3):\n",
        "    largest = num1\n",
        "if (num2 >=num1) and (num2>=num3):\n",
        "    largest = num2\n",
        "else:\n",
        "    largest = num3\n",
        "    \n",
        "print('The largest number is', largest)"
      ],
      "execution_count": null,
      "outputs": [
        {
          "output_type": "stream",
          "text": [
            "Enter first number:  45\n",
            "Enter second number:  23\n",
            "Enter third number:  4\n"
          ],
          "name": "stdin"
        },
        {
          "output_type": "stream",
          "text": [
            "The largest number is 4.0\n"
          ],
          "name": "stdout"
        }
      ]
    },
    {
      "cell_type": "markdown",
      "metadata": {
        "id": "slsbQ-BGEyr_",
        "colab_type": "text"
      },
      "source": [
        "##25. Zip method \n",
        "\n",
        "The Zip() function takes iterables (can be zero or more), aggregates them in a tuple, and return it.\n",
        "syntax : *zip(*iterables)*\n",
        "Iterables can be built-in iterables (like: list, string, dict) or user-defined iterables.\n",
        "The zip() function returns an iterator of tuples based on the iterable objects."
      ]
    },
    {
      "cell_type": "code",
      "metadata": {
        "id": "3K1OSissEyr_",
        "colab_type": "code",
        "colab": {},
        "outputId": "cf6d1f7c-c01f-4366-decd-5339ed4d5612"
      },
      "source": [
        "number_list = [1,2,3]\n",
        "str_list = ['one', 'two', 'three']\n",
        "#no iterables are passed\n",
        "result = zip()\n",
        "#converting iterator to list\n",
        "result_list = list(result)\n",
        "print(result_list)\n",
        "\n",
        "#two iteratables are passed\n",
        "result = zip(number_list, str_list)\n",
        "\n",
        "#converting itertor to set\n",
        "result_set = set(result)\n",
        "print(result_set)"
      ],
      "execution_count": null,
      "outputs": [
        {
          "output_type": "stream",
          "text": [
            "[]\n",
            "{(3, 'three'), (2, 'two'), (1, 'one')}\n"
          ],
          "name": "stdout"
        }
      ]
    },
    {
      "cell_type": "markdown",
      "metadata": {
        "id": "6w9eWfGeEysB",
        "colab_type": "text"
      },
      "source": [
        "##26.  A leap year is exactly divisible by 4 except for centure year(years ending with 00). The century year is  a leap year only if it is perfectly divisible by 400. \n",
        "For example:\n",
        "* 2017 is not a leap year\n",
        "* 1900 is  not a leap year\n",
        "* 2012 is a leap year\n",
        "* 2000 is a leap year"
      ]
    },
    {
      "cell_type": "code",
      "metadata": {
        "id": "Gs6LLjwKEysB",
        "colab_type": "code",
        "colab": {},
        "outputId": "f0d9245d-0cd6-498a-a369-dc9013ff52ff"
      },
      "source": [
        "year = int(input('Enter the year: '))\n",
        " \n",
        "#check if year is a leap or not\n",
        "if (year %4)==0:\n",
        "    if (year %100)==0:\n",
        "        if (year %400)==0:\n",
        "            print('{0} is a leap year'.format(year))\n",
        "        else:\n",
        "            print('{0} is not a leap year'.format(year))\n",
        "    else:\n",
        "        print('{0} is a leap year'.format(year))\n",
        "    \n",
        "else:\n",
        "    print('{0} is not a leap year'.format(year))"
      ],
      "execution_count": null,
      "outputs": [
        {
          "output_type": "stream",
          "text": [
            "Enter the year:  2017\n"
          ],
          "name": "stdin"
        },
        {
          "output_type": "stream",
          "text": [
            "2017 is not a leap year\n"
          ],
          "name": "stdout"
        }
      ]
    },
    {
      "cell_type": "code",
      "metadata": {
        "id": "PVFl_X0wEysH",
        "colab_type": "code",
        "colab": {
          "base_uri": "https://localhost:8080/",
          "height": 34
        },
        "outputId": "943229ab-ba16-4060-e662-1dee4a1687f7"
      },
      "source": [
        "mylist=[3,2,1,0]\n",
        "result = int(all(mylist))\n",
        "result"
      ],
      "execution_count": null,
      "outputs": [
        {
          "output_type": "execute_result",
          "data": {
            "text/plain": [
              "0"
            ]
          },
          "metadata": {
            "tags": []
          },
          "execution_count": 16
        }
      ]
    },
    {
      "cell_type": "code",
      "metadata": {
        "id": "1QGyBuggEysI",
        "colab_type": "code",
        "colab": {
          "base_uri": "https://localhost:8080/",
          "height": 103
        },
        "outputId": "b07f91a5-f127-4789-d417-69626fd804be"
      },
      "source": [
        "## Create a triangle with a for loop\n",
        "rows=5\n",
        "for i in range(rows):\n",
        "    for j in range(0,i+1):\n",
        "        print('*', end = '')\n",
        "    print('\\r')\n"
      ],
      "execution_count": null,
      "outputs": [
        {
          "output_type": "stream",
          "text": [
            "*\r\n",
            "**\r\n",
            "***\r\n",
            "****\r\n",
            "*****\r\n"
          ],
          "name": "stdout"
        }
      ]
    },
    {
      "cell_type": "code",
      "metadata": {
        "id": "DVoyrfSPEysL",
        "colab_type": "code",
        "colab": {},
        "outputId": "23a2afda-9f2e-4ff1-dbf1-c3466185f655"
      },
      "source": [
        "rows=5\n",
        "for i in range(rows+1):\n",
        "    print('*'*i)\n",
        "    "
      ],
      "execution_count": null,
      "outputs": [
        {
          "output_type": "stream",
          "text": [
            "\n",
            "*\n",
            "**\n",
            "***\n",
            "****\n",
            "*****\n"
          ],
          "name": "stdout"
        }
      ]
    },
    {
      "cell_type": "markdown",
      "metadata": {
        "id": "EiuheoShUkFj",
        "colab_type": "text"
      },
      "source": [
        "## 27. Emoji in Python"
      ]
    },
    {
      "cell_type": "code",
      "metadata": {
        "id": "rxoMzUIPEysN",
        "colab_type": "code",
        "colab": {
          "base_uri": "https://localhost:8080/",
          "height": 209
        },
        "outputId": "f93eeb81-9ad5-4ff7-9f25-c699b9c7c8f1"
      },
      "source": [
        "pip install emoji"
      ],
      "execution_count": null,
      "outputs": [
        {
          "output_type": "stream",
          "text": [
            "Collecting emoji\n",
            "\u001b[?25l  Downloading https://files.pythonhosted.org/packages/ff/1c/1f1457fe52d0b30cbeebfd578483cedb3e3619108d2d5a21380dfecf8ffd/emoji-0.6.0.tar.gz (51kB)\n",
            "\r\u001b[K     |██████▍                         | 10kB 15.1MB/s eta 0:00:01\r\u001b[K     |████████████▉                   | 20kB 2.1MB/s eta 0:00:01\r\u001b[K     |███████████████████▎            | 30kB 2.8MB/s eta 0:00:01\r\u001b[K     |█████████████████████████▊      | 40kB 3.1MB/s eta 0:00:01\r\u001b[K     |████████████████████████████████| 51kB 1.8MB/s \n",
            "\u001b[?25hBuilding wheels for collected packages: emoji\n",
            "  Building wheel for emoji (setup.py) ... \u001b[?25l\u001b[?25hdone\n",
            "  Created wheel for emoji: filename=emoji-0.6.0-cp36-none-any.whl size=49716 sha256=9617392a4d687c4dc5f7caab298000d75195fc2bb35a2cf913a021bd4218faca\n",
            "  Stored in directory: /root/.cache/pip/wheels/46/2c/8b/9dcf5216ca68e14e0320e283692dce8ae321cdc01e73e17796\n",
            "Successfully built emoji\n",
            "Installing collected packages: emoji\n",
            "Successfully installed emoji-0.6.0\n"
          ],
          "name": "stdout"
        }
      ]
    },
    {
      "cell_type": "code",
      "metadata": {
        "id": "1ozxyWPMEysO",
        "colab_type": "code",
        "colab": {}
      },
      "source": [
        "import emoji"
      ],
      "execution_count": null,
      "outputs": []
    },
    {
      "cell_type": "code",
      "metadata": {
        "id": "PlAUD0FOEysP",
        "colab_type": "code",
        "colab": {
          "base_uri": "https://localhost:8080/",
          "height": 189
        },
        "outputId": "d71bc944-395f-4f60-c2a1-82eeb124b703"
      },
      "source": [
        "print(emoji.emojize(\"Python is fun :grinning_face_with_big_eyes:\"))\n",
        "print(emoji.emojize(\"Python is fun :red_heart:\"))\n",
        "print(emoji.emojize(\"Python is fun :thumbsup:\", use_aliases=True))\n",
        "print(emoji.emojize(\"Python is fun :winking_face_with_tongue:\"))\n",
        "print(emoji.emojize(\"Python is fun :zipper-mouth_face:\"))\n",
        "print(emoji.emojize(\"Python is fun :grinning_face_with_smiling_eyes:\"))\n",
        "print(emoji.emojize(\"Python is fun :beaming_face_with_smiling_eyes:\"))\n",
        "print(emoji.emojize(\"Python is fun :grinning_face_with_sweat:\"))\n",
        "print(emoji.emojize(\"Python is fun :grinning_squinting_face:\"))\n",
        "print(emoji.emojize(\"Python is fun :rolling_on_the_floor_laughing:\"))"
      ],
      "execution_count": null,
      "outputs": [
        {
          "output_type": "stream",
          "text": [
            "Python is fun 😃\n",
            "Python is fun ❤\n",
            "Python is fun 👍\n",
            "Python is fun 😜\n",
            "Python is fun 🤐\n",
            "Python is fun 😄\n",
            "Python is fun 😁\n",
            "Python is fun 😅\n",
            "Python is fun 😆\n",
            "Python is fun 🤣\n"
          ],
          "name": "stdout"
        }
      ]
    },
    {
      "cell_type": "code",
      "metadata": {
        "id": "0FOGmh6dEysR",
        "colab_type": "code",
        "colab": {},
        "outputId": "3ce8912d-cd6a-4428-a53b-d54728e9ae86"
      },
      "source": [
        "print(emoji.emojize(\"Python is fun :thumbsup:\"))"
      ],
      "execution_count": null,
      "outputs": [
        {
          "output_type": "stream",
          "text": [
            "Python is fun 👍\n"
          ],
          "name": "stdout"
        }
      ]
    },
    {
      "cell_type": "markdown",
      "metadata": {
        "id": "e4-bErfQEysS",
        "colab_type": "text"
      },
      "source": [
        "## 28. To reverse a number"
      ]
    },
    {
      "cell_type": "code",
      "metadata": {
        "id": "yyyOhta5EysS",
        "colab_type": "code",
        "colab": {},
        "outputId": "f13d949e-d8de-4a9d-a7d2-22d14f959c77"
      },
      "source": [
        "num =12882\n",
        "result =0\n",
        "\n",
        "while(num>0):\n",
        "    remainder = num%10\n",
        "    result = (result*10) + remainder\n",
        "    num = num//10\n",
        "print(result)"
      ],
      "execution_count": null,
      "outputs": [
        {
          "output_type": "stream",
          "text": [
            "28821\n"
          ],
          "name": "stdout"
        }
      ]
    },
    {
      "cell_type": "markdown",
      "metadata": {
        "id": "TjEnpqFIEysT",
        "colab_type": "text"
      },
      "source": [
        "##29. Program to display calendar\n",
        "\n",
        "\n"
      ]
    },
    {
      "cell_type": "code",
      "metadata": {
        "id": "TI0Hv2DsEysT",
        "colab_type": "code",
        "colab": {},
        "outputId": "2e88e22e-4c2d-43d4-8ee7-dd6902ba6706"
      },
      "source": [
        "import calendar\n",
        "\n",
        "# yy = 2020\n",
        "# mm = 8\n",
        "##to take month and year input from user\n",
        "yy = int(input('Enter the year'))\n",
        "mm = int(input('Enter te month'))\n",
        "print(calendar.month(yy,mm))\n"
      ],
      "execution_count": null,
      "outputs": [
        {
          "output_type": "stream",
          "text": [
            "Enter the year 2020\n",
            "Enter te month 8\n"
          ],
          "name": "stdin"
        },
        {
          "output_type": "stream",
          "text": [
            "    August 2020\n",
            "Mo Tu We Th Fr Sa Su\n",
            "                1  2\n",
            " 3  4  5  6  7  8  9\n",
            "10 11 12 13 14 15 16\n",
            "17 18 19 20 21 22 23\n",
            "24 25 26 27 28 29 30\n",
            "31\n",
            "\n"
          ],
          "name": "stdout"
        }
      ]
    },
    {
      "cell_type": "code",
      "metadata": {
        "id": "baAWeTyKEysV",
        "colab_type": "code",
        "colab": {},
        "outputId": "36d596fb-04d7-499b-c8f1-f50bc5def734"
      },
      "source": [
        "yy = int(input('Enter the year'))\n",
        "mm = int(input('Enter te month'))\n",
        "print(calendar.month(yy, mm))"
      ],
      "execution_count": null,
      "outputs": [
        {
          "output_type": "stream",
          "text": [
            "Enter the year 2019\n",
            "Enter te month 8\n"
          ],
          "name": "stdin"
        },
        {
          "output_type": "stream",
          "text": [
            "    August 2019\n",
            "Mo Tu We Th Fr Sa Su\n",
            "          1  2  3  4\n",
            " 5  6  7  8  9 10 11\n",
            "12 13 14 15 16 17 18\n",
            "19 20 21 22 23 24 25\n",
            "26 27 28 29 30 31\n",
            "\n"
          ],
          "name": "stdout"
        }
      ]
    },
    {
      "cell_type": "markdown",
      "metadata": {
        "id": "r62MRATrUwjl",
        "colab_type": "text"
      },
      "source": [
        "##30. Fliglet in Python"
      ]
    },
    {
      "cell_type": "code",
      "metadata": {
        "id": "fDtAUpcxEysY",
        "colab_type": "code",
        "colab": {},
        "outputId": "5dc27b9b-565c-42d2-cf8b-d2fc3174975a"
      },
      "source": [
        "pip install pyfiglet"
      ],
      "execution_count": null,
      "outputs": [
        {
          "output_type": "stream",
          "text": [
            "Collecting pyfiglet\n",
            "\u001b[?25l  Downloading https://files.pythonhosted.org/packages/33/07/fcfdd7a2872f5b348953de35acce1544dab0c1e8368dca54279b1cde5c15/pyfiglet-0.8.post1-py2.py3-none-any.whl (865kB)\n",
            "\u001b[K     |████████████████████████████████| 870kB 239kB/s eta 0:00:01\n",
            "\u001b[?25hInstalling collected packages: pyfiglet\n",
            "Successfully installed pyfiglet-0.8.post1\n",
            "Note: you may need to restart the kernel to use updated packages.\n"
          ],
          "name": "stdout"
        }
      ]
    },
    {
      "cell_type": "code",
      "metadata": {
        "id": "p7WxWtyhEysa",
        "colab_type": "code",
        "colab": {},
        "outputId": "b4e6555c-6369-4869-cf85-1533e87da2fc"
      },
      "source": [
        "# import pufiglet module\n",
        "import pyfiglet\n",
        "\n",
        "result= pyfiglet.figlet_format('Berthine')\n",
        "print(result)\n",
        "outp = pyfiglet.figlet_format(\"N.M.\", font = \"dotmatrix\" )\n",
        "print(outp)"
      ],
      "execution_count": null,
      "outputs": [
        {
          "output_type": "stream",
          "text": [
            " ____            _   _     _            \n",
            "| __ )  ___ _ __| |_| |__ (_)_ __   ___ \n",
            "|  _ \\ / _ \\ '__| __| '_ \\| | '_ \\ / _ \\\n",
            "| |_) |  __/ |  | |_| | | | | | | |  __/\n",
            "|____/ \\___|_|   \\__|_| |_|_|_| |_|\\___|\n",
            "                                        \n",
            "\n",
            " _           _           _           _               \n",
            "(_) _       (_)         (_) _     _ (_)              \n",
            "(_)(_)_     (_)         (_)(_)   (_)(_)              \n",
            "(_)  (_)_   (_)         (_) (_)_(_) (_)              \n",
            "(_)    (_)_ (_)         (_)   (_)   (_)              \n",
            "(_)      (_)(_)  _  _   (_)         (_)  _  _        \n",
            "(_)         (_) (_)(_)  (_)         (_) (_)(_)       \n",
            "(_)         (_) (_)(_)  (_)         (_) (_)(_)       \n",
            "                                                     \n",
            "                                                     \n",
            "\n"
          ],
          "name": "stdout"
        }
      ]
    },
    {
      "cell_type": "code",
      "metadata": {
        "id": "shGhr0pMEysb",
        "colab_type": "code",
        "colab": {},
        "outputId": "7b7114ee-551c-4c5d-a4ca-c2fbe47594ca"
      },
      "source": [
        "res=pyfiglet.figlet_format('Salomey')\n",
        "print(res)\n",
        "# Text in digital font\n",
        "outp = pyfiglet.figlet_format(\"Osei\", font = \"dotmatrix\" )\n",
        "print(outp)"
      ],
      "execution_count": null,
      "outputs": [
        {
          "output_type": "stream",
          "text": [
            " ____        _                            \n",
            "/ ___|  __ _| | ___  _ __ ___   ___ _   _ \n",
            "\\___ \\ / _` | |/ _ \\| '_ ` _ \\ / _ \\ | | |\n",
            " ___) | (_| | | (_) | | | | | |  __/ |_| |\n",
            "|____/ \\__,_|_|\\___/|_| |_| |_|\\___|\\__, |\n",
            "                                    |___/ \n",
            "\n",
            "   _  _  _  _                                     _          \n",
            " _(_)(_)(_)(_)_                                  (_)         \n",
            "(_)          (_)   _  _  _  _     _  _  _  _   _  _          \n",
            "(_)          (_) _(_)(_)(_)(_)   (_)(_)(_)(_)_(_)(_)         \n",
            "(_)          (_)(_)_  _  _  _   (_) _  _  _ (_)  (_)         \n",
            "(_)          (_)  (_)(_)(_)(_)_ (_)(_)(_)(_)(_)  (_)         \n",
            "(_)_  _  _  _(_)   _  _  _  _(_)(_)_  _  _  _  _ (_) _       \n",
            "  (_)(_)(_)(_)    (_)(_)(_)(_)    (_)(_)(_)(_)(_)(_)(_)      \n",
            "                                                             \n",
            "                                                             \n",
            "\n"
          ],
          "name": "stdout"
        }
      ]
    },
    {
      "cell_type": "code",
      "metadata": {
        "id": "iAX_HlKtEysc",
        "colab_type": "code",
        "colab": {},
        "outputId": "359ae9d0-a1ba-40e6-aa84-932003edb424"
      },
      "source": [
        "out = pyfiglet.figlet_format(\"Nyunga\", font=\"slant\")\n",
        "print(out)"
      ],
      "execution_count": null,
      "outputs": [
        {
          "output_type": "stream",
          "text": [
            "    _   __                             \n",
            "   / | / /_  ____  ______  ____ _____ _\n",
            "  /  |/ / / / / / / / __ \\/ __ `/ __ `/\n",
            " / /|  / /_/ / /_/ / / / / /_/ / /_/ / \n",
            "/_/ |_/\\__, /\\__,_/_/ /_/\\__, /\\__,_/  \n",
            "      /____/            /____/         \n",
            "\n"
          ],
          "name": "stdout"
        }
      ]
    },
    {
      "cell_type": "code",
      "metadata": {
        "id": "ZEuNf3JUEyse",
        "colab_type": "code",
        "colab": {},
        "outputId": "b19cecb1-06d2-4ac4-b694-d0d0fc36af91"
      },
      "source": [
        "out = pyfiglet.figlet_format(\"Point\", font=\"3-d\")\n",
        "print(out)"
      ],
      "execution_count": null,
      "outputs": [
        {
          "output_type": "stream",
          "text": [
            " *******           **            **  \n",
            "/**////**         //            /**  \n",
            "/**   /**  ******  ** *******  ******\n",
            "/*******  **////**/**//**///**///**/ \n",
            "/**////  /**   /**/** /**  /**  /**  \n",
            "/**      /**   /**/** /**  /**  /**  \n",
            "/**      //****** /** ***  /**  //** \n",
            "//        //////  // ///   //    //  \n",
            "\n"
          ],
          "name": "stdout"
        }
      ]
    },
    {
      "cell_type": "code",
      "metadata": {
        "id": "QXgc-YPuEysg",
        "colab_type": "code",
        "colab": {},
        "outputId": "cf286067-a3c6-445d-aa70-cf16bd9edbdf"
      },
      "source": [
        "#Text in 3×5 font\n",
        "out = pyfiglet.figlet_format(\"Point\", font=\"3x5\")\n",
        "print(out)\n",
        "\n",
        "#Text in alligator font\n",
        "out_front = pyfiglet.figlet_format(\"Point\", font=\"alligator\")\n",
        "print(out_front)"
      ],
      "execution_count": null,
      "outputs": [
        {
          "output_type": "stream",
          "text": [
            "                    \n",
            "##       #       #  \n",
            "# # ###     ##  ### \n",
            "##  # #  #  # #  #  \n",
            "#   ###  ## # #  ## \n",
            "#                   \n",
            "\n",
            "      :::::::::  :::::::::::::::::::::::    :::::::::::::: \n",
            "     :+:    :+::+:    :+:   :+:    :+:+:   :+:    :+:      \n",
            "    +:+    +:++:+    +:+   +:+    :+:+:+  +:+    +:+       \n",
            "   +#++:++#+ +#+    +:+   +#+    +#+ +:+ +#+    +#+        \n",
            "  +#+       +#+    +#+   +#+    +#+  +#+#+#    +#+         \n",
            " #+#       #+#    #+#   #+#    #+#   #+#+#    #+#          \n",
            "###        ######################    ####    ###           \n",
            "\n"
          ],
          "name": "stdout"
        }
      ]
    },
    {
      "cell_type": "code",
      "metadata": {
        "id": "JVf3kw4FEysi",
        "colab_type": "code",
        "colab": {},
        "outputId": "2da3b209-aca5-4f1e-d234-f229bc1174f4"
      },
      "source": [
        "#Text in dot matrix font\n",
        "out = pyfiglet.figlet_format(\"Point\", font=\"dotmatrix\")\n",
        "print(out)"
      ],
      "execution_count": null,
      "outputs": [
        {
          "output_type": "stream",
          "text": [
            " _  _  _  _                    _                     _            \n",
            "(_)(_)(_)(_)_                 (_)                   (_)           \n",
            "(_)        (_)   _  _  _    _  _     _  _  _  _   _ (_) _  _      \n",
            "(_) _  _  _(_)_ (_)(_)(_) _(_)(_)   (_)(_)(_)(_)_(_)(_)(_)(_)     \n",
            "(_)(_)(_)(_) (_)         (_)  (_)   (_)        (_)  (_)           \n",
            "(_)          (_)         (_)  (_)   (_)        (_)  (_)     _     \n",
            "(_)          (_) _  _  _ (_)_ (_) _ (_)        (_)  (_)_  _(_)    \n",
            "(_)             (_)(_)(_)  (_)(_)(_)(_)        (_)    (_)(_)      \n",
            "                                                                  \n",
            "                                                                  \n",
            "\n"
          ],
          "name": "stdout"
        }
      ]
    },
    {
      "cell_type": "code",
      "metadata": {
        "id": "Ae-t7I3hEysj",
        "colab_type": "code",
        "colab": {},
        "outputId": "9867daa2-abce-4b47-89eb-6226a420d678"
      },
      "source": [
        "#Text in bubble font\n",
        "out_ = pyfiglet.figlet_format(\"Point\", font=\"bubble\")\n",
        "print(out_)"
      ],
      "execution_count": null,
      "outputs": [
        {
          "output_type": "stream",
          "text": [
            "  _   _   _   _   _  \n",
            " / \\ / \\ / \\ / \\ / \\ \n",
            "( P | o | i | n | t )\n",
            " \\_/ \\_/ \\_/ \\_/ \\_/ \n",
            "\n"
          ],
          "name": "stdout"
        }
      ]
    },
    {
      "cell_type": "code",
      "metadata": {
        "id": "g8fiMc3KEysl",
        "colab_type": "code",
        "colab": {},
        "outputId": "6f9b5ceb-a9e5-480a-efcc-64a4d1a87216"
      },
      "source": [
        "# Text in digital font\n",
        "out = pyfiglet.figlet_format(\"Point\", font = \"digital\" )\n",
        "print(out)"
      ],
      "execution_count": null,
      "outputs": [
        {
          "output_type": "stream",
          "text": [
            "+-+-+-+-+-+\n",
            "|P|o|i|n|t|\n",
            "+-+-+-+-+-+\n",
            "\n"
          ],
          "name": "stdout"
        }
      ]
    },
    {
      "cell_type": "code",
      "metadata": {
        "id": "euLb22YgEysn",
        "colab_type": "code",
        "colab": {}
      },
      "source": [
        ""
      ],
      "execution_count": null,
      "outputs": []
    },
    {
      "cell_type": "markdown",
      "metadata": {
        "id": "rsApBQ8yxLR6",
        "colab_type": "text"
      },
      "source": [
        "## 31. Function Print("
      ]
    },
    {
      "cell_type": "code",
      "metadata": {
        "id": "rWFmp503xJiG",
        "colab_type": "code",
        "colab": {
          "base_uri": "https://localhost:8080/",
          "height": 86
        },
        "outputId": "1ef96618-eac0-4b89-962f-79baea01d969"
      },
      "source": [
        "print(\"a\",\"b\",\"c\")\n",
        "print(\"a\" \"b\" \"c\")\n",
        "print(\"a\", \"b\", \"c\", sep='-')\n",
        "print(\"a\" ,\"b\", \"c\", end = '*')\n",
        "\n"
      ],
      "execution_count": 2,
      "outputs": [
        {
          "output_type": "stream",
          "text": [
            "a b c\n",
            "abc\n",
            "a-b-c\n",
            "a b c*"
          ],
          "name": "stdout"
        }
      ]
    },
    {
      "cell_type": "code",
      "metadata": {
        "id": "S4qGuO6cxwW4",
        "colab_type": "code",
        "colab": {
          "base_uri": "https://localhost:8080/",
          "height": 34
        },
        "outputId": "45514bf8-84cf-491e-8e01-153a612c6797"
      },
      "source": [
        "print(\"a\", \"b\", \"c\", end = ' ')"
      ],
      "execution_count": 3,
      "outputs": [
        {
          "output_type": "stream",
          "text": [
            "a b c "
          ],
          "name": "stdout"
        }
      ]
    },
    {
      "cell_type": "code",
      "metadata": {
        "id": "s3qqIMd2x6hm",
        "colab_type": "code",
        "colab": {}
      },
      "source": [
        "file_obj =open('file.text', 'w')\n",
        "print(\"a\", \"b\", \"c\", file = file_obj)\n",
        "#file_obj.close()"
      ],
      "execution_count": 5,
      "outputs": []
    },
    {
      "cell_type": "code",
      "metadata": {
        "id": "JCk1dIeSyN8e",
        "colab_type": "code",
        "colab": {
          "base_uri": "https://localhost:8080/",
          "height": 34
        },
        "outputId": "f5523c70-04ad-4964-f99a-1bf40f41a498"
      },
      "source": [
        "file_obj"
      ],
      "execution_count": 6,
      "outputs": [
        {
          "output_type": "execute_result",
          "data": {
            "text/plain": [
              "<_io.TextIOWrapper name='file.text' mode='w' encoding='UTF-8'>"
            ]
          },
          "metadata": {
            "tags": []
          },
          "execution_count": 6
        }
      ]
    },
    {
      "cell_type": "markdown",
      "metadata": {
        "id": "ii1oSX1wyxNn",
        "colab_type": "text"
      },
      "source": [
        "## 32. Add al odd numbers in a list or tuple."
      ]
    },
    {
      "cell_type": "code",
      "metadata": {
        "id": "a9jOXJSVyU7F",
        "colab_type": "code",
        "colab": {}
      },
      "source": [
        "from math import *\n",
        "def add_odd_num(nums):\n",
        "\n",
        "  total = 0\n",
        "  for num in nums:\n",
        "    if num %2!=0:\n",
        "      total +=num\n",
        "  return total\n",
        "                \n"
      ],
      "execution_count": 28,
      "outputs": []
    },
    {
      "cell_type": "code",
      "metadata": {
        "id": "C1W7UtdZzZEi",
        "colab_type": "code",
        "colab": {
          "base_uri": "https://localhost:8080/",
          "height": 34
        },
        "outputId": "87966ded-bf31-48e9-aec7-afb9bf29c316"
      },
      "source": [
        "add_odd_num([1,3,9,8])"
      ],
      "execution_count": 29,
      "outputs": [
        {
          "output_type": "execute_result",
          "data": {
            "text/plain": [
              "13"
            ]
          },
          "metadata": {
            "tags": []
          },
          "execution_count": 29
        }
      ]
    },
    {
      "cell_type": "code",
      "metadata": {
        "id": "Wv9GwDDk0HfL",
        "colab_type": "code",
        "colab": {}
      },
      "source": [
        "def add_even_num(nums):\n",
        "\n",
        "  total = 0\n",
        "  for num in nums:\n",
        "    if num %2==0:\n",
        "      total +=num\n",
        "  return total"
      ],
      "execution_count": 32,
      "outputs": []
    },
    {
      "cell_type": "code",
      "metadata": {
        "id": "s2M-kZQD8Zew",
        "colab_type": "code",
        "colab": {
          "base_uri": "https://localhost:8080/",
          "height": 34
        },
        "outputId": "1efa3406-f855-42a8-df6a-913203532caa"
      },
      "source": [
        "add_even_num([1,3,9,8])"
      ],
      "execution_count": 33,
      "outputs": [
        {
          "output_type": "execute_result",
          "data": {
            "text/plain": [
              "8"
            ]
          },
          "metadata": {
            "tags": []
          },
          "execution_count": 33
        }
      ]
    },
    {
      "cell_type": "code",
      "metadata": {
        "id": "-oX10mS38e7a",
        "colab_type": "code",
        "colab": {}
      },
      "source": [
        ""
      ],
      "execution_count": null,
      "outputs": []
    }
  ]
}
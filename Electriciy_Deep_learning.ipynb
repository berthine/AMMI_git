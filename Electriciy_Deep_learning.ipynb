{
 "cells": [
  {
   "cell_type": "markdown",
   "metadata": {},
   "source": [
    "## Classification with Neural Network using electricity data"
   ]
  },
  {
   "cell_type": "markdown",
   "metadata": {},
   "source": [
    "This data was collected from the Australian New South Wales Electricity Market.\n",
    "\n",
    "In this market, prices are not fixed and are affected by demand and supply of the market. \n",
    "\n",
    "They are set every five minutes. Electricity transfers to/from the neighboring state of Victoria were done to alleviate fluctuations.\n",
    "The dataset (originally named ELEC2) contains 45,312 instances dated from 7 May 1996 to 5 December 1998.\n",
    "Each example of the dataset refers to a period of 30 minutes, i.e. there are 48 instances for each time period of one day.\n",
    "\n",
    "Each example on the dataset has 5 fields, the day of week, the time stamp, the New South Wales electricity demand, the Victoria electricity demand, the scheduled electricity transfer between states and the class label. \n",
    "\n",
    "The class label identifies the change of the price (UP or DOWN) in New South Wales relative to a moving average of the last 24 hours (and removes the impact of longer term price trends)."
   ]
  },
  {
   "cell_type": "code",
   "execution_count": 73,
   "metadata": {},
   "outputs": [],
   "source": [
    "import numpy as np\n",
    "import pandas as pd\n",
    "import matplotlib.pyplot as plt\n",
    "import seaborn as sns\n",
    "%matplotlib inline "
   ]
  },
  {
   "cell_type": "code",
   "execution_count": 32,
   "metadata": {},
   "outputs": [],
   "source": [
    "Df = pd.read_csv('electricity-normalized.csv')"
   ]
  },
  {
   "cell_type": "code",
   "execution_count": 35,
   "metadata": {},
   "outputs": [
    {
     "data": {
      "text/html": [
       "<div>\n",
       "<style scoped>\n",
       "    .dataframe tbody tr th:only-of-type {\n",
       "        vertical-align: middle;\n",
       "    }\n",
       "\n",
       "    .dataframe tbody tr th {\n",
       "        vertical-align: top;\n",
       "    }\n",
       "\n",
       "    .dataframe thead th {\n",
       "        text-align: right;\n",
       "    }\n",
       "</style>\n",
       "<table border=\"1\" class=\"dataframe\">\n",
       "  <thead>\n",
       "    <tr style=\"text-align: right;\">\n",
       "      <th></th>\n",
       "      <th>date</th>\n",
       "      <th>day</th>\n",
       "      <th>period</th>\n",
       "      <th>nswprice</th>\n",
       "      <th>nswdemand</th>\n",
       "      <th>vicprice</th>\n",
       "      <th>vicdemand</th>\n",
       "      <th>transfer</th>\n",
       "      <th>class</th>\n",
       "    </tr>\n",
       "  </thead>\n",
       "  <tbody>\n",
       "    <tr>\n",
       "      <th>0</th>\n",
       "      <td>0.0</td>\n",
       "      <td>2</td>\n",
       "      <td>0.000000</td>\n",
       "      <td>0.056443</td>\n",
       "      <td>0.439155</td>\n",
       "      <td>0.003467</td>\n",
       "      <td>0.422915</td>\n",
       "      <td>0.414912</td>\n",
       "      <td>UP</td>\n",
       "    </tr>\n",
       "    <tr>\n",
       "      <th>1</th>\n",
       "      <td>0.0</td>\n",
       "      <td>2</td>\n",
       "      <td>0.021277</td>\n",
       "      <td>0.051699</td>\n",
       "      <td>0.415055</td>\n",
       "      <td>0.003467</td>\n",
       "      <td>0.422915</td>\n",
       "      <td>0.414912</td>\n",
       "      <td>UP</td>\n",
       "    </tr>\n",
       "    <tr>\n",
       "      <th>2</th>\n",
       "      <td>0.0</td>\n",
       "      <td>2</td>\n",
       "      <td>0.042553</td>\n",
       "      <td>0.051489</td>\n",
       "      <td>0.385004</td>\n",
       "      <td>0.003467</td>\n",
       "      <td>0.422915</td>\n",
       "      <td>0.414912</td>\n",
       "      <td>UP</td>\n",
       "    </tr>\n",
       "    <tr>\n",
       "      <th>3</th>\n",
       "      <td>0.0</td>\n",
       "      <td>2</td>\n",
       "      <td>0.063830</td>\n",
       "      <td>0.045485</td>\n",
       "      <td>0.314639</td>\n",
       "      <td>0.003467</td>\n",
       "      <td>0.422915</td>\n",
       "      <td>0.414912</td>\n",
       "      <td>UP</td>\n",
       "    </tr>\n",
       "    <tr>\n",
       "      <th>4</th>\n",
       "      <td>0.0</td>\n",
       "      <td>2</td>\n",
       "      <td>0.085106</td>\n",
       "      <td>0.042482</td>\n",
       "      <td>0.251116</td>\n",
       "      <td>0.003467</td>\n",
       "      <td>0.422915</td>\n",
       "      <td>0.414912</td>\n",
       "      <td>DOWN</td>\n",
       "    </tr>\n",
       "  </tbody>\n",
       "</table>\n",
       "</div>"
      ],
      "text/plain": [
       "   date  day    period  nswprice  nswdemand  vicprice  vicdemand  transfer  \\\n",
       "0   0.0    2  0.000000  0.056443   0.439155  0.003467   0.422915  0.414912   \n",
       "1   0.0    2  0.021277  0.051699   0.415055  0.003467   0.422915  0.414912   \n",
       "2   0.0    2  0.042553  0.051489   0.385004  0.003467   0.422915  0.414912   \n",
       "3   0.0    2  0.063830  0.045485   0.314639  0.003467   0.422915  0.414912   \n",
       "4   0.0    2  0.085106  0.042482   0.251116  0.003467   0.422915  0.414912   \n",
       "\n",
       "  class  \n",
       "0    UP  \n",
       "1    UP  \n",
       "2    UP  \n",
       "3    UP  \n",
       "4  DOWN  "
      ]
     },
     "execution_count": 35,
     "metadata": {},
     "output_type": "execute_result"
    }
   ],
   "source": [
    "Df.head()"
   ]
  },
  {
   "cell_type": "code",
   "execution_count": null,
   "metadata": {},
   "outputs": [],
   "source": []
  },
  {
   "cell_type": "code",
   "execution_count": 36,
   "metadata": {},
   "outputs": [],
   "source": [
    "Df['class'] = Df['class'].apply(lambda X: 1 if X=='UP' else 0) ##Convert class into 1 and 0"
   ]
  },
  {
   "cell_type": "code",
   "execution_count": 37,
   "metadata": {},
   "outputs": [
    {
     "data": {
      "text/html": [
       "<div>\n",
       "<style scoped>\n",
       "    .dataframe tbody tr th:only-of-type {\n",
       "        vertical-align: middle;\n",
       "    }\n",
       "\n",
       "    .dataframe tbody tr th {\n",
       "        vertical-align: top;\n",
       "    }\n",
       "\n",
       "    .dataframe thead th {\n",
       "        text-align: right;\n",
       "    }\n",
       "</style>\n",
       "<table border=\"1\" class=\"dataframe\">\n",
       "  <thead>\n",
       "    <tr style=\"text-align: right;\">\n",
       "      <th></th>\n",
       "      <th>date</th>\n",
       "      <th>day</th>\n",
       "      <th>period</th>\n",
       "      <th>nswprice</th>\n",
       "      <th>nswdemand</th>\n",
       "      <th>vicprice</th>\n",
       "      <th>vicdemand</th>\n",
       "      <th>transfer</th>\n",
       "      <th>class</th>\n",
       "    </tr>\n",
       "  </thead>\n",
       "  <tbody>\n",
       "    <tr>\n",
       "      <th>0</th>\n",
       "      <td>0.0</td>\n",
       "      <td>2</td>\n",
       "      <td>0.000000</td>\n",
       "      <td>0.056443</td>\n",
       "      <td>0.439155</td>\n",
       "      <td>0.003467</td>\n",
       "      <td>0.422915</td>\n",
       "      <td>0.414912</td>\n",
       "      <td>1</td>\n",
       "    </tr>\n",
       "    <tr>\n",
       "      <th>1</th>\n",
       "      <td>0.0</td>\n",
       "      <td>2</td>\n",
       "      <td>0.021277</td>\n",
       "      <td>0.051699</td>\n",
       "      <td>0.415055</td>\n",
       "      <td>0.003467</td>\n",
       "      <td>0.422915</td>\n",
       "      <td>0.414912</td>\n",
       "      <td>1</td>\n",
       "    </tr>\n",
       "    <tr>\n",
       "      <th>2</th>\n",
       "      <td>0.0</td>\n",
       "      <td>2</td>\n",
       "      <td>0.042553</td>\n",
       "      <td>0.051489</td>\n",
       "      <td>0.385004</td>\n",
       "      <td>0.003467</td>\n",
       "      <td>0.422915</td>\n",
       "      <td>0.414912</td>\n",
       "      <td>1</td>\n",
       "    </tr>\n",
       "    <tr>\n",
       "      <th>3</th>\n",
       "      <td>0.0</td>\n",
       "      <td>2</td>\n",
       "      <td>0.063830</td>\n",
       "      <td>0.045485</td>\n",
       "      <td>0.314639</td>\n",
       "      <td>0.003467</td>\n",
       "      <td>0.422915</td>\n",
       "      <td>0.414912</td>\n",
       "      <td>1</td>\n",
       "    </tr>\n",
       "    <tr>\n",
       "      <th>4</th>\n",
       "      <td>0.0</td>\n",
       "      <td>2</td>\n",
       "      <td>0.085106</td>\n",
       "      <td>0.042482</td>\n",
       "      <td>0.251116</td>\n",
       "      <td>0.003467</td>\n",
       "      <td>0.422915</td>\n",
       "      <td>0.414912</td>\n",
       "      <td>0</td>\n",
       "    </tr>\n",
       "  </tbody>\n",
       "</table>\n",
       "</div>"
      ],
      "text/plain": [
       "   date  day    period  nswprice  nswdemand  vicprice  vicdemand  transfer  \\\n",
       "0   0.0    2  0.000000  0.056443   0.439155  0.003467   0.422915  0.414912   \n",
       "1   0.0    2  0.021277  0.051699   0.415055  0.003467   0.422915  0.414912   \n",
       "2   0.0    2  0.042553  0.051489   0.385004  0.003467   0.422915  0.414912   \n",
       "3   0.0    2  0.063830  0.045485   0.314639  0.003467   0.422915  0.414912   \n",
       "4   0.0    2  0.085106  0.042482   0.251116  0.003467   0.422915  0.414912   \n",
       "\n",
       "   class  \n",
       "0      1  \n",
       "1      1  \n",
       "2      1  \n",
       "3      1  \n",
       "4      0  "
      ]
     },
     "execution_count": 37,
     "metadata": {},
     "output_type": "execute_result"
    }
   ],
   "source": [
    "Df.head()"
   ]
  },
  {
   "cell_type": "code",
   "execution_count": 40,
   "metadata": {},
   "outputs": [
    {
     "data": {
      "text/plain": [
       "(45312, 9)"
      ]
     },
     "execution_count": 40,
     "metadata": {},
     "output_type": "execute_result"
    }
   ],
   "source": [
    "Df.shape"
   ]
  },
  {
   "cell_type": "code",
   "execution_count": 39,
   "metadata": {},
   "outputs": [],
   "source": [
    "X_Df = Df.drop(['class'], axis = 1)\n",
    "y_Df = Df['class']"
   ]
  },
  {
   "cell_type": "code",
   "execution_count": 43,
   "metadata": {},
   "outputs": [
    {
     "data": {
      "text/plain": [
       "((45312,), (45312, 8))"
      ]
     },
     "execution_count": 43,
     "metadata": {},
     "output_type": "execute_result"
    }
   ],
   "source": [
    "y_Df.shape, X_Df.shape"
   ]
  },
  {
   "cell_type": "code",
   "execution_count": 113,
   "metadata": {},
   "outputs": [],
   "source": [
    "#240/(2*(X_Df.shape[1]+1))"
   ]
  },
  {
   "cell_type": "code",
   "execution_count": 44,
   "metadata": {},
   "outputs": [],
   "source": [
    "from sklearn.model_selection import train_test_split"
   ]
  },
  {
   "cell_type": "code",
   "execution_count": 45,
   "metadata": {},
   "outputs": [],
   "source": [
    "X_train, X_test, y_train, y_test = train_test_split(X_Df, y_Df, test_size=0.2, random_state=42)"
   ]
  },
  {
   "cell_type": "code",
   "execution_count": 91,
   "metadata": {},
   "outputs": [],
   "source": [
    "#import library\n",
    "import keras\n",
    "from keras.models import Sequential \n",
    "from keras.layers import Dense\n",
    "from keras.utils import to_categorical\n",
    "from sklearn.metrics import mean_squared_error, r2_score, accuracy_score"
   ]
  },
  {
   "cell_type": "code",
   "execution_count": 114,
   "metadata": {},
   "outputs": [
    {
     "name": "stdout",
     "output_type": "stream",
     "text": [
      "Model: \"sequential_7\"\n",
      "_________________________________________________________________\n",
      "Layer (type)                 Output Shape              Param #   \n",
      "=================================================================\n",
      "dense_22 (Dense)             (None, 32)                288       \n",
      "_________________________________________________________________\n",
      "dense_23 (Dense)             (None, 32)                1056      \n",
      "_________________________________________________________________\n",
      "dense_24 (Dense)             (None, 1)                 33        \n",
      "=================================================================\n",
      "Total params: 1,377\n",
      "Trainable params: 1,377\n",
      "Non-trainable params: 0\n",
      "_________________________________________________________________\n"
     ]
    }
   ],
   "source": [
    "model = Sequential()\n",
    "n_cols = X_Df.shape[1]\n",
    "target = to_categorical(y_train)\n",
    "model.add(Dense(32, input_dim = 8, kernel_initializer='normal',  activation ='relu'))\n",
    "model.add(Dense(32, activation='relu'))\n",
    "model.add(Dense(1, activation='sigmoid'))\n",
    "\n",
    "model.summary()"
   ]
  },
  {
   "cell_type": "code",
   "execution_count": null,
   "metadata": {},
   "outputs": [],
   "source": []
  },
  {
   "cell_type": "code",
   "execution_count": 115,
   "metadata": {},
   "outputs": [],
   "source": [
    "model.compile(optimizer='adam', loss='binary_crossentropy', metrics=['accuracy'])"
   ]
  },
  {
   "cell_type": "code",
   "execution_count": 125,
   "metadata": {},
   "outputs": [
    {
     "name": "stdout",
     "output_type": "stream",
     "text": [
      "Train on 28999 samples, validate on 7250 samples\n",
      "Epoch 1/200\n",
      "28999/28999 [==============================] - 2s 59us/step - loss: 0.4063 - accuracy: 0.8158 - val_loss: 0.4086 - val_accuracy: 0.8116\n",
      "Epoch 2/200\n",
      "28999/28999 [==============================] - 2s 59us/step - loss: 0.4052 - accuracy: 0.8157 - val_loss: 0.4011 - val_accuracy: 0.8141\n",
      "Epoch 3/200\n",
      "28999/28999 [==============================] - 2s 60us/step - loss: 0.4067 - accuracy: 0.8158 - val_loss: 0.4057 - val_accuracy: 0.8160\n",
      "Epoch 4/200\n",
      "28999/28999 [==============================] - 2s 60us/step - loss: 0.4041 - accuracy: 0.8154 - val_loss: 0.4110 - val_accuracy: 0.8145\n",
      "Epoch 5/200\n",
      "28999/28999 [==============================] - 2s 56us/step - loss: 0.4058 - accuracy: 0.8156 - val_loss: 0.3995 - val_accuracy: 0.8167\n",
      "Epoch 6/200\n",
      "28999/28999 [==============================] - 2s 55us/step - loss: 0.4048 - accuracy: 0.8166 - val_loss: 0.4165 - val_accuracy: 0.8095\n",
      "Epoch 7/200\n",
      "28999/28999 [==============================] - 2s 54us/step - loss: 0.4059 - accuracy: 0.8156 - val_loss: 0.4005 - val_accuracy: 0.8157\n",
      "Epoch 8/200\n",
      "28999/28999 [==============================] - 2s 54us/step - loss: 0.4056 - accuracy: 0.8141 - val_loss: 0.4110 - val_accuracy: 0.8108\n",
      "Epoch 9/200\n",
      "28999/28999 [==============================] - 2s 57us/step - loss: 0.4054 - accuracy: 0.8151 - val_loss: 0.4018 - val_accuracy: 0.8178\n",
      "Epoch 10/200\n",
      "28999/28999 [==============================] - 2s 62us/step - loss: 0.4035 - accuracy: 0.8173 - val_loss: 0.4090 - val_accuracy: 0.8073\n",
      "Epoch 11/200\n",
      "28999/28999 [==============================] - 2s 60us/step - loss: 0.4030 - accuracy: 0.8145 - val_loss: 0.4079 - val_accuracy: 0.8132\n",
      "Epoch 12/200\n",
      "28999/28999 [==============================] - 2s 64us/step - loss: 0.4040 - accuracy: 0.8172 - val_loss: 0.4319 - val_accuracy: 0.7993\n",
      "Epoch 13/200\n",
      "28999/28999 [==============================] - 2s 60us/step - loss: 0.4060 - accuracy: 0.8142 - val_loss: 0.4144 - val_accuracy: 0.8106\n",
      "Epoch 14/200\n",
      "28999/28999 [==============================] - 2s 57us/step - loss: 0.4066 - accuracy: 0.8143 - val_loss: 0.4017 - val_accuracy: 0.8152\n",
      "Epoch 15/200\n",
      "28999/28999 [==============================] - 2s 66us/step - loss: 0.4025 - accuracy: 0.8165 - val_loss: 0.4069 - val_accuracy: 0.8095\n",
      "Epoch 16/200\n",
      "28999/28999 [==============================] - 2s 65us/step - loss: 0.4047 - accuracy: 0.8147 - val_loss: 0.4060 - val_accuracy: 0.8127\n",
      "Epoch 17/200\n",
      "28999/28999 [==============================] - 2s 62us/step - loss: 0.4030 - accuracy: 0.8178 - val_loss: 0.4069 - val_accuracy: 0.8132\n",
      "Epoch 18/200\n",
      "28999/28999 [==============================] - 2s 61us/step - loss: 0.4040 - accuracy: 0.8195 - val_loss: 0.4082 - val_accuracy: 0.8091\n",
      "Epoch 19/200\n",
      "28999/28999 [==============================] - 2s 65us/step - loss: 0.4024 - accuracy: 0.8170 - val_loss: 0.4078 - val_accuracy: 0.8097\n",
      "Epoch 20/200\n",
      "28999/28999 [==============================] - 2s 60us/step - loss: 0.4038 - accuracy: 0.8167 - val_loss: 0.4162 - val_accuracy: 0.8077\n",
      "Epoch 21/200\n",
      "28999/28999 [==============================] - 2s 57us/step - loss: 0.4024 - accuracy: 0.8170 - val_loss: 0.3990 - val_accuracy: 0.8152\n",
      "Epoch 22/200\n",
      "28999/28999 [==============================] - 2s 60us/step - loss: 0.4023 - accuracy: 0.8174 - val_loss: 0.4028 - val_accuracy: 0.8182\n",
      "Epoch 23/200\n",
      "28999/28999 [==============================] - 2s 60us/step - loss: 0.4019 - accuracy: 0.8180 - val_loss: 0.4054 - val_accuracy: 0.8116\n",
      "Epoch 24/200\n",
      "28999/28999 [==============================] - 2s 63us/step - loss: 0.4020 - accuracy: 0.8174 - val_loss: 0.4052 - val_accuracy: 0.8131\n",
      "Epoch 25/200\n",
      "28999/28999 [==============================] - 2s 66us/step - loss: 0.4020 - accuracy: 0.8174 - val_loss: 0.4034 - val_accuracy: 0.8167\n",
      "Epoch 26/200\n",
      "28999/28999 [==============================] - 2s 60us/step - loss: 0.4024 - accuracy: 0.8175 - val_loss: 0.4036 - val_accuracy: 0.8152\n",
      "Epoch 27/200\n",
      "28999/28999 [==============================] - 2s 58us/step - loss: 0.4026 - accuracy: 0.8174 - val_loss: 0.4004 - val_accuracy: 0.8117\n",
      "Epoch 28/200\n",
      "28999/28999 [==============================] - 2s 58us/step - loss: 0.4049 - accuracy: 0.8165 - val_loss: 0.4017 - val_accuracy: 0.8171\n",
      "Epoch 29/200\n",
      "28999/28999 [==============================] - 2s 63us/step - loss: 0.4011 - accuracy: 0.8189 - val_loss: 0.4014 - val_accuracy: 0.8166\n",
      "Epoch 30/200\n",
      "28999/28999 [==============================] - 2s 54us/step - loss: 0.3993 - accuracy: 0.8182 - val_loss: 0.4021 - val_accuracy: 0.8130\n",
      "Epoch 31/200\n",
      "28999/28999 [==============================] - 2s 57us/step - loss: 0.4008 - accuracy: 0.8180 - val_loss: 0.4013 - val_accuracy: 0.8166\n",
      "Epoch 32/200\n",
      "28999/28999 [==============================] - 2s 57us/step - loss: 0.4026 - accuracy: 0.8169 - val_loss: 0.4090 - val_accuracy: 0.8132\n",
      "Epoch 33/200\n",
      "28999/28999 [==============================] - 2s 63us/step - loss: 0.4002 - accuracy: 0.8180 - val_loss: 0.4047 - val_accuracy: 0.8117\n",
      "Epoch 34/200\n",
      "28999/28999 [==============================] - 2s 55us/step - loss: 0.4011 - accuracy: 0.8170 - val_loss: 0.4107 - val_accuracy: 0.8145\n",
      "Epoch 35/200\n",
      "28999/28999 [==============================] - 2s 55us/step - loss: 0.3990 - accuracy: 0.8194 - val_loss: 0.4106 - val_accuracy: 0.8074\n",
      "Epoch 36/200\n",
      "28999/28999 [==============================] - 2s 54us/step - loss: 0.4004 - accuracy: 0.8185 - val_loss: 0.4196 - val_accuracy: 0.8073\n",
      "Epoch 37/200\n",
      "28999/28999 [==============================] - 2s 55us/step - loss: 0.4009 - accuracy: 0.8173 - val_loss: 0.4011 - val_accuracy: 0.8163\n",
      "Epoch 38/200\n",
      "28999/28999 [==============================] - 2s 52us/step - loss: 0.4009 - accuracy: 0.8189 - val_loss: 0.4056 - val_accuracy: 0.8128\n",
      "Epoch 39/200\n",
      "28999/28999 [==============================] - 2s 60us/step - loss: 0.4004 - accuracy: 0.8192 - val_loss: 0.3998 - val_accuracy: 0.8186\n",
      "Epoch 40/200\n",
      "28999/28999 [==============================] - 2s 59us/step - loss: 0.3999 - accuracy: 0.8193 - val_loss: 0.4066 - val_accuracy: 0.8077\n",
      "Epoch 41/200\n",
      "28999/28999 [==============================] - 2s 55us/step - loss: 0.4006 - accuracy: 0.8186 - val_loss: 0.4043 - val_accuracy: 0.8130\n",
      "Epoch 42/200\n",
      "28999/28999 [==============================] - 2s 61us/step - loss: 0.4004 - accuracy: 0.8184 - val_loss: 0.3990 - val_accuracy: 0.8148\n",
      "Epoch 43/200\n",
      "28999/28999 [==============================] - 2s 63us/step - loss: 0.3999 - accuracy: 0.8194 - val_loss: 0.3995 - val_accuracy: 0.8146\n",
      "Epoch 44/200\n",
      "28999/28999 [==============================] - 2s 62us/step - loss: 0.4014 - accuracy: 0.8192 - val_loss: 0.4009 - val_accuracy: 0.8159\n",
      "Epoch 45/200\n",
      "28999/28999 [==============================] - 2s 62us/step - loss: 0.3995 - accuracy: 0.8208 - val_loss: 0.4146 - val_accuracy: 0.8120\n",
      "Epoch 46/200\n",
      "28999/28999 [==============================] - 2s 64us/step - loss: 0.3993 - accuracy: 0.8183 - val_loss: 0.4046 - val_accuracy: 0.8106\n",
      "Epoch 47/200\n",
      "28999/28999 [==============================] - 2s 62us/step - loss: 0.4004 - accuracy: 0.8167 - val_loss: 0.4121 - val_accuracy: 0.8040\n",
      "Epoch 48/200\n",
      "28999/28999 [==============================] - 2s 61us/step - loss: 0.3991 - accuracy: 0.8200 - val_loss: 0.4039 - val_accuracy: 0.8134\n",
      "Epoch 49/200\n",
      "28999/28999 [==============================] - 2s 61us/step - loss: 0.4001 - accuracy: 0.8193 - val_loss: 0.4063 - val_accuracy: 0.8114\n",
      "Epoch 50/200\n",
      "28999/28999 [==============================] - 2s 70us/step - loss: 0.3970 - accuracy: 0.8198 - val_loss: 0.4008 - val_accuracy: 0.8164\n",
      "Epoch 51/200\n",
      "28999/28999 [==============================] - 2s 63us/step - loss: 0.4008 - accuracy: 0.8186 - val_loss: 0.4060 - val_accuracy: 0.8106\n",
      "Epoch 52/200\n",
      "28999/28999 [==============================] - 2s 62us/step - loss: 0.3987 - accuracy: 0.8201 - val_loss: 0.4069 - val_accuracy: 0.8160\n",
      "Epoch 53/200\n",
      "28999/28999 [==============================] - 2s 62us/step - loss: 0.3987 - accuracy: 0.8189 - val_loss: 0.3985 - val_accuracy: 0.8154\n",
      "Epoch 54/200\n",
      "28999/28999 [==============================] - 2s 61us/step - loss: 0.3970 - accuracy: 0.8199 - val_loss: 0.4015 - val_accuracy: 0.8113\n",
      "Epoch 55/200\n",
      "28999/28999 [==============================] - 2s 61us/step - loss: 0.3985 - accuracy: 0.8201 - val_loss: 0.4005 - val_accuracy: 0.8167\n",
      "Epoch 56/200\n",
      "28999/28999 [==============================] - 2s 64us/step - loss: 0.3999 - accuracy: 0.8181 - val_loss: 0.3999 - val_accuracy: 0.8168\n",
      "Epoch 57/200\n",
      "28999/28999 [==============================] - 2s 60us/step - loss: 0.3995 - accuracy: 0.8182 - val_loss: 0.3991 - val_accuracy: 0.8150\n",
      "Epoch 58/200\n",
      "28999/28999 [==============================] - 2s 63us/step - loss: 0.3994 - accuracy: 0.8184 - val_loss: 0.4044 - val_accuracy: 0.8132\n",
      "Epoch 59/200\n",
      "28999/28999 [==============================] - 2s 64us/step - loss: 0.3977 - accuracy: 0.8196 - val_loss: 0.4002 - val_accuracy: 0.8112\n",
      "Epoch 60/200\n",
      "28999/28999 [==============================] - 2s 61us/step - loss: 0.3978 - accuracy: 0.8192 - val_loss: 0.4030 - val_accuracy: 0.8159\n",
      "Epoch 61/200\n",
      "28999/28999 [==============================] - 2s 62us/step - loss: 0.3989 - accuracy: 0.8178 - val_loss: 0.4172 - val_accuracy: 0.8072\n",
      "Epoch 62/200\n",
      "28999/28999 [==============================] - 2s 65us/step - loss: 0.3986 - accuracy: 0.8187 - val_loss: 0.3988 - val_accuracy: 0.8152\n",
      "Epoch 63/200\n",
      "28999/28999 [==============================] - 2s 62us/step - loss: 0.3981 - accuracy: 0.8173 - val_loss: 0.4162 - val_accuracy: 0.8055\n",
      "Epoch 64/200\n",
      "28999/28999 [==============================] - 2s 55us/step - loss: 0.3978 - accuracy: 0.8196 - val_loss: 0.4022 - val_accuracy: 0.8138\n",
      "Epoch 65/200\n",
      "28999/28999 [==============================] - 2s 58us/step - loss: 0.3980 - accuracy: 0.8181 - val_loss: 0.3978 - val_accuracy: 0.8159\n",
      "Epoch 66/200\n",
      "28999/28999 [==============================] - 2s 62us/step - loss: 0.3959 - accuracy: 0.8213 - val_loss: 0.4063 - val_accuracy: 0.8072\n",
      "Epoch 67/200\n",
      "28999/28999 [==============================] - 2s 58us/step - loss: 0.3981 - accuracy: 0.8198 - val_loss: 0.4149 - val_accuracy: 0.8106\n",
      "Epoch 68/200\n",
      "28999/28999 [==============================] - 2s 53us/step - loss: 0.3969 - accuracy: 0.8208 - val_loss: 0.4086 - val_accuracy: 0.8047\n",
      "Epoch 69/200\n",
      "28999/28999 [==============================] - 2s 56us/step - loss: 0.3969 - accuracy: 0.8204 - val_loss: 0.4014 - val_accuracy: 0.8145\n",
      "Epoch 70/200\n",
      "28999/28999 [==============================] - 2s 55us/step - loss: 0.3977 - accuracy: 0.8198 - val_loss: 0.4000 - val_accuracy: 0.8113\n",
      "Epoch 71/200\n",
      "28999/28999 [==============================] - 2s 59us/step - loss: 0.3958 - accuracy: 0.8203 - val_loss: 0.4065 - val_accuracy: 0.8127\n",
      "Epoch 72/200\n",
      "28999/28999 [==============================] - 2s 61us/step - loss: 0.3960 - accuracy: 0.8192 - val_loss: 0.4084 - val_accuracy: 0.8099\n",
      "Epoch 73/200\n",
      "28999/28999 [==============================] - 2s 59us/step - loss: 0.3976 - accuracy: 0.8188 - val_loss: 0.4020 - val_accuracy: 0.8137\n",
      "Epoch 74/200\n",
      "28999/28999 [==============================] - 2s 56us/step - loss: 0.3978 - accuracy: 0.8190 - val_loss: 0.4110 - val_accuracy: 0.8108\n",
      "Epoch 75/200\n",
      "28999/28999 [==============================] - 2s 61us/step - loss: 0.3961 - accuracy: 0.8201 - val_loss: 0.4058 - val_accuracy: 0.8119\n",
      "Epoch 76/200\n",
      "28999/28999 [==============================] - 2s 62us/step - loss: 0.3958 - accuracy: 0.8220 - val_loss: 0.4013 - val_accuracy: 0.8114\n",
      "Epoch 77/200\n",
      "28999/28999 [==============================] - 2s 59us/step - loss: 0.3969 - accuracy: 0.8202 - val_loss: 0.3996 - val_accuracy: 0.8126\n",
      "Epoch 78/200\n",
      "28999/28999 [==============================] - 2s 62us/step - loss: 0.3978 - accuracy: 0.8188 - val_loss: 0.3992 - val_accuracy: 0.8120\n",
      "Epoch 79/200\n",
      "28999/28999 [==============================] - 2s 60us/step - loss: 0.3963 - accuracy: 0.8201 - val_loss: 0.4189 - val_accuracy: 0.8055\n",
      "Epoch 80/200\n",
      "28999/28999 [==============================] - 2s 60us/step - loss: 0.3971 - accuracy: 0.8197 - val_loss: 0.4068 - val_accuracy: 0.8171\n",
      "Epoch 81/200\n",
      "28999/28999 [==============================] - 2s 64us/step - loss: 0.3966 - accuracy: 0.8195 - val_loss: 0.4059 - val_accuracy: 0.8150\n",
      "Epoch 82/200\n",
      "28999/28999 [==============================] - 2s 64us/step - loss: 0.3964 - accuracy: 0.8202 - val_loss: 0.4046 - val_accuracy: 0.8131\n",
      "Epoch 83/200\n",
      "28999/28999 [==============================] - 2s 62us/step - loss: 0.3955 - accuracy: 0.8204 - val_loss: 0.3973 - val_accuracy: 0.8186\n",
      "Epoch 84/200\n",
      "28999/28999 [==============================] - 2s 60us/step - loss: 0.3956 - accuracy: 0.8203 - val_loss: 0.4008 - val_accuracy: 0.8148\n",
      "Epoch 85/200\n",
      "28999/28999 [==============================] - 2s 62us/step - loss: 0.3945 - accuracy: 0.8221 - val_loss: 0.4266 - val_accuracy: 0.8033\n",
      "Epoch 86/200\n",
      "28999/28999 [==============================] - 2s 62us/step - loss: 0.3954 - accuracy: 0.8220 - val_loss: 0.4146 - val_accuracy: 0.8109\n",
      "Epoch 87/200\n",
      "28999/28999 [==============================] - 2s 63us/step - loss: 0.3956 - accuracy: 0.8207 - val_loss: 0.4040 - val_accuracy: 0.8086\n",
      "Epoch 88/200\n",
      "28999/28999 [==============================] - 2s 55us/step - loss: 0.3961 - accuracy: 0.8207 - val_loss: 0.4017 - val_accuracy: 0.8152\n",
      "Epoch 89/200\n",
      "28999/28999 [==============================] - 2s 55us/step - loss: 0.3953 - accuracy: 0.8198 - val_loss: 0.3998 - val_accuracy: 0.8177\n",
      "Epoch 90/200\n",
      "28999/28999 [==============================] - 2s 64us/step - loss: 0.3958 - accuracy: 0.8219 - val_loss: 0.4050 - val_accuracy: 0.8124\n",
      "Epoch 91/200\n",
      "28999/28999 [==============================] - 2s 60us/step - loss: 0.3954 - accuracy: 0.8212 - val_loss: 0.4099 - val_accuracy: 0.8123\n",
      "Epoch 92/200\n",
      "28999/28999 [==============================] - 2s 60us/step - loss: 0.3970 - accuracy: 0.8189 - val_loss: 0.4060 - val_accuracy: 0.8146\n",
      "Epoch 93/200\n",
      "28999/28999 [==============================] - 2s 61us/step - loss: 0.3959 - accuracy: 0.8180 - val_loss: 0.3987 - val_accuracy: 0.8166\n",
      "Epoch 94/200\n",
      "28999/28999 [==============================] - 2s 61us/step - loss: 0.3952 - accuracy: 0.8210 - val_loss: 0.3974 - val_accuracy: 0.8135\n",
      "Epoch 95/200\n",
      "28999/28999 [==============================] - 2s 63us/step - loss: 0.3954 - accuracy: 0.8199 - val_loss: 0.4058 - val_accuracy: 0.8121\n",
      "Epoch 96/200\n",
      "28999/28999 [==============================] - 2s 62us/step - loss: 0.3942 - accuracy: 0.8197 - val_loss: 0.3986 - val_accuracy: 0.8178\n",
      "Epoch 97/200\n",
      "28999/28999 [==============================] - 2s 62us/step - loss: 0.3967 - accuracy: 0.8205 - val_loss: 0.4022 - val_accuracy: 0.8170\n",
      "Epoch 98/200\n",
      "28999/28999 [==============================] - 2s 61us/step - loss: 0.3965 - accuracy: 0.8206 - val_loss: 0.4084 - val_accuracy: 0.8101\n",
      "Epoch 99/200\n",
      "28999/28999 [==============================] - 2s 62us/step - loss: 0.3946 - accuracy: 0.8196 - val_loss: 0.3990 - val_accuracy: 0.8148\n",
      "Epoch 100/200\n",
      "28999/28999 [==============================] - 2s 61us/step - loss: 0.3943 - accuracy: 0.8208 - val_loss: 0.3997 - val_accuracy: 0.8119\n",
      "Epoch 101/200\n",
      "28999/28999 [==============================] - 2s 63us/step - loss: 0.3958 - accuracy: 0.8206 - val_loss: 0.4020 - val_accuracy: 0.8137\n",
      "Epoch 102/200\n",
      "28999/28999 [==============================] - 2s 61us/step - loss: 0.3943 - accuracy: 0.8207 - val_loss: 0.4099 - val_accuracy: 0.8086\n",
      "Epoch 103/200\n",
      "28999/28999 [==============================] - 2s 60us/step - loss: 0.3959 - accuracy: 0.8187 - val_loss: 0.4017 - val_accuracy: 0.8092\n",
      "Epoch 104/200\n",
      "28999/28999 [==============================] - 2s 63us/step - loss: 0.3952 - accuracy: 0.8186 - val_loss: 0.4188 - val_accuracy: 0.8070\n",
      "Epoch 105/200\n",
      "28999/28999 [==============================] - 2s 63us/step - loss: 0.3954 - accuracy: 0.8222 - val_loss: 0.3995 - val_accuracy: 0.8128\n",
      "Epoch 106/200\n",
      "28999/28999 [==============================] - 2s 61us/step - loss: 0.3956 - accuracy: 0.8220 - val_loss: 0.3981 - val_accuracy: 0.8134\n",
      "Epoch 107/200\n",
      "28999/28999 [==============================] - 2s 62us/step - loss: 0.3937 - accuracy: 0.8206 - val_loss: 0.4066 - val_accuracy: 0.8066\n",
      "Epoch 108/200\n",
      "28999/28999 [==============================] - 2s 54us/step - loss: 0.3947 - accuracy: 0.8196 - val_loss: 0.4014 - val_accuracy: 0.8116\n",
      "Epoch 109/200\n",
      "28999/28999 [==============================] - 2s 54us/step - loss: 0.3947 - accuracy: 0.8204 - val_loss: 0.3950 - val_accuracy: 0.8194\n",
      "Epoch 110/200\n",
      "28999/28999 [==============================] - 1s 52us/step - loss: 0.3944 - accuracy: 0.8210 - val_loss: 0.4271 - val_accuracy: 0.7992\n",
      "Epoch 111/200\n",
      "28999/28999 [==============================] - 2s 55us/step - loss: 0.3944 - accuracy: 0.8208 - val_loss: 0.3988 - val_accuracy: 0.8150\n",
      "Epoch 112/200\n",
      "28999/28999 [==============================] - 2s 54us/step - loss: 0.3959 - accuracy: 0.8208 - val_loss: 0.4156 - val_accuracy: 0.8108\n",
      "Epoch 113/200\n",
      "28999/28999 [==============================] - 2s 60us/step - loss: 0.3959 - accuracy: 0.8197 - val_loss: 0.3989 - val_accuracy: 0.8142\n",
      "Epoch 114/200\n",
      "28999/28999 [==============================] - 2s 56us/step - loss: 0.3938 - accuracy: 0.8203 - val_loss: 0.4021 - val_accuracy: 0.8142\n",
      "Epoch 115/200\n",
      "28999/28999 [==============================] - 2s 58us/step - loss: 0.3943 - accuracy: 0.8218 - val_loss: 0.3984 - val_accuracy: 0.8123\n",
      "Epoch 116/200\n",
      "28999/28999 [==============================] - 2s 59us/step - loss: 0.3941 - accuracy: 0.8215 - val_loss: 0.3987 - val_accuracy: 0.8189\n",
      "Epoch 117/200\n",
      "28999/28999 [==============================] - 2s 62us/step - loss: 0.3948 - accuracy: 0.8212 - val_loss: 0.3973 - val_accuracy: 0.8172\n",
      "Epoch 118/200\n",
      "28999/28999 [==============================] - 2s 61us/step - loss: 0.3940 - accuracy: 0.8215 - val_loss: 0.4011 - val_accuracy: 0.8153\n",
      "Epoch 119/200\n",
      "28999/28999 [==============================] - 2s 64us/step - loss: 0.3939 - accuracy: 0.8213 - val_loss: 0.4138 - val_accuracy: 0.8003\n",
      "Epoch 120/200\n",
      "28999/28999 [==============================] - 2s 60us/step - loss: 0.3947 - accuracy: 0.8200 - val_loss: 0.4091 - val_accuracy: 0.8090\n",
      "Epoch 121/200\n",
      "28999/28999 [==============================] - 2s 55us/step - loss: 0.3935 - accuracy: 0.8226 - val_loss: 0.4009 - val_accuracy: 0.8135\n",
      "Epoch 122/200\n",
      "28999/28999 [==============================] - 2s 62us/step - loss: 0.3936 - accuracy: 0.8218 - val_loss: 0.4006 - val_accuracy: 0.8167\n",
      "Epoch 123/200\n",
      "28999/28999 [==============================] - 2s 60us/step - loss: 0.3937 - accuracy: 0.8216 - val_loss: 0.4244 - val_accuracy: 0.8043\n",
      "Epoch 124/200\n",
      "28999/28999 [==============================] - 2s 61us/step - loss: 0.3936 - accuracy: 0.8203 - val_loss: 0.4057 - val_accuracy: 0.8126\n",
      "Epoch 125/200\n",
      "28999/28999 [==============================] - 2s 61us/step - loss: 0.3933 - accuracy: 0.8217 - val_loss: 0.4004 - val_accuracy: 0.8113\n",
      "Epoch 126/200\n",
      "28999/28999 [==============================] - 2s 58us/step - loss: 0.3933 - accuracy: 0.8210 - val_loss: 0.4055 - val_accuracy: 0.8145\n",
      "Epoch 127/200\n",
      "28999/28999 [==============================] - 2s 63us/step - loss: 0.3939 - accuracy: 0.8218 - val_loss: 0.4037 - val_accuracy: 0.8142\n",
      "Epoch 128/200\n",
      "28999/28999 [==============================] - 2s 63us/step - loss: 0.3933 - accuracy: 0.8209 - val_loss: 0.4068 - val_accuracy: 0.8106\n",
      "Epoch 129/200\n",
      "28999/28999 [==============================] - 2s 58us/step - loss: 0.3927 - accuracy: 0.8217 - val_loss: 0.4001 - val_accuracy: 0.8108\n",
      "Epoch 130/200\n",
      "28999/28999 [==============================] - 2s 55us/step - loss: 0.3935 - accuracy: 0.8208 - val_loss: 0.4034 - val_accuracy: 0.8143\n",
      "Epoch 131/200\n",
      "28999/28999 [==============================] - 2s 58us/step - loss: 0.3948 - accuracy: 0.8221 - val_loss: 0.4090 - val_accuracy: 0.8065\n",
      "Epoch 132/200\n",
      "28999/28999 [==============================] - 2s 62us/step - loss: 0.3928 - accuracy: 0.8211 - val_loss: 0.4148 - val_accuracy: 0.8058\n",
      "Epoch 133/200\n",
      "28999/28999 [==============================] - 2s 61us/step - loss: 0.3937 - accuracy: 0.8209 - val_loss: 0.4028 - val_accuracy: 0.8128\n",
      "Epoch 134/200\n",
      "28999/28999 [==============================] - 2s 58us/step - loss: 0.3919 - accuracy: 0.8191 - val_loss: 0.3987 - val_accuracy: 0.8132\n",
      "Epoch 135/200\n",
      "28999/28999 [==============================] - 2s 54us/step - loss: 0.3933 - accuracy: 0.8205 - val_loss: 0.4045 - val_accuracy: 0.8143\n",
      "Epoch 136/200\n",
      "28999/28999 [==============================] - 1s 52us/step - loss: 0.3917 - accuracy: 0.8223 - val_loss: 0.4137 - val_accuracy: 0.7990\n",
      "Epoch 137/200\n",
      "28999/28999 [==============================] - 2s 53us/step - loss: 0.3934 - accuracy: 0.8215 - val_loss: 0.4066 - val_accuracy: 0.8130\n",
      "Epoch 138/200\n",
      "28999/28999 [==============================] - 2s 53us/step - loss: 0.3909 - accuracy: 0.8240 - val_loss: 0.4000 - val_accuracy: 0.8123\n",
      "Epoch 139/200\n",
      "28999/28999 [==============================] - 2s 60us/step - loss: 0.3936 - accuracy: 0.8218 - val_loss: 0.4065 - val_accuracy: 0.8080\n",
      "Epoch 140/200\n",
      "28999/28999 [==============================] - 2s 56us/step - loss: 0.3935 - accuracy: 0.8194 - val_loss: 0.3991 - val_accuracy: 0.8138\n",
      "Epoch 141/200\n",
      "28999/28999 [==============================] - 2s 57us/step - loss: 0.3926 - accuracy: 0.8231 - val_loss: 0.4148 - val_accuracy: 0.8063\n",
      "Epoch 142/200\n",
      "28999/28999 [==============================] - 2s 60us/step - loss: 0.3928 - accuracy: 0.8231 - val_loss: 0.4093 - val_accuracy: 0.8069\n",
      "Epoch 143/200\n",
      "28999/28999 [==============================] - 2s 58us/step - loss: 0.3909 - accuracy: 0.8209 - val_loss: 0.3987 - val_accuracy: 0.8159\n",
      "Epoch 144/200\n",
      "28999/28999 [==============================] - 2s 55us/step - loss: 0.3932 - accuracy: 0.8212 - val_loss: 0.4019 - val_accuracy: 0.8154\n",
      "Epoch 145/200\n",
      "28999/28999 [==============================] - 2s 63us/step - loss: 0.3913 - accuracy: 0.8231 - val_loss: 0.4124 - val_accuracy: 0.8065\n",
      "Epoch 146/200\n",
      "28999/28999 [==============================] - 2s 62us/step - loss: 0.3929 - accuracy: 0.8220 - val_loss: 0.3971 - val_accuracy: 0.8124\n",
      "Epoch 147/200\n",
      "28999/28999 [==============================] - 2s 62us/step - loss: 0.3925 - accuracy: 0.8214 - val_loss: 0.4014 - val_accuracy: 0.8126\n",
      "Epoch 148/200\n",
      "28999/28999 [==============================] - 2s 60us/step - loss: 0.3922 - accuracy: 0.8213 - val_loss: 0.4019 - val_accuracy: 0.8203\n",
      "Epoch 149/200\n",
      "28999/28999 [==============================] - 2s 59us/step - loss: 0.3922 - accuracy: 0.8205 - val_loss: 0.3963 - val_accuracy: 0.8201\n",
      "Epoch 150/200\n",
      "28999/28999 [==============================] - 2s 61us/step - loss: 0.3905 - accuracy: 0.8248 - val_loss: 0.4028 - val_accuracy: 0.8124\n",
      "Epoch 151/200\n",
      "28999/28999 [==============================] - 2s 66us/step - loss: 0.3928 - accuracy: 0.8219 - val_loss: 0.3992 - val_accuracy: 0.8185\n",
      "Epoch 152/200\n",
      "28999/28999 [==============================] - 2s 61us/step - loss: 0.3916 - accuracy: 0.8235 - val_loss: 0.3992 - val_accuracy: 0.8153\n",
      "Epoch 153/200\n",
      "28999/28999 [==============================] - 2s 61us/step - loss: 0.3918 - accuracy: 0.8221 - val_loss: 0.3997 - val_accuracy: 0.8179\n",
      "Epoch 154/200\n",
      "28999/28999 [==============================] - 2s 61us/step - loss: 0.3918 - accuracy: 0.8235 - val_loss: 0.4180 - val_accuracy: 0.8070\n",
      "Epoch 155/200\n",
      "28999/28999 [==============================] - 2s 63us/step - loss: 0.3946 - accuracy: 0.8202 - val_loss: 0.4217 - val_accuracy: 0.8072\n",
      "Epoch 156/200\n",
      "28999/28999 [==============================] - 2s 63us/step - loss: 0.3905 - accuracy: 0.8242 - val_loss: 0.4012 - val_accuracy: 0.8117\n",
      "Epoch 157/200\n",
      "28999/28999 [==============================] - 2s 62us/step - loss: 0.3905 - accuracy: 0.8231 - val_loss: 0.3970 - val_accuracy: 0.8159\n",
      "Epoch 158/200\n",
      "28999/28999 [==============================] - 2s 64us/step - loss: 0.3901 - accuracy: 0.8239 - val_loss: 0.3985 - val_accuracy: 0.8159\n",
      "Epoch 159/200\n",
      "28999/28999 [==============================] - 2s 60us/step - loss: 0.3918 - accuracy: 0.8214 - val_loss: 0.4002 - val_accuracy: 0.8171\n",
      "Epoch 160/200\n",
      "28999/28999 [==============================] - 2s 61us/step - loss: 0.3907 - accuracy: 0.8246 - val_loss: 0.3962 - val_accuracy: 0.8153\n",
      "Epoch 161/200\n",
      "28999/28999 [==============================] - 2s 65us/step - loss: 0.3922 - accuracy: 0.8233 - val_loss: 0.3971 - val_accuracy: 0.8157\n",
      "Epoch 162/200\n",
      "28999/28999 [==============================] - 2s 60us/step - loss: 0.3891 - accuracy: 0.8232 - val_loss: 0.4041 - val_accuracy: 0.8154\n",
      "Epoch 163/200\n",
      "28999/28999 [==============================] - 2s 57us/step - loss: 0.3917 - accuracy: 0.8224 - val_loss: 0.4013 - val_accuracy: 0.8137\n",
      "Epoch 164/200\n",
      "28999/28999 [==============================] - 2s 62us/step - loss: 0.3925 - accuracy: 0.8228 - val_loss: 0.3998 - val_accuracy: 0.8164\n",
      "Epoch 165/200\n",
      "28999/28999 [==============================] - 2s 62us/step - loss: 0.3909 - accuracy: 0.8218 - val_loss: 0.4015 - val_accuracy: 0.8090\n",
      "Epoch 166/200\n",
      "28999/28999 [==============================] - 2s 62us/step - loss: 0.3901 - accuracy: 0.8227 - val_loss: 0.4036 - val_accuracy: 0.8116\n",
      "Epoch 167/200\n",
      "28999/28999 [==============================] - 2s 59us/step - loss: 0.3908 - accuracy: 0.8226 - val_loss: 0.4114 - val_accuracy: 0.8079\n",
      "Epoch 168/200\n",
      "28999/28999 [==============================] - 2s 65us/step - loss: 0.3910 - accuracy: 0.8216 - val_loss: 0.3982 - val_accuracy: 0.8154\n",
      "Epoch 169/200\n",
      "28999/28999 [==============================] - 2s 69us/step - loss: 0.3900 - accuracy: 0.8234 - val_loss: 0.4030 - val_accuracy: 0.8167\n",
      "Epoch 170/200\n",
      "28999/28999 [==============================] - 2s 67us/step - loss: 0.3909 - accuracy: 0.8218 - val_loss: 0.3982 - val_accuracy: 0.8177\n",
      "Epoch 171/200\n",
      "28999/28999 [==============================] - 2s 66us/step - loss: 0.3908 - accuracy: 0.8226 - val_loss: 0.3964 - val_accuracy: 0.8154\n",
      "Epoch 172/200\n",
      "28999/28999 [==============================] - 2s 60us/step - loss: 0.3897 - accuracy: 0.8239 - val_loss: 0.3976 - val_accuracy: 0.8171\n",
      "Epoch 173/200\n",
      "28999/28999 [==============================] - 2s 60us/step - loss: 0.3914 - accuracy: 0.8226 - val_loss: 0.4079 - val_accuracy: 0.8103\n",
      "Epoch 174/200\n",
      "28999/28999 [==============================] - 2s 64us/step - loss: 0.3905 - accuracy: 0.8239 - val_loss: 0.3951 - val_accuracy: 0.8154\n",
      "Epoch 175/200\n",
      "28999/28999 [==============================] - 2s 59us/step - loss: 0.3893 - accuracy: 0.8223 - val_loss: 0.4017 - val_accuracy: 0.8114\n",
      "Epoch 176/200\n",
      "28999/28999 [==============================] - 2s 62us/step - loss: 0.3907 - accuracy: 0.8232 - val_loss: 0.4027 - val_accuracy: 0.8170\n",
      "Epoch 177/200\n",
      "28999/28999 [==============================] - 2s 61us/step - loss: 0.3903 - accuracy: 0.8234 - val_loss: 0.4041 - val_accuracy: 0.8143\n",
      "Epoch 178/200\n",
      "28999/28999 [==============================] - 2s 63us/step - loss: 0.3902 - accuracy: 0.8216 - val_loss: 0.4143 - val_accuracy: 0.8015\n",
      "Epoch 179/200\n",
      "28999/28999 [==============================] - 2s 65us/step - loss: 0.3903 - accuracy: 0.8232 - val_loss: 0.4106 - val_accuracy: 0.8106\n",
      "Epoch 180/200\n",
      "28999/28999 [==============================] - 2s 61us/step - loss: 0.3903 - accuracy: 0.8238 - val_loss: 0.3948 - val_accuracy: 0.8161\n",
      "Epoch 181/200\n",
      "28999/28999 [==============================] - 2s 62us/step - loss: 0.3887 - accuracy: 0.8250 - val_loss: 0.3967 - val_accuracy: 0.8145\n",
      "Epoch 182/200\n",
      "28999/28999 [==============================] - 2s 63us/step - loss: 0.3888 - accuracy: 0.8234 - val_loss: 0.4032 - val_accuracy: 0.8072\n",
      "Epoch 183/200\n",
      "28999/28999 [==============================] - 2s 60us/step - loss: 0.3894 - accuracy: 0.8228 - val_loss: 0.3971 - val_accuracy: 0.8172\n",
      "Epoch 184/200\n",
      "28999/28999 [==============================] - 2s 59us/step - loss: 0.3895 - accuracy: 0.8217 - val_loss: 0.4064 - val_accuracy: 0.8041\n",
      "Epoch 185/200\n",
      "28999/28999 [==============================] - 2s 64us/step - loss: 0.3894 - accuracy: 0.8229 - val_loss: 0.3962 - val_accuracy: 0.8152\n",
      "Epoch 186/200\n",
      "28999/28999 [==============================] - 2s 63us/step - loss: 0.3901 - accuracy: 0.8227 - val_loss: 0.3979 - val_accuracy: 0.8156\n",
      "Epoch 187/200\n",
      "28999/28999 [==============================] - 2s 65us/step - loss: 0.3891 - accuracy: 0.8245 - val_loss: 0.4012 - val_accuracy: 0.8116\n",
      "Epoch 188/200\n",
      "28999/28999 [==============================] - 2s 65us/step - loss: 0.3889 - accuracy: 0.8246 - val_loss: 0.3957 - val_accuracy: 0.8212\n",
      "Epoch 189/200\n",
      "28999/28999 [==============================] - 2s 59us/step - loss: 0.3898 - accuracy: 0.8217 - val_loss: 0.4008 - val_accuracy: 0.8124\n",
      "Epoch 190/200\n",
      "28999/28999 [==============================] - 2s 64us/step - loss: 0.3896 - accuracy: 0.8233 - val_loss: 0.4009 - val_accuracy: 0.8109\n",
      "Epoch 191/200\n",
      "28999/28999 [==============================] - 2s 59us/step - loss: 0.3891 - accuracy: 0.8231 - val_loss: 0.4154 - val_accuracy: 0.8019\n",
      "Epoch 192/200\n",
      "28999/28999 [==============================] - 2s 61us/step - loss: 0.3884 - accuracy: 0.8228 - val_loss: 0.4024 - val_accuracy: 0.8120\n",
      "Epoch 193/200\n",
      "28999/28999 [==============================] - 2s 61us/step - loss: 0.3888 - accuracy: 0.8245 - val_loss: 0.4027 - val_accuracy: 0.8160\n",
      "Epoch 194/200\n",
      "28999/28999 [==============================] - 2s 61us/step - loss: 0.3873 - accuracy: 0.8242 - val_loss: 0.3991 - val_accuracy: 0.8167\n",
      "Epoch 195/200\n",
      "28999/28999 [==============================] - 2s 55us/step - loss: 0.3886 - accuracy: 0.8260 - val_loss: 0.3994 - val_accuracy: 0.8139\n",
      "Epoch 196/200\n",
      "28999/28999 [==============================] - 2s 59us/step - loss: 0.3877 - accuracy: 0.8235 - val_loss: 0.4020 - val_accuracy: 0.8152\n",
      "Epoch 197/200\n",
      "28999/28999 [==============================] - 2s 62us/step - loss: 0.3875 - accuracy: 0.8251 - val_loss: 0.4054 - val_accuracy: 0.8149\n",
      "Epoch 198/200\n",
      "28999/28999 [==============================] - 2s 55us/step - loss: 0.3886 - accuracy: 0.8237 - val_loss: 0.4059 - val_accuracy: 0.8095\n",
      "Epoch 199/200\n",
      "28999/28999 [==============================] - 1s 51us/step - loss: 0.3878 - accuracy: 0.8230 - val_loss: 0.4316 - val_accuracy: 0.8004\n",
      "Epoch 200/200\n",
      "28999/28999 [==============================] - 2s 61us/step - loss: 0.3896 - accuracy: 0.8228 - val_loss: 0.3978 - val_accuracy: 0.8160\n"
     ]
    },
    {
     "data": {
      "text/plain": [
       "<keras.callbacks.callbacks.History at 0x7f67080d6e10>"
      ]
     },
     "execution_count": 125,
     "metadata": {},
     "output_type": "execute_result"
    }
   ],
   "source": [
    "history = model.fit(X_train, y_train, epochs=200, batch_size=40, verbose=1, validation_split=0.2)\n",
    "history"
   ]
  },
  {
   "cell_type": "code",
   "execution_count": 95,
   "metadata": {},
   "outputs": [],
   "source": [
    "#history = model.fit(X_train, y_train, epochs=200, batch_size=40,  verbose=1, validation_split=0.2)\n",
    "#history"
   ]
  },
  {
   "cell_type": "code",
   "execution_count": 126,
   "metadata": {},
   "outputs": [
    {
     "name": "stdout",
     "output_type": "stream",
     "text": [
      "9063/9063 [==============================] - 0s 32us/step\n",
      "Test accuracy: 0.8182721138000488\n"
     ]
    }
   ],
   "source": [
    "test_loss, test_acc = model.evaluate(X_test, y_test)\n",
    "print('Test accuracy:', test_acc)"
   ]
  },
  {
   "cell_type": "code",
   "execution_count": 129,
   "metadata": {},
   "outputs": [
    {
     "name": "stdout",
     "output_type": "stream",
     "text": [
      "dict_keys(['val_loss', 'val_accuracy', 'loss', 'accuracy'])\n"
     ]
    },
    {
     "data": {
      "image/png": "[encoded data removed]",
      "text/plain": [
       "<Figure size 432x288 with 1 Axes>"
      ]
     },
     "metadata": {
      "needs_background": "light"
     },
     "output_type": "display_data"
    }
   ],
   "source": [
    "print(history.history.keys())\n",
    "# \"Loss\"\n",
    "plt.plot(history.history['loss'])\n",
    "plt.plot(history.history['val_loss'])\n",
    "plt.title('model loss')\n",
    "plt.ylabel('loss')\n",
    "plt.xlabel('epoch')\n",
    "plt.legend(['train', 'validation'], loc='upper left')\n",
    "plt.show()\n"
   ]
  },
  {
   "cell_type": "code",
   "execution_count": 130,
   "metadata": {},
   "outputs": [],
   "source": [
    "predictions = model.predict(X_test)\n",
    "predictions_y = (predictions>0.5)"
   ]
  },
  {
   "cell_type": "code",
   "execution_count": 131,
   "metadata": {},
   "outputs": [
    {
     "data": {
      "text/plain": [
       "array([[ True],\n",
       "       [ True],\n",
       "       [False],\n",
       "       ...,\n",
       "       [False],\n",
       "       [False],\n",
       "       [False]])"
      ]
     },
     "execution_count": 131,
     "metadata": {},
     "output_type": "execute_result"
    }
   ],
   "source": [
    "predictions_y"
   ]
  },
  {
   "cell_type": "code",
   "execution_count": 132,
   "metadata": {},
   "outputs": [
    {
     "data": {
      "text/plain": [
       "array([[4440,  751],\n",
       "       [ 896, 2976]])"
      ]
     },
     "execution_count": 132,
     "metadata": {},
     "output_type": "execute_result"
    }
   ],
   "source": [
    "from sklearn.metrics import confusion_matrix, accuracy_score \n",
    "cm = confusion_matrix(y_test, predictions_y)\n",
    "cm"
   ]
  },
  {
   "cell_type": "code",
   "execution_count": 133,
   "metadata": {},
   "outputs": [
    {
     "data": {
      "text/plain": [
       "0.8182720953326713"
      ]
     },
     "execution_count": 133,
     "metadata": {},
     "output_type": "execute_result"
    }
   ],
   "source": [
    "score = accuracy_score(y_test, predictions_y)\n",
    "score"
   ]
  },
  {
   "cell_type": "code",
   "execution_count": null,
   "metadata": {},
   "outputs": [],
   "source": []
  }
 ],
 "metadata": {
  "kernelspec": {
   "display_name": "Python 3",
   "language": "python",
   "name": "python3"
  },
  "language_info": {
   "codemirror_mode": {
    "name": "ipython",
    "version": 3
   },
   "file_extension": ".py",
   "mimetype": "text/x-python",
   "name": "python",
   "nbconvert_exporter": "python",
   "pygments_lexer": "ipython3",
   "version": "3.7.3"
  }
 },
 "nbformat": 4,
 "nbformat_minor": 2
}

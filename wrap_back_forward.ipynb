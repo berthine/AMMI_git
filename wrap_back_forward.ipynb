{
 "cells": [
  {
   "cell_type": "code",
   "execution_count": 1,
   "metadata": {},
   "outputs": [],
   "source": [
    "import numpy as np\n",
    "import pandas as pd\n",
    "        "
   ]
  },
  {
   "cell_type": "code",
   "execution_count": 2,
   "metadata": {},
   "outputs": [],
   "source": [
    "#import data\n",
    "electricity=pd.read_csv('electricity-normalized.csv')\n"
   ]
  },
  {
   "cell_type": "code",
   "execution_count": 3,
   "metadata": {},
   "outputs": [
    {
     "data": {
      "text/html": [
       "<div>\n",
       "<style scoped>\n",
       "    .dataframe tbody tr th:only-of-type {\n",
       "        vertical-align: middle;\n",
       "    }\n",
       "\n",
       "    .dataframe tbody tr th {\n",
       "        vertical-align: top;\n",
       "    }\n",
       "\n",
       "    .dataframe thead th {\n",
       "        text-align: right;\n",
       "    }\n",
       "</style>\n",
       "<table border=\"1\" class=\"dataframe\">\n",
       "  <thead>\n",
       "    <tr style=\"text-align: right;\">\n",
       "      <th></th>\n",
       "      <th>date</th>\n",
       "      <th>day</th>\n",
       "      <th>period</th>\n",
       "      <th>nswprice</th>\n",
       "      <th>nswdemand</th>\n",
       "      <th>vicprice</th>\n",
       "      <th>vicdemand</th>\n",
       "      <th>transfer</th>\n",
       "      <th>class</th>\n",
       "    </tr>\n",
       "  </thead>\n",
       "  <tbody>\n",
       "    <tr>\n",
       "      <th>0</th>\n",
       "      <td>0.0</td>\n",
       "      <td>2</td>\n",
       "      <td>0.000000</td>\n",
       "      <td>0.056443</td>\n",
       "      <td>0.439155</td>\n",
       "      <td>0.003467</td>\n",
       "      <td>0.422915</td>\n",
       "      <td>0.414912</td>\n",
       "      <td>UP</td>\n",
       "    </tr>\n",
       "    <tr>\n",
       "      <th>1</th>\n",
       "      <td>0.0</td>\n",
       "      <td>2</td>\n",
       "      <td>0.021277</td>\n",
       "      <td>0.051699</td>\n",
       "      <td>0.415055</td>\n",
       "      <td>0.003467</td>\n",
       "      <td>0.422915</td>\n",
       "      <td>0.414912</td>\n",
       "      <td>UP</td>\n",
       "    </tr>\n",
       "    <tr>\n",
       "      <th>2</th>\n",
       "      <td>0.0</td>\n",
       "      <td>2</td>\n",
       "      <td>0.042553</td>\n",
       "      <td>0.051489</td>\n",
       "      <td>0.385004</td>\n",
       "      <td>0.003467</td>\n",
       "      <td>0.422915</td>\n",
       "      <td>0.414912</td>\n",
       "      <td>UP</td>\n",
       "    </tr>\n",
       "    <tr>\n",
       "      <th>3</th>\n",
       "      <td>0.0</td>\n",
       "      <td>2</td>\n",
       "      <td>0.063830</td>\n",
       "      <td>0.045485</td>\n",
       "      <td>0.314639</td>\n",
       "      <td>0.003467</td>\n",
       "      <td>0.422915</td>\n",
       "      <td>0.414912</td>\n",
       "      <td>UP</td>\n",
       "    </tr>\n",
       "    <tr>\n",
       "      <th>4</th>\n",
       "      <td>0.0</td>\n",
       "      <td>2</td>\n",
       "      <td>0.085106</td>\n",
       "      <td>0.042482</td>\n",
       "      <td>0.251116</td>\n",
       "      <td>0.003467</td>\n",
       "      <td>0.422915</td>\n",
       "      <td>0.414912</td>\n",
       "      <td>DOWN</td>\n",
       "    </tr>\n",
       "  </tbody>\n",
       "</table>\n",
       "</div>"
      ],
      "text/plain": [
       "   date  day    period  nswprice  nswdemand  vicprice  vicdemand  transfer  \\\n",
       "0   0.0    2  0.000000  0.056443   0.439155  0.003467   0.422915  0.414912   \n",
       "1   0.0    2  0.021277  0.051699   0.415055  0.003467   0.422915  0.414912   \n",
       "2   0.0    2  0.042553  0.051489   0.385004  0.003467   0.422915  0.414912   \n",
       "3   0.0    2  0.063830  0.045485   0.314639  0.003467   0.422915  0.414912   \n",
       "4   0.0    2  0.085106  0.042482   0.251116  0.003467   0.422915  0.414912   \n",
       "\n",
       "  class  \n",
       "0    UP  \n",
       "1    UP  \n",
       "2    UP  \n",
       "3    UP  \n",
       "4  DOWN  "
      ]
     },
     "execution_count": 3,
     "metadata": {},
     "output_type": "execute_result"
    }
   ],
   "source": [
    "electricity.head()"
   ]
  },
  {
   "cell_type": "code",
   "execution_count": 4,
   "metadata": {},
   "outputs": [
    {
     "data": {
      "text/html": [
       "<div>\n",
       "<style scoped>\n",
       "    .dataframe tbody tr th:only-of-type {\n",
       "        vertical-align: middle;\n",
       "    }\n",
       "\n",
       "    .dataframe tbody tr th {\n",
       "        vertical-align: top;\n",
       "    }\n",
       "\n",
       "    .dataframe thead th {\n",
       "        text-align: right;\n",
       "    }\n",
       "</style>\n",
       "<table border=\"1\" class=\"dataframe\">\n",
       "  <thead>\n",
       "    <tr style=\"text-align: right;\">\n",
       "      <th></th>\n",
       "      <th>day</th>\n",
       "      <th>period</th>\n",
       "      <th>nswprice</th>\n",
       "      <th>nswdemand</th>\n",
       "      <th>vicprice</th>\n",
       "      <th>vicdemand</th>\n",
       "      <th>transfer</th>\n",
       "      <th>class</th>\n",
       "    </tr>\n",
       "  </thead>\n",
       "  <tbody>\n",
       "    <tr>\n",
       "      <th>0</th>\n",
       "      <td>2</td>\n",
       "      <td>0.000000</td>\n",
       "      <td>0.056443</td>\n",
       "      <td>0.439155</td>\n",
       "      <td>0.003467</td>\n",
       "      <td>0.422915</td>\n",
       "      <td>0.414912</td>\n",
       "      <td>UP</td>\n",
       "    </tr>\n",
       "    <tr>\n",
       "      <th>1</th>\n",
       "      <td>2</td>\n",
       "      <td>0.021277</td>\n",
       "      <td>0.051699</td>\n",
       "      <td>0.415055</td>\n",
       "      <td>0.003467</td>\n",
       "      <td>0.422915</td>\n",
       "      <td>0.414912</td>\n",
       "      <td>UP</td>\n",
       "    </tr>\n",
       "    <tr>\n",
       "      <th>2</th>\n",
       "      <td>2</td>\n",
       "      <td>0.042553</td>\n",
       "      <td>0.051489</td>\n",
       "      <td>0.385004</td>\n",
       "      <td>0.003467</td>\n",
       "      <td>0.422915</td>\n",
       "      <td>0.414912</td>\n",
       "      <td>UP</td>\n",
       "    </tr>\n",
       "    <tr>\n",
       "      <th>3</th>\n",
       "      <td>2</td>\n",
       "      <td>0.063830</td>\n",
       "      <td>0.045485</td>\n",
       "      <td>0.314639</td>\n",
       "      <td>0.003467</td>\n",
       "      <td>0.422915</td>\n",
       "      <td>0.414912</td>\n",
       "      <td>UP</td>\n",
       "    </tr>\n",
       "    <tr>\n",
       "      <th>4</th>\n",
       "      <td>2</td>\n",
       "      <td>0.085106</td>\n",
       "      <td>0.042482</td>\n",
       "      <td>0.251116</td>\n",
       "      <td>0.003467</td>\n",
       "      <td>0.422915</td>\n",
       "      <td>0.414912</td>\n",
       "      <td>DOWN</td>\n",
       "    </tr>\n",
       "  </tbody>\n",
       "</table>\n",
       "</div>"
      ],
      "text/plain": [
       "   day    period  nswprice  nswdemand  vicprice  vicdemand  transfer class\n",
       "0    2  0.000000  0.056443   0.439155  0.003467   0.422915  0.414912    UP\n",
       "1    2  0.021277  0.051699   0.415055  0.003467   0.422915  0.414912    UP\n",
       "2    2  0.042553  0.051489   0.385004  0.003467   0.422915  0.414912    UP\n",
       "3    2  0.063830  0.045485   0.314639  0.003467   0.422915  0.414912    UP\n",
       "4    2  0.085106  0.042482   0.251116  0.003467   0.422915  0.414912  DOWN"
      ]
     },
     "execution_count": 4,
     "metadata": {},
     "output_type": "execute_result"
    }
   ],
   "source": [
    "electricity1 = electricity.drop(['date'],axis=1)\n",
    "electricity1.head()"
   ]
  },
  {
   "cell_type": "code",
   "execution_count": 5,
   "metadata": {},
   "outputs": [],
   "source": [
    "X_elect=np.array(electricity1.drop(['class'],axis=1))\n",
    "y_elect=np.array(electricity1['class'])\n",
    "\n"
   ]
  },
  {
   "cell_type": "code",
   "execution_count": 7,
   "metadata": {},
   "outputs": [],
   "source": [
    "Y_elect= np.vectorize(lambda X: 1 if X>='UP' else 0)(y_elect) ##Convertb y_data in 1 and 0\n"
   ]
  },
  {
   "cell_type": "code",
   "execution_count": 8,
   "metadata": {},
   "outputs": [
    {
     "data": {
      "text/plain": [
       "array([1, 1, 1, ..., 0, 1, 0])"
      ]
     },
     "execution_count": 8,
     "metadata": {},
     "output_type": "execute_result"
    }
   ],
   "source": [
    "Y_elect"
   ]
  },
  {
   "cell_type": "markdown",
   "metadata": {},
   "source": [
    "## Logistic Regression"
   ]
  },
  {
   "cell_type": "code",
   "execution_count": 9,
   "metadata": {},
   "outputs": [],
   "source": [
    "class LogisticRegression:\n",
    "    #Data\n",
    "    #Initialize weight\n",
    "    #compute gradient\n",
    "    # predict with sigmoid function\n",
    "    #classify\n",
    "    def fit(self, X,y, lr=0.001, epsilon = 0.0001):\n",
    "        self.weights = np.zeros(X.shape[1]+1)\n",
    "        X = self.add_bias(X)\n",
    "        \n",
    "        for i in range(1000):\n",
    "            predictions = self.predict(X, False)\n",
    "            #if i%100 ==0:\n",
    "                #print('Train error : ', self.cross_entropy(predictions, y))\n",
    "            gradient = np.dot((y-predictions),X)\n",
    "            update = lr*gradient\n",
    "            self.weights = self.weights + update\n",
    "            \n",
    "            if np.max(np.abs(update))<epsilon: break\n",
    "    \n",
    "    def predict(self, X, no_bias=True):\n",
    "        if no_bias: X=self.add_bias(X)\n",
    "        return (1/ (1+np.exp(-1*np.dot(X, self.weights ))))\n",
    "    \n",
    "    def predict_classes(self, X):\n",
    "        return np.vectorize(lambda X: 1 if X>=0.5 else 0)(self.predict(X))\n",
    "        \n",
    "        \n",
    "    def add_bias(self, X):\n",
    "        return np.insert(X, 0, np.ones(X.shape[0]), axis = 1)\n",
    "    \n",
    "    def cross_entropy(self, predictions, y):\n",
    "        return np.abs(np.sum((y*np.log(predictions) + (1-y)*np.log((1-predictions)))))"
   ]
  },
  {
   "cell_type": "markdown",
   "metadata": {},
   "source": [
    "## 0.1 Wrappers Forward method"
   ]
  },
  {
   "cell_type": "code",
   "execution_count": 10,
   "metadata": {},
   "outputs": [],
   "source": [
    "def wrap_forward(X, y,  n_features=3):\n",
    "    \n",
    "    best_feat = []\n",
    "    result = []\n",
    "    Features = range(X.shape[1])\n",
    "    \n",
    "    while len(best_feat) < n_features:\n",
    "        best = None\n",
    "        for i in Features:\n",
    "            if i not in best_feat:\n",
    "                feat = best_feat + [i]\n",
    "                accuracy = train_model(X, y, feat)\n",
    "                cur_res = {'accuracy': accuracy, 'feature': feat}\n",
    "                print(cur_res)\n",
    "                if best == None or best['accuracy'] < accuracy:\n",
    "                    best = cur_res\n",
    "                    \n",
    "        best_feat = best['feature']\n",
    "        result.append(best)\n",
    "    \n",
    "    return result\n",
    "\n",
    "def train_model(X, y, feat):\n",
    "    X=X[:, feat]\n",
    "    model =  LogisticRegression()\n",
    "    model.fit(X,y)\n",
    "    return accuracy_score(y, model.predict_classes(X))\n",
    "    #return model.predict_classes"
   ]
  },
  {
   "cell_type": "code",
   "execution_count": 11,
   "metadata": {},
   "outputs": [
    {
     "name": "stdout",
     "output_type": "stream",
     "text": [
      "{'accuracy': 0.7866666666666666, 'feature': [0]}\n",
      "{'accuracy': 0.7533333333333333, 'feature': [1]}\n",
      "{'accuracy': 1.0, 'feature': [2]}\n",
      "{'accuracy': 1.0, 'feature': [3]}\n",
      "{'accuracy': 1.0, 'feature': [2, 0]}\n",
      "{'accuracy': 1.0, 'feature': [2, 1]}\n",
      "{'accuracy': 1.0, 'feature': [2, 3]}\n"
     ]
    },
    {
     "data": {
      "text/plain": [
       "[{'accuracy': 1.0, 'feature': [2]}, {'accuracy': 1.0, 'feature': [2, 0]}]"
      ]
     },
     "execution_count": 11,
     "metadata": {},
     "output_type": "execute_result"
    }
   ],
   "source": [
    "from sklearn import datasets\n",
    "from sklearn.metrics import accuracy_score\n",
    "\n",
    "# import some data to play with\n",
    "iris = datasets.load_iris()\n",
    "X = iris.data  # we only take the first two features.\n",
    "Y = (iris.target != 0) * 1\n",
    "\n",
    "wrap_forward(X, Y, 2)"
   ]
  },
  {
   "cell_type": "code",
   "execution_count": 12,
   "metadata": {},
   "outputs": [
    {
     "name": "stderr",
     "output_type": "stream",
     "text": [
      "/usr/lib/python3/dist-packages/ipykernel_launcher.py:23: RuntimeWarning: overflow encountered in exp\n"
     ]
    },
    {
     "name": "stdout",
     "output_type": "stream",
     "text": [
      "{'accuracy': 0.5754546257062146, 'feature': [0]}\n",
      "{'accuracy': 0.5754546257062146, 'feature': [1]}\n",
      "{'accuracy': 0.5849664548022598, 'feature': [2]}\n",
      "{'accuracy': 0.5889830508474576, 'feature': [3]}\n",
      "{'accuracy': 0.4245453742937853, 'feature': [4]}\n",
      "{'accuracy': 0.5754546257062146, 'feature': [5]}\n",
      "{'accuracy': 0.4245453742937853, 'feature': [6]}\n",
      "{'accuracy': 0.5770215395480226, 'feature': [3, 0]}\n",
      "{'accuracy': 0.5542681850282486, 'feature': [3, 1]}\n",
      "{'accuracy': 0.617871645480226, 'feature': [3, 2]}\n",
      "{'accuracy': 0.5890933968926554, 'feature': [3, 4]}\n",
      "{'accuracy': 0.5895347810734464, 'feature': [3, 5]}\n",
      "{'accuracy': 0.562698622881356, 'feature': [3, 6]}\n",
      "{'accuracy': 0.4541843220338983, 'feature': [3, 2, 0]}\n",
      "{'accuracy': 0.56982697740113, 'feature': [3, 2, 1]}\n",
      "{'accuracy': 0.6178937146892656, 'feature': [3, 2, 4]}\n",
      "{'accuracy': 0.613325388418079, 'feature': [3, 2, 5]}\n",
      "{'accuracy': 0.572409074858757, 'feature': [3, 2, 6]}\n"
     ]
    },
    {
     "data": {
      "text/plain": [
       "[{'accuracy': 0.5889830508474576, 'feature': [3]},\n",
       " {'accuracy': 0.617871645480226, 'feature': [3, 2]},\n",
       " {'accuracy': 0.6178937146892656, 'feature': [3, 2, 4]}]"
      ]
     },
     "execution_count": 12,
     "metadata": {},
     "output_type": "execute_result"
    }
   ],
   "source": [
    "wrap_forward(X_elect, Y_elect, 3)"
   ]
  },
  {
   "cell_type": "markdown",
   "metadata": {},
   "source": [
    "## 0.2 Backward Wrapper"
   ]
  },
  {
   "cell_type": "code",
   "execution_count": 13,
   "metadata": {},
   "outputs": [],
   "source": [
    "\n",
    "def back_wrap(X,y, n_features = 3):\n",
    "    features  = list(range(X.shape[1]))\n",
    "    result = []\n",
    "    \n",
    "    while len(features) > n_features:\n",
    "        best = None\n",
    "        \n",
    "        for i in range(len(features)):\n",
    "            feat = features[0:i] + features[i+1:]\n",
    "            accuracy = train_model(X, y, feat)\n",
    "            cur_res = {'accuracy': accuracy, 'feature': feat}\n",
    "            print(cur_res)\n",
    "            if best == None or best['accuracy'] < accuracy:\n",
    "                best = cur_res\n",
    "                    \n",
    "        features = best['feature']\n",
    "        result.append(best)\n",
    "    \n",
    "    return result\n",
    "def train_model(X, y, feat):\n",
    "    X = X[:, feat]\n",
    "    model = LogisticRegression()\n",
    "    model.fit(X,y)\n",
    "    return accuracy_score(y, model.predict_classes(X))"
   ]
  },
  {
   "cell_type": "code",
   "execution_count": 16,
   "metadata": {},
   "outputs": [
    {
     "name": "stdout",
     "output_type": "stream",
     "text": [
      "{'accuracy': 1.0, 'feature': [1, 2, 3]}\n",
      "{'accuracy': 1.0, 'feature': [0, 2, 3]}\n",
      "{'accuracy': 1.0, 'feature': [0, 1, 3]}\n",
      "{'accuracy': 1.0, 'feature': [0, 1, 2]}\n",
      "{'accuracy': 1.0, 'feature': [2, 3]}\n",
      "{'accuracy': 1.0, 'feature': [1, 3]}\n",
      "{'accuracy': 1.0, 'feature': [1, 2]}\n"
     ]
    },
    {
     "data": {
      "text/plain": [
       "[{'accuracy': 1.0, 'feature': [1, 2, 3]}, {'accuracy': 1.0, 'feature': [2, 3]}]"
      ]
     },
     "execution_count": 16,
     "metadata": {},
     "output_type": "execute_result"
    }
   ],
   "source": [
    "#With iris data\n",
    "back_wrap(X, Y,2)"
   ]
  },
  {
   "cell_type": "code",
   "execution_count": 17,
   "metadata": {},
   "outputs": [
    {
     "name": "stdout",
     "output_type": "stream",
     "text": [
      "{'accuracy': 0.5671566031073446, 'feature': [1, 2, 3, 4, 5, 6]}\n"
     ]
    },
    {
     "name": "stderr",
     "output_type": "stream",
     "text": [
      "/usr/lib/python3/dist-packages/ipykernel_launcher.py:23: RuntimeWarning: overflow encountered in exp\n"
     ]
    },
    {
     "name": "stdout",
     "output_type": "stream",
     "text": [
      "{'accuracy': 0.6379766949152542, 'feature': [0, 2, 3, 4, 5, 6]}\n",
      "{'accuracy': 0.5820091807909604, 'feature': [0, 1, 3, 4, 5, 6]}\n",
      "{'accuracy': 0.5759622175141242, 'feature': [0, 1, 2, 4, 5, 6]}\n",
      "{'accuracy': 0.5822078036723164, 'feature': [0, 1, 2, 3, 5, 6]}\n",
      "{'accuracy': 0.6486140536723164, 'feature': [0, 1, 2, 3, 4, 6]}\n",
      "{'accuracy': 0.5792284604519774, 'feature': [0, 1, 2, 3, 4, 5]}\n",
      "{'accuracy': 0.6091101694915254, 'feature': [1, 2, 3, 4, 6]}\n",
      "{'accuracy': 0.6075432556497176, 'feature': [0, 2, 3, 4, 6]}\n",
      "{'accuracy': 0.5775070621468926, 'feature': [0, 1, 3, 4, 6]}\n",
      "{'accuracy': 0.4269067796610169, 'feature': [0, 1, 2, 4, 6]}\n",
      "{'accuracy': 0.6119791666666666, 'feature': [0, 1, 2, 3, 6]}\n",
      "{'accuracy': 0.5687676553672316, 'feature': [0, 1, 2, 3, 4]}\n",
      "{'accuracy': 0.6091101694915254, 'feature': [1, 2, 3, 6]}\n",
      "{'accuracy': 0.646627824858757, 'feature': [0, 2, 3, 6]}\n",
      "{'accuracy': 0.5773525776836158, 'feature': [0, 1, 3, 6]}\n",
      "{'accuracy': 0.5756091101694916, 'feature': [0, 1, 2, 6]}\n",
      "{'accuracy': 0.4460849223163842, 'feature': [0, 1, 2, 3]}\n"
     ]
    },
    {
     "data": {
      "text/plain": [
       "[{'accuracy': 0.6486140536723164, 'feature': [0, 1, 2, 3, 4, 6]},\n",
       " {'accuracy': 0.6119791666666666, 'feature': [0, 1, 2, 3, 6]},\n",
       " {'accuracy': 0.646627824858757, 'feature': [0, 2, 3, 6]}]"
      ]
     },
     "execution_count": 17,
     "metadata": {},
     "output_type": "execute_result"
    }
   ],
   "source": [
    "back_wrap(X_elect,Y_elect,4) #selection with electris data"
   ]
  },
  {
   "cell_type": "markdown",
   "metadata": {},
   "source": [
    "## 0.3 Newtown method for linear regression"
   ]
  },
  {
   "cell_type": "code",
   "execution_count": 23,
   "metadata": {},
   "outputs": [],
   "source": [
    "# Initialize theta\n",
    "#compute the derivative of the loss function until convergence\n",
    "#\n",
    "def add_bias( X):\n",
    "        return np.insert(X, 0, np.ones(X.shape[0]), axis = 1)\n",
    "    \n",
    "def newton_method(X, y, iter = 1000, epsilon=0.001):\n",
    "    \n",
    "    weights=np.zeros(X.shape[1] + 1)\n",
    "    X= add_bias(X)\n",
    "    \n",
    "    for i in range(iter):\n",
    "        error = np.dot(X, weights) - y\n",
    "        gradient_lost =   np.dot(X.T, error) #(prod_X @ weights )- X.T*X*weigths ) \n",
    "        hessian_lost = np.dot(X.T,X)\n",
    "        print('Hessian Matrix',hessian_lost)\n",
    "        \n",
    "        update = np.dot(np.linalg.inv(hessian_lost), gradient_lost)\n",
    "    \n",
    "        weights = weights - update\n",
    "        if np.abs(update ).max() <epsilon: break\n",
    "        \n",
    "    return weights  \n",
    "        \n",
    "    "
   ]
  },
  {
   "cell_type": "code",
   "execution_count": 24,
   "metadata": {},
   "outputs": [
    {
     "name": "stdout",
     "output_type": "stream",
     "text": [
      "Hessian Matrix [[4.22000000e+02 1.99565928e-01]\n",
      " [1.99565928e-01 9.55778160e-01]]\n",
      "Hessian Matrix [[4.22000000e+02 1.99565928e-01]\n",
      " [1.99565928e-01 9.55778160e-01]]\n"
     ]
    },
    {
     "data": {
      "text/plain": [
       "array([152.91886183, 938.23786125])"
      ]
     },
     "execution_count": 24,
     "metadata": {},
     "output_type": "execute_result"
    }
   ],
   "source": [
    "#Using diabetis data\n",
    "\n",
    "\n",
    "import matplotlib.pyplot as plt\n",
    "import numpy as np\n",
    "from sklearn import datasets, linear_model\n",
    "from sklearn.metrics import mean_squared_error, r2_score\n",
    "\n",
    "# Load the diabetes dataset\n",
    "diabetes = datasets.load_diabetes()\n",
    "\n",
    "\n",
    "# Use only one feature\n",
    "diabetes_X = diabetes.data[:, np.newaxis, 2]\n",
    "\n",
    "# Split the data into training/testing sets\n",
    "diabetes_X_train = diabetes_X[:-20]\n",
    "diabetes_X_test = diabetes_X[-20:]\n",
    "\n",
    "# Split the targets into training/testing sets\n",
    "diabetes_y_train = diabetes.target[:-20]\n",
    "diabetes_y_test = diabetes.target[-20:]\n",
    "\n",
    "# Create linear regression object\n",
    "#regr = linearReg()\n",
    "\n",
    "# Train the model using the training sets\n",
    "newton_method(diabetes_X_train, diabetes_y_train)\n",
    "\n"
   ]
  },
  {
   "cell_type": "code",
   "execution_count": null,
   "metadata": {},
   "outputs": [],
   "source": []
  }
 ],
 "metadata": {
  "kernelspec": {
   "display_name": "Python 3",
   "language": "python",
   "name": "python3"
  },
  "language_info": {
   "codemirror_mode": {
    "name": "ipython",
    "version": 3
   },
   "file_extension": ".py",
   "mimetype": "text/x-python",
   "name": "python",
   "nbconvert_exporter": "python",
   "pygments_lexer": "ipython3",
   "version": "3.7.3"
  }
 },
 "nbformat": 4,
 "nbformat_minor": 2
}
